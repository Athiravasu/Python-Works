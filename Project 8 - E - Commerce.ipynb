{
 "cells": [
  {
   "cell_type": "code",
   "execution_count": 13,
   "id": "5cd376db",
   "metadata": {},
   "outputs": [
    {
     "data": {
      "text/html": [
       "<div>\n",
       "<style scoped>\n",
       "    .dataframe tbody tr th:only-of-type {\n",
       "        vertical-align: middle;\n",
       "    }\n",
       "\n",
       "    .dataframe tbody tr th {\n",
       "        vertical-align: top;\n",
       "    }\n",
       "\n",
       "    .dataframe thead th {\n",
       "        text-align: right;\n",
       "    }\n",
       "</style>\n",
       "<table border=\"1\" class=\"dataframe\">\n",
       "  <thead>\n",
       "    <tr style=\"text-align: right;\">\n",
       "      <th></th>\n",
       "      <th>InvoiceNo</th>\n",
       "      <th>StockCode</th>\n",
       "      <th>Description</th>\n",
       "      <th>Quantity</th>\n",
       "      <th>InvoiceDate</th>\n",
       "      <th>UnitPrice</th>\n",
       "      <th>CustomerID</th>\n",
       "      <th>Revenue</th>\n",
       "      <th>Country</th>\n",
       "    </tr>\n",
       "  </thead>\n",
       "  <tbody>\n",
       "    <tr>\n",
       "      <th>0</th>\n",
       "      <td>536365</td>\n",
       "      <td>85123A</td>\n",
       "      <td>WHITE HANGING HEART T-LIGHT HOLDER</td>\n",
       "      <td>6</td>\n",
       "      <td>2010-01-12 08:26:00</td>\n",
       "      <td>2.55</td>\n",
       "      <td>17850.0</td>\n",
       "      <td>15.30</td>\n",
       "      <td>United Kingdom</td>\n",
       "    </tr>\n",
       "    <tr>\n",
       "      <th>1</th>\n",
       "      <td>536365</td>\n",
       "      <td>71053</td>\n",
       "      <td>WHITE METAL LANTERN</td>\n",
       "      <td>6</td>\n",
       "      <td>2010-01-12 08:26:00</td>\n",
       "      <td>3.39</td>\n",
       "      <td>17850.0</td>\n",
       "      <td>20.34</td>\n",
       "      <td>United Kingdom</td>\n",
       "    </tr>\n",
       "    <tr>\n",
       "      <th>2</th>\n",
       "      <td>536365</td>\n",
       "      <td>84406B</td>\n",
       "      <td>CREAM CUPID HEARTS COAT HANGER</td>\n",
       "      <td>8</td>\n",
       "      <td>2010-01-12 08:26:00</td>\n",
       "      <td>2.75</td>\n",
       "      <td>17850.0</td>\n",
       "      <td>22.00</td>\n",
       "      <td>United Kingdom</td>\n",
       "    </tr>\n",
       "    <tr>\n",
       "      <th>3</th>\n",
       "      <td>536365</td>\n",
       "      <td>84029G</td>\n",
       "      <td>KNITTED UNION FLAG HOT WATER BOTTLE</td>\n",
       "      <td>6</td>\n",
       "      <td>2010-01-12 08:26:00</td>\n",
       "      <td>3.39</td>\n",
       "      <td>17850.0</td>\n",
       "      <td>20.34</td>\n",
       "      <td>United Kingdom</td>\n",
       "    </tr>\n",
       "    <tr>\n",
       "      <th>4</th>\n",
       "      <td>536365</td>\n",
       "      <td>84029E</td>\n",
       "      <td>RED WOOLLY HOTTIE WHITE HEART.</td>\n",
       "      <td>6</td>\n",
       "      <td>2010-01-12 08:26:00</td>\n",
       "      <td>3.39</td>\n",
       "      <td>17850.0</td>\n",
       "      <td>20.34</td>\n",
       "      <td>United Kingdom</td>\n",
       "    </tr>\n",
       "    <tr>\n",
       "      <th>...</th>\n",
       "      <td>...</td>\n",
       "      <td>...</td>\n",
       "      <td>...</td>\n",
       "      <td>...</td>\n",
       "      <td>...</td>\n",
       "      <td>...</td>\n",
       "      <td>...</td>\n",
       "      <td>...</td>\n",
       "      <td>...</td>\n",
       "    </tr>\n",
       "    <tr>\n",
       "      <th>230584</th>\n",
       "      <td>581587</td>\n",
       "      <td>22613</td>\n",
       "      <td>PACK OF 20 SPACEBOY NAPKINS</td>\n",
       "      <td>12</td>\n",
       "      <td>2011-09-12 12:50:00</td>\n",
       "      <td>0.85</td>\n",
       "      <td>12680.0</td>\n",
       "      <td>10.20</td>\n",
       "      <td>France</td>\n",
       "    </tr>\n",
       "    <tr>\n",
       "      <th>230585</th>\n",
       "      <td>581587</td>\n",
       "      <td>22899</td>\n",
       "      <td>CHILDREN'S APRON DOLLY GIRL</td>\n",
       "      <td>6</td>\n",
       "      <td>2011-09-12 12:50:00</td>\n",
       "      <td>2.10</td>\n",
       "      <td>12680.0</td>\n",
       "      <td>12.60</td>\n",
       "      <td>France</td>\n",
       "    </tr>\n",
       "    <tr>\n",
       "      <th>230586</th>\n",
       "      <td>581587</td>\n",
       "      <td>23254</td>\n",
       "      <td>CHILDRENS CUTLERY DOLLY GIRL</td>\n",
       "      <td>4</td>\n",
       "      <td>2011-09-12 12:50:00</td>\n",
       "      <td>4.15</td>\n",
       "      <td>12680.0</td>\n",
       "      <td>16.60</td>\n",
       "      <td>France</td>\n",
       "    </tr>\n",
       "    <tr>\n",
       "      <th>230587</th>\n",
       "      <td>581587</td>\n",
       "      <td>23255</td>\n",
       "      <td>CHILDRENS CUTLERY CIRCUS PARADE</td>\n",
       "      <td>4</td>\n",
       "      <td>2011-09-12 12:50:00</td>\n",
       "      <td>4.15</td>\n",
       "      <td>12680.0</td>\n",
       "      <td>16.60</td>\n",
       "      <td>France</td>\n",
       "    </tr>\n",
       "    <tr>\n",
       "      <th>230588</th>\n",
       "      <td>581587</td>\n",
       "      <td>22138</td>\n",
       "      <td>BAKING SET 9 PIECE RETROSPOT</td>\n",
       "      <td>3</td>\n",
       "      <td>2011-09-12 12:50:00</td>\n",
       "      <td>4.95</td>\n",
       "      <td>12680.0</td>\n",
       "      <td>14.85</td>\n",
       "      <td>France</td>\n",
       "    </tr>\n",
       "  </tbody>\n",
       "</table>\n",
       "<p>230589 rows × 9 columns</p>\n",
       "</div>"
      ],
      "text/plain": [
       "       InvoiceNo StockCode                          Description  Quantity  \\\n",
       "0         536365    85123A   WHITE HANGING HEART T-LIGHT HOLDER         6   \n",
       "1         536365     71053                  WHITE METAL LANTERN         6   \n",
       "2         536365    84406B       CREAM CUPID HEARTS COAT HANGER         8   \n",
       "3         536365    84029G  KNITTED UNION FLAG HOT WATER BOTTLE         6   \n",
       "4         536365    84029E       RED WOOLLY HOTTIE WHITE HEART.         6   \n",
       "...          ...       ...                                  ...       ...   \n",
       "230584    581587     22613          PACK OF 20 SPACEBOY NAPKINS        12   \n",
       "230585    581587     22899         CHILDREN'S APRON DOLLY GIRL          6   \n",
       "230586    581587     23254        CHILDRENS CUTLERY DOLLY GIRL          4   \n",
       "230587    581587     23255      CHILDRENS CUTLERY CIRCUS PARADE         4   \n",
       "230588    581587     22138        BAKING SET 9 PIECE RETROSPOT          3   \n",
       "\n",
       "               InvoiceDate  UnitPrice  CustomerID  Revenue         Country  \n",
       "0      2010-01-12 08:26:00       2.55     17850.0    15.30  United Kingdom  \n",
       "1      2010-01-12 08:26:00       3.39     17850.0    20.34  United Kingdom  \n",
       "2      2010-01-12 08:26:00       2.75     17850.0    22.00  United Kingdom  \n",
       "3      2010-01-12 08:26:00       3.39     17850.0    20.34  United Kingdom  \n",
       "4      2010-01-12 08:26:00       3.39     17850.0    20.34  United Kingdom  \n",
       "...                    ...        ...         ...      ...             ...  \n",
       "230584 2011-09-12 12:50:00       0.85     12680.0    10.20          France  \n",
       "230585 2011-09-12 12:50:00       2.10     12680.0    12.60          France  \n",
       "230586 2011-09-12 12:50:00       4.15     12680.0    16.60          France  \n",
       "230587 2011-09-12 12:50:00       4.15     12680.0    16.60          France  \n",
       "230588 2011-09-12 12:50:00       4.95     12680.0    14.85          France  \n",
       "\n",
       "[230589 rows x 9 columns]"
      ]
     },
     "execution_count": 13,
     "metadata": {},
     "output_type": "execute_result"
    }
   ],
   "source": [
    "import pandas as pd\n",
    "data=pd.read_excel('E-commerce.xlsx')\n",
    "data"
   ]
  },
  {
   "cell_type": "code",
   "execution_count": 14,
   "id": "81974db2",
   "metadata": {},
   "outputs": [],
   "source": [
    "#data.info()"
   ]
  },
  {
   "cell_type": "markdown",
   "id": "a54bc3bf",
   "metadata": {},
   "source": [
    "# 1. Find the total revenue "
   ]
  },
  {
   "cell_type": "code",
   "execution_count": 15,
   "id": "9fbadd5b",
   "metadata": {},
   "outputs": [
    {
     "data": {
      "text/plain": [
       "5148073.239999999"
      ]
     },
     "execution_count": 15,
     "metadata": {},
     "output_type": "execute_result"
    }
   ],
   "source": [
    "v=data['Revenue'].sum()\n",
    "v"
   ]
  },
  {
   "cell_type": "markdown",
   "id": "ba313fd1",
   "metadata": {},
   "source": [
    "# 2. Find the total number of Orders"
   ]
  },
  {
   "cell_type": "code",
   "execution_count": 16,
   "id": "0d0993ca",
   "metadata": {},
   "outputs": [
    {
     "data": {
      "text/plain": [
       "230589"
      ]
     },
     "execution_count": 16,
     "metadata": {},
     "output_type": "execute_result"
    }
   ],
   "source": [
    "v=data['InvoiceNo'].count()\n",
    "v"
   ]
  },
  {
   "cell_type": "markdown",
   "id": "4ebd1062",
   "metadata": {},
   "source": [
    "# 3. Find the unique number of customers, and give which customer most frequently using e commerce sites."
   ]
  },
  {
   "cell_type": "code",
   "execution_count": 35,
   "id": "e2490f33",
   "metadata": {},
   "outputs": [
    {
     "data": {
      "text/plain": [
       "18287.0"
      ]
     },
     "execution_count": 35,
     "metadata": {},
     "output_type": "execute_result"
    }
   ],
   "source": [
    "v=data['CustomerID'].max()\n",
    "v"
   ]
  },
  {
   "cell_type": "markdown",
   "id": "d207c027",
   "metadata": {},
   "source": [
    "# 4 . Find the revenue by country"
   ]
  },
  {
   "cell_type": "code",
   "execution_count": 17,
   "id": "a7fee023",
   "metadata": {},
   "outputs": [
    {
     "name": "stderr",
     "output_type": "stream",
     "text": [
      "C:\\Users\\athir\\AppData\\Local\\Temp\\ipykernel_11544\\2860441010.py:1: FutureWarning: The default value of numeric_only in DataFrameGroupBy.sum is deprecated. In a future version, numeric_only will default to False. Either specify numeric_only or select only columns which should be valid for the function.\n",
      "  v=data.groupby('Country').sum()['Revenue']\n"
     ]
    },
    {
     "data": {
      "text/plain": [
       "Country\n",
       "Australia                 51918.01\n",
       "Austria                    2999.69\n",
       "Bahrain                     665.14\n",
       "Belgium                   17086.58\n",
       "Canada                     1751.88\n",
       "Channel Islands            7899.21\n",
       "Cyprus                     5673.51\n",
       "Czech Republic              334.99\n",
       "Denmark                    4998.11\n",
       "EIRE                     113425.86\n",
       "European Community          440.55\n",
       "Finland                   11519.79\n",
       "France                    87804.11\n",
       "Germany                   97755.23\n",
       "Greece                     2149.28\n",
       "Hong Kong                  1550.59\n",
       "Iceland                    2540.29\n",
       "Israel                     1045.75\n",
       "Italy                      3797.76\n",
       "Japan                     19074.65\n",
       "Lithuania                  1661.06\n",
       "Malta                       863.97\n",
       "Netherlands               89945.76\n",
       "Norway                    15495.40\n",
       "Poland                     3983.12\n",
       "Portugal                  13776.38\n",
       "Saudi Arabia                 14.75\n",
       "Singapore                 14300.42\n",
       "Spain                     26422.27\n",
       "Sweden                     9812.21\n",
       "Switzerland               27864.21\n",
       "USA                        4314.22\n",
       "United Arab Emirates        975.54\n",
       "United Kingdom          4502149.94\n",
       "Unspecified                2063.01\n",
       "Name: Revenue, dtype: float64"
      ]
     },
     "execution_count": 17,
     "metadata": {},
     "output_type": "execute_result"
    }
   ],
   "source": [
    "v=data.groupby('Country').sum()['Revenue']\n",
    "v"
   ]
  },
  {
   "cell_type": "markdown",
   "id": "098eb658",
   "metadata": {},
   "source": [
    "# 5. Find the Total number products sold"
   ]
  },
  {
   "cell_type": "code",
   "execution_count": 18,
   "id": "656a82f4",
   "metadata": {},
   "outputs": [
    {
     "data": {
      "text/plain": [
       "229991"
      ]
     },
     "execution_count": 18,
     "metadata": {},
     "output_type": "execute_result"
    }
   ],
   "source": [
    "\n",
    "v=data['Description'].count()\n",
    "v"
   ]
  },
  {
   "cell_type": "markdown",
   "id": "fe535327",
   "metadata": {},
   "source": [
    "# 6. Find the top 3 countries in terms of revenue"
   ]
  },
  {
   "cell_type": "code",
   "execution_count": 33,
   "id": "38e0f9e8",
   "metadata": {},
   "outputs": [
    {
     "name": "stderr",
     "output_type": "stream",
     "text": [
      "C:\\Users\\athir\\AppData\\Local\\Temp\\ipykernel_11544\\2263558516.py:1: FutureWarning: The default value of numeric_only in DataFrameGroupBy.sum is deprecated. In a future version, numeric_only will default to False. Either specify numeric_only or select only columns which should be valid for the function.\n",
      "  v=data.groupby('Country').sum()['Revenue'].head(3)\n"
     ]
    },
    {
     "data": {
      "text/plain": [
       "Country\n",
       "Australia    51918.01\n",
       "Austria       2999.69\n",
       "Bahrain        665.14\n",
       "Name: Revenue, dtype: float64"
      ]
     },
     "execution_count": 33,
     "metadata": {},
     "output_type": "execute_result"
    }
   ],
   "source": [
    "v=data.groupby('Country').sum()['Revenue'].head(3)\n",
    "v"
   ]
  },
  {
   "cell_type": "markdown",
   "id": "8178c967",
   "metadata": {},
   "source": [
    "# 7. Find the average revenue by country"
   ]
  },
  {
   "cell_type": "code",
   "execution_count": null,
   "id": "c0cdebf6",
   "metadata": {},
   "outputs": [],
   "source": [
    "v=data.groupby('Country').mean()['Revenue']\n",
    "v"
   ]
  },
  {
   "cell_type": "markdown",
   "id": "66ee6959",
   "metadata": {},
   "source": [
    "# 8. Find the Maximum revenue by country"
   ]
  },
  {
   "cell_type": "code",
   "execution_count": null,
   "id": "44b4aa12",
   "metadata": {},
   "outputs": [],
   "source": [
    "v=data.groupby('Country').max()['Revenue']\n",
    "v"
   ]
  },
  {
   "cell_type": "code",
   "execution_count": null,
   "id": "400286ba",
   "metadata": {},
   "outputs": [],
   "source": []
  }
 ],
 "metadata": {
  "kernelspec": {
   "display_name": "Python 3 (ipykernel)",
   "language": "python",
   "name": "python3"
  },
  "language_info": {
   "codemirror_mode": {
    "name": "ipython",
    "version": 3
   },
   "file_extension": ".py",
   "mimetype": "text/x-python",
   "name": "python",
   "nbconvert_exporter": "python",
   "pygments_lexer": "ipython3",
   "version": "3.10.9"
  }
 },
 "nbformat": 4,
 "nbformat_minor": 5
}
