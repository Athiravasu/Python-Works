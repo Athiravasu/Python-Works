{
 "cells": [
  {
   "cell_type": "code",
   "execution_count": 469,
   "id": "f8d8f723",
   "metadata": {},
   "outputs": [
    {
     "data": {
      "text/html": [
       "<div>\n",
       "<style scoped>\n",
       "    .dataframe tbody tr th:only-of-type {\n",
       "        vertical-align: middle;\n",
       "    }\n",
       "\n",
       "    .dataframe tbody tr th {\n",
       "        vertical-align: top;\n",
       "    }\n",
       "\n",
       "    .dataframe thead th {\n",
       "        text-align: right;\n",
       "    }\n",
       "</style>\n",
       "<table border=\"1\" class=\"dataframe\">\n",
       "  <thead>\n",
       "    <tr style=\"text-align: right;\">\n",
       "      <th></th>\n",
       "      <th>Timestamp</th>\n",
       "      <th>NAME</th>\n",
       "      <th>Place</th>\n",
       "      <th>Designation</th>\n",
       "      <th>GENDER</th>\n",
       "      <th>EDUCATION</th>\n",
       "      <th>Age</th>\n",
       "      <th>Number of members in your family ?</th>\n",
       "      <th>Size of your shirt?</th>\n",
       "      <th>Number of knives at your home?</th>\n",
       "      <th>Number of chairs in your home?</th>\n",
       "      <th>Which is your favorite color</th>\n",
       "      <th>How many liters of milk are being bought every day in your house?</th>\n",
       "      <th>Height in cm</th>\n",
       "      <th>Weight in kg</th>\n",
       "    </tr>\n",
       "  </thead>\n",
       "  <tbody>\n",
       "    <tr>\n",
       "      <th>0</th>\n",
       "      <td>2021/07/27 2:47:35 PM GMT+5:30</td>\n",
       "      <td>Anjali Manuel</td>\n",
       "      <td>Kannur</td>\n",
       "      <td>Student</td>\n",
       "      <td>FEMALE</td>\n",
       "      <td>Post graduation(PG)</td>\n",
       "      <td>25</td>\n",
       "      <td>4</td>\n",
       "      <td>L</td>\n",
       "      <td>7</td>\n",
       "      <td>15</td>\n",
       "      <td>Black</td>\n",
       "      <td>1 Liter</td>\n",
       "      <td>156</td>\n",
       "      <td>56</td>\n",
       "    </tr>\n",
       "    <tr>\n",
       "      <th>1</th>\n",
       "      <td>2021/07/27 2:48:44 PM GMT+5:30</td>\n",
       "      <td>Mukund Bhaskaran</td>\n",
       "      <td>Eranakulam</td>\n",
       "      <td>Student</td>\n",
       "      <td>MALE</td>\n",
       "      <td>Graduation(Degree)(Bcom)</td>\n",
       "      <td>37</td>\n",
       "      <td>5</td>\n",
       "      <td>XL</td>\n",
       "      <td>3</td>\n",
       "      <td>9</td>\n",
       "      <td>Blue</td>\n",
       "      <td>3</td>\n",
       "      <td>185</td>\n",
       "      <td>92</td>\n",
       "    </tr>\n",
       "    <tr>\n",
       "      <th>2</th>\n",
       "      <td>2021/07/27 2:50:08 PM GMT+5:30</td>\n",
       "      <td>Akshaya R</td>\n",
       "      <td>Thiruvananthapuram</td>\n",
       "      <td>Student</td>\n",
       "      <td>FEMALE</td>\n",
       "      <td>12 (higher secondary)</td>\n",
       "      <td>22</td>\n",
       "      <td>My Family- 3</td>\n",
       "      <td>XL</td>\n",
       "      <td>4</td>\n",
       "      <td>9</td>\n",
       "      <td>Blue, Red</td>\n",
       "      <td>1</td>\n",
       "      <td>152</td>\n",
       "      <td>56</td>\n",
       "    </tr>\n",
       "    <tr>\n",
       "      <th>3</th>\n",
       "      <td>2021/07/27 2:50:30 PM GMT+5:30</td>\n",
       "      <td>Anusree</td>\n",
       "      <td>Chalakudy</td>\n",
       "      <td>Teacher</td>\n",
       "      <td>FEMALE</td>\n",
       "      <td>Post graduation(PG)</td>\n",
       "      <td>25</td>\n",
       "      <td>5</td>\n",
       "      <td>L</td>\n",
       "      <td>3</td>\n",
       "      <td>12</td>\n",
       "      <td>Blue</td>\n",
       "      <td>1</td>\n",
       "      <td>163</td>\n",
       "      <td>60</td>\n",
       "    </tr>\n",
       "  </tbody>\n",
       "</table>\n",
       "</div>"
      ],
      "text/plain": [
       "                        Timestamp              NAME               Place  \\\n",
       "0  2021/07/27 2:47:35 PM GMT+5:30     Anjali Manuel              Kannur   \n",
       "1  2021/07/27 2:48:44 PM GMT+5:30  Mukund Bhaskaran          Eranakulam   \n",
       "2  2021/07/27 2:50:08 PM GMT+5:30         Akshaya R  Thiruvananthapuram   \n",
       "3  2021/07/27 2:50:30 PM GMT+5:30           Anusree           Chalakudy   \n",
       "\n",
       "  Designation  GENDER                 EDUCATION  Age  \\\n",
       "0     Student  FEMALE       Post graduation(PG)   25   \n",
       "1     Student    MALE  Graduation(Degree)(Bcom)   37   \n",
       "2     Student  FEMALE     12 (higher secondary)   22   \n",
       "3     Teacher  FEMALE       Post graduation(PG)   25   \n",
       "\n",
       "  Number of members in your family ? Size of your shirt?  \\\n",
       "0                                  4                   L   \n",
       "1                                  5                  XL   \n",
       "2                       My Family- 3                  XL   \n",
       "3                                  5                   L   \n",
       "\n",
       "  Number of knives at your home? Number of chairs in your home?  \\\n",
       "0                              7                             15   \n",
       "1                              3                              9   \n",
       "2                              4                              9   \n",
       "3                              3                             12   \n",
       "\n",
       "  Which is your favorite color  \\\n",
       "0                        Black   \n",
       "1                         Blue   \n",
       "2                    Blue, Red   \n",
       "3                         Blue   \n",
       "\n",
       "  How many liters of milk are being bought every day in your house?  \\\n",
       "0                                            1 Liter                  \n",
       "1                                                  3                  \n",
       "2                                                  1                  \n",
       "3                                                  1                  \n",
       "\n",
       "   Height in cm  Weight in kg  \n",
       "0           156            56  \n",
       "1           185            92  \n",
       "2           152            56  \n",
       "3           163            60  "
      ]
     },
     "execution_count": 469,
     "metadata": {},
     "output_type": "execute_result"
    }
   ],
   "source": [
    "import pandas as pd\n",
    "\n",
    "Oorjja = pd.read_csv('Oorjja.csv')\n",
    "Oorjja\n",
    "Oorjja.head()\n",
    "Oorjja.tail()\n",
    "Oorjja.head(2)\n",
    "Oorjja.head(3)\n",
    "Oorjja.head(4)"
   ]
  },
  {
   "cell_type": "code",
   "execution_count": 470,
   "id": "2bc84696",
   "metadata": {},
   "outputs": [
    {
     "data": {
      "text/plain": [
       "Index(['Timestamp', 'NAME', 'Place', 'Designation', 'GENDER', 'EDUCATION',\n",
       "       'Age', 'Number of members in your family ?', 'Size of your shirt?',\n",
       "       'Number of knives at your home?', 'Number of chairs in your home?',\n",
       "       'Which is your favorite color',\n",
       "       'How many liters of milk are being bought every day in your house?',\n",
       "       'Height in cm', 'Weight in kg'],\n",
       "      dtype='object')"
      ]
     },
     "execution_count": 470,
     "metadata": {},
     "output_type": "execute_result"
    }
   ],
   "source": [
    "Oorjja.columns\n"
   ]
  },
  {
   "cell_type": "code",
   "execution_count": 471,
   "id": "6fafa4b2",
   "metadata": {},
   "outputs": [
    {
     "data": {
      "text/plain": [
       "(19, 15)"
      ]
     },
     "execution_count": 471,
     "metadata": {},
     "output_type": "execute_result"
    }
   ],
   "source": [
    "Oorjja.shape\n",
    "#19 rows and 15 columns"
   ]
  },
  {
   "cell_type": "code",
   "execution_count": 472,
   "id": "3e0ef999",
   "metadata": {
    "scrolled": false
   },
   "outputs": [
    {
     "data": {
      "text/plain": [
       "Timestamp                                                            object\n",
       "NAME                                                                 object\n",
       "Place                                                                object\n",
       "Designation                                                          object\n",
       "GENDER                                                               object\n",
       "EDUCATION                                                            object\n",
       "Age                                                                   int64\n",
       "Number of members in your family ?                                   object\n",
       "Size of your shirt?                                                  object\n",
       "Number of knives at your home?                                       object\n",
       "Number of chairs in your home?                                       object\n",
       "Which is your favorite color                                         object\n",
       "How many liters of milk are being bought every day in your house?    object\n",
       "Height in cm                                                          int64\n",
       "Weight in kg                                                          int64\n",
       "dtype: object"
      ]
     },
     "execution_count": 472,
     "metadata": {},
     "output_type": "execute_result"
    }
   ],
   "source": [
    "Oorjja.dtypes"
   ]
  },
  {
   "cell_type": "code",
   "execution_count": 473,
   "id": "5779a951",
   "metadata": {},
   "outputs": [
    {
     "data": {
      "text/plain": [
       "{'Timestamp': '2023/04/04 11:31:27 AM GMT+5:30'}"
      ]
     },
     "execution_count": 473,
     "metadata": {},
     "output_type": "execute_result"
    }
   ],
   "source": [
    "Oorjja={\"Timestamp\" : \"2023/04/04 11:31:27 AM GMT+5:30\"}\n",
    "Oorjja"
   ]
  },
  {
   "cell_type": "code",
   "execution_count": 474,
   "id": "48706fc6",
   "metadata": {},
   "outputs": [
    {
     "data": {
      "text/plain": [
       "{'NAME ': 'Athira pv'}"
      ]
     },
     "execution_count": 474,
     "metadata": {},
     "output_type": "execute_result"
    }
   ],
   "source": [
    "Oorjja={\"NAME \": \"Athira pv\"}\n",
    "Oorjja"
   ]
  },
  {
   "cell_type": "code",
   "execution_count": 475,
   "id": "71f26dc4",
   "metadata": {},
   "outputs": [
    {
     "data": {
      "text/plain": [
       "{'Place': 'thrissur'}"
      ]
     },
     "execution_count": 475,
     "metadata": {},
     "output_type": "execute_result"
    }
   ],
   "source": [
    "Oorjja={\"Place\" : \"thrissur\"}\n",
    "Oorjja"
   ]
  },
  {
   "cell_type": "code",
   "execution_count": 476,
   "id": "3c99c3de",
   "metadata": {},
   "outputs": [
    {
     "data": {
      "text/plain": [
       "{'Designation': 'Student'}"
      ]
     },
     "execution_count": 476,
     "metadata": {},
     "output_type": "execute_result"
    }
   ],
   "source": [
    "Oorjja={\"Designation\": \"Student\"}\n",
    "Oorjja"
   ]
  },
  {
   "cell_type": "code",
   "execution_count": 477,
   "id": "bade6f66",
   "metadata": {},
   "outputs": [
    {
     "data": {
      "text/plain": [
       "{'GENDER': 'FEMALE'}"
      ]
     },
     "execution_count": 477,
     "metadata": {},
     "output_type": "execute_result"
    }
   ],
   "source": [
    "Oorjja={\"GENDER\" :\"FEMALE\"}\n",
    "Oorjja  "
   ]
  },
  {
   "cell_type": "code",
   "execution_count": 478,
   "id": "66a86c65",
   "metadata": {},
   "outputs": [
    {
     "data": {
      "text/plain": [
       "{'EDUCATION ': 'Graduation(Degree)(Bcom)'}"
      ]
     },
     "execution_count": 478,
     "metadata": {},
     "output_type": "execute_result"
    }
   ],
   "source": [
    "Oorjja={\"EDUCATION \" : \"Graduation(Degree)(Bcom)\"}\n",
    "Oorjja"
   ]
  },
  {
   "cell_type": "code",
   "execution_count": 479,
   "id": "ae5d6603",
   "metadata": {},
   "outputs": [
    {
     "data": {
      "text/plain": [
       "{'Age': '23'}"
      ]
     },
     "execution_count": 479,
     "metadata": {},
     "output_type": "execute_result"
    }
   ],
   "source": [
    "Oorjja={\"Age\" : \"23\" }\n",
    "Oorjja"
   ]
  },
  {
   "cell_type": "code",
   "execution_count": 480,
   "id": "865101f9",
   "metadata": {},
   "outputs": [
    {
     "data": {
      "text/plain": [
       "{'Number of members in your family ?': 'four'}"
      ]
     },
     "execution_count": 480,
     "metadata": {},
     "output_type": "execute_result"
    }
   ],
   "source": [
    "Oorjja={\"Number of members in your family ?\" : \"four\"}\n",
    "Oorjja\n"
   ]
  },
  {
   "cell_type": "code",
   "execution_count": 481,
   "id": "86e3c944",
   "metadata": {},
   "outputs": [
    {
     "data": {
      "text/plain": [
       "{'Size of your shirt?': 'S'}"
      ]
     },
     "execution_count": 481,
     "metadata": {},
     "output_type": "execute_result"
    }
   ],
   "source": [
    "Oorjja={\"Size of your shirt?\" : \"S\"}\n",
    "Oorjja\n"
   ]
  },
  {
   "cell_type": "code",
   "execution_count": 482,
   "id": "15cfe45f",
   "metadata": {},
   "outputs": [
    {
     "data": {
      "text/plain": [
       "{'Number of knives at your home?': 'four'}"
      ]
     },
     "execution_count": 482,
     "metadata": {},
     "output_type": "execute_result"
    }
   ],
   "source": [
    "Oorjja={\"Number of knives at your home?\" : \"four\"}\n",
    "Oorjja\n",
    "    "
   ]
  },
  {
   "cell_type": "code",
   "execution_count": 483,
   "id": "80e275ae",
   "metadata": {},
   "outputs": [
    {
     "data": {
      "text/plain": [
       "{'Number of chairs in your home? ': 'eight'}"
      ]
     },
     "execution_count": 483,
     "metadata": {},
     "output_type": "execute_result"
    }
   ],
   "source": [
    "Oorjja={\"Number of chairs in your home? \" : \"eight\"  }\n",
    "Oorjja"
   ]
  },
  {
   "cell_type": "code",
   "execution_count": 484,
   "id": "5fe4305f",
   "metadata": {},
   "outputs": [
    {
     "data": {
      "text/plain": [
       "{'Which is your favorite color': 'purple'}"
      ]
     },
     "execution_count": 484,
     "metadata": {},
     "output_type": "execute_result"
    }
   ],
   "source": [
    "Oorjja={\"Which is your favorite color\" : \"purple\" }\n",
    "Oorjja"
   ]
  },
  {
   "cell_type": "code",
   "execution_count": 485,
   "id": "cb990378",
   "metadata": {},
   "outputs": [
    {
     "data": {
      "text/plain": [
       "{'How many liters of milk are being bought every day in your house?': ' 500 ML'}"
      ]
     },
     "execution_count": 485,
     "metadata": {},
     "output_type": "execute_result"
    }
   ],
   "source": [
    "Oorjja={\"How many liters of milk are being bought every day in your house?\": \" 500 ML\"}\n",
    "Oorjja"
   ]
  },
  {
   "cell_type": "code",
   "execution_count": 486,
   "id": "a86f7d3c",
   "metadata": {},
   "outputs": [
    {
     "data": {
      "text/plain": [
       "{'Height in cm': '156'}"
      ]
     },
     "execution_count": 486,
     "metadata": {},
     "output_type": "execute_result"
    }
   ],
   "source": [
    "Oorjja={\"Height in cm\" :\"156\"}\n",
    "Oorjja"
   ]
  },
  {
   "cell_type": "code",
   "execution_count": 487,
   "id": "7e4c1523",
   "metadata": {},
   "outputs": [
    {
     "data": {
      "text/plain": [
       "{'Weight in kg ': '45'}"
      ]
     },
     "execution_count": 487,
     "metadata": {},
     "output_type": "execute_result"
    }
   ],
   "source": [
    "Oorjja={\"Weight in kg \" : \"45\"}\n",
    "Oorjja"
   ]
  },
  {
   "cell_type": "code",
   "execution_count": 488,
   "id": "8ac8bc07",
   "metadata": {},
   "outputs": [
    {
     "data": {
      "text/plain": [
       "{'dtype: object'}"
      ]
     },
     "execution_count": 488,
     "metadata": {},
     "output_type": "execute_result"
    }
   ],
   "source": [
    "Oorjja={\"dtype: object\"}\n",
    "Oorjja"
   ]
  }
 ],
 "metadata": {
  "kernelspec": {
   "display_name": "Python 3 (ipykernel)",
   "language": "python",
   "name": "python3"
  },
  "language_info": {
   "codemirror_mode": {
    "name": "ipython",
    "version": 3
   },
   "file_extension": ".py",
   "mimetype": "text/x-python",
   "name": "python",
   "nbconvert_exporter": "python",
   "pygments_lexer": "ipython3",
   "version": "3.10.9"
  }
 },
 "nbformat": 4,
 "nbformat_minor": 5
}
