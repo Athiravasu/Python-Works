{
 "cells": [
  {
   "cell_type": "code",
   "execution_count": 267,
   "id": "d7c89149",
   "metadata": {},
   "outputs": [],
   "source": [
    "import pandas as pd"
   ]
  },
  {
   "cell_type": "code",
   "execution_count": 268,
   "id": "1bc02db7",
   "metadata": {},
   "outputs": [
    {
     "name": "stderr",
     "output_type": "stream",
     "text": [
      "C:\\Users\\athir\\anaconda3\\lib\\site-packages\\openpyxl\\worksheet\\_read_only.py:79: UserWarning: Cell B14 is marked as a date but the serial value 16032022 is outside the limits for dates. The cell will be treated as an error.\n",
      "  for idx, row in parser.parse():\n"
     ]
    },
    {
     "data": {
      "text/html": [
       "<div>\n",
       "<style scoped>\n",
       "    .dataframe tbody tr th:only-of-type {\n",
       "        vertical-align: middle;\n",
       "    }\n",
       "\n",
       "    .dataframe tbody tr th {\n",
       "        vertical-align: top;\n",
       "    }\n",
       "\n",
       "    .dataframe thead th {\n",
       "        text-align: right;\n",
       "    }\n",
       "</style>\n",
       "<table border=\"1\" class=\"dataframe\">\n",
       "  <thead>\n",
       "    <tr style=\"text-align: right;\">\n",
       "      <th></th>\n",
       "      <th>Duration</th>\n",
       "      <th>Date</th>\n",
       "      <th>Gender</th>\n",
       "      <th>Height</th>\n",
       "      <th>Weight</th>\n",
       "      <th>Pulse</th>\n",
       "      <th>Maxpulse</th>\n",
       "      <th>Calories</th>\n",
       "      <th>Name Doctor</th>\n",
       "    </tr>\n",
       "  </thead>\n",
       "  <tbody>\n",
       "    <tr>\n",
       "      <th>0</th>\n",
       "      <td>60</td>\n",
       "      <td>2022-03-16</td>\n",
       "      <td>Male</td>\n",
       "      <td>174.0</td>\n",
       "      <td>96.0</td>\n",
       "      <td>104</td>\n",
       "      <td>132</td>\n",
       "      <td>379.3</td>\n",
       "      <td>Christy, Catherine</td>\n",
       "    </tr>\n",
       "    <tr>\n",
       "      <th>1</th>\n",
       "      <td>60</td>\n",
       "      <td>2022-03-16</td>\n",
       "      <td>Female</td>\n",
       "      <td>189.0</td>\n",
       "      <td>87.0</td>\n",
       "      <td>98</td>\n",
       "      <td>123</td>\n",
       "      <td>275.0</td>\n",
       "      <td>Mukund, Catherine</td>\n",
       "    </tr>\n",
       "    <tr>\n",
       "      <th>2</th>\n",
       "      <td>60</td>\n",
       "      <td>2022-03-16</td>\n",
       "      <td>Female</td>\n",
       "      <td>185.0</td>\n",
       "      <td>110.0</td>\n",
       "      <td>98</td>\n",
       "      <td>120</td>\n",
       "      <td>215.2</td>\n",
       "      <td>Aswathy, Catherine</td>\n",
       "    </tr>\n",
       "    <tr>\n",
       "      <th>3</th>\n",
       "      <td>500</td>\n",
       "      <td>2022-03-16</td>\n",
       "      <td>Male</td>\n",
       "      <td>195.0</td>\n",
       "      <td>104.0</td>\n",
       "      <td>100</td>\n",
       "      <td>120</td>\n",
       "      <td>300.0</td>\n",
       "      <td>Phil, Catherine</td>\n",
       "    </tr>\n",
       "    <tr>\n",
       "      <th>4</th>\n",
       "      <td>60</td>\n",
       "      <td>2022-03-16</td>\n",
       "      <td>Male</td>\n",
       "      <td>149.0</td>\n",
       "      <td>61.0</td>\n",
       "      <td>90</td>\n",
       "      <td>112</td>\n",
       "      <td>NaN</td>\n",
       "      <td>Vince, Catherine</td>\n",
       "    </tr>\n",
       "    <tr>\n",
       "      <th>5</th>\n",
       "      <td>60</td>\n",
       "      <td>2022-03-16</td>\n",
       "      <td>Male</td>\n",
       "      <td>189.0</td>\n",
       "      <td>104.0</td>\n",
       "      <td>103</td>\n",
       "      <td>123</td>\n",
       "      <td>323.0</td>\n",
       "      <td>Akshaya, Jony</td>\n",
       "    </tr>\n",
       "    <tr>\n",
       "      <th>6</th>\n",
       "      <td>60</td>\n",
       "      <td>2022-03-16</td>\n",
       "      <td>Male</td>\n",
       "      <td>147.0</td>\n",
       "      <td>NaN</td>\n",
       "      <td>97</td>\n",
       "      <td>125</td>\n",
       "      <td>243.0</td>\n",
       "      <td>Ajay, Jony</td>\n",
       "    </tr>\n",
       "    <tr>\n",
       "      <th>7</th>\n",
       "      <td>60</td>\n",
       "      <td>2022-03-16</td>\n",
       "      <td>Male</td>\n",
       "      <td>NaN</td>\n",
       "      <td>101.0</td>\n",
       "      <td>108</td>\n",
       "      <td>131</td>\n",
       "      <td>364.2</td>\n",
       "      <td>Jay, Jony</td>\n",
       "    </tr>\n",
       "    <tr>\n",
       "      <th>8</th>\n",
       "      <td>45</td>\n",
       "      <td>2022-03-16</td>\n",
       "      <td>Female</td>\n",
       "      <td>174.0</td>\n",
       "      <td>90.0</td>\n",
       "      <td>100</td>\n",
       "      <td>119</td>\n",
       "      <td>282.0</td>\n",
       "      <td>Shyam, Catherine</td>\n",
       "    </tr>\n",
       "    <tr>\n",
       "      <th>9</th>\n",
       "      <td>50</td>\n",
       "      <td>2022-03-16</td>\n",
       "      <td>Male</td>\n",
       "      <td>169.0</td>\n",
       "      <td>NaN</td>\n",
       "      <td>130</td>\n",
       "      <td>101</td>\n",
       "      <td>300.0</td>\n",
       "      <td>Neha, Catherine</td>\n",
       "    </tr>\n",
       "    <tr>\n",
       "      <th>10</th>\n",
       "      <td>450</td>\n",
       "      <td>2022-03-16</td>\n",
       "      <td>Female</td>\n",
       "      <td>NaN</td>\n",
       "      <td>81.0</td>\n",
       "      <td>105</td>\n",
       "      <td>132</td>\n",
       "      <td>246.0</td>\n",
       "      <td>Mehru, Catherine</td>\n",
       "    </tr>\n",
       "    <tr>\n",
       "      <th>11</th>\n",
       "      <td>60</td>\n",
       "      <td>NaT</td>\n",
       "      <td>Female</td>\n",
       "      <td>159.0</td>\n",
       "      <td>80.0</td>\n",
       "      <td>102</td>\n",
       "      <td>126</td>\n",
       "      <td>334.5</td>\n",
       "      <td>Dipa, Catherine</td>\n",
       "    </tr>\n",
       "    <tr>\n",
       "      <th>12</th>\n",
       "      <td>450</td>\n",
       "      <td>2022-03-16</td>\n",
       "      <td>Male</td>\n",
       "      <td>192.0</td>\n",
       "      <td>91.0</td>\n",
       "      <td>100</td>\n",
       "      <td>120</td>\n",
       "      <td>250.0</td>\n",
       "      <td>Jim, Jony</td>\n",
       "    </tr>\n",
       "    <tr>\n",
       "      <th>13</th>\n",
       "      <td>45</td>\n",
       "      <td>2022-03-16</td>\n",
       "      <td>Male</td>\n",
       "      <td>155.0</td>\n",
       "      <td>51.0</td>\n",
       "      <td>92</td>\n",
       "      <td>118</td>\n",
       "      <td>241.0</td>\n",
       "      <td>Divya, Catherine</td>\n",
       "    </tr>\n",
       "    <tr>\n",
       "      <th>14</th>\n",
       "      <td>50</td>\n",
       "      <td>2022-03-16</td>\n",
       "      <td>Gender</td>\n",
       "      <td>191.0</td>\n",
       "      <td>79.0</td>\n",
       "      <td>103</td>\n",
       "      <td>132</td>\n",
       "      <td>NaN</td>\n",
       "      <td>Liya, Catherine</td>\n",
       "    </tr>\n",
       "    <tr>\n",
       "      <th>15</th>\n",
       "      <td>60</td>\n",
       "      <td>2022-03-16</td>\n",
       "      <td>Male</td>\n",
       "      <td>153.0</td>\n",
       "      <td>70.0</td>\n",
       "      <td>97</td>\n",
       "      <td>132</td>\n",
       "      <td>280.0</td>\n",
       "      <td>Jack, Jony</td>\n",
       "    </tr>\n",
       "  </tbody>\n",
       "</table>\n",
       "</div>"
      ],
      "text/plain": [
       "    Duration       Date  Gender  Height  Weight  Pulse  Maxpulse  Calories  \\\n",
       "0         60 2022-03-16    Male   174.0    96.0    104       132     379.3   \n",
       "1         60 2022-03-16  Female   189.0    87.0     98       123     275.0   \n",
       "2         60 2022-03-16  Female   185.0   110.0     98       120     215.2   \n",
       "3        500 2022-03-16    Male   195.0   104.0    100       120     300.0   \n",
       "4         60 2022-03-16    Male   149.0    61.0     90       112       NaN   \n",
       "5         60 2022-03-16    Male   189.0   104.0    103       123     323.0   \n",
       "6         60 2022-03-16    Male   147.0     NaN     97       125     243.0   \n",
       "7         60 2022-03-16    Male     NaN   101.0    108       131     364.2   \n",
       "8         45 2022-03-16  Female   174.0    90.0    100       119     282.0   \n",
       "9         50 2022-03-16    Male   169.0     NaN    130       101     300.0   \n",
       "10       450 2022-03-16  Female     NaN    81.0    105       132     246.0   \n",
       "11        60        NaT  Female   159.0    80.0    102       126     334.5   \n",
       "12       450 2022-03-16    Male   192.0    91.0    100       120     250.0   \n",
       "13        45 2022-03-16    Male   155.0    51.0     92       118     241.0   \n",
       "14        50 2022-03-16  Gender   191.0    79.0    103       132       NaN   \n",
       "15        60 2022-03-16    Male   153.0    70.0     97       132     280.0   \n",
       "\n",
       "           Name Doctor  \n",
       "0   Christy, Catherine  \n",
       "1    Mukund, Catherine  \n",
       "2   Aswathy, Catherine  \n",
       "3      Phil, Catherine  \n",
       "4     Vince, Catherine  \n",
       "5        Akshaya, Jony  \n",
       "6           Ajay, Jony  \n",
       "7            Jay, Jony  \n",
       "8     Shyam, Catherine  \n",
       "9      Neha, Catherine  \n",
       "10    Mehru, Catherine  \n",
       "11     Dipa, Catherine  \n",
       "12           Jim, Jony  \n",
       "13    Divya, Catherine  \n",
       "14     Liya, Catherine  \n",
       "15          Jack, Jony  "
      ]
     },
     "execution_count": 268,
     "metadata": {},
     "output_type": "execute_result"
    }
   ],
   "source": [
    "data=pd.read_excel('Clinical data analysis.xlsx',skiprows=1)\n",
    "data"
   ]
  },
  {
   "cell_type": "code",
   "execution_count": 269,
   "id": "a436cb11",
   "metadata": {},
   "outputs": [
    {
     "data": {
      "text/plain": [
       "(16, 9)"
      ]
     },
     "execution_count": 269,
     "metadata": {},
     "output_type": "execute_result"
    }
   ],
   "source": [
    "data.shape"
   ]
  },
  {
   "cell_type": "code",
   "execution_count": 270,
   "id": "ac583768",
   "metadata": {},
   "outputs": [
    {
     "name": "stdout",
     "output_type": "stream",
     "text": [
      "<class 'pandas.core.frame.DataFrame'>\n",
      "RangeIndex: 16 entries, 0 to 15\n",
      "Data columns (total 9 columns):\n",
      " #   Column       Non-Null Count  Dtype         \n",
      "---  ------       --------------  -----         \n",
      " 0   Duration     16 non-null     int64         \n",
      " 1   Date         15 non-null     datetime64[ns]\n",
      " 2   Gender       16 non-null     object        \n",
      " 3   Height       14 non-null     float64       \n",
      " 4   Weight       14 non-null     float64       \n",
      " 5   Pulse        16 non-null     int64         \n",
      " 6   Maxpulse     16 non-null     int64         \n",
      " 7   Calories     14 non-null     float64       \n",
      " 8   Name Doctor  16 non-null     object        \n",
      "dtypes: datetime64[ns](1), float64(3), int64(3), object(2)\n",
      "memory usage: 1.2+ KB\n"
     ]
    }
   ],
   "source": [
    "data.info()"
   ]
  },
  {
   "cell_type": "code",
   "execution_count": 271,
   "id": "245d5895",
   "metadata": {},
   "outputs": [
    {
     "data": {
      "text/plain": [
       "Duration       0\n",
       "Date           1\n",
       "Gender         0\n",
       "Height         2\n",
       "Weight         2\n",
       "Pulse          0\n",
       "Maxpulse       0\n",
       "Calories       2\n",
       "Name Doctor    0\n",
       "dtype: int64"
      ]
     },
     "execution_count": 271,
     "metadata": {},
     "output_type": "execute_result"
    }
   ],
   "source": [
    "data.isna().sum()"
   ]
  },
  {
   "cell_type": "code",
   "execution_count": 272,
   "id": "07509078",
   "metadata": {},
   "outputs": [
    {
     "data": {
      "text/html": [
       "<div>\n",
       "<style scoped>\n",
       "    .dataframe tbody tr th:only-of-type {\n",
       "        vertical-align: middle;\n",
       "    }\n",
       "\n",
       "    .dataframe tbody tr th {\n",
       "        vertical-align: top;\n",
       "    }\n",
       "\n",
       "    .dataframe thead th {\n",
       "        text-align: right;\n",
       "    }\n",
       "</style>\n",
       "<table border=\"1\" class=\"dataframe\">\n",
       "  <thead>\n",
       "    <tr style=\"text-align: right;\">\n",
       "      <th></th>\n",
       "      <th>Duration</th>\n",
       "      <th>Date</th>\n",
       "      <th>Gender</th>\n",
       "      <th>Height</th>\n",
       "      <th>Weight</th>\n",
       "      <th>Pulse</th>\n",
       "      <th>Maxpulse</th>\n",
       "      <th>Calories</th>\n",
       "      <th>Name Doctor</th>\n",
       "    </tr>\n",
       "  </thead>\n",
       "  <tbody>\n",
       "    <tr>\n",
       "      <th>0</th>\n",
       "      <td>60</td>\n",
       "      <td>2022-03-16</td>\n",
       "      <td>Male</td>\n",
       "      <td>174.0</td>\n",
       "      <td>96.0</td>\n",
       "      <td>104</td>\n",
       "      <td>132</td>\n",
       "      <td>379.3</td>\n",
       "      <td>Christy, Catherine</td>\n",
       "    </tr>\n",
       "    <tr>\n",
       "      <th>1</th>\n",
       "      <td>60</td>\n",
       "      <td>2022-03-16</td>\n",
       "      <td>Female</td>\n",
       "      <td>189.0</td>\n",
       "      <td>87.0</td>\n",
       "      <td>98</td>\n",
       "      <td>123</td>\n",
       "      <td>275.0</td>\n",
       "      <td>Mukund, Catherine</td>\n",
       "    </tr>\n",
       "    <tr>\n",
       "      <th>2</th>\n",
       "      <td>60</td>\n",
       "      <td>2022-03-16</td>\n",
       "      <td>Female</td>\n",
       "      <td>185.0</td>\n",
       "      <td>110.0</td>\n",
       "      <td>98</td>\n",
       "      <td>120</td>\n",
       "      <td>215.2</td>\n",
       "      <td>Aswathy, Catherine</td>\n",
       "    </tr>\n",
       "    <tr>\n",
       "      <th>3</th>\n",
       "      <td>500</td>\n",
       "      <td>2022-03-16</td>\n",
       "      <td>Male</td>\n",
       "      <td>195.0</td>\n",
       "      <td>104.0</td>\n",
       "      <td>100</td>\n",
       "      <td>120</td>\n",
       "      <td>300.0</td>\n",
       "      <td>Phil, Catherine</td>\n",
       "    </tr>\n",
       "    <tr>\n",
       "      <th>4</th>\n",
       "      <td>60</td>\n",
       "      <td>2022-03-16</td>\n",
       "      <td>Male</td>\n",
       "      <td>149.0</td>\n",
       "      <td>61.0</td>\n",
       "      <td>90</td>\n",
       "      <td>112</td>\n",
       "      <td>NaN</td>\n",
       "      <td>Vince, Catherine</td>\n",
       "    </tr>\n",
       "    <tr>\n",
       "      <th>5</th>\n",
       "      <td>60</td>\n",
       "      <td>2022-03-16</td>\n",
       "      <td>Male</td>\n",
       "      <td>189.0</td>\n",
       "      <td>104.0</td>\n",
       "      <td>103</td>\n",
       "      <td>123</td>\n",
       "      <td>323.0</td>\n",
       "      <td>Akshaya, Jony</td>\n",
       "    </tr>\n",
       "    <tr>\n",
       "      <th>6</th>\n",
       "      <td>60</td>\n",
       "      <td>2022-03-16</td>\n",
       "      <td>Male</td>\n",
       "      <td>147.0</td>\n",
       "      <td>NaN</td>\n",
       "      <td>97</td>\n",
       "      <td>125</td>\n",
       "      <td>243.0</td>\n",
       "      <td>Ajay, Jony</td>\n",
       "    </tr>\n",
       "    <tr>\n",
       "      <th>7</th>\n",
       "      <td>60</td>\n",
       "      <td>2022-03-16</td>\n",
       "      <td>Male</td>\n",
       "      <td>NaN</td>\n",
       "      <td>101.0</td>\n",
       "      <td>108</td>\n",
       "      <td>131</td>\n",
       "      <td>364.2</td>\n",
       "      <td>Jay, Jony</td>\n",
       "    </tr>\n",
       "    <tr>\n",
       "      <th>8</th>\n",
       "      <td>45</td>\n",
       "      <td>2022-03-16</td>\n",
       "      <td>Female</td>\n",
       "      <td>174.0</td>\n",
       "      <td>90.0</td>\n",
       "      <td>100</td>\n",
       "      <td>119</td>\n",
       "      <td>282.0</td>\n",
       "      <td>Shyam, Catherine</td>\n",
       "    </tr>\n",
       "    <tr>\n",
       "      <th>9</th>\n",
       "      <td>50</td>\n",
       "      <td>2022-03-16</td>\n",
       "      <td>Male</td>\n",
       "      <td>169.0</td>\n",
       "      <td>NaN</td>\n",
       "      <td>130</td>\n",
       "      <td>101</td>\n",
       "      <td>300.0</td>\n",
       "      <td>Neha, Catherine</td>\n",
       "    </tr>\n",
       "    <tr>\n",
       "      <th>10</th>\n",
       "      <td>450</td>\n",
       "      <td>2022-03-16</td>\n",
       "      <td>Female</td>\n",
       "      <td>NaN</td>\n",
       "      <td>81.0</td>\n",
       "      <td>105</td>\n",
       "      <td>132</td>\n",
       "      <td>246.0</td>\n",
       "      <td>Mehru, Catherine</td>\n",
       "    </tr>\n",
       "    <tr>\n",
       "      <th>11</th>\n",
       "      <td>60</td>\n",
       "      <td>2022-03-16</td>\n",
       "      <td>Female</td>\n",
       "      <td>159.0</td>\n",
       "      <td>80.0</td>\n",
       "      <td>102</td>\n",
       "      <td>126</td>\n",
       "      <td>334.5</td>\n",
       "      <td>Dipa, Catherine</td>\n",
       "    </tr>\n",
       "    <tr>\n",
       "      <th>12</th>\n",
       "      <td>450</td>\n",
       "      <td>2022-03-16</td>\n",
       "      <td>Male</td>\n",
       "      <td>192.0</td>\n",
       "      <td>91.0</td>\n",
       "      <td>100</td>\n",
       "      <td>120</td>\n",
       "      <td>250.0</td>\n",
       "      <td>Jim, Jony</td>\n",
       "    </tr>\n",
       "    <tr>\n",
       "      <th>13</th>\n",
       "      <td>45</td>\n",
       "      <td>2022-03-16</td>\n",
       "      <td>Male</td>\n",
       "      <td>155.0</td>\n",
       "      <td>51.0</td>\n",
       "      <td>92</td>\n",
       "      <td>118</td>\n",
       "      <td>241.0</td>\n",
       "      <td>Divya, Catherine</td>\n",
       "    </tr>\n",
       "    <tr>\n",
       "      <th>14</th>\n",
       "      <td>50</td>\n",
       "      <td>2022-03-16</td>\n",
       "      <td>Gender</td>\n",
       "      <td>191.0</td>\n",
       "      <td>79.0</td>\n",
       "      <td>103</td>\n",
       "      <td>132</td>\n",
       "      <td>NaN</td>\n",
       "      <td>Liya, Catherine</td>\n",
       "    </tr>\n",
       "    <tr>\n",
       "      <th>15</th>\n",
       "      <td>60</td>\n",
       "      <td>2022-03-16</td>\n",
       "      <td>Male</td>\n",
       "      <td>153.0</td>\n",
       "      <td>70.0</td>\n",
       "      <td>97</td>\n",
       "      <td>132</td>\n",
       "      <td>280.0</td>\n",
       "      <td>Jack, Jony</td>\n",
       "    </tr>\n",
       "  </tbody>\n",
       "</table>\n",
       "</div>"
      ],
      "text/plain": [
       "    Duration       Date  Gender  Height  Weight  Pulse  Maxpulse  Calories  \\\n",
       "0         60 2022-03-16    Male   174.0    96.0    104       132     379.3   \n",
       "1         60 2022-03-16  Female   189.0    87.0     98       123     275.0   \n",
       "2         60 2022-03-16  Female   185.0   110.0     98       120     215.2   \n",
       "3        500 2022-03-16    Male   195.0   104.0    100       120     300.0   \n",
       "4         60 2022-03-16    Male   149.0    61.0     90       112       NaN   \n",
       "5         60 2022-03-16    Male   189.0   104.0    103       123     323.0   \n",
       "6         60 2022-03-16    Male   147.0     NaN     97       125     243.0   \n",
       "7         60 2022-03-16    Male     NaN   101.0    108       131     364.2   \n",
       "8         45 2022-03-16  Female   174.0    90.0    100       119     282.0   \n",
       "9         50 2022-03-16    Male   169.0     NaN    130       101     300.0   \n",
       "10       450 2022-03-16  Female     NaN    81.0    105       132     246.0   \n",
       "11        60 2022-03-16  Female   159.0    80.0    102       126     334.5   \n",
       "12       450 2022-03-16    Male   192.0    91.0    100       120     250.0   \n",
       "13        45 2022-03-16    Male   155.0    51.0     92       118     241.0   \n",
       "14        50 2022-03-16  Gender   191.0    79.0    103       132       NaN   \n",
       "15        60 2022-03-16    Male   153.0    70.0     97       132     280.0   \n",
       "\n",
       "           Name Doctor  \n",
       "0   Christy, Catherine  \n",
       "1    Mukund, Catherine  \n",
       "2   Aswathy, Catherine  \n",
       "3      Phil, Catherine  \n",
       "4     Vince, Catherine  \n",
       "5        Akshaya, Jony  \n",
       "6           Ajay, Jony  \n",
       "7            Jay, Jony  \n",
       "8     Shyam, Catherine  \n",
       "9      Neha, Catherine  \n",
       "10    Mehru, Catherine  \n",
       "11     Dipa, Catherine  \n",
       "12           Jim, Jony  \n",
       "13    Divya, Catherine  \n",
       "14     Liya, Catherine  \n",
       "15          Jack, Jony  "
      ]
     },
     "execution_count": 272,
     "metadata": {},
     "output_type": "execute_result"
    }
   ],
   "source": [
    "data['Date']=data['Date'].fillna(data['Date'].mode()[0])#filling null value in Date with mode.\n",
    "data                                "
   ]
  },
  {
   "cell_type": "code",
   "execution_count": 273,
   "id": "2d779b43",
   "metadata": {},
   "outputs": [
    {
     "data": {
      "text/html": [
       "<div>\n",
       "<style scoped>\n",
       "    .dataframe tbody tr th:only-of-type {\n",
       "        vertical-align: middle;\n",
       "    }\n",
       "\n",
       "    .dataframe tbody tr th {\n",
       "        vertical-align: top;\n",
       "    }\n",
       "\n",
       "    .dataframe thead th {\n",
       "        text-align: right;\n",
       "    }\n",
       "</style>\n",
       "<table border=\"1\" class=\"dataframe\">\n",
       "  <thead>\n",
       "    <tr style=\"text-align: right;\">\n",
       "      <th></th>\n",
       "      <th>Duration</th>\n",
       "      <th>Date</th>\n",
       "      <th>Gender</th>\n",
       "      <th>Height</th>\n",
       "      <th>Weight</th>\n",
       "      <th>Pulse</th>\n",
       "      <th>Maxpulse</th>\n",
       "      <th>Calories</th>\n",
       "      <th>Name Doctor</th>\n",
       "    </tr>\n",
       "  </thead>\n",
       "  <tbody>\n",
       "    <tr>\n",
       "      <th>0</th>\n",
       "      <td>60</td>\n",
       "      <td>2022-03-16</td>\n",
       "      <td>Male</td>\n",
       "      <td>174.000000</td>\n",
       "      <td>96.000000</td>\n",
       "      <td>104</td>\n",
       "      <td>132</td>\n",
       "      <td>379.300000</td>\n",
       "      <td>Christy, Catherine</td>\n",
       "    </tr>\n",
       "    <tr>\n",
       "      <th>1</th>\n",
       "      <td>60</td>\n",
       "      <td>2022-03-16</td>\n",
       "      <td>Female</td>\n",
       "      <td>189.000000</td>\n",
       "      <td>87.000000</td>\n",
       "      <td>98</td>\n",
       "      <td>123</td>\n",
       "      <td>275.000000</td>\n",
       "      <td>Mukund, Catherine</td>\n",
       "    </tr>\n",
       "    <tr>\n",
       "      <th>2</th>\n",
       "      <td>60</td>\n",
       "      <td>2022-03-16</td>\n",
       "      <td>Female</td>\n",
       "      <td>185.000000</td>\n",
       "      <td>110.000000</td>\n",
       "      <td>98</td>\n",
       "      <td>120</td>\n",
       "      <td>215.200000</td>\n",
       "      <td>Aswathy, Catherine</td>\n",
       "    </tr>\n",
       "    <tr>\n",
       "      <th>3</th>\n",
       "      <td>500</td>\n",
       "      <td>2022-03-16</td>\n",
       "      <td>Male</td>\n",
       "      <td>195.000000</td>\n",
       "      <td>104.000000</td>\n",
       "      <td>100</td>\n",
       "      <td>120</td>\n",
       "      <td>300.000000</td>\n",
       "      <td>Phil, Catherine</td>\n",
       "    </tr>\n",
       "    <tr>\n",
       "      <th>4</th>\n",
       "      <td>60</td>\n",
       "      <td>2022-03-16</td>\n",
       "      <td>Male</td>\n",
       "      <td>149.000000</td>\n",
       "      <td>61.000000</td>\n",
       "      <td>90</td>\n",
       "      <td>112</td>\n",
       "      <td>288.085714</td>\n",
       "      <td>Vince, Catherine</td>\n",
       "    </tr>\n",
       "    <tr>\n",
       "      <th>5</th>\n",
       "      <td>60</td>\n",
       "      <td>2022-03-16</td>\n",
       "      <td>Male</td>\n",
       "      <td>189.000000</td>\n",
       "      <td>104.000000</td>\n",
       "      <td>103</td>\n",
       "      <td>123</td>\n",
       "      <td>323.000000</td>\n",
       "      <td>Akshaya, Jony</td>\n",
       "    </tr>\n",
       "    <tr>\n",
       "      <th>6</th>\n",
       "      <td>60</td>\n",
       "      <td>2022-03-16</td>\n",
       "      <td>Male</td>\n",
       "      <td>147.000000</td>\n",
       "      <td>86.071429</td>\n",
       "      <td>97</td>\n",
       "      <td>125</td>\n",
       "      <td>243.000000</td>\n",
       "      <td>Ajay, Jony</td>\n",
       "    </tr>\n",
       "    <tr>\n",
       "      <th>7</th>\n",
       "      <td>60</td>\n",
       "      <td>2022-03-16</td>\n",
       "      <td>Male</td>\n",
       "      <td>172.928571</td>\n",
       "      <td>101.000000</td>\n",
       "      <td>108</td>\n",
       "      <td>131</td>\n",
       "      <td>364.200000</td>\n",
       "      <td>Jay, Jony</td>\n",
       "    </tr>\n",
       "    <tr>\n",
       "      <th>8</th>\n",
       "      <td>45</td>\n",
       "      <td>2022-03-16</td>\n",
       "      <td>Female</td>\n",
       "      <td>174.000000</td>\n",
       "      <td>90.000000</td>\n",
       "      <td>100</td>\n",
       "      <td>119</td>\n",
       "      <td>282.000000</td>\n",
       "      <td>Shyam, Catherine</td>\n",
       "    </tr>\n",
       "    <tr>\n",
       "      <th>9</th>\n",
       "      <td>50</td>\n",
       "      <td>2022-03-16</td>\n",
       "      <td>Male</td>\n",
       "      <td>169.000000</td>\n",
       "      <td>86.071429</td>\n",
       "      <td>130</td>\n",
       "      <td>101</td>\n",
       "      <td>300.000000</td>\n",
       "      <td>Neha, Catherine</td>\n",
       "    </tr>\n",
       "    <tr>\n",
       "      <th>10</th>\n",
       "      <td>450</td>\n",
       "      <td>2022-03-16</td>\n",
       "      <td>Female</td>\n",
       "      <td>172.928571</td>\n",
       "      <td>81.000000</td>\n",
       "      <td>105</td>\n",
       "      <td>132</td>\n",
       "      <td>246.000000</td>\n",
       "      <td>Mehru, Catherine</td>\n",
       "    </tr>\n",
       "    <tr>\n",
       "      <th>11</th>\n",
       "      <td>60</td>\n",
       "      <td>2022-03-16</td>\n",
       "      <td>Female</td>\n",
       "      <td>159.000000</td>\n",
       "      <td>80.000000</td>\n",
       "      <td>102</td>\n",
       "      <td>126</td>\n",
       "      <td>334.500000</td>\n",
       "      <td>Dipa, Catherine</td>\n",
       "    </tr>\n",
       "    <tr>\n",
       "      <th>12</th>\n",
       "      <td>450</td>\n",
       "      <td>2022-03-16</td>\n",
       "      <td>Male</td>\n",
       "      <td>192.000000</td>\n",
       "      <td>91.000000</td>\n",
       "      <td>100</td>\n",
       "      <td>120</td>\n",
       "      <td>250.000000</td>\n",
       "      <td>Jim, Jony</td>\n",
       "    </tr>\n",
       "    <tr>\n",
       "      <th>13</th>\n",
       "      <td>45</td>\n",
       "      <td>2022-03-16</td>\n",
       "      <td>Male</td>\n",
       "      <td>155.000000</td>\n",
       "      <td>51.000000</td>\n",
       "      <td>92</td>\n",
       "      <td>118</td>\n",
       "      <td>241.000000</td>\n",
       "      <td>Divya, Catherine</td>\n",
       "    </tr>\n",
       "    <tr>\n",
       "      <th>14</th>\n",
       "      <td>50</td>\n",
       "      <td>2022-03-16</td>\n",
       "      <td>Gender</td>\n",
       "      <td>191.000000</td>\n",
       "      <td>79.000000</td>\n",
       "      <td>103</td>\n",
       "      <td>132</td>\n",
       "      <td>288.085714</td>\n",
       "      <td>Liya, Catherine</td>\n",
       "    </tr>\n",
       "    <tr>\n",
       "      <th>15</th>\n",
       "      <td>60</td>\n",
       "      <td>2022-03-16</td>\n",
       "      <td>Male</td>\n",
       "      <td>153.000000</td>\n",
       "      <td>70.000000</td>\n",
       "      <td>97</td>\n",
       "      <td>132</td>\n",
       "      <td>280.000000</td>\n",
       "      <td>Jack, Jony</td>\n",
       "    </tr>\n",
       "  </tbody>\n",
       "</table>\n",
       "</div>"
      ],
      "text/plain": [
       "    Duration       Date  Gender      Height      Weight  Pulse  Maxpulse  \\\n",
       "0         60 2022-03-16    Male  174.000000   96.000000    104       132   \n",
       "1         60 2022-03-16  Female  189.000000   87.000000     98       123   \n",
       "2         60 2022-03-16  Female  185.000000  110.000000     98       120   \n",
       "3        500 2022-03-16    Male  195.000000  104.000000    100       120   \n",
       "4         60 2022-03-16    Male  149.000000   61.000000     90       112   \n",
       "5         60 2022-03-16    Male  189.000000  104.000000    103       123   \n",
       "6         60 2022-03-16    Male  147.000000   86.071429     97       125   \n",
       "7         60 2022-03-16    Male  172.928571  101.000000    108       131   \n",
       "8         45 2022-03-16  Female  174.000000   90.000000    100       119   \n",
       "9         50 2022-03-16    Male  169.000000   86.071429    130       101   \n",
       "10       450 2022-03-16  Female  172.928571   81.000000    105       132   \n",
       "11        60 2022-03-16  Female  159.000000   80.000000    102       126   \n",
       "12       450 2022-03-16    Male  192.000000   91.000000    100       120   \n",
       "13        45 2022-03-16    Male  155.000000   51.000000     92       118   \n",
       "14        50 2022-03-16  Gender  191.000000   79.000000    103       132   \n",
       "15        60 2022-03-16    Male  153.000000   70.000000     97       132   \n",
       "\n",
       "      Calories         Name Doctor  \n",
       "0   379.300000  Christy, Catherine  \n",
       "1   275.000000   Mukund, Catherine  \n",
       "2   215.200000  Aswathy, Catherine  \n",
       "3   300.000000     Phil, Catherine  \n",
       "4   288.085714    Vince, Catherine  \n",
       "5   323.000000       Akshaya, Jony  \n",
       "6   243.000000          Ajay, Jony  \n",
       "7   364.200000           Jay, Jony  \n",
       "8   282.000000    Shyam, Catherine  \n",
       "9   300.000000     Neha, Catherine  \n",
       "10  246.000000    Mehru, Catherine  \n",
       "11  334.500000     Dipa, Catherine  \n",
       "12  250.000000           Jim, Jony  \n",
       "13  241.000000    Divya, Catherine  \n",
       "14  288.085714     Liya, Catherine  \n",
       "15  280.000000          Jack, Jony  "
      ]
     },
     "execution_count": 273,
     "metadata": {},
     "output_type": "execute_result"
    }
   ],
   "source": [
    "data.fillna(data[['Height','Weight','Calories']].mean(),inplace=True)\n",
    "#filling null values in Height,Weight and Calories with mean.\n",
    "data"
   ]
  },
  {
   "cell_type": "code",
   "execution_count": 274,
   "id": "2bc5e4a8",
   "metadata": {},
   "outputs": [
    {
     "data": {
      "text/html": [
       "<div>\n",
       "<style scoped>\n",
       "    .dataframe tbody tr th:only-of-type {\n",
       "        vertical-align: middle;\n",
       "    }\n",
       "\n",
       "    .dataframe tbody tr th {\n",
       "        vertical-align: top;\n",
       "    }\n",
       "\n",
       "    .dataframe thead th {\n",
       "        text-align: right;\n",
       "    }\n",
       "</style>\n",
       "<table border=\"1\" class=\"dataframe\">\n",
       "  <thead>\n",
       "    <tr style=\"text-align: right;\">\n",
       "      <th></th>\n",
       "      <th>Duration</th>\n",
       "      <th>Date</th>\n",
       "      <th>Gender</th>\n",
       "      <th>Height</th>\n",
       "      <th>Weight</th>\n",
       "      <th>Pulse</th>\n",
       "      <th>Maxpulse</th>\n",
       "      <th>Calories</th>\n",
       "      <th>Name Doctor</th>\n",
       "      <th>Name</th>\n",
       "      <th>Doctor</th>\n",
       "    </tr>\n",
       "  </thead>\n",
       "  <tbody>\n",
       "    <tr>\n",
       "      <th>0</th>\n",
       "      <td>60</td>\n",
       "      <td>2022-03-16</td>\n",
       "      <td>Male</td>\n",
       "      <td>174.000000</td>\n",
       "      <td>96.000000</td>\n",
       "      <td>104</td>\n",
       "      <td>132</td>\n",
       "      <td>379.300000</td>\n",
       "      <td>Christy, Catherine</td>\n",
       "      <td>Christy</td>\n",
       "      <td>Catherine</td>\n",
       "    </tr>\n",
       "    <tr>\n",
       "      <th>1</th>\n",
       "      <td>60</td>\n",
       "      <td>2022-03-16</td>\n",
       "      <td>Female</td>\n",
       "      <td>189.000000</td>\n",
       "      <td>87.000000</td>\n",
       "      <td>98</td>\n",
       "      <td>123</td>\n",
       "      <td>275.000000</td>\n",
       "      <td>Mukund, Catherine</td>\n",
       "      <td>Mukund</td>\n",
       "      <td>Catherine</td>\n",
       "    </tr>\n",
       "    <tr>\n",
       "      <th>2</th>\n",
       "      <td>60</td>\n",
       "      <td>2022-03-16</td>\n",
       "      <td>Female</td>\n",
       "      <td>185.000000</td>\n",
       "      <td>110.000000</td>\n",
       "      <td>98</td>\n",
       "      <td>120</td>\n",
       "      <td>215.200000</td>\n",
       "      <td>Aswathy, Catherine</td>\n",
       "      <td>Aswathy</td>\n",
       "      <td>Catherine</td>\n",
       "    </tr>\n",
       "    <tr>\n",
       "      <th>3</th>\n",
       "      <td>500</td>\n",
       "      <td>2022-03-16</td>\n",
       "      <td>Male</td>\n",
       "      <td>195.000000</td>\n",
       "      <td>104.000000</td>\n",
       "      <td>100</td>\n",
       "      <td>120</td>\n",
       "      <td>300.000000</td>\n",
       "      <td>Phil, Catherine</td>\n",
       "      <td>Phil</td>\n",
       "      <td>Catherine</td>\n",
       "    </tr>\n",
       "    <tr>\n",
       "      <th>4</th>\n",
       "      <td>60</td>\n",
       "      <td>2022-03-16</td>\n",
       "      <td>Male</td>\n",
       "      <td>149.000000</td>\n",
       "      <td>61.000000</td>\n",
       "      <td>90</td>\n",
       "      <td>112</td>\n",
       "      <td>288.085714</td>\n",
       "      <td>Vince, Catherine</td>\n",
       "      <td>Vince</td>\n",
       "      <td>Catherine</td>\n",
       "    </tr>\n",
       "    <tr>\n",
       "      <th>5</th>\n",
       "      <td>60</td>\n",
       "      <td>2022-03-16</td>\n",
       "      <td>Male</td>\n",
       "      <td>189.000000</td>\n",
       "      <td>104.000000</td>\n",
       "      <td>103</td>\n",
       "      <td>123</td>\n",
       "      <td>323.000000</td>\n",
       "      <td>Akshaya, Jony</td>\n",
       "      <td>Akshaya</td>\n",
       "      <td>Jony</td>\n",
       "    </tr>\n",
       "    <tr>\n",
       "      <th>6</th>\n",
       "      <td>60</td>\n",
       "      <td>2022-03-16</td>\n",
       "      <td>Male</td>\n",
       "      <td>147.000000</td>\n",
       "      <td>86.071429</td>\n",
       "      <td>97</td>\n",
       "      <td>125</td>\n",
       "      <td>243.000000</td>\n",
       "      <td>Ajay, Jony</td>\n",
       "      <td>Ajay</td>\n",
       "      <td>Jony</td>\n",
       "    </tr>\n",
       "    <tr>\n",
       "      <th>7</th>\n",
       "      <td>60</td>\n",
       "      <td>2022-03-16</td>\n",
       "      <td>Male</td>\n",
       "      <td>172.928571</td>\n",
       "      <td>101.000000</td>\n",
       "      <td>108</td>\n",
       "      <td>131</td>\n",
       "      <td>364.200000</td>\n",
       "      <td>Jay, Jony</td>\n",
       "      <td>Jay</td>\n",
       "      <td>Jony</td>\n",
       "    </tr>\n",
       "    <tr>\n",
       "      <th>8</th>\n",
       "      <td>45</td>\n",
       "      <td>2022-03-16</td>\n",
       "      <td>Female</td>\n",
       "      <td>174.000000</td>\n",
       "      <td>90.000000</td>\n",
       "      <td>100</td>\n",
       "      <td>119</td>\n",
       "      <td>282.000000</td>\n",
       "      <td>Shyam, Catherine</td>\n",
       "      <td>Shyam</td>\n",
       "      <td>Catherine</td>\n",
       "    </tr>\n",
       "    <tr>\n",
       "      <th>9</th>\n",
       "      <td>50</td>\n",
       "      <td>2022-03-16</td>\n",
       "      <td>Male</td>\n",
       "      <td>169.000000</td>\n",
       "      <td>86.071429</td>\n",
       "      <td>130</td>\n",
       "      <td>101</td>\n",
       "      <td>300.000000</td>\n",
       "      <td>Neha, Catherine</td>\n",
       "      <td>Neha</td>\n",
       "      <td>Catherine</td>\n",
       "    </tr>\n",
       "    <tr>\n",
       "      <th>10</th>\n",
       "      <td>450</td>\n",
       "      <td>2022-03-16</td>\n",
       "      <td>Female</td>\n",
       "      <td>172.928571</td>\n",
       "      <td>81.000000</td>\n",
       "      <td>105</td>\n",
       "      <td>132</td>\n",
       "      <td>246.000000</td>\n",
       "      <td>Mehru, Catherine</td>\n",
       "      <td>Mehru</td>\n",
       "      <td>Catherine</td>\n",
       "    </tr>\n",
       "    <tr>\n",
       "      <th>11</th>\n",
       "      <td>60</td>\n",
       "      <td>2022-03-16</td>\n",
       "      <td>Female</td>\n",
       "      <td>159.000000</td>\n",
       "      <td>80.000000</td>\n",
       "      <td>102</td>\n",
       "      <td>126</td>\n",
       "      <td>334.500000</td>\n",
       "      <td>Dipa, Catherine</td>\n",
       "      <td>Dipa</td>\n",
       "      <td>Catherine</td>\n",
       "    </tr>\n",
       "    <tr>\n",
       "      <th>12</th>\n",
       "      <td>450</td>\n",
       "      <td>2022-03-16</td>\n",
       "      <td>Male</td>\n",
       "      <td>192.000000</td>\n",
       "      <td>91.000000</td>\n",
       "      <td>100</td>\n",
       "      <td>120</td>\n",
       "      <td>250.000000</td>\n",
       "      <td>Jim, Jony</td>\n",
       "      <td>Jim</td>\n",
       "      <td>Jony</td>\n",
       "    </tr>\n",
       "    <tr>\n",
       "      <th>13</th>\n",
       "      <td>45</td>\n",
       "      <td>2022-03-16</td>\n",
       "      <td>Male</td>\n",
       "      <td>155.000000</td>\n",
       "      <td>51.000000</td>\n",
       "      <td>92</td>\n",
       "      <td>118</td>\n",
       "      <td>241.000000</td>\n",
       "      <td>Divya, Catherine</td>\n",
       "      <td>Divya</td>\n",
       "      <td>Catherine</td>\n",
       "    </tr>\n",
       "    <tr>\n",
       "      <th>14</th>\n",
       "      <td>50</td>\n",
       "      <td>2022-03-16</td>\n",
       "      <td>Gender</td>\n",
       "      <td>191.000000</td>\n",
       "      <td>79.000000</td>\n",
       "      <td>103</td>\n",
       "      <td>132</td>\n",
       "      <td>288.085714</td>\n",
       "      <td>Liya, Catherine</td>\n",
       "      <td>Liya</td>\n",
       "      <td>Catherine</td>\n",
       "    </tr>\n",
       "    <tr>\n",
       "      <th>15</th>\n",
       "      <td>60</td>\n",
       "      <td>2022-03-16</td>\n",
       "      <td>Male</td>\n",
       "      <td>153.000000</td>\n",
       "      <td>70.000000</td>\n",
       "      <td>97</td>\n",
       "      <td>132</td>\n",
       "      <td>280.000000</td>\n",
       "      <td>Jack, Jony</td>\n",
       "      <td>Jack</td>\n",
       "      <td>Jony</td>\n",
       "    </tr>\n",
       "  </tbody>\n",
       "</table>\n",
       "</div>"
      ],
      "text/plain": [
       "    Duration       Date  Gender      Height      Weight  Pulse  Maxpulse  \\\n",
       "0         60 2022-03-16    Male  174.000000   96.000000    104       132   \n",
       "1         60 2022-03-16  Female  189.000000   87.000000     98       123   \n",
       "2         60 2022-03-16  Female  185.000000  110.000000     98       120   \n",
       "3        500 2022-03-16    Male  195.000000  104.000000    100       120   \n",
       "4         60 2022-03-16    Male  149.000000   61.000000     90       112   \n",
       "5         60 2022-03-16    Male  189.000000  104.000000    103       123   \n",
       "6         60 2022-03-16    Male  147.000000   86.071429     97       125   \n",
       "7         60 2022-03-16    Male  172.928571  101.000000    108       131   \n",
       "8         45 2022-03-16  Female  174.000000   90.000000    100       119   \n",
       "9         50 2022-03-16    Male  169.000000   86.071429    130       101   \n",
       "10       450 2022-03-16  Female  172.928571   81.000000    105       132   \n",
       "11        60 2022-03-16  Female  159.000000   80.000000    102       126   \n",
       "12       450 2022-03-16    Male  192.000000   91.000000    100       120   \n",
       "13        45 2022-03-16    Male  155.000000   51.000000     92       118   \n",
       "14        50 2022-03-16  Gender  191.000000   79.000000    103       132   \n",
       "15        60 2022-03-16    Male  153.000000   70.000000     97       132   \n",
       "\n",
       "      Calories         Name Doctor     Name      Doctor  \n",
       "0   379.300000  Christy, Catherine  Christy   Catherine  \n",
       "1   275.000000   Mukund, Catherine   Mukund   Catherine  \n",
       "2   215.200000  Aswathy, Catherine  Aswathy   Catherine  \n",
       "3   300.000000     Phil, Catherine     Phil   Catherine  \n",
       "4   288.085714    Vince, Catherine    Vince   Catherine  \n",
       "5   323.000000       Akshaya, Jony  Akshaya        Jony  \n",
       "6   243.000000          Ajay, Jony     Ajay        Jony  \n",
       "7   364.200000           Jay, Jony      Jay        Jony  \n",
       "8   282.000000    Shyam, Catherine    Shyam   Catherine  \n",
       "9   300.000000     Neha, Catherine     Neha   Catherine  \n",
       "10  246.000000    Mehru, Catherine    Mehru   Catherine  \n",
       "11  334.500000     Dipa, Catherine     Dipa   Catherine  \n",
       "12  250.000000           Jim, Jony      Jim        Jony  \n",
       "13  241.000000    Divya, Catherine    Divya   Catherine  \n",
       "14  288.085714     Liya, Catherine     Liya   Catherine  \n",
       "15  280.000000          Jack, Jony     Jack        Jony  "
      ]
     },
     "execution_count": 274,
     "metadata": {},
     "output_type": "execute_result"
    }
   ],
   "source": [
    "data['Name Doctor'.split(' ')]=data['Name Doctor'].str.split(',',expand=True)\n",
    "#splitting patient name and Doctor into two columns\n",
    "data"
   ]
  },
  {
   "cell_type": "code",
   "execution_count": 275,
   "id": "bde09a3a",
   "metadata": {},
   "outputs": [
    {
     "data": {
      "text/html": [
       "<div>\n",
       "<style scoped>\n",
       "    .dataframe tbody tr th:only-of-type {\n",
       "        vertical-align: middle;\n",
       "    }\n",
       "\n",
       "    .dataframe tbody tr th {\n",
       "        vertical-align: top;\n",
       "    }\n",
       "\n",
       "    .dataframe thead th {\n",
       "        text-align: right;\n",
       "    }\n",
       "</style>\n",
       "<table border=\"1\" class=\"dataframe\">\n",
       "  <thead>\n",
       "    <tr style=\"text-align: right;\">\n",
       "      <th></th>\n",
       "      <th>Duration</th>\n",
       "      <th>Date</th>\n",
       "      <th>Gender</th>\n",
       "      <th>Height</th>\n",
       "      <th>Weight</th>\n",
       "      <th>Pulse</th>\n",
       "      <th>Maxpulse</th>\n",
       "      <th>Calories</th>\n",
       "      <th>Name</th>\n",
       "      <th>Doctor</th>\n",
       "    </tr>\n",
       "  </thead>\n",
       "  <tbody>\n",
       "    <tr>\n",
       "      <th>0</th>\n",
       "      <td>60</td>\n",
       "      <td>2022-03-16</td>\n",
       "      <td>Male</td>\n",
       "      <td>174.000000</td>\n",
       "      <td>96.000000</td>\n",
       "      <td>104</td>\n",
       "      <td>132</td>\n",
       "      <td>379.300000</td>\n",
       "      <td>Christy</td>\n",
       "      <td>Catherine</td>\n",
       "    </tr>\n",
       "    <tr>\n",
       "      <th>1</th>\n",
       "      <td>60</td>\n",
       "      <td>2022-03-16</td>\n",
       "      <td>Female</td>\n",
       "      <td>189.000000</td>\n",
       "      <td>87.000000</td>\n",
       "      <td>98</td>\n",
       "      <td>123</td>\n",
       "      <td>275.000000</td>\n",
       "      <td>Mukund</td>\n",
       "      <td>Catherine</td>\n",
       "    </tr>\n",
       "    <tr>\n",
       "      <th>2</th>\n",
       "      <td>60</td>\n",
       "      <td>2022-03-16</td>\n",
       "      <td>Female</td>\n",
       "      <td>185.000000</td>\n",
       "      <td>110.000000</td>\n",
       "      <td>98</td>\n",
       "      <td>120</td>\n",
       "      <td>215.200000</td>\n",
       "      <td>Aswathy</td>\n",
       "      <td>Catherine</td>\n",
       "    </tr>\n",
       "    <tr>\n",
       "      <th>3</th>\n",
       "      <td>500</td>\n",
       "      <td>2022-03-16</td>\n",
       "      <td>Male</td>\n",
       "      <td>195.000000</td>\n",
       "      <td>104.000000</td>\n",
       "      <td>100</td>\n",
       "      <td>120</td>\n",
       "      <td>300.000000</td>\n",
       "      <td>Phil</td>\n",
       "      <td>Catherine</td>\n",
       "    </tr>\n",
       "    <tr>\n",
       "      <th>4</th>\n",
       "      <td>60</td>\n",
       "      <td>2022-03-16</td>\n",
       "      <td>Male</td>\n",
       "      <td>149.000000</td>\n",
       "      <td>61.000000</td>\n",
       "      <td>90</td>\n",
       "      <td>112</td>\n",
       "      <td>288.085714</td>\n",
       "      <td>Vince</td>\n",
       "      <td>Catherine</td>\n",
       "    </tr>\n",
       "    <tr>\n",
       "      <th>5</th>\n",
       "      <td>60</td>\n",
       "      <td>2022-03-16</td>\n",
       "      <td>Male</td>\n",
       "      <td>189.000000</td>\n",
       "      <td>104.000000</td>\n",
       "      <td>103</td>\n",
       "      <td>123</td>\n",
       "      <td>323.000000</td>\n",
       "      <td>Akshaya</td>\n",
       "      <td>Jony</td>\n",
       "    </tr>\n",
       "    <tr>\n",
       "      <th>6</th>\n",
       "      <td>60</td>\n",
       "      <td>2022-03-16</td>\n",
       "      <td>Male</td>\n",
       "      <td>147.000000</td>\n",
       "      <td>86.071429</td>\n",
       "      <td>97</td>\n",
       "      <td>125</td>\n",
       "      <td>243.000000</td>\n",
       "      <td>Ajay</td>\n",
       "      <td>Jony</td>\n",
       "    </tr>\n",
       "    <tr>\n",
       "      <th>7</th>\n",
       "      <td>60</td>\n",
       "      <td>2022-03-16</td>\n",
       "      <td>Male</td>\n",
       "      <td>172.928571</td>\n",
       "      <td>101.000000</td>\n",
       "      <td>108</td>\n",
       "      <td>131</td>\n",
       "      <td>364.200000</td>\n",
       "      <td>Jay</td>\n",
       "      <td>Jony</td>\n",
       "    </tr>\n",
       "    <tr>\n",
       "      <th>8</th>\n",
       "      <td>45</td>\n",
       "      <td>2022-03-16</td>\n",
       "      <td>Female</td>\n",
       "      <td>174.000000</td>\n",
       "      <td>90.000000</td>\n",
       "      <td>100</td>\n",
       "      <td>119</td>\n",
       "      <td>282.000000</td>\n",
       "      <td>Shyam</td>\n",
       "      <td>Catherine</td>\n",
       "    </tr>\n",
       "    <tr>\n",
       "      <th>9</th>\n",
       "      <td>50</td>\n",
       "      <td>2022-03-16</td>\n",
       "      <td>Male</td>\n",
       "      <td>169.000000</td>\n",
       "      <td>86.071429</td>\n",
       "      <td>130</td>\n",
       "      <td>101</td>\n",
       "      <td>300.000000</td>\n",
       "      <td>Neha</td>\n",
       "      <td>Catherine</td>\n",
       "    </tr>\n",
       "    <tr>\n",
       "      <th>10</th>\n",
       "      <td>450</td>\n",
       "      <td>2022-03-16</td>\n",
       "      <td>Female</td>\n",
       "      <td>172.928571</td>\n",
       "      <td>81.000000</td>\n",
       "      <td>105</td>\n",
       "      <td>132</td>\n",
       "      <td>246.000000</td>\n",
       "      <td>Mehru</td>\n",
       "      <td>Catherine</td>\n",
       "    </tr>\n",
       "    <tr>\n",
       "      <th>11</th>\n",
       "      <td>60</td>\n",
       "      <td>2022-03-16</td>\n",
       "      <td>Female</td>\n",
       "      <td>159.000000</td>\n",
       "      <td>80.000000</td>\n",
       "      <td>102</td>\n",
       "      <td>126</td>\n",
       "      <td>334.500000</td>\n",
       "      <td>Dipa</td>\n",
       "      <td>Catherine</td>\n",
       "    </tr>\n",
       "    <tr>\n",
       "      <th>12</th>\n",
       "      <td>450</td>\n",
       "      <td>2022-03-16</td>\n",
       "      <td>Male</td>\n",
       "      <td>192.000000</td>\n",
       "      <td>91.000000</td>\n",
       "      <td>100</td>\n",
       "      <td>120</td>\n",
       "      <td>250.000000</td>\n",
       "      <td>Jim</td>\n",
       "      <td>Jony</td>\n",
       "    </tr>\n",
       "    <tr>\n",
       "      <th>13</th>\n",
       "      <td>45</td>\n",
       "      <td>2022-03-16</td>\n",
       "      <td>Male</td>\n",
       "      <td>155.000000</td>\n",
       "      <td>51.000000</td>\n",
       "      <td>92</td>\n",
       "      <td>118</td>\n",
       "      <td>241.000000</td>\n",
       "      <td>Divya</td>\n",
       "      <td>Catherine</td>\n",
       "    </tr>\n",
       "    <tr>\n",
       "      <th>14</th>\n",
       "      <td>50</td>\n",
       "      <td>2022-03-16</td>\n",
       "      <td>Gender</td>\n",
       "      <td>191.000000</td>\n",
       "      <td>79.000000</td>\n",
       "      <td>103</td>\n",
       "      <td>132</td>\n",
       "      <td>288.085714</td>\n",
       "      <td>Liya</td>\n",
       "      <td>Catherine</td>\n",
       "    </tr>\n",
       "    <tr>\n",
       "      <th>15</th>\n",
       "      <td>60</td>\n",
       "      <td>2022-03-16</td>\n",
       "      <td>Male</td>\n",
       "      <td>153.000000</td>\n",
       "      <td>70.000000</td>\n",
       "      <td>97</td>\n",
       "      <td>132</td>\n",
       "      <td>280.000000</td>\n",
       "      <td>Jack</td>\n",
       "      <td>Jony</td>\n",
       "    </tr>\n",
       "  </tbody>\n",
       "</table>\n",
       "</div>"
      ],
      "text/plain": [
       "    Duration       Date  Gender      Height      Weight  Pulse  Maxpulse  \\\n",
       "0         60 2022-03-16    Male  174.000000   96.000000    104       132   \n",
       "1         60 2022-03-16  Female  189.000000   87.000000     98       123   \n",
       "2         60 2022-03-16  Female  185.000000  110.000000     98       120   \n",
       "3        500 2022-03-16    Male  195.000000  104.000000    100       120   \n",
       "4         60 2022-03-16    Male  149.000000   61.000000     90       112   \n",
       "5         60 2022-03-16    Male  189.000000  104.000000    103       123   \n",
       "6         60 2022-03-16    Male  147.000000   86.071429     97       125   \n",
       "7         60 2022-03-16    Male  172.928571  101.000000    108       131   \n",
       "8         45 2022-03-16  Female  174.000000   90.000000    100       119   \n",
       "9         50 2022-03-16    Male  169.000000   86.071429    130       101   \n",
       "10       450 2022-03-16  Female  172.928571   81.000000    105       132   \n",
       "11        60 2022-03-16  Female  159.000000   80.000000    102       126   \n",
       "12       450 2022-03-16    Male  192.000000   91.000000    100       120   \n",
       "13        45 2022-03-16    Male  155.000000   51.000000     92       118   \n",
       "14        50 2022-03-16  Gender  191.000000   79.000000    103       132   \n",
       "15        60 2022-03-16    Male  153.000000   70.000000     97       132   \n",
       "\n",
       "      Calories     Name      Doctor  \n",
       "0   379.300000  Christy   Catherine  \n",
       "1   275.000000   Mukund   Catherine  \n",
       "2   215.200000  Aswathy   Catherine  \n",
       "3   300.000000     Phil   Catherine  \n",
       "4   288.085714    Vince   Catherine  \n",
       "5   323.000000  Akshaya        Jony  \n",
       "6   243.000000     Ajay        Jony  \n",
       "7   364.200000      Jay        Jony  \n",
       "8   282.000000    Shyam   Catherine  \n",
       "9   300.000000     Neha   Catherine  \n",
       "10  246.000000    Mehru   Catherine  \n",
       "11  334.500000     Dipa   Catherine  \n",
       "12  250.000000      Jim        Jony  \n",
       "13  241.000000    Divya   Catherine  \n",
       "14  288.085714     Liya   Catherine  \n",
       "15  280.000000     Jack        Jony  "
      ]
     },
     "execution_count": 275,
     "metadata": {},
     "output_type": "execute_result"
    }
   ],
   "source": [
    "data.drop('Name Doctor',axis=1,inplace=True)\n",
    "data"
   ]
  },
  {
   "cell_type": "code",
   "execution_count": 276,
   "id": "ed92e421",
   "metadata": {},
   "outputs": [
    {
     "name": "stdout",
     "output_type": "stream",
     "text": [
      "<class 'pandas.core.frame.DataFrame'>\n",
      "RangeIndex: 16 entries, 0 to 15\n",
      "Data columns (total 10 columns):\n",
      " #   Column    Non-Null Count  Dtype         \n",
      "---  ------    --------------  -----         \n",
      " 0   Duration  16 non-null     int64         \n",
      " 1   Date      16 non-null     datetime64[ns]\n",
      " 2   Gender    16 non-null     object        \n",
      " 3   Height    16 non-null     float64       \n",
      " 4   Weight    16 non-null     float64       \n",
      " 5   Pulse     16 non-null     int64         \n",
      " 6   Maxpulse  16 non-null     int64         \n",
      " 7   Calories  16 non-null     float64       \n",
      " 8   Name      16 non-null     object        \n",
      " 9   Doctor    16 non-null     object        \n",
      "dtypes: datetime64[ns](1), float64(3), int64(3), object(3)\n",
      "memory usage: 1.4+ KB\n"
     ]
    }
   ],
   "source": [
    "data.info()"
   ]
  },
  {
   "cell_type": "code",
   "execution_count": 277,
   "id": "c86a1f98",
   "metadata": {},
   "outputs": [
    {
     "data": {
      "text/html": [
       "<div>\n",
       "<style scoped>\n",
       "    .dataframe tbody tr th:only-of-type {\n",
       "        vertical-align: middle;\n",
       "    }\n",
       "\n",
       "    .dataframe tbody tr th {\n",
       "        vertical-align: top;\n",
       "    }\n",
       "\n",
       "    .dataframe thead th {\n",
       "        text-align: right;\n",
       "    }\n",
       "</style>\n",
       "<table border=\"1\" class=\"dataframe\">\n",
       "  <thead>\n",
       "    <tr style=\"text-align: right;\">\n",
       "      <th></th>\n",
       "      <th>Duration</th>\n",
       "      <th>Date</th>\n",
       "      <th>Gender</th>\n",
       "      <th>Height</th>\n",
       "      <th>Weight</th>\n",
       "      <th>Pulse</th>\n",
       "      <th>Maxpulse</th>\n",
       "      <th>Calories</th>\n",
       "      <th>Name</th>\n",
       "      <th>Doctor</th>\n",
       "    </tr>\n",
       "  </thead>\n",
       "  <tbody>\n",
       "    <tr>\n",
       "      <th>0</th>\n",
       "      <td>60</td>\n",
       "      <td>2022-03-16</td>\n",
       "      <td>Male</td>\n",
       "      <td>174.000000</td>\n",
       "      <td>96.000000</td>\n",
       "      <td>104</td>\n",
       "      <td>132</td>\n",
       "      <td>379.300000</td>\n",
       "      <td>Christy</td>\n",
       "      <td>Catherine</td>\n",
       "    </tr>\n",
       "    <tr>\n",
       "      <th>1</th>\n",
       "      <td>60</td>\n",
       "      <td>2022-03-16</td>\n",
       "      <td>Female</td>\n",
       "      <td>189.000000</td>\n",
       "      <td>87.000000</td>\n",
       "      <td>98</td>\n",
       "      <td>123</td>\n",
       "      <td>275.000000</td>\n",
       "      <td>Mukund</td>\n",
       "      <td>Catherine</td>\n",
       "    </tr>\n",
       "    <tr>\n",
       "      <th>2</th>\n",
       "      <td>60</td>\n",
       "      <td>2022-03-16</td>\n",
       "      <td>Female</td>\n",
       "      <td>185.000000</td>\n",
       "      <td>110.000000</td>\n",
       "      <td>98</td>\n",
       "      <td>120</td>\n",
       "      <td>215.200000</td>\n",
       "      <td>Aswathy</td>\n",
       "      <td>Catherine</td>\n",
       "    </tr>\n",
       "    <tr>\n",
       "      <th>3</th>\n",
       "      <td>50</td>\n",
       "      <td>2022-03-16</td>\n",
       "      <td>Male</td>\n",
       "      <td>195.000000</td>\n",
       "      <td>104.000000</td>\n",
       "      <td>100</td>\n",
       "      <td>120</td>\n",
       "      <td>300.000000</td>\n",
       "      <td>Phil</td>\n",
       "      <td>Catherine</td>\n",
       "    </tr>\n",
       "    <tr>\n",
       "      <th>4</th>\n",
       "      <td>60</td>\n",
       "      <td>2022-03-16</td>\n",
       "      <td>Male</td>\n",
       "      <td>149.000000</td>\n",
       "      <td>61.000000</td>\n",
       "      <td>90</td>\n",
       "      <td>112</td>\n",
       "      <td>288.085714</td>\n",
       "      <td>Vince</td>\n",
       "      <td>Catherine</td>\n",
       "    </tr>\n",
       "    <tr>\n",
       "      <th>5</th>\n",
       "      <td>60</td>\n",
       "      <td>2022-03-16</td>\n",
       "      <td>Male</td>\n",
       "      <td>189.000000</td>\n",
       "      <td>104.000000</td>\n",
       "      <td>103</td>\n",
       "      <td>123</td>\n",
       "      <td>323.000000</td>\n",
       "      <td>Akshaya</td>\n",
       "      <td>Jony</td>\n",
       "    </tr>\n",
       "    <tr>\n",
       "      <th>6</th>\n",
       "      <td>60</td>\n",
       "      <td>2022-03-16</td>\n",
       "      <td>Male</td>\n",
       "      <td>147.000000</td>\n",
       "      <td>86.071429</td>\n",
       "      <td>97</td>\n",
       "      <td>125</td>\n",
       "      <td>243.000000</td>\n",
       "      <td>Ajay</td>\n",
       "      <td>Jony</td>\n",
       "    </tr>\n",
       "    <tr>\n",
       "      <th>7</th>\n",
       "      <td>60</td>\n",
       "      <td>2022-03-16</td>\n",
       "      <td>Male</td>\n",
       "      <td>172.928571</td>\n",
       "      <td>101.000000</td>\n",
       "      <td>108</td>\n",
       "      <td>131</td>\n",
       "      <td>364.200000</td>\n",
       "      <td>Jay</td>\n",
       "      <td>Jony</td>\n",
       "    </tr>\n",
       "    <tr>\n",
       "      <th>8</th>\n",
       "      <td>45</td>\n",
       "      <td>2022-03-16</td>\n",
       "      <td>Female</td>\n",
       "      <td>174.000000</td>\n",
       "      <td>90.000000</td>\n",
       "      <td>100</td>\n",
       "      <td>119</td>\n",
       "      <td>282.000000</td>\n",
       "      <td>Shyam</td>\n",
       "      <td>Catherine</td>\n",
       "    </tr>\n",
       "    <tr>\n",
       "      <th>9</th>\n",
       "      <td>50</td>\n",
       "      <td>2022-03-16</td>\n",
       "      <td>Male</td>\n",
       "      <td>169.000000</td>\n",
       "      <td>86.071429</td>\n",
       "      <td>130</td>\n",
       "      <td>101</td>\n",
       "      <td>300.000000</td>\n",
       "      <td>Neha</td>\n",
       "      <td>Catherine</td>\n",
       "    </tr>\n",
       "    <tr>\n",
       "      <th>10</th>\n",
       "      <td>45</td>\n",
       "      <td>2022-03-16</td>\n",
       "      <td>Female</td>\n",
       "      <td>172.928571</td>\n",
       "      <td>81.000000</td>\n",
       "      <td>105</td>\n",
       "      <td>132</td>\n",
       "      <td>246.000000</td>\n",
       "      <td>Mehru</td>\n",
       "      <td>Catherine</td>\n",
       "    </tr>\n",
       "    <tr>\n",
       "      <th>11</th>\n",
       "      <td>60</td>\n",
       "      <td>2022-03-16</td>\n",
       "      <td>Female</td>\n",
       "      <td>159.000000</td>\n",
       "      <td>80.000000</td>\n",
       "      <td>102</td>\n",
       "      <td>126</td>\n",
       "      <td>334.500000</td>\n",
       "      <td>Dipa</td>\n",
       "      <td>Catherine</td>\n",
       "    </tr>\n",
       "    <tr>\n",
       "      <th>12</th>\n",
       "      <td>45</td>\n",
       "      <td>2022-03-16</td>\n",
       "      <td>Male</td>\n",
       "      <td>192.000000</td>\n",
       "      <td>91.000000</td>\n",
       "      <td>100</td>\n",
       "      <td>120</td>\n",
       "      <td>250.000000</td>\n",
       "      <td>Jim</td>\n",
       "      <td>Jony</td>\n",
       "    </tr>\n",
       "    <tr>\n",
       "      <th>13</th>\n",
       "      <td>45</td>\n",
       "      <td>2022-03-16</td>\n",
       "      <td>Male</td>\n",
       "      <td>155.000000</td>\n",
       "      <td>51.000000</td>\n",
       "      <td>92</td>\n",
       "      <td>118</td>\n",
       "      <td>241.000000</td>\n",
       "      <td>Divya</td>\n",
       "      <td>Catherine</td>\n",
       "    </tr>\n",
       "    <tr>\n",
       "      <th>14</th>\n",
       "      <td>50</td>\n",
       "      <td>2022-03-16</td>\n",
       "      <td>Gender</td>\n",
       "      <td>191.000000</td>\n",
       "      <td>79.000000</td>\n",
       "      <td>103</td>\n",
       "      <td>132</td>\n",
       "      <td>288.085714</td>\n",
       "      <td>Liya</td>\n",
       "      <td>Catherine</td>\n",
       "    </tr>\n",
       "    <tr>\n",
       "      <th>15</th>\n",
       "      <td>60</td>\n",
       "      <td>2022-03-16</td>\n",
       "      <td>Male</td>\n",
       "      <td>153.000000</td>\n",
       "      <td>70.000000</td>\n",
       "      <td>97</td>\n",
       "      <td>132</td>\n",
       "      <td>280.000000</td>\n",
       "      <td>Jack</td>\n",
       "      <td>Jony</td>\n",
       "    </tr>\n",
       "  </tbody>\n",
       "</table>\n",
       "</div>"
      ],
      "text/plain": [
       "    Duration       Date  Gender      Height      Weight  Pulse  Maxpulse  \\\n",
       "0         60 2022-03-16    Male  174.000000   96.000000    104       132   \n",
       "1         60 2022-03-16  Female  189.000000   87.000000     98       123   \n",
       "2         60 2022-03-16  Female  185.000000  110.000000     98       120   \n",
       "3         50 2022-03-16    Male  195.000000  104.000000    100       120   \n",
       "4         60 2022-03-16    Male  149.000000   61.000000     90       112   \n",
       "5         60 2022-03-16    Male  189.000000  104.000000    103       123   \n",
       "6         60 2022-03-16    Male  147.000000   86.071429     97       125   \n",
       "7         60 2022-03-16    Male  172.928571  101.000000    108       131   \n",
       "8         45 2022-03-16  Female  174.000000   90.000000    100       119   \n",
       "9         50 2022-03-16    Male  169.000000   86.071429    130       101   \n",
       "10        45 2022-03-16  Female  172.928571   81.000000    105       132   \n",
       "11        60 2022-03-16  Female  159.000000   80.000000    102       126   \n",
       "12        45 2022-03-16    Male  192.000000   91.000000    100       120   \n",
       "13        45 2022-03-16    Male  155.000000   51.000000     92       118   \n",
       "14        50 2022-03-16  Gender  191.000000   79.000000    103       132   \n",
       "15        60 2022-03-16    Male  153.000000   70.000000     97       132   \n",
       "\n",
       "      Calories     Name      Doctor  \n",
       "0   379.300000  Christy   Catherine  \n",
       "1   275.000000   Mukund   Catherine  \n",
       "2   215.200000  Aswathy   Catherine  \n",
       "3   300.000000     Phil   Catherine  \n",
       "4   288.085714    Vince   Catherine  \n",
       "5   323.000000  Akshaya        Jony  \n",
       "6   243.000000     Ajay        Jony  \n",
       "7   364.200000      Jay        Jony  \n",
       "8   282.000000    Shyam   Catherine  \n",
       "9   300.000000     Neha   Catherine  \n",
       "10  246.000000    Mehru   Catherine  \n",
       "11  334.500000     Dipa   Catherine  \n",
       "12  250.000000      Jim        Jony  \n",
       "13  241.000000    Divya   Catherine  \n",
       "14  288.085714     Liya   Catherine  \n",
       "15  280.000000     Jack        Jony  "
      ]
     },
     "execution_count": 277,
     "metadata": {},
     "output_type": "execute_result"
    }
   ],
   "source": [
    "data.loc[data['Duration']>100,'Duration']=(data.loc[data['Duration']>100,'Duration'].astype(float)/10).astype(int)\n",
    "#replacing incorrect values in Duration by correct values.\n",
    "data"
   ]
  },
  {
   "cell_type": "code",
   "execution_count": 278,
   "id": "79bcf5aa",
   "metadata": {},
   "outputs": [
    {
     "data": {
      "text/html": [
       "<div>\n",
       "<style scoped>\n",
       "    .dataframe tbody tr th:only-of-type {\n",
       "        vertical-align: middle;\n",
       "    }\n",
       "\n",
       "    .dataframe tbody tr th {\n",
       "        vertical-align: top;\n",
       "    }\n",
       "\n",
       "    .dataframe thead th {\n",
       "        text-align: right;\n",
       "    }\n",
       "</style>\n",
       "<table border=\"1\" class=\"dataframe\">\n",
       "  <thead>\n",
       "    <tr style=\"text-align: right;\">\n",
       "      <th></th>\n",
       "      <th>Duration</th>\n",
       "      <th>Date</th>\n",
       "      <th>Gender</th>\n",
       "      <th>Height</th>\n",
       "      <th>Weight</th>\n",
       "      <th>Pulse</th>\n",
       "      <th>Maxpulse</th>\n",
       "      <th>Calories</th>\n",
       "      <th>Name</th>\n",
       "      <th>Doctor</th>\n",
       "    </tr>\n",
       "  </thead>\n",
       "  <tbody>\n",
       "    <tr>\n",
       "      <th>0</th>\n",
       "      <td>60</td>\n",
       "      <td>2022-03-16</td>\n",
       "      <td>Male</td>\n",
       "      <td>174.000000</td>\n",
       "      <td>96.000000</td>\n",
       "      <td>104</td>\n",
       "      <td>132</td>\n",
       "      <td>379.300000</td>\n",
       "      <td>Christy</td>\n",
       "      <td>Catherine</td>\n",
       "    </tr>\n",
       "    <tr>\n",
       "      <th>1</th>\n",
       "      <td>60</td>\n",
       "      <td>2022-03-16</td>\n",
       "      <td>Female</td>\n",
       "      <td>189.000000</td>\n",
       "      <td>87.000000</td>\n",
       "      <td>98</td>\n",
       "      <td>123</td>\n",
       "      <td>275.000000</td>\n",
       "      <td>Mukund</td>\n",
       "      <td>Catherine</td>\n",
       "    </tr>\n",
       "    <tr>\n",
       "      <th>2</th>\n",
       "      <td>60</td>\n",
       "      <td>2022-03-16</td>\n",
       "      <td>Female</td>\n",
       "      <td>185.000000</td>\n",
       "      <td>110.000000</td>\n",
       "      <td>98</td>\n",
       "      <td>120</td>\n",
       "      <td>215.200000</td>\n",
       "      <td>Aswathy</td>\n",
       "      <td>Catherine</td>\n",
       "    </tr>\n",
       "    <tr>\n",
       "      <th>3</th>\n",
       "      <td>50</td>\n",
       "      <td>2022-03-16</td>\n",
       "      <td>Male</td>\n",
       "      <td>195.000000</td>\n",
       "      <td>104.000000</td>\n",
       "      <td>100</td>\n",
       "      <td>120</td>\n",
       "      <td>300.000000</td>\n",
       "      <td>Phil</td>\n",
       "      <td>Catherine</td>\n",
       "    </tr>\n",
       "    <tr>\n",
       "      <th>4</th>\n",
       "      <td>60</td>\n",
       "      <td>2022-03-16</td>\n",
       "      <td>Male</td>\n",
       "      <td>149.000000</td>\n",
       "      <td>61.000000</td>\n",
       "      <td>90</td>\n",
       "      <td>112</td>\n",
       "      <td>288.085714</td>\n",
       "      <td>Vince</td>\n",
       "      <td>Catherine</td>\n",
       "    </tr>\n",
       "    <tr>\n",
       "      <th>5</th>\n",
       "      <td>60</td>\n",
       "      <td>2022-03-16</td>\n",
       "      <td>Male</td>\n",
       "      <td>189.000000</td>\n",
       "      <td>104.000000</td>\n",
       "      <td>103</td>\n",
       "      <td>123</td>\n",
       "      <td>323.000000</td>\n",
       "      <td>Akshaya</td>\n",
       "      <td>Jony</td>\n",
       "    </tr>\n",
       "    <tr>\n",
       "      <th>6</th>\n",
       "      <td>60</td>\n",
       "      <td>2022-03-16</td>\n",
       "      <td>Male</td>\n",
       "      <td>147.000000</td>\n",
       "      <td>86.071429</td>\n",
       "      <td>97</td>\n",
       "      <td>125</td>\n",
       "      <td>243.000000</td>\n",
       "      <td>Ajay</td>\n",
       "      <td>Jony</td>\n",
       "    </tr>\n",
       "    <tr>\n",
       "      <th>7</th>\n",
       "      <td>60</td>\n",
       "      <td>2022-03-16</td>\n",
       "      <td>Male</td>\n",
       "      <td>172.928571</td>\n",
       "      <td>101.000000</td>\n",
       "      <td>108</td>\n",
       "      <td>131</td>\n",
       "      <td>364.200000</td>\n",
       "      <td>Jay</td>\n",
       "      <td>Jony</td>\n",
       "    </tr>\n",
       "    <tr>\n",
       "      <th>8</th>\n",
       "      <td>45</td>\n",
       "      <td>2022-03-16</td>\n",
       "      <td>Female</td>\n",
       "      <td>174.000000</td>\n",
       "      <td>90.000000</td>\n",
       "      <td>100</td>\n",
       "      <td>119</td>\n",
       "      <td>282.000000</td>\n",
       "      <td>Shyam</td>\n",
       "      <td>Catherine</td>\n",
       "    </tr>\n",
       "    <tr>\n",
       "      <th>9</th>\n",
       "      <td>50</td>\n",
       "      <td>2022-03-16</td>\n",
       "      <td>Male</td>\n",
       "      <td>169.000000</td>\n",
       "      <td>86.071429</td>\n",
       "      <td>130</td>\n",
       "      <td>101</td>\n",
       "      <td>300.000000</td>\n",
       "      <td>Neha</td>\n",
       "      <td>Catherine</td>\n",
       "    </tr>\n",
       "    <tr>\n",
       "      <th>10</th>\n",
       "      <td>45</td>\n",
       "      <td>2022-03-16</td>\n",
       "      <td>Female</td>\n",
       "      <td>172.928571</td>\n",
       "      <td>81.000000</td>\n",
       "      <td>105</td>\n",
       "      <td>132</td>\n",
       "      <td>246.000000</td>\n",
       "      <td>Mehru</td>\n",
       "      <td>Catherine</td>\n",
       "    </tr>\n",
       "    <tr>\n",
       "      <th>11</th>\n",
       "      <td>60</td>\n",
       "      <td>2022-03-16</td>\n",
       "      <td>Female</td>\n",
       "      <td>159.000000</td>\n",
       "      <td>80.000000</td>\n",
       "      <td>102</td>\n",
       "      <td>126</td>\n",
       "      <td>334.500000</td>\n",
       "      <td>Dipa</td>\n",
       "      <td>Catherine</td>\n",
       "    </tr>\n",
       "    <tr>\n",
       "      <th>12</th>\n",
       "      <td>45</td>\n",
       "      <td>2022-03-16</td>\n",
       "      <td>Male</td>\n",
       "      <td>192.000000</td>\n",
       "      <td>91.000000</td>\n",
       "      <td>100</td>\n",
       "      <td>120</td>\n",
       "      <td>250.000000</td>\n",
       "      <td>Jim</td>\n",
       "      <td>Jony</td>\n",
       "    </tr>\n",
       "    <tr>\n",
       "      <th>13</th>\n",
       "      <td>45</td>\n",
       "      <td>2022-03-16</td>\n",
       "      <td>Male</td>\n",
       "      <td>155.000000</td>\n",
       "      <td>51.000000</td>\n",
       "      <td>92</td>\n",
       "      <td>118</td>\n",
       "      <td>241.000000</td>\n",
       "      <td>Divya</td>\n",
       "      <td>Catherine</td>\n",
       "    </tr>\n",
       "    <tr>\n",
       "      <th>14</th>\n",
       "      <td>50</td>\n",
       "      <td>2022-03-16</td>\n",
       "      <td>Female</td>\n",
       "      <td>191.000000</td>\n",
       "      <td>79.000000</td>\n",
       "      <td>103</td>\n",
       "      <td>132</td>\n",
       "      <td>288.085714</td>\n",
       "      <td>Liya</td>\n",
       "      <td>Catherine</td>\n",
       "    </tr>\n",
       "    <tr>\n",
       "      <th>15</th>\n",
       "      <td>60</td>\n",
       "      <td>2022-03-16</td>\n",
       "      <td>Male</td>\n",
       "      <td>153.000000</td>\n",
       "      <td>70.000000</td>\n",
       "      <td>97</td>\n",
       "      <td>132</td>\n",
       "      <td>280.000000</td>\n",
       "      <td>Jack</td>\n",
       "      <td>Jony</td>\n",
       "    </tr>\n",
       "  </tbody>\n",
       "</table>\n",
       "</div>"
      ],
      "text/plain": [
       "    Duration       Date  Gender      Height      Weight  Pulse  Maxpulse  \\\n",
       "0         60 2022-03-16    Male  174.000000   96.000000    104       132   \n",
       "1         60 2022-03-16  Female  189.000000   87.000000     98       123   \n",
       "2         60 2022-03-16  Female  185.000000  110.000000     98       120   \n",
       "3         50 2022-03-16    Male  195.000000  104.000000    100       120   \n",
       "4         60 2022-03-16    Male  149.000000   61.000000     90       112   \n",
       "5         60 2022-03-16    Male  189.000000  104.000000    103       123   \n",
       "6         60 2022-03-16    Male  147.000000   86.071429     97       125   \n",
       "7         60 2022-03-16    Male  172.928571  101.000000    108       131   \n",
       "8         45 2022-03-16  Female  174.000000   90.000000    100       119   \n",
       "9         50 2022-03-16    Male  169.000000   86.071429    130       101   \n",
       "10        45 2022-03-16  Female  172.928571   81.000000    105       132   \n",
       "11        60 2022-03-16  Female  159.000000   80.000000    102       126   \n",
       "12        45 2022-03-16    Male  192.000000   91.000000    100       120   \n",
       "13        45 2022-03-16    Male  155.000000   51.000000     92       118   \n",
       "14        50 2022-03-16  Female  191.000000   79.000000    103       132   \n",
       "15        60 2022-03-16    Male  153.000000   70.000000     97       132   \n",
       "\n",
       "      Calories     Name      Doctor  \n",
       "0   379.300000  Christy   Catherine  \n",
       "1   275.000000   Mukund   Catherine  \n",
       "2   215.200000  Aswathy   Catherine  \n",
       "3   300.000000     Phil   Catherine  \n",
       "4   288.085714    Vince   Catherine  \n",
       "5   323.000000  Akshaya        Jony  \n",
       "6   243.000000     Ajay        Jony  \n",
       "7   364.200000      Jay        Jony  \n",
       "8   282.000000    Shyam   Catherine  \n",
       "9   300.000000     Neha   Catherine  \n",
       "10  246.000000    Mehru   Catherine  \n",
       "11  334.500000     Dipa   Catherine  \n",
       "12  250.000000      Jim        Jony  \n",
       "13  241.000000    Divya   Catherine  \n",
       "14  288.085714     Liya   Catherine  \n",
       "15  280.000000     Jack        Jony  "
      ]
     },
     "execution_count": 278,
     "metadata": {},
     "output_type": "execute_result"
    }
   ],
   "source": [
    "data.loc[data['Gender']=='Gender','Gender']='Female'\n",
    "data\n",
    "#replacing incorrect value in Gender by correct value.\n"
   ]
  },
  {
   "cell_type": "markdown",
   "id": "d0664db4",
   "metadata": {},
   "source": [
    "# "
   ]
  },
  {
   "cell_type": "markdown",
   "id": "54ef4182",
   "metadata": {},
   "source": [
    "# Nominal Analysis"
   ]
  },
  {
   "cell_type": "code",
   "execution_count": 279,
   "id": "d7d95bc4",
   "metadata": {},
   "outputs": [],
   "source": [
    "import seaborn as sns\n",
    "import matplotlib.pyplot as plt"
   ]
  },
  {
   "cell_type": "code",
   "execution_count": 280,
   "id": "a1fd95a3",
   "metadata": {},
   "outputs": [
    {
     "data": {
      "text/plain": [
       " Catherine    11\n",
       " Jony          5\n",
       "Name: Doctor, dtype: int64"
      ]
     },
     "execution_count": 280,
     "metadata": {},
     "output_type": "execute_result"
    }
   ],
   "source": [
    "data['Doctor'].value_counts()"
   ]
  },
  {
   "cell_type": "code",
   "execution_count": 281,
   "id": "b1e9df9d",
   "metadata": {},
   "outputs": [
    {
     "data": {
      "text/plain": [
       "<Axes: xlabel='Doctor', ylabel='count'>"
      ]
     },
     "execution_count": 281,
     "metadata": {},
     "output_type": "execute_result"
    },
    {
     "data": {
      "image/png": "[encoded data removed]",
      "text/plain": [
       "<Figure size 640x480 with 1 Axes>"
      ]
     },
     "metadata": {},
     "output_type": "display_data"
    }
   ],
   "source": [
    "sns.countplot(x='Doctor',data=data)"
   ]
  },
  {
   "cell_type": "raw",
   "id": "742a20f2",
   "metadata": {},
   "source": [
    "Catherine Doctor treated more patients than Jony Doctor."
   ]
  },
  {
   "cell_type": "code",
   "execution_count": 282,
   "id": "d1cc4201",
   "metadata": {},
   "outputs": [
    {
     "data": {
      "text/plain": [
       "<Axes: xlabel='Gender', ylabel='count'>"
      ]
     },
     "execution_count": 282,
     "metadata": {},
     "output_type": "execute_result"
    },
    {
     "data": {
      "image/png": "[encoded data removed]",
      "text/plain": [
       "<Figure size 640x480 with 1 Axes>"
      ]
     },
     "metadata": {},
     "output_type": "display_data"
    }
   ],
   "source": [
    "sns.countplot(x='Gender',data=data)"
   ]
  },
  {
   "cell_type": "raw",
   "id": "916684b0",
   "metadata": {},
   "source": [
    "There are more Male patients than Female."
   ]
  },
  {
   "cell_type": "code",
   "execution_count": 283,
   "id": "d300d0c5",
   "metadata": {},
   "outputs": [
    {
     "data": {
      "text/plain": [
       "<Axes: xlabel='Duration', ylabel='count'>"
      ]
     },
     "execution_count": 283,
     "metadata": {},
     "output_type": "execute_result"
    },
    {
     "data": {
      "image/png": "[encoded data removed]",
      "text/plain": [
       "<Figure size 640x480 with 1 Axes>"
      ]
     },
     "metadata": {},
     "output_type": "display_data"
    }
   ],
   "source": [
    "sns.countplot(x='Duration',data=data)"
   ]
  },
  {
   "cell_type": "code",
   "execution_count": 284,
   "id": "eb1dfda4",
   "metadata": {},
   "outputs": [
    {
     "data": {
      "text/plain": [
       "<Axes: xlabel='Doctor', ylabel='count'>"
      ]
     },
     "execution_count": 284,
     "metadata": {},
     "output_type": "execute_result"
    },
    {
     "data": {
      "image/png": "[encoded data removed]",
      "text/plain": [
       "<Figure size 640x480 with 1 Axes>"
      ]
     },
     "metadata": {},
     "output_type": "display_data"
    }
   ],
   "source": [
    "sns.countplot(x='Doctor',hue='Gender',data=data)"
   ]
  },
  {
   "cell_type": "raw",
   "id": "7c8af51d",
   "metadata": {},
   "source": [
    "Catherine Doctor treated both Female and Male patients .Jony Doctor treated only Male patients."
   ]
  },
  {
   "cell_type": "code",
   "execution_count": 285,
   "id": "61fbc75a",
   "metadata": {},
   "outputs": [
    {
     "data": {
      "text/plain": [
       "<Axes: xlabel='Gender', ylabel='count'>"
      ]
     },
     "execution_count": 285,
     "metadata": {},
     "output_type": "execute_result"
    },
    {
     "data": {
      "image/png": "[encoded data removed]",
      "text/plain": [
       "<Figure size 640x480 with 1 Axes>"
      ]
     },
     "metadata": {},
     "output_type": "display_data"
    }
   ],
   "source": [
    "sns.countplot(x='Gender',hue='Duration',data=data)"
   ]
  },
  {
   "cell_type": "code",
   "execution_count": 286,
   "id": "fb8c2999",
   "metadata": {},
   "outputs": [
    {
     "data": {
      "text/plain": [
       "<Axes: xlabel='Doctor', ylabel='count'>"
      ]
     },
     "execution_count": 286,
     "metadata": {},
     "output_type": "execute_result"
    },
    {
     "data": {
      "image/png": "[encoded data removed]",
      "text/plain": [
       "<Figure size 640x480 with 1 Axes>"
      ]
     },
     "metadata": {},
     "output_type": "display_data"
    }
   ],
   "source": [
    "sns.countplot(x='Doctor',hue='Duration',data=data)"
   ]
  },
  {
   "cell_type": "code",
   "execution_count": 287,
   "id": "5f0c2055",
   "metadata": {},
   "outputs": [
    {
     "data": {
      "text/plain": [
       "<Axes: xlabel='Gender', ylabel='Height'>"
      ]
     },
     "execution_count": 287,
     "metadata": {},
     "output_type": "execute_result"
    },
    {
     "data": {
      "image/png": "[encoded data removed]",
      "text/plain": [
       "<Figure size 640x480 with 1 Axes>"
      ]
     },
     "metadata": {},
     "output_type": "display_data"
    }
   ],
   "source": [
    "sns.barplot(x='Gender',y='Height',data=data)\n",
    "     "
   ]
  },
  {
   "cell_type": "code",
   "execution_count": 288,
   "id": "589dce4e",
   "metadata": {},
   "outputs": [
    {
     "data": {
      "text/plain": [
       "<Axes: xlabel='Gender', ylabel='Weight'>"
      ]
     },
     "execution_count": 288,
     "metadata": {},
     "output_type": "execute_result"
    },
    {
     "data": {
      "image/png": "[encoded data removed]",
      "text/plain": [
       "<Figure size 640x480 with 1 Axes>"
      ]
     },
     "metadata": {},
     "output_type": "display_data"
    }
   ],
   "source": [
    "sns.barplot(x='Gender',y='Weight',data=data)\n",
    "     "
   ]
  },
  {
   "cell_type": "code",
   "execution_count": 289,
   "id": "e7113a4d",
   "metadata": {},
   "outputs": [
    {
     "data": {
      "text/plain": [
       "<Axes: xlabel='Gender', ylabel='Pulse'>"
      ]
     },
     "execution_count": 289,
     "metadata": {},
     "output_type": "execute_result"
    },
    {
     "data": {
      "image/png": "[encoded data removed]",
      "text/plain": [
       "<Figure size 640x480 with 1 Axes>"
      ]
     },
     "metadata": {},
     "output_type": "display_data"
    }
   ],
   "source": [
    "sns.barplot(x='Gender',y='Pulse',data=data)"
   ]
  },
  {
   "cell_type": "code",
   "execution_count": 290,
   "id": "a39f70ea",
   "metadata": {},
   "outputs": [
    {
     "data": {
      "text/plain": [
       "<Axes: xlabel='Gender', ylabel='Maxpulse'>"
      ]
     },
     "execution_count": 290,
     "metadata": {},
     "output_type": "execute_result"
    },
    {
     "data": {
      "image/png": "[encoded data removed]",
      "text/plain": [
       "<Figure size 640x480 with 1 Axes>"
      ]
     },
     "metadata": {},
     "output_type": "display_data"
    }
   ],
   "source": [
    "sns.barplot(x='Gender',y='Maxpulse',data=data)"
   ]
  },
  {
   "cell_type": "code",
   "execution_count": 291,
   "id": "c496783c",
   "metadata": {},
   "outputs": [
    {
     "data": {
      "text/plain": [
       "<Axes: xlabel='Gender', ylabel='Calories'>"
      ]
     },
     "execution_count": 291,
     "metadata": {},
     "output_type": "execute_result"
    },
    {
     "data": {
      "image/png": "[encoded data removed]",
      "text/plain": [
       "<Figure size 640x480 with 1 Axes>"
      ]
     },
     "metadata": {},
     "output_type": "display_data"
    }
   ],
   "source": [
    "sns.barplot(x='Gender',y='Calories',data=data)"
   ]
  },
  {
   "cell_type": "markdown",
   "id": "b2a39f6f",
   "metadata": {},
   "source": [
    "# Continuous Analysis"
   ]
  },
  {
   "cell_type": "code",
   "execution_count": 292,
   "id": "fed4d25e",
   "metadata": {},
   "outputs": [
    {
     "data": {
      "text/html": [
       "<div>\n",
       "<style scoped>\n",
       "    .dataframe tbody tr th:only-of-type {\n",
       "        vertical-align: middle;\n",
       "    }\n",
       "\n",
       "    .dataframe tbody tr th {\n",
       "        vertical-align: top;\n",
       "    }\n",
       "\n",
       "    .dataframe thead th {\n",
       "        text-align: right;\n",
       "    }\n",
       "</style>\n",
       "<table border=\"1\" class=\"dataframe\">\n",
       "  <thead>\n",
       "    <tr style=\"text-align: right;\">\n",
       "      <th></th>\n",
       "      <th>Duration</th>\n",
       "      <th>Height</th>\n",
       "      <th>Weight</th>\n",
       "      <th>Pulse</th>\n",
       "      <th>Maxpulse</th>\n",
       "      <th>Calories</th>\n",
       "    </tr>\n",
       "  </thead>\n",
       "  <tbody>\n",
       "    <tr>\n",
       "      <th>count</th>\n",
       "      <td>16.000000</td>\n",
       "      <td>16.000000</td>\n",
       "      <td>16.000000</td>\n",
       "      <td>16.000000</td>\n",
       "      <td>16.000000</td>\n",
       "      <td>16.000000</td>\n",
       "    </tr>\n",
       "    <tr>\n",
       "      <th>mean</th>\n",
       "      <td>54.375000</td>\n",
       "      <td>172.928571</td>\n",
       "      <td>86.071429</td>\n",
       "      <td>101.687500</td>\n",
       "      <td>122.875000</td>\n",
       "      <td>288.085714</td>\n",
       "    </tr>\n",
       "    <tr>\n",
       "      <th>std</th>\n",
       "      <td>6.800735</td>\n",
       "      <td>16.360376</td>\n",
       "      <td>15.930952</td>\n",
       "      <td>8.837185</td>\n",
       "      <td>8.460693</td>\n",
       "      <td>45.334400</td>\n",
       "    </tr>\n",
       "    <tr>\n",
       "      <th>min</th>\n",
       "      <td>45.000000</td>\n",
       "      <td>147.000000</td>\n",
       "      <td>51.000000</td>\n",
       "      <td>90.000000</td>\n",
       "      <td>101.000000</td>\n",
       "      <td>215.200000</td>\n",
       "    </tr>\n",
       "    <tr>\n",
       "      <th>25%</th>\n",
       "      <td>48.750000</td>\n",
       "      <td>158.000000</td>\n",
       "      <td>79.750000</td>\n",
       "      <td>97.750000</td>\n",
       "      <td>119.750000</td>\n",
       "      <td>249.000000</td>\n",
       "    </tr>\n",
       "    <tr>\n",
       "      <th>50%</th>\n",
       "      <td>60.000000</td>\n",
       "      <td>173.464286</td>\n",
       "      <td>86.535714</td>\n",
       "      <td>100.000000</td>\n",
       "      <td>123.000000</td>\n",
       "      <td>285.042857</td>\n",
       "    </tr>\n",
       "    <tr>\n",
       "      <th>75%</th>\n",
       "      <td>60.000000</td>\n",
       "      <td>189.000000</td>\n",
       "      <td>97.250000</td>\n",
       "      <td>103.250000</td>\n",
       "      <td>131.250000</td>\n",
       "      <td>305.750000</td>\n",
       "    </tr>\n",
       "    <tr>\n",
       "      <th>max</th>\n",
       "      <td>60.000000</td>\n",
       "      <td>195.000000</td>\n",
       "      <td>110.000000</td>\n",
       "      <td>130.000000</td>\n",
       "      <td>132.000000</td>\n",
       "      <td>379.300000</td>\n",
       "    </tr>\n",
       "  </tbody>\n",
       "</table>\n",
       "</div>"
      ],
      "text/plain": [
       "        Duration      Height      Weight       Pulse    Maxpulse    Calories\n",
       "count  16.000000   16.000000   16.000000   16.000000   16.000000   16.000000\n",
       "mean   54.375000  172.928571   86.071429  101.687500  122.875000  288.085714\n",
       "std     6.800735   16.360376   15.930952    8.837185    8.460693   45.334400\n",
       "min    45.000000  147.000000   51.000000   90.000000  101.000000  215.200000\n",
       "25%    48.750000  158.000000   79.750000   97.750000  119.750000  249.000000\n",
       "50%    60.000000  173.464286   86.535714  100.000000  123.000000  285.042857\n",
       "75%    60.000000  189.000000   97.250000  103.250000  131.250000  305.750000\n",
       "max    60.000000  195.000000  110.000000  130.000000  132.000000  379.300000"
      ]
     },
     "execution_count": 292,
     "metadata": {},
     "output_type": "execute_result"
    }
   ],
   "source": [
    "data.describe()"
   ]
  },
  {
   "cell_type": "code",
   "execution_count": 293,
   "id": "d5161af2",
   "metadata": {},
   "outputs": [
    {
     "data": {
      "text/plain": [
       "<Axes: ylabel='Frequency'>"
      ]
     },
     "execution_count": 293,
     "metadata": {},
     "output_type": "execute_result"
    },
    {
     "data": {
      "image/png": "[encoded data removed]",
      "text/plain": [
       "<Figure size 640x480 with 1 Axes>"
      ]
     },
     "metadata": {},
     "output_type": "display_data"
    }
   ],
   "source": [
    "data['Height'].plot.hist()"
   ]
  },
  {
   "cell_type": "code",
   "execution_count": 294,
   "id": "ced63604",
   "metadata": {},
   "outputs": [
    {
     "data": {
      "text/plain": [
       "<Axes: ylabel='Height'>"
      ]
     },
     "execution_count": 294,
     "metadata": {},
     "output_type": "execute_result"
    },
    {
     "data": {
      "image/png": "[encoded data removed]",
      "text/plain": [
       "<Figure size 640x480 with 1 Axes>"
      ]
     },
     "metadata": {},
     "output_type": "display_data"
    }
   ],
   "source": [
    "sns.boxplot(y=data['Height'])"
   ]
  },
  {
   "cell_type": "code",
   "execution_count": 295,
   "id": "142a5cbc",
   "metadata": {},
   "outputs": [
    {
     "data": {
      "text/plain": [
       "<Axes: ylabel='Frequency'>"
      ]
     },
     "execution_count": 295,
     "metadata": {},
     "output_type": "execute_result"
    },
    {
     "data": {
      "image/png": "[encoded data removed]",
      "text/plain": [
       "<Figure size 640x480 with 1 Axes>"
      ]
     },
     "metadata": {},
     "output_type": "display_data"
    }
   ],
   "source": [
    "data['Weight'].plot.hist()"
   ]
  },
  {
   "cell_type": "code",
   "execution_count": 296,
   "id": "986c8473",
   "metadata": {},
   "outputs": [
    {
     "data": {
      "text/plain": [
       "<Axes: ylabel='Weight'>"
      ]
     },
     "execution_count": 296,
     "metadata": {},
     "output_type": "execute_result"
    },
    {
     "data": {
      "image/png": "[encoded data removed]",
      "text/plain": [
       "<Figure size 640x480 with 1 Axes>"
      ]
     },
     "metadata": {},
     "output_type": "display_data"
    }
   ],
   "source": [
    "sns.boxplot(y=data['Weight'])"
   ]
  },
  {
   "cell_type": "raw",
   "id": "3b73a2f3",
   "metadata": {},
   "source": [
    "There is one outlier in Weight."
   ]
  },
  {
   "cell_type": "code",
   "execution_count": 297,
   "id": "b6fd29a3",
   "metadata": {},
   "outputs": [
    {
     "data": {
      "text/plain": [
       "<Axes: xlabel='Gender', ylabel='Calories'>"
      ]
     },
     "execution_count": 297,
     "metadata": {},
     "output_type": "execute_result"
    },
    {
     "data": {
      "image/png": "[encoded data removed]",
      "text/plain": [
       "<Figure size 640x480 with 1 Axes>"
      ]
     },
     "metadata": {},
     "output_type": "display_data"
    }
   ],
   "source": [
    "sns.boxplot(y='Calories',data=data,x='Gender')"
   ]
  },
  {
   "cell_type": "code",
   "execution_count": 298,
   "id": "923a6f23",
   "metadata": {},
   "outputs": [
    {
     "data": {
      "text/plain": [
       "<Axes: xlabel='Gender', ylabel='Height'>"
      ]
     },
     "execution_count": 298,
     "metadata": {},
     "output_type": "execute_result"
    },
    {
     "data": {
      "image/png": "[encoded data removed]",
      "text/plain": [
       "<Figure size 640x480 with 1 Axes>"
      ]
     },
     "metadata": {},
     "output_type": "display_data"
    }
   ],
   "source": [
    "sns.boxplot(y='Height',data=data,x='Gender')"
   ]
  },
  {
   "cell_type": "code",
   "execution_count": 299,
   "id": "4dd61209",
   "metadata": {},
   "outputs": [
    {
     "data": {
      "text/plain": [
       "<Axes: xlabel='Gender', ylabel='Weight'>"
      ]
     },
     "execution_count": 299,
     "metadata": {},
     "output_type": "execute_result"
    },
    {
     "data": {
      "image/png": "[encoded data removed]",
      "text/plain": [
       "<Figure size 640x480 with 1 Axes>"
      ]
     },
     "metadata": {},
     "output_type": "display_data"
    }
   ],
   "source": [
    "sns.boxplot(y='Weight',data=data,x='Gender')"
   ]
  },
  {
   "cell_type": "code",
   "execution_count": 300,
   "id": "44e2fa34",
   "metadata": {},
   "outputs": [
    {
     "data": {
      "text/plain": [
       "<Axes: xlabel='Gender', ylabel='Pulse'>"
      ]
     },
     "execution_count": 300,
     "metadata": {},
     "output_type": "execute_result"
    },
    {
     "data": {
      "image/png": "[encoded data removed]",
      "text/plain": [
       "<Figure size 640x480 with 1 Axes>"
      ]
     },
     "metadata": {},
     "output_type": "display_data"
    }
   ],
   "source": [
    "sns.boxplot(y='Pulse',data=data,x='Gender')"
   ]
  },
  {
   "cell_type": "code",
   "execution_count": 301,
   "id": "2a85f5b3",
   "metadata": {},
   "outputs": [
    {
     "data": {
      "text/plain": [
       "<Axes: xlabel='Gender', ylabel='Maxpulse'>"
      ]
     },
     "execution_count": 301,
     "metadata": {},
     "output_type": "execute_result"
    },
    {
     "data": {
      "image/png": "[encoded data removed]",
      "text/plain": [
       "<Figure size 640x480 with 1 Axes>"
      ]
     },
     "metadata": {},
     "output_type": "display_data"
    }
   ],
   "source": [
    "sns.boxplot(y='Maxpulse',data=data,x='Gender')"
   ]
  },
  {
   "cell_type": "code",
   "execution_count": 302,
   "id": "b0a54140",
   "metadata": {},
   "outputs": [
    {
     "data": {
      "text/plain": [
       "<seaborn.axisgrid.FacetGrid at 0x1ed6995d090>"
      ]
     },
     "execution_count": 302,
     "metadata": {},
     "output_type": "execute_result"
    },
    {
     "data": {
      "image/png": "[encoded data removed]",
      "text/plain": [
       "<Figure size 500x500 with 1 Axes>"
      ]
     },
     "metadata": {},
     "output_type": "display_data"
    }
   ],
   "source": [
    "sns.catplot(x='Duration',y='Pulse',kind=\"box\",data=data)"
   ]
  },
  {
   "cell_type": "code",
   "execution_count": 303,
   "id": "2dc03efa",
   "metadata": {},
   "outputs": [
    {
     "data": {
      "text/plain": [
       "<seaborn.axisgrid.FacetGrid at 0x1ed699e0220>"
      ]
     },
     "execution_count": 303,
     "metadata": {},
     "output_type": "execute_result"
    },
    {
     "data": {
      "image/png": "[encoded data removed]",
      "text/plain": [
       "<Figure size 500x500 with 1 Axes>"
      ]
     },
     "metadata": {},
     "output_type": "display_data"
    }
   ],
   "source": [
    "sns.catplot(x='Duration',y='Weight',kind=\"box\",data=data)\n",
    "     "
   ]
  },
  {
   "cell_type": "code",
   "execution_count": 304,
   "id": "8c6208df",
   "metadata": {},
   "outputs": [
    {
     "data": {
      "text/plain": [
       "<seaborn.axisgrid.FacetGrid at 0x1ed66e918a0>"
      ]
     },
     "execution_count": 304,
     "metadata": {},
     "output_type": "execute_result"
    },
    {
     "data": {
      "image/png": "[encoded data removed]",
      "text/plain": [
       "<Figure size 500x500 with 1 Axes>"
      ]
     },
     "metadata": {},
     "output_type": "display_data"
    }
   ],
   "source": [
    "sns.catplot(x='Duration',y='Height',kind=\"box\",data=data)"
   ]
  },
  {
   "cell_type": "code",
   "execution_count": 305,
   "id": "f997fdf6",
   "metadata": {},
   "outputs": [
    {
     "data": {
      "text/plain": [
       "<seaborn.axisgrid.FacetGrid at 0x1ed6ac0e350>"
      ]
     },
     "execution_count": 305,
     "metadata": {},
     "output_type": "execute_result"
    },
    {
     "data": {
      "image/png": "[encoded data removed]",
      "text/plain": [
       "<Figure size 500x500 with 1 Axes>"
      ]
     },
     "metadata": {},
     "output_type": "display_data"
    }
   ],
   "source": [
    "sns.catplot(x='Duration',y='Height',kind=\"violin\",data=data)"
   ]
  },
  {
   "cell_type": "code",
   "execution_count": 306,
   "id": "986dbc03",
   "metadata": {},
   "outputs": [
    {
     "data": {
      "text/plain": [
       "<seaborn.axisgrid.FacetGrid at 0x1ed6ac87dc0>"
      ]
     },
     "execution_count": 306,
     "metadata": {},
     "output_type": "execute_result"
    },
    {
     "data": {
      "image/png": "[encoded data removed]",
      "text/plain": [
       "<Figure size 500x500 with 1 Axes>"
      ]
     },
     "metadata": {},
     "output_type": "display_data"
    }
   ],
   "source": [
    "sns.catplot(x='Duration',y='Calories',kind=\"box\",data=data)"
   ]
  },
  {
   "cell_type": "markdown",
   "id": "bf22e206",
   "metadata": {},
   "source": [
    "# Normality testing"
   ]
  },
  {
   "cell_type": "code",
   "execution_count": 307,
   "id": "3176e3a0",
   "metadata": {},
   "outputs": [
    {
     "data": {
      "text/plain": [
       "<Axes: xlabel='Calories', ylabel='Density'>"
      ]
     },
     "execution_count": 307,
     "metadata": {},
     "output_type": "execute_result"
    },
    {
     "data": {
      "image/png": "[encoded data removed]",
      "text/plain": [
       "<Figure size 640x480 with 1 Axes>"
      ]
     },
     "metadata": {},
     "output_type": "display_data"
    }
   ],
   "source": [
    "sns.kdeplot(data['Calories'])"
   ]
  },
  {
   "cell_type": "code",
   "execution_count": 308,
   "id": "4734a01f",
   "metadata": {},
   "outputs": [
    {
     "data": {
      "text/plain": [
       "<Axes: xlabel='Height', ylabel='Density'>"
      ]
     },
     "execution_count": 308,
     "metadata": {},
     "output_type": "execute_result"
    },
    {
     "data": {
      "image/png": "[encoded data removed]",
      "text/plain": [
       "<Figure size 640x480 with 1 Axes>"
      ]
     },
     "metadata": {},
     "output_type": "display_data"
    }
   ],
   "source": [
    "sns.kdeplot(data['Height'])"
   ]
  },
  {
   "cell_type": "code",
   "execution_count": 309,
   "id": "43a6ed83",
   "metadata": {},
   "outputs": [
    {
     "data": {
      "text/plain": [
       "<Axes: xlabel='Maxpulse', ylabel='Density'>"
      ]
     },
     "execution_count": 309,
     "metadata": {},
     "output_type": "execute_result"
    },
    {
     "data": {
      "image/png": "[encoded data removed]",
      "text/plain": [
       "<Figure size 640x480 with 1 Axes>"
      ]
     },
     "metadata": {},
     "output_type": "display_data"
    }
   ],
   "source": [
    "sns.kdeplot(data['Maxpulse'])"
   ]
  },
  {
   "cell_type": "code",
   "execution_count": 310,
   "id": "92e04922",
   "metadata": {},
   "outputs": [
    {
     "data": {
      "text/plain": [
       "<Axes: xlabel='Pulse', ylabel='Density'>"
      ]
     },
     "execution_count": 310,
     "metadata": {},
     "output_type": "execute_result"
    },
    {
     "data": {
      "image/png": "[encoded data removed]",
      "text/plain": [
       "<Figure size 640x480 with 1 Axes>"
      ]
     },
     "metadata": {},
     "output_type": "display_data"
    }
   ],
   "source": [
    "sns.kdeplot(data['Pulse'])"
   ]
  },
  {
   "cell_type": "code",
   "execution_count": 311,
   "id": "ecbffce5",
   "metadata": {},
   "outputs": [
    {
     "data": {
      "text/plain": [
       "<Axes: xlabel='Weight', ylabel='Density'>"
      ]
     },
     "execution_count": 311,
     "metadata": {},
     "output_type": "execute_result"
    },
    {
     "data": {
      "image/png": "[encoded data removed]",
      "text/plain": [
       "<Figure size 640x480 with 1 Axes>"
      ]
     },
     "metadata": {},
     "output_type": "display_data"
    }
   ],
   "source": [
    "sns.kdeplot(data['Weight'])"
   ]
  },
  {
   "cell_type": "code",
   "execution_count": 312,
   "id": "95f4a353",
   "metadata": {},
   "outputs": [],
   "source": [
    "from scipy.stats import shapiro"
   ]
  },
  {
   "cell_type": "code",
   "execution_count": 313,
   "id": "d41cfca0",
   "metadata": {},
   "outputs": [
    {
     "data": {
      "text/plain": [
       "ShapiroResult(statistic=0.957967221736908, pvalue=0.625098466873169)"
      ]
     },
     "execution_count": 313,
     "metadata": {},
     "output_type": "execute_result"
    }
   ],
   "source": [
    "shapiro(data['Calories'])"
   ]
  },
  {
   "cell_type": "raw",
   "id": "dd800f8d",
   "metadata": {},
   "source": [
    "As p value of shapiro test is >0.05 Calories is normally distributed."
   ]
  },
  {
   "cell_type": "code",
   "execution_count": 314,
   "id": "616398a3",
   "metadata": {},
   "outputs": [
    {
     "data": {
      "text/plain": [
       "ShapiroResult(statistic=0.9153416752815247, pvalue=0.1419055014848709)"
      ]
     },
     "execution_count": 314,
     "metadata": {},
     "output_type": "execute_result"
    }
   ],
   "source": [
    "shapiro(data['Height'])"
   ]
  },
  {
   "cell_type": "raw",
   "id": "8627945d",
   "metadata": {},
   "source": [
    "As p value of shapiro test is >0.05 Height is normally distributed."
   ]
  },
  {
   "cell_type": "code",
   "execution_count": 315,
   "id": "1a40e26b",
   "metadata": {},
   "outputs": [
    {
     "data": {
      "text/plain": [
       "ShapiroResult(statistic=0.8833223581314087, pvalue=0.04372917488217354)"
      ]
     },
     "execution_count": 315,
     "metadata": {},
     "output_type": "execute_result"
    }
   ],
   "source": [
    "shapiro(data['Maxpulse'])"
   ]
  },
  {
   "cell_type": "raw",
   "id": "b55f9045",
   "metadata": {},
   "source": [
    "As p value of shapiro test is < 0.05 Maxpulse is not normally distributed."
   ]
  },
  {
   "cell_type": "code",
   "execution_count": 316,
   "id": "6ed73550",
   "metadata": {},
   "outputs": [
    {
     "data": {
      "text/plain": [
       "ShapiroResult(statistic=0.7790699601173401, pvalue=0.0014553068904206157)"
      ]
     },
     "execution_count": 316,
     "metadata": {},
     "output_type": "execute_result"
    }
   ],
   "source": [
    "shapiro(data['Pulse'])"
   ]
  },
  {
   "cell_type": "raw",
   "id": "f9706d31",
   "metadata": {},
   "source": [
    "As p value of shapiro test is <0.05 Pulse is not normally distributed."
   ]
  },
  {
   "cell_type": "code",
   "execution_count": 317,
   "id": "a91feeab",
   "metadata": {},
   "outputs": [
    {
     "data": {
      "text/plain": [
       "ShapiroResult(statistic=0.9578628540039062, pvalue=0.6232298016548157)"
      ]
     },
     "execution_count": 317,
     "metadata": {},
     "output_type": "execute_result"
    }
   ],
   "source": [
    "shapiro(data['Weight'])"
   ]
  },
  {
   "cell_type": "raw",
   "id": "91ce5a3c",
   "metadata": {},
   "source": [
    "As p value of shapiro test is >0.05 Weight is normally distributed."
   ]
  }
 ],
 "metadata": {
  "kernelspec": {
   "display_name": "Python 3 (ipykernel)",
   "language": "python",
   "name": "python3"
  },
  "language_info": {
   "codemirror_mode": {
    "name": "ipython",
    "version": 3
   },
   "file_extension": ".py",
   "mimetype": "text/x-python",
   "name": "python",
   "nbconvert_exporter": "python",
   "pygments_lexer": "ipython3",
   "version": "3.10.9"
  }
 },
 "nbformat": 4,
 "nbformat_minor": 5
}
