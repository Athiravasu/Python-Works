{
 "cells": [
  {
   "cell_type": "markdown",
   "id": "928e8ad1",
   "metadata": {},
   "source": [
    "# Dictionary"
   ]
  },
  {
   "cell_type": "code",
   "execution_count": 1,
   "id": "b325a207",
   "metadata": {},
   "outputs": [
    {
     "data": {
      "text/plain": [
       "{'name': 'jungkook',\n",
       " 'Email': 'jungkook@gmail.com',\n",
       " 'phone number': '9985742561'}"
      ]
     },
     "execution_count": 1,
     "metadata": {},
     "output_type": "execute_result"
    }
   ],
   "source": [
    "# we created a dictionary now, with key : name,email,phone number\n",
    "# and values jungkook,jungkook@gmail.com,9985742561\n",
    "dict1= {\"name\" : \"jungkook\",\n",
    "       \"Email\" : \"jungkook@gmail.com\",\n",
    "       \"phone number\": \"9985742561\"}\n",
    "dict1"
   ]
  },
  {
   "cell_type": "code",
   "execution_count": 2,
   "id": "c36951c3",
   "metadata": {},
   "outputs": [
    {
     "data": {
      "text/plain": [
       "'9985742561'"
      ]
     },
     "execution_count": 2,
     "metadata": {},
     "output_type": "execute_result"
    }
   ],
   "source": [
    "# now to seperately call each key from the dictionary we can use the code\n",
    "a=dict1['phone number']\n",
    "a"
   ]
  },
  {
   "cell_type": "code",
   "execution_count": 3,
   "id": "d097d133",
   "metadata": {},
   "outputs": [
    {
     "name": "stdout",
     "output_type": "stream",
     "text": [
      "{'name': 'jungkook', 'Email': 'jungkook@gmail.com', 'phone number': '9985742561', 'Name': 'catherine'}\n"
     ]
    }
   ],
   "source": [
    "# change value in the dictionary\n",
    "dict1[\"Name\"]=\"catherine\"\n",
    "print(dict1)\n"
   ]
  },
  {
   "cell_type": "code",
   "execution_count": 4,
   "id": "d0b4eb16",
   "metadata": {},
   "outputs": [
    {
     "name": "stdout",
     "output_type": "stream",
     "text": [
      "{'name': 'jungkook', 'Email': 'jungkook@gmail.com', 'phone number': '9985742561', 'Name': 'catherine'}\n"
     ]
    }
   ],
   "source": [
    "dict1[\"Email\"]=\"jungkook@gmail.com\"\n",
    "print(dict1)"
   ]
  },
  {
   "cell_type": "code",
   "execution_count": 5,
   "id": "23e54aa7",
   "metadata": {},
   "outputs": [
    {
     "name": "stdout",
     "output_type": "stream",
     "text": [
      "name\n",
      "Email\n",
      "phone number\n",
      "Name\n"
     ]
    }
   ],
   "source": [
    "#To get key words headings\n",
    "for x in dict1:\n",
    "    print(x)"
   ]
  },
  {
   "cell_type": "code",
   "execution_count": 6,
   "id": "c266eb82",
   "metadata": {},
   "outputs": [
    {
     "name": "stdout",
     "output_type": "stream",
     "text": [
      "jungkook\n",
      "jungkook@gmail.com\n",
      "9985742561\n",
      "catherine\n"
     ]
    }
   ],
   "source": [
    "#To get value\n",
    "for x in dict1:\n",
    "    print(dict1[x])"
   ]
  },
  {
   "cell_type": "code",
   "execution_count": 8,
   "id": "b015ef56",
   "metadata": {},
   "outputs": [
    {
     "name": "stdout",
     "output_type": "stream",
     "text": [
      "name jungkook\n",
      "Email jungkook@gmail.com\n",
      "phone number 9985742561\n",
      "Name catherine\n"
     ]
    }
   ],
   "source": [
    "# to get both key and values\n",
    "for x,y in dict1.items():\n",
    "    print(x,y)"
   ]
  },
  {
   "cell_type": "code",
   "execution_count": 9,
   "id": "ea62ba23",
   "metadata": {},
   "outputs": [
    {
     "name": "stdout",
     "output_type": "stream",
     "text": [
      "4\n"
     ]
    }
   ],
   "source": [
    "# to get the length of dictionary\n",
    "print(len(dict1))"
   ]
  },
  {
   "cell_type": "code",
   "execution_count": 10,
   "id": "87c02bb8",
   "metadata": {},
   "outputs": [
    {
     "name": "stdout",
     "output_type": "stream",
     "text": [
      "{'name': 'jungkook', 'Email': 'jungkook@gmail.com', 'phone number': '9985742561', 'Name': 'catherine', 'Age': 20}\n"
     ]
    }
   ],
   "source": [
    "# to add some more key and values into dictionary\n",
    "dict1[\"Age\"]=20\n",
    "print(dict1)"
   ]
  },
  {
   "cell_type": "code",
   "execution_count": 11,
   "id": "84e6c89a",
   "metadata": {},
   "outputs": [
    {
     "name": "stdout",
     "output_type": "stream",
     "text": [
      "5\n"
     ]
    }
   ],
   "source": [
    "print(len(dict1))"
   ]
  },
  {
   "cell_type": "code",
   "execution_count": 12,
   "id": "ae98e3d5",
   "metadata": {},
   "outputs": [
    {
     "name": "stdout",
     "output_type": "stream",
     "text": [
      "{'name': 'jungkook', 'Email': 'jungkook@gmail.com', 'phone number': '9985742561', 'Name': 'catherine', 'Age': 20, 'place': 'Angamaly'}\n"
     ]
    }
   ],
   "source": [
    "dict1[\"place\"]=\"Angamaly\"\n",
    "print(dict1)"
   ]
  },
  {
   "cell_type": "code",
   "execution_count": 13,
   "id": "de55de0f",
   "metadata": {},
   "outputs": [
    {
     "name": "stdout",
     "output_type": "stream",
     "text": [
      "6\n"
     ]
    }
   ],
   "source": [
    "print(len(dict1))"
   ]
  },
  {
   "cell_type": "code",
   "execution_count": 14,
   "id": "bb79429f",
   "metadata": {},
   "outputs": [
    {
     "data": {
      "text/plain": [
       "{'name': 'jungkook',\n",
       " 'phone number': '9985742561',\n",
       " 'Name': 'catherine',\n",
       " 'Age': 20,\n",
       " 'place': 'Angamaly'}"
      ]
     },
     "execution_count": 14,
     "metadata": {},
     "output_type": "execute_result"
    }
   ],
   "source": [
    "#to remove value\n",
    "dict1.pop(\"Email\")\n",
    "dict1"
   ]
  },
  {
   "cell_type": "code",
   "execution_count": 15,
   "id": "07b3be0f",
   "metadata": {},
   "outputs": [
    {
     "data": {
      "text/plain": [
       "{'name': 'jungkook',\n",
       " 'phone number': '9985742561',\n",
       " 'Name': 'catherine',\n",
       " 'Age': 20}"
      ]
     },
     "execution_count": 15,
     "metadata": {},
     "output_type": "execute_result"
    }
   ],
   "source": [
    "#to delet from dictionary\n",
    "del dict1[\"place\"]\n",
    "dict1"
   ]
  },
  {
   "cell_type": "code",
   "execution_count": 16,
   "id": "a6549559",
   "metadata": {},
   "outputs": [
    {
     "data": {
      "text/plain": [
       "{}"
      ]
     },
     "execution_count": 16,
     "metadata": {},
     "output_type": "execute_result"
    }
   ],
   "source": [
    "# to clear all the values from dictionary\n",
    "dict1.clear()\n",
    "dict1"
   ]
  },
  {
   "cell_type": "markdown",
   "id": "ae9f74d3",
   "metadata": {},
   "source": [
    "# Operators"
   ]
  },
  {
   "cell_type": "code",
   "execution_count": null,
   "id": "342a7cfa",
   "metadata": {},
   "outputs": [],
   "source": [
    "operators in python are used for operations between twu values or variables.The output varies according to the type of operator used in the\n",
    "operation\n",
    "\n",
    "Types of operators\n",
    "1.Arithmetic operators\n",
    "2.Assignment operators"
   ]
  }
 ],
 "metadata": {
  "kernelspec": {
   "display_name": "Python 3 (ipykernel)",
   "language": "python",
   "name": "python3"
  },
  "language_info": {
   "codemirror_mode": {
    "name": "ipython",
    "version": 3
   },
   "file_extension": ".py",
   "mimetype": "text/x-python",
   "name": "python",
   "nbconvert_exporter": "python",
   "pygments_lexer": "ipython3",
   "version": "3.10.9"
  }
 },
 "nbformat": 4,
 "nbformat_minor": 5
}
