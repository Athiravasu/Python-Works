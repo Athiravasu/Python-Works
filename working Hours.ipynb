{
 "cells": [
  {
   "cell_type": "code",
   "execution_count": 497,
   "id": "eea9f6ed",
   "metadata": {},
   "outputs": [],
   "source": [
    "import pandas as pd, numpy as np, matplotlib.pyplot as plt, seaborn as sns\n",
    "%matplotlib inline"
   ]
  },
  {
   "cell_type": "code",
   "execution_count": 498,
   "id": "2d406895",
   "metadata": {},
   "outputs": [
    {
     "data": {
      "text/html": [
       "<div>\n",
       "<style scoped>\n",
       "    .dataframe tbody tr th:only-of-type {\n",
       "        vertical-align: middle;\n",
       "    }\n",
       "\n",
       "    .dataframe tbody tr th {\n",
       "        vertical-align: top;\n",
       "    }\n",
       "\n",
       "    .dataframe thead th {\n",
       "        text-align: right;\n",
       "    }\n",
       "</style>\n",
       "<table border=\"1\" class=\"dataframe\">\n",
       "  <thead>\n",
       "    <tr style=\"text-align: right;\">\n",
       "      <th></th>\n",
       "      <th>Date</th>\n",
       "      <th>Time</th>\n",
       "      <th>Jikky</th>\n",
       "      <th>Kayis</th>\n",
       "      <th>Sinny</th>\n",
       "      <th>Criji</th>\n",
       "      <th>Johnan</th>\n",
       "      <th>Mode of class</th>\n",
       "    </tr>\n",
       "  </thead>\n",
       "  <tbody>\n",
       "    <tr>\n",
       "      <th>0</th>\n",
       "      <td>2022-04-11</td>\n",
       "      <td>9:30 am- 10:30 am</td>\n",
       "      <td>1.0</td>\n",
       "      <td>1.0</td>\n",
       "      <td>NaN</td>\n",
       "      <td>NaN</td>\n",
       "      <td>NaN</td>\n",
       "      <td>Online</td>\n",
       "    </tr>\n",
       "    <tr>\n",
       "      <th>1</th>\n",
       "      <td>2022-04-11</td>\n",
       "      <td>10:30 am- 11:30 am</td>\n",
       "      <td>1.0</td>\n",
       "      <td>1.0</td>\n",
       "      <td>NaN</td>\n",
       "      <td>NaN</td>\n",
       "      <td>NaN</td>\n",
       "      <td>Online</td>\n",
       "    </tr>\n",
       "    <tr>\n",
       "      <th>2</th>\n",
       "      <td>2022-04-12</td>\n",
       "      <td>9:30 am- 10:30 am</td>\n",
       "      <td>1.0</td>\n",
       "      <td>1.0</td>\n",
       "      <td>NaN</td>\n",
       "      <td>NaN</td>\n",
       "      <td>NaN</td>\n",
       "      <td>Online</td>\n",
       "    </tr>\n",
       "    <tr>\n",
       "      <th>3</th>\n",
       "      <td>2022-04-12</td>\n",
       "      <td>11:30 am - 12:30 pm</td>\n",
       "      <td>1.0</td>\n",
       "      <td>1.0</td>\n",
       "      <td>NaN</td>\n",
       "      <td>NaN</td>\n",
       "      <td>NaN</td>\n",
       "      <td>Online</td>\n",
       "    </tr>\n",
       "    <tr>\n",
       "      <th>4</th>\n",
       "      <td>2022-04-13</td>\n",
       "      <td>9:30 am- 10:30 am</td>\n",
       "      <td>NaN</td>\n",
       "      <td>1.0</td>\n",
       "      <td>NaN</td>\n",
       "      <td>NaN</td>\n",
       "      <td>NaN</td>\n",
       "      <td>Online</td>\n",
       "    </tr>\n",
       "  </tbody>\n",
       "</table>\n",
       "</div>"
      ],
      "text/plain": [
       "        Date                 Time  Jikky  Kayis  Sinny  Criji  Johnan  \\\n",
       "0 2022-04-11    9:30 am- 10:30 am    1.0    1.0    NaN    NaN     NaN   \n",
       "1 2022-04-11   10:30 am- 11:30 am    1.0    1.0    NaN    NaN     NaN   \n",
       "2 2022-04-12    9:30 am- 10:30 am    1.0    1.0    NaN    NaN     NaN   \n",
       "3 2022-04-12  11:30 am - 12:30 pm    1.0    1.0    NaN    NaN     NaN   \n",
       "4 2022-04-13    9:30 am- 10:30 am    NaN    1.0    NaN    NaN     NaN   \n",
       "\n",
       "  Mode of class  \n",
       "0        Online  \n",
       "1        Online  \n",
       "2        Online  \n",
       "3        Online  \n",
       "4        Online  "
      ]
     },
     "execution_count": 498,
     "metadata": {},
     "output_type": "execute_result"
    }
   ],
   "source": [
    "WH=pd.read_excel('Working Hours.xlsx')\n",
    "WH.head(5)"
   ]
  },
  {
   "cell_type": "code",
   "execution_count": 499,
   "id": "b7e6bf8e",
   "metadata": {},
   "outputs": [
    {
     "data": {
      "text/plain": [
       "Date              0\n",
       "Time              0\n",
       "Jikky            51\n",
       "Kayis            72\n",
       "Sinny            68\n",
       "Criji            74\n",
       "Johnan           82\n",
       "Mode of class     0\n",
       "dtype: int64"
      ]
     },
     "execution_count": 499,
     "metadata": {},
     "output_type": "execute_result"
    }
   ],
   "source": [
    "WH.isna().sum()"
   ]
  },
  {
   "cell_type": "markdown",
   "id": "3e49f04c",
   "metadata": {},
   "source": [
    "# Data Cleaning"
   ]
  },
  {
   "cell_type": "raw",
   "id": "144dbe73",
   "metadata": {},
   "source": [
    "Nan values are replaced by zeros"
   ]
  },
  {
   "cell_type": "code",
   "execution_count": 500,
   "id": "ecbc9d85",
   "metadata": {},
   "outputs": [
    {
     "data": {
      "text/html": [
       "<div>\n",
       "<style scoped>\n",
       "    .dataframe tbody tr th:only-of-type {\n",
       "        vertical-align: middle;\n",
       "    }\n",
       "\n",
       "    .dataframe tbody tr th {\n",
       "        vertical-align: top;\n",
       "    }\n",
       "\n",
       "    .dataframe thead th {\n",
       "        text-align: right;\n",
       "    }\n",
       "</style>\n",
       "<table border=\"1\" class=\"dataframe\">\n",
       "  <thead>\n",
       "    <tr style=\"text-align: right;\">\n",
       "      <th></th>\n",
       "      <th>Date</th>\n",
       "      <th>Time</th>\n",
       "      <th>Jikky</th>\n",
       "      <th>Kayis</th>\n",
       "      <th>Sinny</th>\n",
       "      <th>Criji</th>\n",
       "      <th>Johnan</th>\n",
       "      <th>Mode of class</th>\n",
       "    </tr>\n",
       "  </thead>\n",
       "  <tbody>\n",
       "    <tr>\n",
       "      <th>0</th>\n",
       "      <td>2022-04-11</td>\n",
       "      <td>9:30 am- 10:30 am</td>\n",
       "      <td>1.0</td>\n",
       "      <td>1.0</td>\n",
       "      <td>0.0</td>\n",
       "      <td>0.0</td>\n",
       "      <td>0.0</td>\n",
       "      <td>Online</td>\n",
       "    </tr>\n",
       "    <tr>\n",
       "      <th>1</th>\n",
       "      <td>2022-04-11</td>\n",
       "      <td>10:30 am- 11:30 am</td>\n",
       "      <td>1.0</td>\n",
       "      <td>1.0</td>\n",
       "      <td>0.0</td>\n",
       "      <td>0.0</td>\n",
       "      <td>0.0</td>\n",
       "      <td>Online</td>\n",
       "    </tr>\n",
       "  </tbody>\n",
       "</table>\n",
       "</div>"
      ],
      "text/plain": [
       "        Date                Time  Jikky  Kayis  Sinny  Criji  Johnan  \\\n",
       "0 2022-04-11   9:30 am- 10:30 am    1.0    1.0    0.0    0.0     0.0   \n",
       "1 2022-04-11  10:30 am- 11:30 am    1.0    1.0    0.0    0.0     0.0   \n",
       "\n",
       "  Mode of class  \n",
       "0        Online  \n",
       "1        Online  "
      ]
     },
     "execution_count": 500,
     "metadata": {},
     "output_type": "execute_result"
    }
   ],
   "source": [
    "WH=WH.fillna(0)\n",
    "WH.head(2)"
   ]
  },
  {
   "cell_type": "code",
   "execution_count": 501,
   "id": "bb26bb1e",
   "metadata": {},
   "outputs": [
    {
     "data": {
      "text/plain": [
       "(91, 8)"
      ]
     },
     "execution_count": 501,
     "metadata": {},
     "output_type": "execute_result"
    }
   ],
   "source": [
    "WH.shape"
   ]
  },
  {
   "cell_type": "code",
   "execution_count": 502,
   "id": "35bd4786",
   "metadata": {},
   "outputs": [
    {
     "data": {
      "text/plain": [
       "Index(['Date', 'Time', 'Jikky', 'Kayis', 'Sinny', 'Criji', 'Johnan',\n",
       "       'Mode of class'],\n",
       "      dtype='object')"
      ]
     },
     "execution_count": 502,
     "metadata": {},
     "output_type": "execute_result"
    }
   ],
   "source": [
    "WH.columns"
   ]
  },
  {
   "cell_type": "code",
   "execution_count": 503,
   "id": "c6397674",
   "metadata": {},
   "outputs": [
    {
     "name": "stdout",
     "output_type": "stream",
     "text": [
      "<class 'pandas.core.frame.DataFrame'>\n",
      "RangeIndex: 91 entries, 0 to 90\n",
      "Data columns (total 8 columns):\n",
      " #   Column         Non-Null Count  Dtype         \n",
      "---  ------         --------------  -----         \n",
      " 0   Date           91 non-null     datetime64[ns]\n",
      " 1   Time           91 non-null     object        \n",
      " 2   Jikky          91 non-null     float64       \n",
      " 3   Kayis          91 non-null     float64       \n",
      " 4   Sinny          91 non-null     float64       \n",
      " 5   Criji          91 non-null     float64       \n",
      " 6   Johnan         91 non-null     float64       \n",
      " 7   Mode of class  91 non-null     object        \n",
      "dtypes: datetime64[ns](1), float64(5), object(2)\n",
      "memory usage: 5.8+ KB\n"
     ]
    }
   ],
   "source": [
    "WH.info()"
   ]
  },
  {
   "cell_type": "raw",
   "id": "dee6d796",
   "metadata": {},
   "source": [
    "Splitting data"
   ]
  },
  {
   "cell_type": "raw",
   "id": "a134096c",
   "metadata": {},
   "source": [
    "date variable is needed to be splitted for further analysis"
   ]
  },
  {
   "cell_type": "raw",
   "id": "502e440f",
   "metadata": {},
   "source": [
    "here date is splitted into, month, year and day"
   ]
  },
  {
   "cell_type": "code",
   "execution_count": 504,
   "id": "8f3794c6",
   "metadata": {},
   "outputs": [
    {
     "data": {
      "text/html": [
       "<div>\n",
       "<style scoped>\n",
       "    .dataframe tbody tr th:only-of-type {\n",
       "        vertical-align: middle;\n",
       "    }\n",
       "\n",
       "    .dataframe tbody tr th {\n",
       "        vertical-align: top;\n",
       "    }\n",
       "\n",
       "    .dataframe thead th {\n",
       "        text-align: right;\n",
       "    }\n",
       "</style>\n",
       "<table border=\"1\" class=\"dataframe\">\n",
       "  <thead>\n",
       "    <tr style=\"text-align: right;\">\n",
       "      <th></th>\n",
       "      <th>Date</th>\n",
       "      <th>Time</th>\n",
       "      <th>Jikky</th>\n",
       "      <th>Kayis</th>\n",
       "      <th>Sinny</th>\n",
       "      <th>Criji</th>\n",
       "      <th>Johnan</th>\n",
       "      <th>Mode of class</th>\n",
       "      <th>Month</th>\n",
       "      <th>year</th>\n",
       "      <th>Day</th>\n",
       "    </tr>\n",
       "  </thead>\n",
       "  <tbody>\n",
       "    <tr>\n",
       "      <th>0</th>\n",
       "      <td>2022-04-11</td>\n",
       "      <td>9:30 am- 10:30 am</td>\n",
       "      <td>1.0</td>\n",
       "      <td>1.0</td>\n",
       "      <td>0.0</td>\n",
       "      <td>0.0</td>\n",
       "      <td>0.0</td>\n",
       "      <td>Online</td>\n",
       "      <td>4</td>\n",
       "      <td>2022</td>\n",
       "      <td>11</td>\n",
       "    </tr>\n",
       "    <tr>\n",
       "      <th>1</th>\n",
       "      <td>2022-04-11</td>\n",
       "      <td>10:30 am- 11:30 am</td>\n",
       "      <td>1.0</td>\n",
       "      <td>1.0</td>\n",
       "      <td>0.0</td>\n",
       "      <td>0.0</td>\n",
       "      <td>0.0</td>\n",
       "      <td>Online</td>\n",
       "      <td>4</td>\n",
       "      <td>2022</td>\n",
       "      <td>11</td>\n",
       "    </tr>\n",
       "  </tbody>\n",
       "</table>\n",
       "</div>"
      ],
      "text/plain": [
       "        Date                Time  Jikky  Kayis  Sinny  Criji  Johnan  \\\n",
       "0 2022-04-11   9:30 am- 10:30 am    1.0    1.0    0.0    0.0     0.0   \n",
       "1 2022-04-11  10:30 am- 11:30 am    1.0    1.0    0.0    0.0     0.0   \n",
       "\n",
       "  Mode of class  Month  year  Day  \n",
       "0        Online      4  2022   11  \n",
       "1        Online      4  2022   11  "
      ]
     },
     "execution_count": 504,
     "metadata": {},
     "output_type": "execute_result"
    }
   ],
   "source": [
    "WH['Month'] = pd.to_datetime(WH['Date']).dt.month\n",
    "WH['year'] = pd.to_datetime(WH['Date']).dt.year\n",
    "WH['Day'] = pd.to_datetime(WH['Date']).dt.day\n",
    "WH.head(2)"
   ]
  },
  {
   "cell_type": "markdown",
   "id": "bdb3a294",
   "metadata": {},
   "source": [
    "# Data Analysis"
   ]
  },
  {
   "cell_type": "raw",
   "id": "619bca6a",
   "metadata": {},
   "source": [
    "Data is analysed with these requirements"
   ]
  },
  {
   "cell_type": "raw",
   "id": "e7593af6",
   "metadata": {},
   "source": [
    "1.find who had taken more class. "
   ]
  },
  {
   "cell_type": "raw",
   "id": "0ac81ce4",
   "metadata": {},
   "source": [
    "2.Find by which mode, most of the time class has taken in month June"
   ]
  },
  {
   "cell_type": "raw",
   "id": "be07ecea",
   "metadata": {},
   "source": [
    "3.Find the sum of Hours of each mentors"
   ]
  },
  {
   "cell_type": "raw",
   "id": "afe01e11",
   "metadata": {},
   "source": [
    "4.find by which time hour most the class has taken\n",
    "\n"
   ]
  },
  {
   "cell_type": "raw",
   "id": "f32d8386",
   "metadata": {},
   "source": [
    "5.find how many physical classes has taken by each mentors through out each month"
   ]
  },
  {
   "cell_type": "raw",
   "id": "a6802fc0",
   "metadata": {},
   "source": [
    "6.if the the payment is 100 for one hour , then how much salary\n",
    "\n"
   ]
  },
  {
   "cell_type": "raw",
   "id": "1d3ee0a6",
   "metadata": {},
   "source": [
    "7.if the the payment for one hour is 150 means how much salary did they got in each month\n",
    "\n"
   ]
  },
  {
   "cell_type": "raw",
   "id": "0b6904f3",
   "metadata": {},
   "source": [
    "8.create a dataframe using the data you got with salary of each month of each mentors\n",
    "\n"
   ]
  },
  {
   "cell_type": "raw",
   "id": "91269625",
   "metadata": {},
   "source": [
    "9.who earned more salary if the payment for one hour is 100."
   ]
  },
  {
   "cell_type": "raw",
   "id": "1e4a8de4",
   "metadata": {},
   "source": [
    "10.who earned more salary if the payment for one hour is 150, in the month of june."
   ]
  },
  {
   "cell_type": "raw",
   "id": "f026680a",
   "metadata": {},
   "source": [
    "11.who is working more time"
   ]
  },
  {
   "cell_type": "raw",
   "id": "a17e8d53",
   "metadata": {},
   "source": [
    "12.who had worked more hours in the month of May?"
   ]
  },
  {
   "cell_type": "markdown",
   "id": "693fa680",
   "metadata": {},
   "source": [
    "13.In which month more physical classes had taken place?"
   ]
  },
  {
   "cell_type": "markdown",
   "id": "ff4c9419",
   "metadata": {},
   "source": [
    "# find who had taken more class"
   ]
  },
  {
   "cell_type": "code",
   "execution_count": 505,
   "id": "720894a8",
   "metadata": {},
   "outputs": [
    {
     "data": {
      "text/plain": [
       "Jikky     71.2\n",
       "Kayis     29.6\n",
       "Sinny     54.5\n",
       "Criji     43.0\n",
       "Johnan    23.0\n",
       "dtype: float64"
      ]
     },
     "execution_count": 505,
     "metadata": {},
     "output_type": "execute_result"
    }
   ],
   "source": [
    "WH[['Jikky', 'Kayis', 'Sinny', 'Criji', 'Johnan']].sum()\n",
    "     "
   ]
  },
  {
   "cell_type": "raw",
   "id": "64eaaf1d",
   "metadata": {},
   "source": [
    "Jikky had taken more class"
   ]
  },
  {
   "cell_type": "markdown",
   "id": "bcdaaf29",
   "metadata": {},
   "source": [
    "Find the sum of Hours of each mentors"
   ]
  },
  {
   "cell_type": "raw",
   "id": "06c11441",
   "metadata": {},
   "source": [
    "WH.groupby('Mode of class').sum()"
   ]
  },
  {
   "cell_type": "code",
   "execution_count": 506,
   "id": "31659f50",
   "metadata": {},
   "outputs": [
    {
     "data": {
      "text/plain": [
       "Online      80\n",
       "Physical    11\n",
       "Name: Mode of class, dtype: int64"
      ]
     },
     "execution_count": 506,
     "metadata": {},
     "output_type": "execute_result"
    }
   ],
   "source": [
    "moc=WH['Mode of class'].value_counts()\n",
    "moc"
   ]
  },
  {
   "cell_type": "raw",
   "id": "a4f700c2",
   "metadata": {},
   "source": [
    "The mentors have taken online class than phyical classes."
   ]
  },
  {
   "cell_type": "markdown",
   "id": "e8181240",
   "metadata": {},
   "source": [
    "# Find how many physical classes had taken by each mentors through out each month"
   ]
  },
  {
   "cell_type": "code",
   "execution_count": 507,
   "id": "a10ff3a4",
   "metadata": {},
   "outputs": [
    {
     "data": {
      "text/html": [
       "<div>\n",
       "<style scoped>\n",
       "    .dataframe tbody tr th:only-of-type {\n",
       "        vertical-align: middle;\n",
       "    }\n",
       "\n",
       "    .dataframe tbody tr th {\n",
       "        vertical-align: top;\n",
       "    }\n",
       "\n",
       "    .dataframe thead th {\n",
       "        text-align: right;\n",
       "    }\n",
       "</style>\n",
       "<table border=\"1\" class=\"dataframe\">\n",
       "  <thead>\n",
       "    <tr style=\"text-align: right;\">\n",
       "      <th></th>\n",
       "      <th>Jikky</th>\n",
       "      <th>Kayis</th>\n",
       "      <th>Sinny</th>\n",
       "      <th>Criji</th>\n",
       "      <th>Johnan</th>\n",
       "    </tr>\n",
       "    <tr>\n",
       "      <th>Mode of class</th>\n",
       "      <th></th>\n",
       "      <th></th>\n",
       "      <th></th>\n",
       "      <th></th>\n",
       "      <th></th>\n",
       "    </tr>\n",
       "  </thead>\n",
       "  <tbody>\n",
       "    <tr>\n",
       "      <th>Online</th>\n",
       "      <td>57.2</td>\n",
       "      <td>22.6</td>\n",
       "      <td>30.5</td>\n",
       "      <td>23.0</td>\n",
       "      <td>13.5</td>\n",
       "    </tr>\n",
       "    <tr>\n",
       "      <th>Physical</th>\n",
       "      <td>14.0</td>\n",
       "      <td>7.0</td>\n",
       "      <td>24.0</td>\n",
       "      <td>20.0</td>\n",
       "      <td>9.5</td>\n",
       "    </tr>\n",
       "  </tbody>\n",
       "</table>\n",
       "</div>"
      ],
      "text/plain": [
       "               Jikky  Kayis  Sinny  Criji  Johnan\n",
       "Mode of class                                    \n",
       "Online          57.2   22.6   30.5   23.0    13.5\n",
       "Physical        14.0    7.0   24.0   20.0     9.5"
      ]
     },
     "execution_count": 507,
     "metadata": {},
     "output_type": "execute_result"
    }
   ],
   "source": [
    " WH.groupby('Mode of class')[['Jikky','Kayis','Sinny','Criji','Johnan']].sum()\n",
    "     "
   ]
  },
  {
   "cell_type": "raw",
   "id": "e6331925",
   "metadata": {},
   "source": [
    "In these past 3 months most of the online classes had taken by Jikky"
   ]
  },
  {
   "cell_type": "raw",
   "id": "30e89dec",
   "metadata": {},
   "source": [
    "and Sinny mostly took the physical classes"
   ]
  },
  {
   "cell_type": "code",
   "execution_count": 508,
   "id": "bfa0a466",
   "metadata": {},
   "outputs": [
    {
     "data": {
      "text/html": [
       "<div>\n",
       "<style scoped>\n",
       "    .dataframe tbody tr th:only-of-type {\n",
       "        vertical-align: middle;\n",
       "    }\n",
       "\n",
       "    .dataframe tbody tr th {\n",
       "        vertical-align: top;\n",
       "    }\n",
       "\n",
       "    .dataframe thead th {\n",
       "        text-align: right;\n",
       "    }\n",
       "</style>\n",
       "<table border=\"1\" class=\"dataframe\">\n",
       "  <thead>\n",
       "    <tr style=\"text-align: right;\">\n",
       "      <th></th>\n",
       "      <th>Jikky</th>\n",
       "      <th>Kayis</th>\n",
       "      <th>Sinny</th>\n",
       "      <th>Criji</th>\n",
       "      <th>Johnan</th>\n",
       "    </tr>\n",
       "    <tr>\n",
       "      <th>Month</th>\n",
       "      <th></th>\n",
       "      <th></th>\n",
       "      <th></th>\n",
       "      <th></th>\n",
       "      <th></th>\n",
       "    </tr>\n",
       "  </thead>\n",
       "  <tbody>\n",
       "    <tr>\n",
       "      <th>4</th>\n",
       "      <td>11.5</td>\n",
       "      <td>14.5</td>\n",
       "      <td>9.5</td>\n",
       "      <td>1.0</td>\n",
       "      <td>0.0</td>\n",
       "    </tr>\n",
       "    <tr>\n",
       "      <th>5</th>\n",
       "      <td>22.7</td>\n",
       "      <td>15.1</td>\n",
       "      <td>22.0</td>\n",
       "      <td>21.0</td>\n",
       "      <td>23.0</td>\n",
       "    </tr>\n",
       "    <tr>\n",
       "      <th>6</th>\n",
       "      <td>37.0</td>\n",
       "      <td>0.0</td>\n",
       "      <td>23.0</td>\n",
       "      <td>21.0</td>\n",
       "      <td>0.0</td>\n",
       "    </tr>\n",
       "  </tbody>\n",
       "</table>\n",
       "</div>"
      ],
      "text/plain": [
       "       Jikky  Kayis  Sinny  Criji  Johnan\n",
       "Month                                    \n",
       "4       11.5   14.5    9.5    1.0     0.0\n",
       "5       22.7   15.1   22.0   21.0    23.0\n",
       "6       37.0    0.0   23.0   21.0     0.0"
      ]
     },
     "execution_count": 508,
     "metadata": {},
     "output_type": "execute_result"
    }
   ],
   "source": [
    "\n",
    "WH.groupby('Month')[['Jikky','Kayis','Sinny','Criji','Johnan']].sum()"
   ]
  },
  {
   "cell_type": "raw",
   "id": "3f720d39",
   "metadata": {},
   "source": [
    "Kayis had taken more class hours in April"
   ]
  },
  {
   "cell_type": "raw",
   "id": "0dc197dc",
   "metadata": {},
   "source": [
    "Johnan had taken more class hours in May"
   ]
  },
  {
   "cell_type": "markdown",
   "id": "46c4c37f",
   "metadata": {},
   "source": [
    "Jikky had taken more class hours in June"
   ]
  },
  {
   "cell_type": "code",
   "execution_count": 509,
   "id": "34f1b969",
   "metadata": {},
   "outputs": [
    {
     "data": {
      "text/plain": [
       "Mode of class\n",
       "Online      80\n",
       "Physical    11\n",
       "dtype: int64"
      ]
     },
     "execution_count": 509,
     "metadata": {},
     "output_type": "execute_result"
    }
   ],
   "source": [
    "jm=pd.crosstab(WH['Johnan'],WH['Mode of class']).sum()\n",
    "jm"
   ]
  },
  {
   "cell_type": "code",
   "execution_count": 510,
   "id": "b60444ab",
   "metadata": {},
   "outputs": [
    {
     "data": {
      "text/plain": [
       "Mode of class\n",
       "Online      80\n",
       "Physical    11\n",
       "dtype: int64"
      ]
     },
     "execution_count": 510,
     "metadata": {},
     "output_type": "execute_result"
    }
   ],
   "source": [
    "Km=pd.crosstab(WH['Sinny'],WH['Mode of class']).sum()\n",
    "Km"
   ]
  },
  {
   "cell_type": "code",
   "execution_count": 511,
   "id": "ccc00596",
   "metadata": {},
   "outputs": [
    {
     "data": {
      "text/plain": [
       "Mode of class\n",
       "Online      80\n",
       "Physical    11\n",
       "dtype: int64"
      ]
     },
     "execution_count": 511,
     "metadata": {},
     "output_type": "execute_result"
    }
   ],
   "source": [
    "sm=pd.crosstab(WH['Sinny'],WH['Mode of class']).sum()\n",
    "sm"
   ]
  },
  {
   "cell_type": "code",
   "execution_count": 512,
   "id": "ecd7d1b3",
   "metadata": {},
   "outputs": [
    {
     "data": {
      "text/plain": [
       "Month  Mode of class\n",
       "4      Online           25\n",
       "5      Online           24\n",
       "       Physical          5\n",
       "6      Online           31\n",
       "       Physical          6\n",
       "Name: Mode of class, dtype: int64"
      ]
     },
     "execution_count": 512,
     "metadata": {},
     "output_type": "execute_result"
    }
   ],
   "source": [
    "WH.groupby('Month')['Mode of class'].value_counts()"
   ]
  },
  {
   "cell_type": "raw",
   "id": "6f644256",
   "metadata": {},
   "source": [
    "The most of Online class is taken in June"
   ]
  },
  {
   "cell_type": "raw",
   "id": "ab175d28",
   "metadata": {},
   "source": [
    "The most of Physical classes is taken in June"
   ]
  },
  {
   "cell_type": "code",
   "execution_count": 513,
   "id": "551295f3",
   "metadata": {},
   "outputs": [
    {
     "data": {
      "text/html": [
       "<div>\n",
       "<style scoped>\n",
       "    .dataframe tbody tr th:only-of-type {\n",
       "        vertical-align: middle;\n",
       "    }\n",
       "\n",
       "    .dataframe tbody tr th {\n",
       "        vertical-align: top;\n",
       "    }\n",
       "\n",
       "    .dataframe thead th {\n",
       "        text-align: right;\n",
       "    }\n",
       "</style>\n",
       "<table border=\"1\" class=\"dataframe\">\n",
       "  <thead>\n",
       "    <tr style=\"text-align: right;\">\n",
       "      <th></th>\n",
       "      <th>Mode of class</th>\n",
       "    </tr>\n",
       "    <tr>\n",
       "      <th>Month</th>\n",
       "      <th></th>\n",
       "    </tr>\n",
       "  </thead>\n",
       "  <tbody>\n",
       "    <tr>\n",
       "      <th>4</th>\n",
       "      <td>25</td>\n",
       "    </tr>\n",
       "    <tr>\n",
       "      <th>5</th>\n",
       "      <td>29</td>\n",
       "    </tr>\n",
       "    <tr>\n",
       "      <th>6</th>\n",
       "      <td>37</td>\n",
       "    </tr>\n",
       "  </tbody>\n",
       "</table>\n",
       "</div>"
      ],
      "text/plain": [
       "       Mode of class\n",
       "Month               \n",
       "4                 25\n",
       "5                 29\n",
       "6                 37"
      ]
     },
     "execution_count": 513,
     "metadata": {},
     "output_type": "execute_result"
    }
   ],
   "source": [
    "WH.groupby('Month')[['Mode of class']].count()"
   ]
  },
  {
   "cell_type": "markdown",
   "id": "3b80fe18",
   "metadata": {},
   "source": [
    "# Find by which time hour, most of the class had taken in month June"
   ]
  },
  {
   "cell_type": "code",
   "execution_count": 514,
   "id": "096f7df8",
   "metadata": {},
   "outputs": [
    {
     "data": {
      "text/plain": [
       "0    9:30 am - 11:30 am\n",
       "Name: Time, dtype: object"
      ]
     },
     "execution_count": 514,
     "metadata": {},
     "output_type": "execute_result"
    }
   ],
   "source": [
    "WH['Time'].mode()"
   ]
  },
  {
   "cell_type": "raw",
   "id": "5e6f8b3c",
   "metadata": {},
   "source": [
    "most of the classes had taken in these time hour - 9.30am to 11.30am. `"
   ]
  },
  {
   "cell_type": "code",
   "execution_count": 515,
   "id": "5ed2b151",
   "metadata": {},
   "outputs": [
    {
     "data": {
      "text/plain": [
       "Month  Time               \n",
       "4      9:30 am- 10:30 am      12\n",
       "       11:30 am - 12:30 pm     8\n",
       "       9:30 am - 11:30 am      3\n",
       "       10:30 am- 11:30 am      1\n",
       "       11:30 am -  1:00 pm     1\n",
       "5      9:30 am - 11:30 am     17\n",
       "       1:30 pm- 3:30 pm        3\n",
       "       9:30am-12:00am          2\n",
       "       9:30am:4:30pm           2\n",
       "       2: 30PM - 3:50 PM       1\n",
       "       3: 00PM - 3:30 PM       1\n",
       "       9:30 am - 11:40 am      1\n",
       "       9:30am-1 PM             1\n",
       "       9:30am-3:30pm           1\n",
       "6      2:30 Pm-4:30pm         14\n",
       "       11:30 am- 1:30 Pm       9\n",
       "       9:30 am - 11:30 am      9\n",
       "       10:00 Am-3:30 Pm        1\n",
       "       10:00 am - 11:30 am     1\n",
       "       12:15 pm -12:45 pm      1\n",
       "       2:30 pm -4:00 pm        1\n",
       "       9:30am-3:30pm           1\n",
       "Name: Time, dtype: int64"
      ]
     },
     "execution_count": 515,
     "metadata": {},
     "output_type": "execute_result"
    }
   ],
   "source": [
    "WH.groupby('Month')['Time'].value_counts()"
   ]
  },
  {
   "cell_type": "raw",
   "id": "2f9191c8",
   "metadata": {},
   "source": [
    "The mentors mostly took the class from 9.30am to 10.30am in April"
   ]
  },
  {
   "cell_type": "raw",
   "id": "e738147b",
   "metadata": {},
   "source": [
    "The mentors mostly took the class from 9.30am to 11.30am in May."
   ]
  },
  {
   "cell_type": "raw",
   "id": "c55820a6",
   "metadata": {},
   "source": [
    "The mentors mostly took the class from 2.30pm to 4.30pm in June"
   ]
  },
  {
   "cell_type": "code",
   "execution_count": 516,
   "id": "dce0e9e6",
   "metadata": {},
   "outputs": [
    {
     "data": {
      "text/html": [
       "<div>\n",
       "<style scoped>\n",
       "    .dataframe tbody tr th:only-of-type {\n",
       "        vertical-align: middle;\n",
       "    }\n",
       "\n",
       "    .dataframe tbody tr th {\n",
       "        vertical-align: top;\n",
       "    }\n",
       "\n",
       "    .dataframe thead th {\n",
       "        text-align: right;\n",
       "    }\n",
       "</style>\n",
       "<table border=\"1\" class=\"dataframe\">\n",
       "  <thead>\n",
       "    <tr style=\"text-align: right;\">\n",
       "      <th></th>\n",
       "      <th>Time</th>\n",
       "    </tr>\n",
       "    <tr>\n",
       "      <th>Month</th>\n",
       "      <th></th>\n",
       "    </tr>\n",
       "  </thead>\n",
       "  <tbody>\n",
       "    <tr>\n",
       "      <th>4</th>\n",
       "      <td>25</td>\n",
       "    </tr>\n",
       "    <tr>\n",
       "      <th>5</th>\n",
       "      <td>29</td>\n",
       "    </tr>\n",
       "    <tr>\n",
       "      <th>6</th>\n",
       "      <td>37</td>\n",
       "    </tr>\n",
       "  </tbody>\n",
       "</table>\n",
       "</div>"
      ],
      "text/plain": [
       "       Time\n",
       "Month      \n",
       "4        25\n",
       "5        29\n",
       "6        37"
      ]
     },
     "execution_count": 516,
     "metadata": {},
     "output_type": "execute_result"
    }
   ],
   "source": [
    "WH.groupby('Month')[['Time']].count()"
   ]
  },
  {
   "cell_type": "code",
   "execution_count": 517,
   "id": "b10bfe4b",
   "metadata": {},
   "outputs": [
    {
     "data": {
      "text/html": [
       "<div>\n",
       "<style scoped>\n",
       "    .dataframe tbody tr th:only-of-type {\n",
       "        vertical-align: middle;\n",
       "    }\n",
       "\n",
       "    .dataframe tbody tr th {\n",
       "        vertical-align: top;\n",
       "    }\n",
       "\n",
       "    .dataframe thead th {\n",
       "        text-align: right;\n",
       "    }\n",
       "</style>\n",
       "<table border=\"1\" class=\"dataframe\">\n",
       "  <thead>\n",
       "    <tr style=\"text-align: right;\">\n",
       "      <th></th>\n",
       "      <th>Jikky</th>\n",
       "      <th>Kayis</th>\n",
       "      <th>Sinny</th>\n",
       "      <th>Criji</th>\n",
       "      <th>Johnan</th>\n",
       "      <th>Month</th>\n",
       "      <th>year</th>\n",
       "      <th>Day</th>\n",
       "    </tr>\n",
       "  </thead>\n",
       "  <tbody>\n",
       "    <tr>\n",
       "      <th>count</th>\n",
       "      <td>91.000000</td>\n",
       "      <td>91.000000</td>\n",
       "      <td>91.000000</td>\n",
       "      <td>91.000000</td>\n",
       "      <td>91.000000</td>\n",
       "      <td>91.000000</td>\n",
       "      <td>91.0</td>\n",
       "      <td>91.000000</td>\n",
       "    </tr>\n",
       "    <tr>\n",
       "      <th>mean</th>\n",
       "      <td>0.782418</td>\n",
       "      <td>0.325275</td>\n",
       "      <td>0.598901</td>\n",
       "      <td>0.472527</td>\n",
       "      <td>0.252747</td>\n",
       "      <td>5.131868</td>\n",
       "      <td>2022.0</td>\n",
       "      <td>17.967033</td>\n",
       "    </tr>\n",
       "    <tr>\n",
       "      <th>std</th>\n",
       "      <td>1.116701</td>\n",
       "      <td>0.888393</td>\n",
       "      <td>1.236527</td>\n",
       "      <td>1.184067</td>\n",
       "      <td>0.940962</td>\n",
       "      <td>0.819333</td>\n",
       "      <td>0.0</td>\n",
       "      <td>8.430699</td>\n",
       "    </tr>\n",
       "    <tr>\n",
       "      <th>min</th>\n",
       "      <td>0.000000</td>\n",
       "      <td>0.000000</td>\n",
       "      <td>0.000000</td>\n",
       "      <td>0.000000</td>\n",
       "      <td>0.000000</td>\n",
       "      <td>4.000000</td>\n",
       "      <td>2022.0</td>\n",
       "      <td>1.000000</td>\n",
       "    </tr>\n",
       "    <tr>\n",
       "      <th>25%</th>\n",
       "      <td>0.000000</td>\n",
       "      <td>0.000000</td>\n",
       "      <td>0.000000</td>\n",
       "      <td>0.000000</td>\n",
       "      <td>0.000000</td>\n",
       "      <td>4.000000</td>\n",
       "      <td>2022.0</td>\n",
       "      <td>11.500000</td>\n",
       "    </tr>\n",
       "    <tr>\n",
       "      <th>50%</th>\n",
       "      <td>0.000000</td>\n",
       "      <td>0.000000</td>\n",
       "      <td>0.000000</td>\n",
       "      <td>0.000000</td>\n",
       "      <td>0.000000</td>\n",
       "      <td>5.000000</td>\n",
       "      <td>2022.0</td>\n",
       "      <td>20.000000</td>\n",
       "    </tr>\n",
       "    <tr>\n",
       "      <th>75%</th>\n",
       "      <td>2.000000</td>\n",
       "      <td>0.000000</td>\n",
       "      <td>0.500000</td>\n",
       "      <td>0.000000</td>\n",
       "      <td>0.000000</td>\n",
       "      <td>6.000000</td>\n",
       "      <td>2022.0</td>\n",
       "      <td>24.500000</td>\n",
       "    </tr>\n",
       "    <tr>\n",
       "      <th>max</th>\n",
       "      <td>7.000000</td>\n",
       "      <td>7.000000</td>\n",
       "      <td>7.000000</td>\n",
       "      <td>7.000000</td>\n",
       "      <td>7.000000</td>\n",
       "      <td>6.000000</td>\n",
       "      <td>2022.0</td>\n",
       "      <td>31.000000</td>\n",
       "    </tr>\n",
       "  </tbody>\n",
       "</table>\n",
       "</div>"
      ],
      "text/plain": [
       "           Jikky      Kayis      Sinny      Criji     Johnan      Month  \\\n",
       "count  91.000000  91.000000  91.000000  91.000000  91.000000  91.000000   \n",
       "mean    0.782418   0.325275   0.598901   0.472527   0.252747   5.131868   \n",
       "std     1.116701   0.888393   1.236527   1.184067   0.940962   0.819333   \n",
       "min     0.000000   0.000000   0.000000   0.000000   0.000000   4.000000   \n",
       "25%     0.000000   0.000000   0.000000   0.000000   0.000000   4.000000   \n",
       "50%     0.000000   0.000000   0.000000   0.000000   0.000000   5.000000   \n",
       "75%     2.000000   0.000000   0.500000   0.000000   0.000000   6.000000   \n",
       "max     7.000000   7.000000   7.000000   7.000000   7.000000   6.000000   \n",
       "\n",
       "         year        Day  \n",
       "count    91.0  91.000000  \n",
       "mean   2022.0  17.967033  \n",
       "std       0.0   8.430699  \n",
       "min    2022.0   1.000000  \n",
       "25%    2022.0  11.500000  \n",
       "50%    2022.0  20.000000  \n",
       "75%    2022.0  24.500000  \n",
       "max    2022.0  31.000000  "
      ]
     },
     "execution_count": 517,
     "metadata": {},
     "output_type": "execute_result"
    }
   ],
   "source": [
    "WH.describe()"
   ]
  },
  {
   "cell_type": "raw",
   "id": "45c2ff8f",
   "metadata": {},
   "source": [
    "If the the payment is 100 for one hour , then how much salary"
   ]
  },
  {
   "cell_type": "code",
   "execution_count": 518,
   "id": "9a2fc0c3",
   "metadata": {
    "scrolled": true
   },
   "outputs": [
    {
     "data": {
      "text/html": [
       "<div>\n",
       "<style scoped>\n",
       "    .dataframe tbody tr th:only-of-type {\n",
       "        vertical-align: middle;\n",
       "    }\n",
       "\n",
       "    .dataframe tbody tr th {\n",
       "        vertical-align: top;\n",
       "    }\n",
       "\n",
       "    .dataframe thead th {\n",
       "        text-align: right;\n",
       "    }\n",
       "</style>\n",
       "<table border=\"1\" class=\"dataframe\">\n",
       "  <thead>\n",
       "    <tr style=\"text-align: right;\">\n",
       "      <th></th>\n",
       "      <th>Date</th>\n",
       "      <th>Time</th>\n",
       "      <th>Jikky</th>\n",
       "      <th>Kayis</th>\n",
       "      <th>Sinny</th>\n",
       "      <th>Criji</th>\n",
       "      <th>Johnan</th>\n",
       "      <th>Mode of class</th>\n",
       "      <th>Month</th>\n",
       "      <th>year</th>\n",
       "      <th>Day</th>\n",
       "      <th>Salary_1_jikky</th>\n",
       "    </tr>\n",
       "  </thead>\n",
       "  <tbody>\n",
       "    <tr>\n",
       "      <th>0</th>\n",
       "      <td>2022-04-11</td>\n",
       "      <td>9:30 am- 10:30 am</td>\n",
       "      <td>1.0</td>\n",
       "      <td>1.0</td>\n",
       "      <td>0.0</td>\n",
       "      <td>0.0</td>\n",
       "      <td>0.0</td>\n",
       "      <td>Online</td>\n",
       "      <td>4</td>\n",
       "      <td>2022</td>\n",
       "      <td>11</td>\n",
       "      <td>100.0</td>\n",
       "    </tr>\n",
       "    <tr>\n",
       "      <th>1</th>\n",
       "      <td>2022-04-11</td>\n",
       "      <td>10:30 am- 11:30 am</td>\n",
       "      <td>1.0</td>\n",
       "      <td>1.0</td>\n",
       "      <td>0.0</td>\n",
       "      <td>0.0</td>\n",
       "      <td>0.0</td>\n",
       "      <td>Online</td>\n",
       "      <td>4</td>\n",
       "      <td>2022</td>\n",
       "      <td>11</td>\n",
       "      <td>100.0</td>\n",
       "    </tr>\n",
       "  </tbody>\n",
       "</table>\n",
       "</div>"
      ],
      "text/plain": [
       "        Date                Time  Jikky  Kayis  Sinny  Criji  Johnan  \\\n",
       "0 2022-04-11   9:30 am- 10:30 am    1.0    1.0    0.0    0.0     0.0   \n",
       "1 2022-04-11  10:30 am- 11:30 am    1.0    1.0    0.0    0.0     0.0   \n",
       "\n",
       "  Mode of class  Month  year  Day  Salary_1_jikky  \n",
       "0        Online      4  2022   11           100.0  \n",
       "1        Online      4  2022   11           100.0  "
      ]
     },
     "execution_count": 518,
     "metadata": {},
     "output_type": "execute_result"
    }
   ],
   "source": [
    "WH['Salary_1_jikky']=WH['Jikky']*100\n",
    "WH.head(2)"
   ]
  },
  {
   "cell_type": "code",
   "execution_count": 519,
   "id": "cfdc5e3c",
   "metadata": {},
   "outputs": [
    {
     "data": {
      "text/html": [
       "<div>\n",
       "<style scoped>\n",
       "    .dataframe tbody tr th:only-of-type {\n",
       "        vertical-align: middle;\n",
       "    }\n",
       "\n",
       "    .dataframe tbody tr th {\n",
       "        vertical-align: top;\n",
       "    }\n",
       "\n",
       "    .dataframe thead th {\n",
       "        text-align: right;\n",
       "    }\n",
       "</style>\n",
       "<table border=\"1\" class=\"dataframe\">\n",
       "  <thead>\n",
       "    <tr style=\"text-align: right;\">\n",
       "      <th></th>\n",
       "      <th>Date</th>\n",
       "      <th>Time</th>\n",
       "      <th>Jikky</th>\n",
       "      <th>Kayis</th>\n",
       "      <th>Sinny</th>\n",
       "      <th>Criji</th>\n",
       "      <th>Johnan</th>\n",
       "      <th>Mode of class</th>\n",
       "      <th>Month</th>\n",
       "      <th>year</th>\n",
       "      <th>Day</th>\n",
       "      <th>Salary_1_jikky</th>\n",
       "      <th>Salary_1_kayis</th>\n",
       "    </tr>\n",
       "  </thead>\n",
       "  <tbody>\n",
       "    <tr>\n",
       "      <th>0</th>\n",
       "      <td>2022-04-11</td>\n",
       "      <td>9:30 am- 10:30 am</td>\n",
       "      <td>1.0</td>\n",
       "      <td>1.0</td>\n",
       "      <td>0.0</td>\n",
       "      <td>0.0</td>\n",
       "      <td>0.0</td>\n",
       "      <td>Online</td>\n",
       "      <td>4</td>\n",
       "      <td>2022</td>\n",
       "      <td>11</td>\n",
       "      <td>100.0</td>\n",
       "      <td>100.0</td>\n",
       "    </tr>\n",
       "    <tr>\n",
       "      <th>1</th>\n",
       "      <td>2022-04-11</td>\n",
       "      <td>10:30 am- 11:30 am</td>\n",
       "      <td>1.0</td>\n",
       "      <td>1.0</td>\n",
       "      <td>0.0</td>\n",
       "      <td>0.0</td>\n",
       "      <td>0.0</td>\n",
       "      <td>Online</td>\n",
       "      <td>4</td>\n",
       "      <td>2022</td>\n",
       "      <td>11</td>\n",
       "      <td>100.0</td>\n",
       "      <td>100.0</td>\n",
       "    </tr>\n",
       "  </tbody>\n",
       "</table>\n",
       "</div>"
      ],
      "text/plain": [
       "        Date                Time  Jikky  Kayis  Sinny  Criji  Johnan  \\\n",
       "0 2022-04-11   9:30 am- 10:30 am    1.0    1.0    0.0    0.0     0.0   \n",
       "1 2022-04-11  10:30 am- 11:30 am    1.0    1.0    0.0    0.0     0.0   \n",
       "\n",
       "  Mode of class  Month  year  Day  Salary_1_jikky  Salary_1_kayis  \n",
       "0        Online      4  2022   11           100.0           100.0  \n",
       "1        Online      4  2022   11           100.0           100.0  "
      ]
     },
     "execution_count": 519,
     "metadata": {},
     "output_type": "execute_result"
    }
   ],
   "source": [
    "WH['Salary_1_kayis']=WH['Kayis']*100\n",
    "WH.head(2)"
   ]
  },
  {
   "cell_type": "code",
   "execution_count": 520,
   "id": "c9c844fe",
   "metadata": {},
   "outputs": [
    {
     "data": {
      "text/html": [
       "<div>\n",
       "<style scoped>\n",
       "    .dataframe tbody tr th:only-of-type {\n",
       "        vertical-align: middle;\n",
       "    }\n",
       "\n",
       "    .dataframe tbody tr th {\n",
       "        vertical-align: top;\n",
       "    }\n",
       "\n",
       "    .dataframe thead th {\n",
       "        text-align: right;\n",
       "    }\n",
       "</style>\n",
       "<table border=\"1\" class=\"dataframe\">\n",
       "  <thead>\n",
       "    <tr style=\"text-align: right;\">\n",
       "      <th></th>\n",
       "      <th>Date</th>\n",
       "      <th>Time</th>\n",
       "      <th>Jikky</th>\n",
       "      <th>Kayis</th>\n",
       "      <th>Sinny</th>\n",
       "      <th>Criji</th>\n",
       "      <th>Johnan</th>\n",
       "      <th>Mode of class</th>\n",
       "      <th>Month</th>\n",
       "      <th>year</th>\n",
       "      <th>Day</th>\n",
       "      <th>Salary_1_jikky</th>\n",
       "      <th>Salary_1_kayis</th>\n",
       "      <th>Salary_1_sinny</th>\n",
       "    </tr>\n",
       "  </thead>\n",
       "  <tbody>\n",
       "    <tr>\n",
       "      <th>0</th>\n",
       "      <td>2022-04-11</td>\n",
       "      <td>9:30 am- 10:30 am</td>\n",
       "      <td>1.0</td>\n",
       "      <td>1.0</td>\n",
       "      <td>0.0</td>\n",
       "      <td>0.0</td>\n",
       "      <td>0.0</td>\n",
       "      <td>Online</td>\n",
       "      <td>4</td>\n",
       "      <td>2022</td>\n",
       "      <td>11</td>\n",
       "      <td>100.0</td>\n",
       "      <td>100.0</td>\n",
       "      <td>0.0</td>\n",
       "    </tr>\n",
       "    <tr>\n",
       "      <th>1</th>\n",
       "      <td>2022-04-11</td>\n",
       "      <td>10:30 am- 11:30 am</td>\n",
       "      <td>1.0</td>\n",
       "      <td>1.0</td>\n",
       "      <td>0.0</td>\n",
       "      <td>0.0</td>\n",
       "      <td>0.0</td>\n",
       "      <td>Online</td>\n",
       "      <td>4</td>\n",
       "      <td>2022</td>\n",
       "      <td>11</td>\n",
       "      <td>100.0</td>\n",
       "      <td>100.0</td>\n",
       "      <td>0.0</td>\n",
       "    </tr>\n",
       "  </tbody>\n",
       "</table>\n",
       "</div>"
      ],
      "text/plain": [
       "        Date                Time  Jikky  Kayis  Sinny  Criji  Johnan  \\\n",
       "0 2022-04-11   9:30 am- 10:30 am    1.0    1.0    0.0    0.0     0.0   \n",
       "1 2022-04-11  10:30 am- 11:30 am    1.0    1.0    0.0    0.0     0.0   \n",
       "\n",
       "  Mode of class  Month  year  Day  Salary_1_jikky  Salary_1_kayis  \\\n",
       "0        Online      4  2022   11           100.0           100.0   \n",
       "1        Online      4  2022   11           100.0           100.0   \n",
       "\n",
       "   Salary_1_sinny  \n",
       "0             0.0  \n",
       "1             0.0  "
      ]
     },
     "execution_count": 520,
     "metadata": {},
     "output_type": "execute_result"
    }
   ],
   "source": [
    "WH['Salary_1_sinny']=WH['Sinny']*100\n",
    "WH.head(2)"
   ]
  },
  {
   "cell_type": "code",
   "execution_count": 521,
   "id": "c2ca1e0e",
   "metadata": {},
   "outputs": [
    {
     "data": {
      "text/html": [
       "<div>\n",
       "<style scoped>\n",
       "    .dataframe tbody tr th:only-of-type {\n",
       "        vertical-align: middle;\n",
       "    }\n",
       "\n",
       "    .dataframe tbody tr th {\n",
       "        vertical-align: top;\n",
       "    }\n",
       "\n",
       "    .dataframe thead th {\n",
       "        text-align: right;\n",
       "    }\n",
       "</style>\n",
       "<table border=\"1\" class=\"dataframe\">\n",
       "  <thead>\n",
       "    <tr style=\"text-align: right;\">\n",
       "      <th></th>\n",
       "      <th>Date</th>\n",
       "      <th>Time</th>\n",
       "      <th>Jikky</th>\n",
       "      <th>Kayis</th>\n",
       "      <th>Sinny</th>\n",
       "      <th>Criji</th>\n",
       "      <th>Johnan</th>\n",
       "      <th>Mode of class</th>\n",
       "      <th>Month</th>\n",
       "      <th>year</th>\n",
       "      <th>Day</th>\n",
       "      <th>Salary_1_jikky</th>\n",
       "      <th>Salary_1_kayis</th>\n",
       "      <th>Salary_1_sinny</th>\n",
       "      <th>Salary_1_criji</th>\n",
       "    </tr>\n",
       "  </thead>\n",
       "  <tbody>\n",
       "    <tr>\n",
       "      <th>0</th>\n",
       "      <td>2022-04-11</td>\n",
       "      <td>9:30 am- 10:30 am</td>\n",
       "      <td>1.0</td>\n",
       "      <td>1.0</td>\n",
       "      <td>0.0</td>\n",
       "      <td>0.0</td>\n",
       "      <td>0.0</td>\n",
       "      <td>Online</td>\n",
       "      <td>4</td>\n",
       "      <td>2022</td>\n",
       "      <td>11</td>\n",
       "      <td>100.0</td>\n",
       "      <td>100.0</td>\n",
       "      <td>0.0</td>\n",
       "      <td>0.0</td>\n",
       "    </tr>\n",
       "    <tr>\n",
       "      <th>1</th>\n",
       "      <td>2022-04-11</td>\n",
       "      <td>10:30 am- 11:30 am</td>\n",
       "      <td>1.0</td>\n",
       "      <td>1.0</td>\n",
       "      <td>0.0</td>\n",
       "      <td>0.0</td>\n",
       "      <td>0.0</td>\n",
       "      <td>Online</td>\n",
       "      <td>4</td>\n",
       "      <td>2022</td>\n",
       "      <td>11</td>\n",
       "      <td>100.0</td>\n",
       "      <td>100.0</td>\n",
       "      <td>0.0</td>\n",
       "      <td>0.0</td>\n",
       "    </tr>\n",
       "  </tbody>\n",
       "</table>\n",
       "</div>"
      ],
      "text/plain": [
       "        Date                Time  Jikky  Kayis  Sinny  Criji  Johnan  \\\n",
       "0 2022-04-11   9:30 am- 10:30 am    1.0    1.0    0.0    0.0     0.0   \n",
       "1 2022-04-11  10:30 am- 11:30 am    1.0    1.0    0.0    0.0     0.0   \n",
       "\n",
       "  Mode of class  Month  year  Day  Salary_1_jikky  Salary_1_kayis  \\\n",
       "0        Online      4  2022   11           100.0           100.0   \n",
       "1        Online      4  2022   11           100.0           100.0   \n",
       "\n",
       "   Salary_1_sinny  Salary_1_criji  \n",
       "0             0.0             0.0  \n",
       "1             0.0             0.0  "
      ]
     },
     "execution_count": 521,
     "metadata": {},
     "output_type": "execute_result"
    }
   ],
   "source": [
    "WH['Salary_1_criji']=WH['Criji']*100\n",
    "WH.head(2)"
   ]
  },
  {
   "cell_type": "code",
   "execution_count": 522,
   "id": "4c50ae1c",
   "metadata": {},
   "outputs": [
    {
     "data": {
      "text/html": [
       "<div>\n",
       "<style scoped>\n",
       "    .dataframe tbody tr th:only-of-type {\n",
       "        vertical-align: middle;\n",
       "    }\n",
       "\n",
       "    .dataframe tbody tr th {\n",
       "        vertical-align: top;\n",
       "    }\n",
       "\n",
       "    .dataframe thead th {\n",
       "        text-align: right;\n",
       "    }\n",
       "</style>\n",
       "<table border=\"1\" class=\"dataframe\">\n",
       "  <thead>\n",
       "    <tr style=\"text-align: right;\">\n",
       "      <th></th>\n",
       "      <th>Date</th>\n",
       "      <th>Time</th>\n",
       "      <th>Jikky</th>\n",
       "      <th>Kayis</th>\n",
       "      <th>Sinny</th>\n",
       "      <th>Criji</th>\n",
       "      <th>Johnan</th>\n",
       "      <th>Mode of class</th>\n",
       "      <th>Month</th>\n",
       "      <th>year</th>\n",
       "      <th>Day</th>\n",
       "      <th>Salary_1_jikky</th>\n",
       "      <th>Salary_1_kayis</th>\n",
       "      <th>Salary_1_sinny</th>\n",
       "      <th>Salary_1_criji</th>\n",
       "      <th>Salary_1_Johnan</th>\n",
       "    </tr>\n",
       "  </thead>\n",
       "  <tbody>\n",
       "    <tr>\n",
       "      <th>0</th>\n",
       "      <td>2022-04-11</td>\n",
       "      <td>9:30 am- 10:30 am</td>\n",
       "      <td>1.0</td>\n",
       "      <td>1.0</td>\n",
       "      <td>0.0</td>\n",
       "      <td>0.0</td>\n",
       "      <td>0.0</td>\n",
       "      <td>Online</td>\n",
       "      <td>4</td>\n",
       "      <td>2022</td>\n",
       "      <td>11</td>\n",
       "      <td>100.0</td>\n",
       "      <td>100.0</td>\n",
       "      <td>0.0</td>\n",
       "      <td>0.0</td>\n",
       "      <td>0.0</td>\n",
       "    </tr>\n",
       "    <tr>\n",
       "      <th>1</th>\n",
       "      <td>2022-04-11</td>\n",
       "      <td>10:30 am- 11:30 am</td>\n",
       "      <td>1.0</td>\n",
       "      <td>1.0</td>\n",
       "      <td>0.0</td>\n",
       "      <td>0.0</td>\n",
       "      <td>0.0</td>\n",
       "      <td>Online</td>\n",
       "      <td>4</td>\n",
       "      <td>2022</td>\n",
       "      <td>11</td>\n",
       "      <td>100.0</td>\n",
       "      <td>100.0</td>\n",
       "      <td>0.0</td>\n",
       "      <td>0.0</td>\n",
       "      <td>0.0</td>\n",
       "    </tr>\n",
       "  </tbody>\n",
       "</table>\n",
       "</div>"
      ],
      "text/plain": [
       "        Date                Time  Jikky  Kayis  Sinny  Criji  Johnan  \\\n",
       "0 2022-04-11   9:30 am- 10:30 am    1.0    1.0    0.0    0.0     0.0   \n",
       "1 2022-04-11  10:30 am- 11:30 am    1.0    1.0    0.0    0.0     0.0   \n",
       "\n",
       "  Mode of class  Month  year  Day  Salary_1_jikky  Salary_1_kayis  \\\n",
       "0        Online      4  2022   11           100.0           100.0   \n",
       "1        Online      4  2022   11           100.0           100.0   \n",
       "\n",
       "   Salary_1_sinny  Salary_1_criji  Salary_1_Johnan  \n",
       "0             0.0             0.0              0.0  \n",
       "1             0.0             0.0              0.0  "
      ]
     },
     "execution_count": 522,
     "metadata": {},
     "output_type": "execute_result"
    }
   ],
   "source": [
    "WH['Salary_1_Johnan']=WH['Johnan']*100\n",
    "WH.head(2)"
   ]
  },
  {
   "cell_type": "raw",
   "id": "eefb0760",
   "metadata": {},
   "source": [
    "If the the payment for one hour is 150 means how much salary did they got in each month"
   ]
  },
  {
   "cell_type": "code",
   "execution_count": 523,
   "id": "5d5c2338",
   "metadata": {},
   "outputs": [
    {
     "data": {
      "text/html": [
       "<div>\n",
       "<style scoped>\n",
       "    .dataframe tbody tr th:only-of-type {\n",
       "        vertical-align: middle;\n",
       "    }\n",
       "\n",
       "    .dataframe tbody tr th {\n",
       "        vertical-align: top;\n",
       "    }\n",
       "\n",
       "    .dataframe thead th {\n",
       "        text-align: right;\n",
       "    }\n",
       "</style>\n",
       "<table border=\"1\" class=\"dataframe\">\n",
       "  <thead>\n",
       "    <tr style=\"text-align: right;\">\n",
       "      <th></th>\n",
       "      <th>Date</th>\n",
       "      <th>Time</th>\n",
       "      <th>Jikky</th>\n",
       "      <th>Kayis</th>\n",
       "      <th>Sinny</th>\n",
       "      <th>Criji</th>\n",
       "      <th>Johnan</th>\n",
       "      <th>Mode of class</th>\n",
       "      <th>Month</th>\n",
       "      <th>year</th>\n",
       "      <th>Day</th>\n",
       "      <th>Salary_1_jikky</th>\n",
       "      <th>Salary_1_kayis</th>\n",
       "      <th>Salary_1_sinny</th>\n",
       "      <th>Salary_1_criji</th>\n",
       "      <th>Salary_1_Johnan</th>\n",
       "      <th>Salary_2_jikky</th>\n",
       "    </tr>\n",
       "  </thead>\n",
       "  <tbody>\n",
       "    <tr>\n",
       "      <th>0</th>\n",
       "      <td>2022-04-11</td>\n",
       "      <td>9:30 am- 10:30 am</td>\n",
       "      <td>1.0</td>\n",
       "      <td>1.0</td>\n",
       "      <td>0.0</td>\n",
       "      <td>0.0</td>\n",
       "      <td>0.0</td>\n",
       "      <td>Online</td>\n",
       "      <td>4</td>\n",
       "      <td>2022</td>\n",
       "      <td>11</td>\n",
       "      <td>100.0</td>\n",
       "      <td>100.0</td>\n",
       "      <td>0.0</td>\n",
       "      <td>0.0</td>\n",
       "      <td>0.0</td>\n",
       "      <td>150.0</td>\n",
       "    </tr>\n",
       "    <tr>\n",
       "      <th>1</th>\n",
       "      <td>2022-04-11</td>\n",
       "      <td>10:30 am- 11:30 am</td>\n",
       "      <td>1.0</td>\n",
       "      <td>1.0</td>\n",
       "      <td>0.0</td>\n",
       "      <td>0.0</td>\n",
       "      <td>0.0</td>\n",
       "      <td>Online</td>\n",
       "      <td>4</td>\n",
       "      <td>2022</td>\n",
       "      <td>11</td>\n",
       "      <td>100.0</td>\n",
       "      <td>100.0</td>\n",
       "      <td>0.0</td>\n",
       "      <td>0.0</td>\n",
       "      <td>0.0</td>\n",
       "      <td>150.0</td>\n",
       "    </tr>\n",
       "  </tbody>\n",
       "</table>\n",
       "</div>"
      ],
      "text/plain": [
       "        Date                Time  Jikky  Kayis  Sinny  Criji  Johnan  \\\n",
       "0 2022-04-11   9:30 am- 10:30 am    1.0    1.0    0.0    0.0     0.0   \n",
       "1 2022-04-11  10:30 am- 11:30 am    1.0    1.0    0.0    0.0     0.0   \n",
       "\n",
       "  Mode of class  Month  year  Day  Salary_1_jikky  Salary_1_kayis  \\\n",
       "0        Online      4  2022   11           100.0           100.0   \n",
       "1        Online      4  2022   11           100.0           100.0   \n",
       "\n",
       "   Salary_1_sinny  Salary_1_criji  Salary_1_Johnan  Salary_2_jikky  \n",
       "0             0.0             0.0              0.0           150.0  \n",
       "1             0.0             0.0              0.0           150.0  "
      ]
     },
     "execution_count": 523,
     "metadata": {},
     "output_type": "execute_result"
    }
   ],
   "source": [
    "WH['Salary_2_jikky']=WH['Jikky']*150\n",
    "WH.head(2)"
   ]
  },
  {
   "cell_type": "code",
   "execution_count": 524,
   "id": "a9d73b50",
   "metadata": {},
   "outputs": [
    {
     "data": {
      "text/html": [
       "<div>\n",
       "<style scoped>\n",
       "    .dataframe tbody tr th:only-of-type {\n",
       "        vertical-align: middle;\n",
       "    }\n",
       "\n",
       "    .dataframe tbody tr th {\n",
       "        vertical-align: top;\n",
       "    }\n",
       "\n",
       "    .dataframe thead th {\n",
       "        text-align: right;\n",
       "    }\n",
       "</style>\n",
       "<table border=\"1\" class=\"dataframe\">\n",
       "  <thead>\n",
       "    <tr style=\"text-align: right;\">\n",
       "      <th></th>\n",
       "      <th>Date</th>\n",
       "      <th>Time</th>\n",
       "      <th>Jikky</th>\n",
       "      <th>Kayis</th>\n",
       "      <th>Sinny</th>\n",
       "      <th>Criji</th>\n",
       "      <th>Johnan</th>\n",
       "      <th>Mode of class</th>\n",
       "      <th>Month</th>\n",
       "      <th>year</th>\n",
       "      <th>Day</th>\n",
       "      <th>Salary_1_jikky</th>\n",
       "      <th>Salary_1_kayis</th>\n",
       "      <th>Salary_1_sinny</th>\n",
       "      <th>Salary_1_criji</th>\n",
       "      <th>Salary_1_Johnan</th>\n",
       "      <th>Salary_2_jikky</th>\n",
       "      <th>Salary_2_kayis</th>\n",
       "    </tr>\n",
       "  </thead>\n",
       "  <tbody>\n",
       "    <tr>\n",
       "      <th>0</th>\n",
       "      <td>2022-04-11</td>\n",
       "      <td>9:30 am- 10:30 am</td>\n",
       "      <td>1.0</td>\n",
       "      <td>1.0</td>\n",
       "      <td>0.0</td>\n",
       "      <td>0.0</td>\n",
       "      <td>0.0</td>\n",
       "      <td>Online</td>\n",
       "      <td>4</td>\n",
       "      <td>2022</td>\n",
       "      <td>11</td>\n",
       "      <td>100.0</td>\n",
       "      <td>100.0</td>\n",
       "      <td>0.0</td>\n",
       "      <td>0.0</td>\n",
       "      <td>0.0</td>\n",
       "      <td>150.0</td>\n",
       "      <td>150.0</td>\n",
       "    </tr>\n",
       "    <tr>\n",
       "      <th>1</th>\n",
       "      <td>2022-04-11</td>\n",
       "      <td>10:30 am- 11:30 am</td>\n",
       "      <td>1.0</td>\n",
       "      <td>1.0</td>\n",
       "      <td>0.0</td>\n",
       "      <td>0.0</td>\n",
       "      <td>0.0</td>\n",
       "      <td>Online</td>\n",
       "      <td>4</td>\n",
       "      <td>2022</td>\n",
       "      <td>11</td>\n",
       "      <td>100.0</td>\n",
       "      <td>100.0</td>\n",
       "      <td>0.0</td>\n",
       "      <td>0.0</td>\n",
       "      <td>0.0</td>\n",
       "      <td>150.0</td>\n",
       "      <td>150.0</td>\n",
       "    </tr>\n",
       "  </tbody>\n",
       "</table>\n",
       "</div>"
      ],
      "text/plain": [
       "        Date                Time  Jikky  Kayis  Sinny  Criji  Johnan  \\\n",
       "0 2022-04-11   9:30 am- 10:30 am    1.0    1.0    0.0    0.0     0.0   \n",
       "1 2022-04-11  10:30 am- 11:30 am    1.0    1.0    0.0    0.0     0.0   \n",
       "\n",
       "  Mode of class  Month  year  Day  Salary_1_jikky  Salary_1_kayis  \\\n",
       "0        Online      4  2022   11           100.0           100.0   \n",
       "1        Online      4  2022   11           100.0           100.0   \n",
       "\n",
       "   Salary_1_sinny  Salary_1_criji  Salary_1_Johnan  Salary_2_jikky  \\\n",
       "0             0.0             0.0              0.0           150.0   \n",
       "1             0.0             0.0              0.0           150.0   \n",
       "\n",
       "   Salary_2_kayis  \n",
       "0           150.0  \n",
       "1           150.0  "
      ]
     },
     "execution_count": 524,
     "metadata": {},
     "output_type": "execute_result"
    }
   ],
   "source": [
    "WH['Salary_2_kayis']=WH['Kayis']*150\n",
    "WH.head(2)"
   ]
  },
  {
   "cell_type": "code",
   "execution_count": 525,
   "id": "820dfa42",
   "metadata": {},
   "outputs": [
    {
     "data": {
      "text/html": [
       "<div>\n",
       "<style scoped>\n",
       "    .dataframe tbody tr th:only-of-type {\n",
       "        vertical-align: middle;\n",
       "    }\n",
       "\n",
       "    .dataframe tbody tr th {\n",
       "        vertical-align: top;\n",
       "    }\n",
       "\n",
       "    .dataframe thead th {\n",
       "        text-align: right;\n",
       "    }\n",
       "</style>\n",
       "<table border=\"1\" class=\"dataframe\">\n",
       "  <thead>\n",
       "    <tr style=\"text-align: right;\">\n",
       "      <th></th>\n",
       "      <th>Date</th>\n",
       "      <th>Time</th>\n",
       "      <th>Jikky</th>\n",
       "      <th>Kayis</th>\n",
       "      <th>Sinny</th>\n",
       "      <th>Criji</th>\n",
       "      <th>Johnan</th>\n",
       "      <th>Mode of class</th>\n",
       "      <th>Month</th>\n",
       "      <th>year</th>\n",
       "      <th>Day</th>\n",
       "      <th>Salary_1_jikky</th>\n",
       "      <th>Salary_1_kayis</th>\n",
       "      <th>Salary_1_sinny</th>\n",
       "      <th>Salary_1_criji</th>\n",
       "      <th>Salary_1_Johnan</th>\n",
       "      <th>Salary_2_jikky</th>\n",
       "      <th>Salary_2_kayis</th>\n",
       "      <th>Salary_2_sinny</th>\n",
       "    </tr>\n",
       "  </thead>\n",
       "  <tbody>\n",
       "    <tr>\n",
       "      <th>0</th>\n",
       "      <td>2022-04-11</td>\n",
       "      <td>9:30 am- 10:30 am</td>\n",
       "      <td>1.0</td>\n",
       "      <td>1.0</td>\n",
       "      <td>0.0</td>\n",
       "      <td>0.0</td>\n",
       "      <td>0.0</td>\n",
       "      <td>Online</td>\n",
       "      <td>4</td>\n",
       "      <td>2022</td>\n",
       "      <td>11</td>\n",
       "      <td>100.0</td>\n",
       "      <td>100.0</td>\n",
       "      <td>0.0</td>\n",
       "      <td>0.0</td>\n",
       "      <td>0.0</td>\n",
       "      <td>150.0</td>\n",
       "      <td>150.0</td>\n",
       "      <td>0.0</td>\n",
       "    </tr>\n",
       "    <tr>\n",
       "      <th>1</th>\n",
       "      <td>2022-04-11</td>\n",
       "      <td>10:30 am- 11:30 am</td>\n",
       "      <td>1.0</td>\n",
       "      <td>1.0</td>\n",
       "      <td>0.0</td>\n",
       "      <td>0.0</td>\n",
       "      <td>0.0</td>\n",
       "      <td>Online</td>\n",
       "      <td>4</td>\n",
       "      <td>2022</td>\n",
       "      <td>11</td>\n",
       "      <td>100.0</td>\n",
       "      <td>100.0</td>\n",
       "      <td>0.0</td>\n",
       "      <td>0.0</td>\n",
       "      <td>0.0</td>\n",
       "      <td>150.0</td>\n",
       "      <td>150.0</td>\n",
       "      <td>0.0</td>\n",
       "    </tr>\n",
       "  </tbody>\n",
       "</table>\n",
       "</div>"
      ],
      "text/plain": [
       "        Date                Time  Jikky  Kayis  Sinny  Criji  Johnan  \\\n",
       "0 2022-04-11   9:30 am- 10:30 am    1.0    1.0    0.0    0.0     0.0   \n",
       "1 2022-04-11  10:30 am- 11:30 am    1.0    1.0    0.0    0.0     0.0   \n",
       "\n",
       "  Mode of class  Month  year  Day  Salary_1_jikky  Salary_1_kayis  \\\n",
       "0        Online      4  2022   11           100.0           100.0   \n",
       "1        Online      4  2022   11           100.0           100.0   \n",
       "\n",
       "   Salary_1_sinny  Salary_1_criji  Salary_1_Johnan  Salary_2_jikky  \\\n",
       "0             0.0             0.0              0.0           150.0   \n",
       "1             0.0             0.0              0.0           150.0   \n",
       "\n",
       "   Salary_2_kayis  Salary_2_sinny  \n",
       "0           150.0             0.0  \n",
       "1           150.0             0.0  "
      ]
     },
     "execution_count": 525,
     "metadata": {},
     "output_type": "execute_result"
    }
   ],
   "source": [
    "WH['Salary_2_sinny']=WH['Sinny']*150\n",
    "WH.head(2)"
   ]
  },
  {
   "cell_type": "code",
   "execution_count": 526,
   "id": "a7713684",
   "metadata": {},
   "outputs": [
    {
     "data": {
      "text/html": [
       "<div>\n",
       "<style scoped>\n",
       "    .dataframe tbody tr th:only-of-type {\n",
       "        vertical-align: middle;\n",
       "    }\n",
       "\n",
       "    .dataframe tbody tr th {\n",
       "        vertical-align: top;\n",
       "    }\n",
       "\n",
       "    .dataframe thead th {\n",
       "        text-align: right;\n",
       "    }\n",
       "</style>\n",
       "<table border=\"1\" class=\"dataframe\">\n",
       "  <thead>\n",
       "    <tr style=\"text-align: right;\">\n",
       "      <th></th>\n",
       "      <th>Date</th>\n",
       "      <th>Time</th>\n",
       "      <th>Jikky</th>\n",
       "      <th>Kayis</th>\n",
       "      <th>Sinny</th>\n",
       "      <th>Criji</th>\n",
       "      <th>Johnan</th>\n",
       "      <th>Mode of class</th>\n",
       "      <th>Month</th>\n",
       "      <th>year</th>\n",
       "      <th>Day</th>\n",
       "      <th>Salary_1_jikky</th>\n",
       "      <th>Salary_1_kayis</th>\n",
       "      <th>Salary_1_sinny</th>\n",
       "      <th>Salary_1_criji</th>\n",
       "      <th>Salary_1_Johnan</th>\n",
       "      <th>Salary_2_jikky</th>\n",
       "      <th>Salary_2_kayis</th>\n",
       "      <th>Salary_2_sinny</th>\n",
       "      <th>Salary_2_criji</th>\n",
       "    </tr>\n",
       "  </thead>\n",
       "  <tbody>\n",
       "    <tr>\n",
       "      <th>0</th>\n",
       "      <td>2022-04-11</td>\n",
       "      <td>9:30 am- 10:30 am</td>\n",
       "      <td>1.0</td>\n",
       "      <td>1.0</td>\n",
       "      <td>0.0</td>\n",
       "      <td>0.0</td>\n",
       "      <td>0.0</td>\n",
       "      <td>Online</td>\n",
       "      <td>4</td>\n",
       "      <td>2022</td>\n",
       "      <td>11</td>\n",
       "      <td>100.0</td>\n",
       "      <td>100.0</td>\n",
       "      <td>0.0</td>\n",
       "      <td>0.0</td>\n",
       "      <td>0.0</td>\n",
       "      <td>150.0</td>\n",
       "      <td>150.0</td>\n",
       "      <td>0.0</td>\n",
       "      <td>0.0</td>\n",
       "    </tr>\n",
       "    <tr>\n",
       "      <th>1</th>\n",
       "      <td>2022-04-11</td>\n",
       "      <td>10:30 am- 11:30 am</td>\n",
       "      <td>1.0</td>\n",
       "      <td>1.0</td>\n",
       "      <td>0.0</td>\n",
       "      <td>0.0</td>\n",
       "      <td>0.0</td>\n",
       "      <td>Online</td>\n",
       "      <td>4</td>\n",
       "      <td>2022</td>\n",
       "      <td>11</td>\n",
       "      <td>100.0</td>\n",
       "      <td>100.0</td>\n",
       "      <td>0.0</td>\n",
       "      <td>0.0</td>\n",
       "      <td>0.0</td>\n",
       "      <td>150.0</td>\n",
       "      <td>150.0</td>\n",
       "      <td>0.0</td>\n",
       "      <td>0.0</td>\n",
       "    </tr>\n",
       "  </tbody>\n",
       "</table>\n",
       "</div>"
      ],
      "text/plain": [
       "        Date                Time  Jikky  Kayis  Sinny  Criji  Johnan  \\\n",
       "0 2022-04-11   9:30 am- 10:30 am    1.0    1.0    0.0    0.0     0.0   \n",
       "1 2022-04-11  10:30 am- 11:30 am    1.0    1.0    0.0    0.0     0.0   \n",
       "\n",
       "  Mode of class  Month  year  Day  Salary_1_jikky  Salary_1_kayis  \\\n",
       "0        Online      4  2022   11           100.0           100.0   \n",
       "1        Online      4  2022   11           100.0           100.0   \n",
       "\n",
       "   Salary_1_sinny  Salary_1_criji  Salary_1_Johnan  Salary_2_jikky  \\\n",
       "0             0.0             0.0              0.0           150.0   \n",
       "1             0.0             0.0              0.0           150.0   \n",
       "\n",
       "   Salary_2_kayis  Salary_2_sinny  Salary_2_criji  \n",
       "0           150.0             0.0             0.0  \n",
       "1           150.0             0.0             0.0  "
      ]
     },
     "execution_count": 526,
     "metadata": {},
     "output_type": "execute_result"
    }
   ],
   "source": [
    "WH['Salary_2_criji']=WH['Criji']*150\n",
    "WH.head(2)"
   ]
  },
  {
   "cell_type": "code",
   "execution_count": 527,
   "id": "8d7c824d",
   "metadata": {},
   "outputs": [
    {
     "data": {
      "text/html": [
       "<div>\n",
       "<style scoped>\n",
       "    .dataframe tbody tr th:only-of-type {\n",
       "        vertical-align: middle;\n",
       "    }\n",
       "\n",
       "    .dataframe tbody tr th {\n",
       "        vertical-align: top;\n",
       "    }\n",
       "\n",
       "    .dataframe thead th {\n",
       "        text-align: right;\n",
       "    }\n",
       "</style>\n",
       "<table border=\"1\" class=\"dataframe\">\n",
       "  <thead>\n",
       "    <tr style=\"text-align: right;\">\n",
       "      <th></th>\n",
       "      <th>Date</th>\n",
       "      <th>Time</th>\n",
       "      <th>Jikky</th>\n",
       "      <th>Kayis</th>\n",
       "      <th>Sinny</th>\n",
       "      <th>Criji</th>\n",
       "      <th>Johnan</th>\n",
       "      <th>Mode of class</th>\n",
       "      <th>Month</th>\n",
       "      <th>year</th>\n",
       "      <th>...</th>\n",
       "      <th>Salary_1_jikky</th>\n",
       "      <th>Salary_1_kayis</th>\n",
       "      <th>Salary_1_sinny</th>\n",
       "      <th>Salary_1_criji</th>\n",
       "      <th>Salary_1_Johnan</th>\n",
       "      <th>Salary_2_jikky</th>\n",
       "      <th>Salary_2_kayis</th>\n",
       "      <th>Salary_2_sinny</th>\n",
       "      <th>Salary_2_criji</th>\n",
       "      <th>Salary_2_Johnan</th>\n",
       "    </tr>\n",
       "  </thead>\n",
       "  <tbody>\n",
       "    <tr>\n",
       "      <th>0</th>\n",
       "      <td>2022-04-11</td>\n",
       "      <td>9:30 am- 10:30 am</td>\n",
       "      <td>1.0</td>\n",
       "      <td>1.0</td>\n",
       "      <td>0.0</td>\n",
       "      <td>0.0</td>\n",
       "      <td>0.0</td>\n",
       "      <td>Online</td>\n",
       "      <td>4</td>\n",
       "      <td>2022</td>\n",
       "      <td>...</td>\n",
       "      <td>100.0</td>\n",
       "      <td>100.0</td>\n",
       "      <td>0.0</td>\n",
       "      <td>0.0</td>\n",
       "      <td>0.0</td>\n",
       "      <td>150.0</td>\n",
       "      <td>150.0</td>\n",
       "      <td>0.0</td>\n",
       "      <td>0.0</td>\n",
       "      <td>0.0</td>\n",
       "    </tr>\n",
       "    <tr>\n",
       "      <th>1</th>\n",
       "      <td>2022-04-11</td>\n",
       "      <td>10:30 am- 11:30 am</td>\n",
       "      <td>1.0</td>\n",
       "      <td>1.0</td>\n",
       "      <td>0.0</td>\n",
       "      <td>0.0</td>\n",
       "      <td>0.0</td>\n",
       "      <td>Online</td>\n",
       "      <td>4</td>\n",
       "      <td>2022</td>\n",
       "      <td>...</td>\n",
       "      <td>100.0</td>\n",
       "      <td>100.0</td>\n",
       "      <td>0.0</td>\n",
       "      <td>0.0</td>\n",
       "      <td>0.0</td>\n",
       "      <td>150.0</td>\n",
       "      <td>150.0</td>\n",
       "      <td>0.0</td>\n",
       "      <td>0.0</td>\n",
       "      <td>0.0</td>\n",
       "    </tr>\n",
       "  </tbody>\n",
       "</table>\n",
       "<p>2 rows × 21 columns</p>\n",
       "</div>"
      ],
      "text/plain": [
       "        Date                Time  Jikky  Kayis  Sinny  Criji  Johnan  \\\n",
       "0 2022-04-11   9:30 am- 10:30 am    1.0    1.0    0.0    0.0     0.0   \n",
       "1 2022-04-11  10:30 am- 11:30 am    1.0    1.0    0.0    0.0     0.0   \n",
       "\n",
       "  Mode of class  Month  year  ...  Salary_1_jikky  Salary_1_kayis  \\\n",
       "0        Online      4  2022  ...           100.0           100.0   \n",
       "1        Online      4  2022  ...           100.0           100.0   \n",
       "\n",
       "   Salary_1_sinny  Salary_1_criji  Salary_1_Johnan  Salary_2_jikky  \\\n",
       "0             0.0             0.0              0.0           150.0   \n",
       "1             0.0             0.0              0.0           150.0   \n",
       "\n",
       "   Salary_2_kayis  Salary_2_sinny  Salary_2_criji  Salary_2_Johnan  \n",
       "0           150.0             0.0             0.0              0.0  \n",
       "1           150.0             0.0             0.0              0.0  \n",
       "\n",
       "[2 rows x 21 columns]"
      ]
     },
     "execution_count": 527,
     "metadata": {},
     "output_type": "execute_result"
    }
   ],
   "source": [
    "WH['Salary_2_Johnan']=(WH['Johnan']*150)\n",
    "WH.head(2)\n",
    "     "
   ]
  },
  {
   "cell_type": "raw",
   "id": "fe660544",
   "metadata": {},
   "source": [
    "2 rows x 21 columns"
   ]
  },
  {
   "cell_type": "raw",
   "id": "bc38837c",
   "metadata": {},
   "source": [
    "Find by which mode of class, most of the time class has taken in month June"
   ]
  },
  {
   "cell_type": "code",
   "execution_count": 528,
   "id": "f29e53a6",
   "metadata": {},
   "outputs": [
    {
     "data": {
      "text/html": [
       "<div>\n",
       "<style scoped>\n",
       "    .dataframe tbody tr th:only-of-type {\n",
       "        vertical-align: middle;\n",
       "    }\n",
       "\n",
       "    .dataframe tbody tr th {\n",
       "        vertical-align: top;\n",
       "    }\n",
       "\n",
       "    .dataframe thead th {\n",
       "        text-align: right;\n",
       "    }\n",
       "</style>\n",
       "<table border=\"1\" class=\"dataframe\">\n",
       "  <thead>\n",
       "    <tr style=\"text-align: right;\">\n",
       "      <th>Mode of class</th>\n",
       "      <th>Online</th>\n",
       "      <th>Physical</th>\n",
       "    </tr>\n",
       "    <tr>\n",
       "      <th>Month</th>\n",
       "      <th></th>\n",
       "      <th></th>\n",
       "    </tr>\n",
       "  </thead>\n",
       "  <tbody>\n",
       "    <tr>\n",
       "      <th>4</th>\n",
       "      <td>25</td>\n",
       "      <td>0</td>\n",
       "    </tr>\n",
       "    <tr>\n",
       "      <th>5</th>\n",
       "      <td>24</td>\n",
       "      <td>5</td>\n",
       "    </tr>\n",
       "    <tr>\n",
       "      <th>6</th>\n",
       "      <td>31</td>\n",
       "      <td>6</td>\n",
       "    </tr>\n",
       "  </tbody>\n",
       "</table>\n",
       "</div>"
      ],
      "text/plain": [
       "Mode of class  Online  Physical\n",
       "Month                          \n",
       "4                  25         0\n",
       "5                  24         5\n",
       "6                  31         6"
      ]
     },
     "execution_count": 528,
     "metadata": {},
     "output_type": "execute_result"
    }
   ],
   "source": [
    "tm=pd.crosstab(WH['Month'],WH['Mode of class'])\n",
    "tm\n",
    "     "
   ]
  },
  {
   "cell_type": "code",
   "execution_count": 529,
   "id": "b43f6076",
   "metadata": {},
   "outputs": [
    {
     "data": {
      "text/html": [
       "<div>\n",
       "<style scoped>\n",
       "    .dataframe tbody tr th:only-of-type {\n",
       "        vertical-align: middle;\n",
       "    }\n",
       "\n",
       "    .dataframe tbody tr th {\n",
       "        vertical-align: top;\n",
       "    }\n",
       "\n",
       "    .dataframe thead th {\n",
       "        text-align: right;\n",
       "    }\n",
       "</style>\n",
       "<table border=\"1\" class=\"dataframe\">\n",
       "  <thead>\n",
       "    <tr style=\"text-align: right;\">\n",
       "      <th>Mode of class</th>\n",
       "      <th>Online</th>\n",
       "      <th>Physical</th>\n",
       "    </tr>\n",
       "  </thead>\n",
       "  <tbody>\n",
       "    <tr>\n",
       "      <th>0</th>\n",
       "      <td>24</td>\n",
       "      <td>0</td>\n",
       "    </tr>\n",
       "    <tr>\n",
       "      <th>1</th>\n",
       "      <td>25</td>\n",
       "      <td>5</td>\n",
       "    </tr>\n",
       "    <tr>\n",
       "      <th>2</th>\n",
       "      <td>31</td>\n",
       "      <td>6</td>\n",
       "    </tr>\n",
       "  </tbody>\n",
       "</table>\n",
       "</div>"
      ],
      "text/plain": [
       "Mode of class  Online  Physical\n",
       "0                  24         0\n",
       "1                  25         5\n",
       "2                  31         6"
      ]
     },
     "execution_count": 529,
     "metadata": {},
     "output_type": "execute_result"
    }
   ],
   "source": [
    "tm.mode()"
   ]
  },
  {
   "cell_type": "raw",
   "id": "1599279d",
   "metadata": {},
   "source": [
    "online class is mostly taken in the month June"
   ]
  },
  {
   "cell_type": "code",
   "execution_count": 530,
   "id": "4133b3f4",
   "metadata": {},
   "outputs": [
    {
     "data": {
      "text/plain": [
       "Index(['Date', 'Time', 'Jikky', 'Kayis', 'Sinny', 'Criji', 'Johnan',\n",
       "       'Mode of class', 'Month', 'year', 'Day', 'Salary_1_jikky',\n",
       "       'Salary_1_kayis', 'Salary_1_sinny', 'Salary_1_criji', 'Salary_1_Johnan',\n",
       "       'Salary_2_jikky', 'Salary_2_kayis', 'Salary_2_sinny', 'Salary_2_criji',\n",
       "       'Salary_2_Johnan'],\n",
       "      dtype='object')"
      ]
     },
     "execution_count": 530,
     "metadata": {},
     "output_type": "execute_result"
    }
   ],
   "source": [
    "WH.columns"
   ]
  },
  {
   "cell_type": "markdown",
   "id": "55847e8e",
   "metadata": {},
   "source": [
    "### Create a dataframe using the data you got with salary of each month of each mentors"
   ]
  },
  {
   "cell_type": "code",
   "execution_count": 531,
   "id": "f1946807",
   "metadata": {},
   "outputs": [
    {
     "data": {
      "text/plain": [
       "Salary_1_jikky     7120.0\n",
       "Salary_1_kayis     2960.0\n",
       "Salary_1_sinny     5450.0\n",
       "Salary_1_criji     4300.0\n",
       "Salary_1_Johnan    2300.0\n",
       "dtype: float64"
      ]
     },
     "execution_count": 531,
     "metadata": {},
     "output_type": "execute_result"
    }
   ],
   "source": [
    "WH[['Salary_1_jikky', 'Salary_1_kayis','Salary_1_sinny','Salary_1_criji','Salary_1_Johnan']].sum()\n"
   ]
  },
  {
   "cell_type": "raw",
   "id": "04f1f58a",
   "metadata": {},
   "source": [
    "Jikky earned the highest salary in all months"
   ]
  },
  {
   "cell_type": "code",
   "execution_count": 532,
   "id": "dc4701c5",
   "metadata": {},
   "outputs": [
    {
     "data": {
      "text/html": [
       "<div>\n",
       "<style scoped>\n",
       "    .dataframe tbody tr th:only-of-type {\n",
       "        vertical-align: middle;\n",
       "    }\n",
       "\n",
       "    .dataframe tbody tr th {\n",
       "        vertical-align: top;\n",
       "    }\n",
       "\n",
       "    .dataframe thead th {\n",
       "        text-align: right;\n",
       "    }\n",
       "</style>\n",
       "<table border=\"1\" class=\"dataframe\">\n",
       "  <thead>\n",
       "    <tr style=\"text-align: right;\">\n",
       "      <th></th>\n",
       "      <th>Salary_1_jikky</th>\n",
       "      <th>Salary_1_kayis</th>\n",
       "      <th>Salary_1_sinny</th>\n",
       "      <th>Salary_1_criji</th>\n",
       "      <th>Salary_1_Johnan</th>\n",
       "    </tr>\n",
       "    <tr>\n",
       "      <th>Month</th>\n",
       "      <th></th>\n",
       "      <th></th>\n",
       "      <th></th>\n",
       "      <th></th>\n",
       "      <th></th>\n",
       "    </tr>\n",
       "  </thead>\n",
       "  <tbody>\n",
       "    <tr>\n",
       "      <th>4</th>\n",
       "      <td>1150.0</td>\n",
       "      <td>1450.0</td>\n",
       "      <td>950.0</td>\n",
       "      <td>100.0</td>\n",
       "      <td>0.0</td>\n",
       "    </tr>\n",
       "    <tr>\n",
       "      <th>5</th>\n",
       "      <td>2270.0</td>\n",
       "      <td>1510.0</td>\n",
       "      <td>2200.0</td>\n",
       "      <td>2100.0</td>\n",
       "      <td>2300.0</td>\n",
       "    </tr>\n",
       "    <tr>\n",
       "      <th>6</th>\n",
       "      <td>3700.0</td>\n",
       "      <td>0.0</td>\n",
       "      <td>2300.0</td>\n",
       "      <td>2100.0</td>\n",
       "      <td>0.0</td>\n",
       "    </tr>\n",
       "  </tbody>\n",
       "</table>\n",
       "</div>"
      ],
      "text/plain": [
       "       Salary_1_jikky  Salary_1_kayis  Salary_1_sinny  Salary_1_criji  \\\n",
       "Month                                                                   \n",
       "4              1150.0          1450.0           950.0           100.0   \n",
       "5              2270.0          1510.0          2200.0          2100.0   \n",
       "6              3700.0             0.0          2300.0          2100.0   \n",
       "\n",
       "       Salary_1_Johnan  \n",
       "Month                   \n",
       "4                  0.0  \n",
       "5               2300.0  \n",
       "6                  0.0  "
      ]
     },
     "execution_count": 532,
     "metadata": {},
     "output_type": "execute_result"
    }
   ],
   "source": [
    "salary1 = WH.groupby('Month')[['Salary_1_jikky', 'Salary_1_kayis','Salary_1_sinny','Salary_1_criji','Salary_1_Johnan']].sum()\n",
    "salary1"
   ]
  },
  {
   "cell_type": "raw",
   "id": "1127365f",
   "metadata": {},
   "source": [
    "if per hour they get 100 means;"
   ]
  },
  {
   "cell_type": "raw",
   "id": "4ade5fff",
   "metadata": {},
   "source": [
    "Kayis earned the most salary in April"
   ]
  },
  {
   "cell_type": "raw",
   "id": "ad48ca94",
   "metadata": {},
   "source": [
    "Johnan earned a higher salary in May"
   ]
  },
  {
   "cell_type": "raw",
   "id": "725ccbe7",
   "metadata": {},
   "source": [
    "Jikky earned the most salary in June"
   ]
  },
  {
   "cell_type": "code",
   "execution_count": 533,
   "id": "47e1dd55",
   "metadata": {},
   "outputs": [
    {
     "data": {
      "text/plain": [
       "Salary_2_jikky     10680.0\n",
       "Salary_2_kayis      4440.0\n",
       "Salary_2_sinny      8175.0\n",
       "Salary_2_criji      6450.0\n",
       "Salary_2_Johnan     3450.0\n",
       "dtype: float64"
      ]
     },
     "execution_count": 533,
     "metadata": {},
     "output_type": "execute_result"
    }
   ],
   "source": [
    "#if they get 150 rs in per hour\n",
    "\n",
    "WH[['Salary_2_jikky', 'Salary_2_kayis','Salary_2_sinny','Salary_2_criji','Salary_2_Johnan']].sum()\n",
    "\n"
   ]
  },
  {
   "cell_type": "code",
   "execution_count": 534,
   "id": "e8aa27b9",
   "metadata": {},
   "outputs": [
    {
     "data": {
      "text/html": [
       "<div>\n",
       "<style scoped>\n",
       "    .dataframe tbody tr th:only-of-type {\n",
       "        vertical-align: middle;\n",
       "    }\n",
       "\n",
       "    .dataframe tbody tr th {\n",
       "        vertical-align: top;\n",
       "    }\n",
       "\n",
       "    .dataframe thead th {\n",
       "        text-align: right;\n",
       "    }\n",
       "</style>\n",
       "<table border=\"1\" class=\"dataframe\">\n",
       "  <thead>\n",
       "    <tr style=\"text-align: right;\">\n",
       "      <th></th>\n",
       "      <th>Salary_2_jikky</th>\n",
       "      <th>Salary_2_kayis</th>\n",
       "      <th>Salary_2_sinny</th>\n",
       "      <th>Salary_2_criji</th>\n",
       "      <th>Salary_2_Johnan</th>\n",
       "    </tr>\n",
       "    <tr>\n",
       "      <th>Month</th>\n",
       "      <th></th>\n",
       "      <th></th>\n",
       "      <th></th>\n",
       "      <th></th>\n",
       "      <th></th>\n",
       "    </tr>\n",
       "  </thead>\n",
       "  <tbody>\n",
       "    <tr>\n",
       "      <th>4</th>\n",
       "      <td>1725.0</td>\n",
       "      <td>2175.0</td>\n",
       "      <td>1425.0</td>\n",
       "      <td>150.0</td>\n",
       "      <td>0.0</td>\n",
       "    </tr>\n",
       "    <tr>\n",
       "      <th>5</th>\n",
       "      <td>3405.0</td>\n",
       "      <td>2265.0</td>\n",
       "      <td>3300.0</td>\n",
       "      <td>3150.0</td>\n",
       "      <td>3450.0</td>\n",
       "    </tr>\n",
       "    <tr>\n",
       "      <th>6</th>\n",
       "      <td>5550.0</td>\n",
       "      <td>0.0</td>\n",
       "      <td>3450.0</td>\n",
       "      <td>3150.0</td>\n",
       "      <td>0.0</td>\n",
       "    </tr>\n",
       "  </tbody>\n",
       "</table>\n",
       "</div>"
      ],
      "text/plain": [
       "       Salary_2_jikky  Salary_2_kayis  Salary_2_sinny  Salary_2_criji  \\\n",
       "Month                                                                   \n",
       "4              1725.0          2175.0          1425.0           150.0   \n",
       "5              3405.0          2265.0          3300.0          3150.0   \n",
       "6              5550.0             0.0          3450.0          3150.0   \n",
       "\n",
       "       Salary_2_Johnan  \n",
       "Month                   \n",
       "4                  0.0  \n",
       "5               3450.0  \n",
       "6                  0.0  "
      ]
     },
     "execution_count": 534,
     "metadata": {},
     "output_type": "execute_result"
    }
   ],
   "source": [
    "salary2 = WH.groupby('Month')[['Salary_2_jikky', 'Salary_2_kayis','Salary_2_sinny','Salary_2_criji','Salary_2_Johnan']].sum()\n",
    "salary2"
   ]
  },
  {
   "cell_type": "markdown",
   "id": "1c448fcf",
   "metadata": {},
   "source": [
    "if they earn 150 in per hour means;"
   ]
  },
  {
   "cell_type": "raw",
   "id": "84bce622",
   "metadata": {},
   "source": [
    "Kayis earned the most salary in April"
   ]
  },
  {
   "cell_type": "code",
   "execution_count": null,
   "id": "6cd90b59",
   "metadata": {},
   "outputs": [],
   "source": [
    "Johnan earned a higher salary in May"
   ]
  },
  {
   "cell_type": "code",
   "execution_count": null,
   "id": "ff8f678f",
   "metadata": {},
   "outputs": [],
   "source": [
    "Jikky earned the most salary in June"
   ]
  },
  {
   "cell_type": "markdown",
   "id": "6e377227",
   "metadata": {},
   "source": [
    "# Conclusion"
   ]
  },
  {
   "cell_type": "raw",
   "id": "ac933602",
   "metadata": {},
   "source": [
    "91 rows and 8 columns contained in this table.\n"
   ]
  },
  {
   "cell_type": "raw",
   "id": "1caf1d9f",
   "metadata": {},
   "source": [
    "Fill null is cleaned that it replaced 0 from nan"
   ]
  },
  {
   "cell_type": "raw",
   "id": "febdd51e",
   "metadata": {},
   "source": [
    "The date split into month, day and year as they added in each column."
   ]
  },
  {
   "cell_type": "raw",
   "id": "74bed34b",
   "metadata": {},
   "source": [
    "Jikky took more class at the total of 71.2"
   ]
  },
  {
   "cell_type": "raw",
   "id": "adecc5fd",
   "metadata": {},
   "source": [
    "The mentors have taken online class than physical."
   ]
  },
  {
   "cell_type": "raw",
   "id": "6f535bda",
   "metadata": {},
   "source": [
    "Jikky mostly took the online class"
   ]
  },
  {
   "cell_type": "raw",
   "id": "2a23d422",
   "metadata": {},
   "source": [
    "Sinny mostly took the physical class"
   ]
  },
  {
   "cell_type": "raw",
   "id": "5ed1976d",
   "metadata": {},
   "source": [
    "Kayis has took more hours of working in April, Kayis earned the most salary in April"
   ]
  },
  {
   "cell_type": "raw",
   "id": "16353ae8",
   "metadata": {},
   "source": [
    "Johnan has took more hours of working in May, Johnan earned a higher salary in May"
   ]
  },
  {
   "cell_type": "raw",
   "id": "9d5f591f",
   "metadata": {},
   "source": [
    "Jikky has mostly took more hours of working in June, Jikky earned the most salary in June"
   ]
  },
  {
   "cell_type": "raw",
   "id": "a313c306",
   "metadata": {},
   "source": [
    "Jikky is working more time."
   ]
  },
  {
   "cell_type": "raw",
   "id": "0b667361",
   "metadata": {},
   "source": [
    "More physical classes had taken in June."
   ]
  },
  {
   "cell_type": "markdown",
   "id": "d1fa8ef3",
   "metadata": {},
   "source": [
    "The mentors mostly took the class from 9.30am to 10.30am in April"
   ]
  },
  {
   "cell_type": "raw",
   "id": "ccbc0ea4",
   "metadata": {},
   "source": [
    "The mentors mostly took the class from 9.30am to 11.30am in May."
   ]
  },
  {
   "cell_type": "raw",
   "id": "17b28171",
   "metadata": {},
   "source": [
    "The mentors mostly took the class from 2.30pm to 4.30pm in June"
   ]
  }
 ],
 "metadata": {
  "kernelspec": {
   "display_name": "Python 3 (ipykernel)",
   "language": "python",
   "name": "python3"
  },
  "language_info": {
   "codemirror_mode": {
    "name": "ipython",
    "version": 3
   },
   "file_extension": ".py",
   "mimetype": "text/x-python",
   "name": "python",
   "nbconvert_exporter": "python",
   "pygments_lexer": "ipython3",
   "version": "3.10.9"
  }
 },
 "nbformat": 4,
 "nbformat_minor": 5
}
