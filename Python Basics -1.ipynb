{
 "cells": [
  {
   "cell_type": "markdown",
   "id": "d4c1f752",
   "metadata": {},
   "source": [
    "# Python Basic"
   ]
  },
  {
   "cell_type": "markdown",
   "id": "af5cccf1",
   "metadata": {},
   "source": [
    "## Python Keywords"
   ]
  },
  {
   "cell_type": "code",
   "execution_count": 12,
   "id": "26f07cbc",
   "metadata": {},
   "outputs": [
    {
     "data": {
      "text/plain": [
       "['False',\n",
       " 'None',\n",
       " 'True',\n",
       " 'and',\n",
       " 'as',\n",
       " 'assert',\n",
       " 'async',\n",
       " 'await',\n",
       " 'break',\n",
       " 'class',\n",
       " 'continue',\n",
       " 'def',\n",
       " 'del',\n",
       " 'elif',\n",
       " 'else',\n",
       " 'except',\n",
       " 'finally',\n",
       " 'for',\n",
       " 'from',\n",
       " 'global',\n",
       " 'if',\n",
       " 'import',\n",
       " 'in',\n",
       " 'is',\n",
       " 'lambda',\n",
       " 'nonlocal',\n",
       " 'not',\n",
       " 'or',\n",
       " 'pass',\n",
       " 'raise',\n",
       " 'return',\n",
       " 'try',\n",
       " 'while',\n",
       " 'with',\n",
       " 'yield']"
      ]
     },
     "execution_count": 12,
     "metadata": {},
     "output_type": "execute_result"
    }
   ],
   "source": [
    "#this will get you the list of all keywords in python.\n",
    " \n",
    "import keyword\n",
    "keyword.kwlist"
   ]
  },
  {
   "cell_type": "code",
   "execution_count": 14,
   "id": "b9670458",
   "metadata": {},
   "outputs": [
    {
     "data": {
      "text/plain": [
       "False"
      ]
     },
     "execution_count": 14,
     "metadata": {},
     "output_type": "execute_result"
    }
   ],
   "source": [
    "#this will reture true, if the mentioned name is a keyword.\n",
    "keyword.iskeyword ('try')\n",
    "    \n",
    "True\n",
    "\n",
    "keyword.iskeyword('loop')"
   ]
  },
  {
   "cell_type": "markdown",
   "id": "1d63e9a4",
   "metadata": {},
   "source": [
    "# Popular python Libraries"
   ]
  },
  {
   "cell_type": "raw",
   "id": "268fa698",
   "metadata": {},
   "source": [
    "NumPy:for hight level mathematical fuctions\n",
    "\n",
    "Pandas:used for Data Analysis & Manipulation\n",
    "\n",
    "Mathplotlib: Plotting in python\n",
    "        "
   ]
  },
  {
   "cell_type": "markdown",
   "id": "2d394618",
   "metadata": {},
   "source": [
    "# Python Comments"
   ]
  },
  {
   "cell_type": "code",
   "execution_count": null,
   "id": "89a82056",
   "metadata": {},
   "outputs": [],
   "source": [
    "#a single line comment\n",
    "#a multi line comment\n",
    "\"\"\"Haii all it's me christy johns from EzyMentor\"\"\""
   ]
  },
  {
   "cell_type": "code",
   "execution_count": null,
   "id": "3dd712eb",
   "metadata": {},
   "outputs": [],
   "source": [
    "#How are you?\n",
    "#\n",
    "\"Yes I'm fine ...\""
   ]
  }
 ],
 "metadata": {
  "kernelspec": {
   "display_name": "Python 3 (ipykernel)",
   "language": "python",
   "name": "python3"
  },
  "language_info": {
   "codemirror_mode": {
    "name": "ipython",
    "version": 3
   },
   "file_extension": ".py",
   "mimetype": "text/x-python",
   "name": "python",
   "nbconvert_exporter": "python",
   "pygments_lexer": "ipython3",
   "version": "3.10.9"
  }
 },
 "nbformat": 4,
 "nbformat_minor": 5
}
