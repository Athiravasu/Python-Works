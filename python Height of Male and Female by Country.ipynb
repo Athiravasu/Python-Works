{
 "cells": [
  {
   "cell_type": "code",
   "execution_count": 966,
   "id": "4934a20f",
   "metadata": {},
   "outputs": [
    {
     "data": {
      "text/html": [
       "<div>\n",
       "<style scoped>\n",
       "    .dataframe tbody tr th:only-of-type {\n",
       "        vertical-align: middle;\n",
       "    }\n",
       "\n",
       "    .dataframe tbody tr th {\n",
       "        vertical-align: top;\n",
       "    }\n",
       "\n",
       "    .dataframe thead th {\n",
       "        text-align: right;\n",
       "    }\n",
       "</style>\n",
       "<table border=\"1\" class=\"dataframe\">\n",
       "  <thead>\n",
       "    <tr style=\"text-align: right;\">\n",
       "      <th></th>\n",
       "      <th>Rank</th>\n",
       "      <th>Country Name</th>\n",
       "      <th>Male Height in Cm</th>\n",
       "      <th>Female Height in Cm</th>\n",
       "      <th>Male Height in Ft</th>\n",
       "      <th>Female Height in Ft</th>\n",
       "    </tr>\n",
       "  </thead>\n",
       "  <tbody>\n",
       "    <tr>\n",
       "      <th>0</th>\n",
       "      <td>1</td>\n",
       "      <td>Netherlands</td>\n",
       "      <td>183.78</td>\n",
       "      <td>170.36</td>\n",
       "      <td>6.03</td>\n",
       "      <td>5.59</td>\n",
       "    </tr>\n",
       "    <tr>\n",
       "      <th>1</th>\n",
       "      <td>2</td>\n",
       "      <td>Montenegro</td>\n",
       "      <td>183.30</td>\n",
       "      <td>169.96</td>\n",
       "      <td>6.01</td>\n",
       "      <td>5.58</td>\n",
       "    </tr>\n",
       "    <tr>\n",
       "      <th>2</th>\n",
       "      <td>3</td>\n",
       "      <td>Estonia</td>\n",
       "      <td>182.79</td>\n",
       "      <td>168.66</td>\n",
       "      <td>6.00</td>\n",
       "      <td>5.53</td>\n",
       "    </tr>\n",
       "    <tr>\n",
       "      <th>3</th>\n",
       "      <td>4</td>\n",
       "      <td>Bosnia and Herzegovina</td>\n",
       "      <td>182.47</td>\n",
       "      <td>167.47</td>\n",
       "      <td>5.99</td>\n",
       "      <td>5.49</td>\n",
       "    </tr>\n",
       "    <tr>\n",
       "      <th>4</th>\n",
       "      <td>5</td>\n",
       "      <td>Iceland</td>\n",
       "      <td>182.10</td>\n",
       "      <td>168.91</td>\n",
       "      <td>5.97</td>\n",
       "      <td>5.54</td>\n",
       "    </tr>\n",
       "    <tr>\n",
       "      <th>...</th>\n",
       "      <td>...</td>\n",
       "      <td>...</td>\n",
       "      <td>...</td>\n",
       "      <td>...</td>\n",
       "      <td>...</td>\n",
       "      <td>...</td>\n",
       "    </tr>\n",
       "    <tr>\n",
       "      <th>194</th>\n",
       "      <td>195</td>\n",
       "      <td>Mozambique</td>\n",
       "      <td>164.30</td>\n",
       "      <td>155.42</td>\n",
       "      <td>5.39</td>\n",
       "      <td>5.10</td>\n",
       "    </tr>\n",
       "    <tr>\n",
       "      <th>195</th>\n",
       "      <td>196</td>\n",
       "      <td>Papua New Guinea</td>\n",
       "      <td>163.10</td>\n",
       "      <td>156.89</td>\n",
       "      <td>5.35</td>\n",
       "      <td>5.15</td>\n",
       "    </tr>\n",
       "    <tr>\n",
       "      <th>196</th>\n",
       "      <td>197</td>\n",
       "      <td>Solomon Islands</td>\n",
       "      <td>163.07</td>\n",
       "      <td>156.79</td>\n",
       "      <td>5.35</td>\n",
       "      <td>5.14</td>\n",
       "    </tr>\n",
       "    <tr>\n",
       "      <th>197</th>\n",
       "      <td>198</td>\n",
       "      <td>Laos</td>\n",
       "      <td>162.78</td>\n",
       "      <td>153.10</td>\n",
       "      <td>5.34</td>\n",
       "      <td>5.02</td>\n",
       "    </tr>\n",
       "    <tr>\n",
       "      <th>198</th>\n",
       "      <td>199</td>\n",
       "      <td>Timor-Leste</td>\n",
       "      <td>160.13</td>\n",
       "      <td>152.71</td>\n",
       "      <td>5.25</td>\n",
       "      <td>5.01</td>\n",
       "    </tr>\n",
       "  </tbody>\n",
       "</table>\n",
       "<p>199 rows × 6 columns</p>\n",
       "</div>"
      ],
      "text/plain": [
       "     Rank            Country Name  Male Height in Cm  Female Height in Cm  \\\n",
       "0       1             Netherlands             183.78               170.36   \n",
       "1       2              Montenegro             183.30               169.96   \n",
       "2       3                 Estonia             182.79               168.66   \n",
       "3       4  Bosnia and Herzegovina             182.47               167.47   \n",
       "4       5                 Iceland             182.10               168.91   \n",
       "..    ...                     ...                ...                  ...   \n",
       "194   195              Mozambique             164.30               155.42   \n",
       "195   196        Papua New Guinea             163.10               156.89   \n",
       "196   197         Solomon Islands             163.07               156.79   \n",
       "197   198                    Laos             162.78               153.10   \n",
       "198   199             Timor-Leste             160.13               152.71   \n",
       "\n",
       "     Male Height in Ft  Female Height in Ft  \n",
       "0                 6.03                 5.59  \n",
       "1                 6.01                 5.58  \n",
       "2                 6.00                 5.53  \n",
       "3                 5.99                 5.49  \n",
       "4                 5.97                 5.54  \n",
       "..                 ...                  ...  \n",
       "194               5.39                 5.10  \n",
       "195               5.35                 5.15  \n",
       "196               5.35                 5.14  \n",
       "197               5.34                 5.02  \n",
       "198               5.25                 5.01  \n",
       "\n",
       "[199 rows x 6 columns]"
      ]
     },
     "execution_count": 966,
     "metadata": {},
     "output_type": "execute_result"
    }
   ],
   "source": [
    "import pandas as pd\n",
    "\n",
    "Height= pd.read_csv(\"Height of Male and Female by Country.csv\")\n",
    "Height"
   ]
  },
  {
   "cell_type": "code",
   "execution_count": 967,
   "id": "6514763f",
   "metadata": {
    "scrolled": true
   },
   "outputs": [
    {
     "data": {
      "text/html": [
       "<div>\n",
       "<style scoped>\n",
       "    .dataframe tbody tr th:only-of-type {\n",
       "        vertical-align: middle;\n",
       "    }\n",
       "\n",
       "    .dataframe tbody tr th {\n",
       "        vertical-align: top;\n",
       "    }\n",
       "\n",
       "    .dataframe thead th {\n",
       "        text-align: right;\n",
       "    }\n",
       "</style>\n",
       "<table border=\"1\" class=\"dataframe\">\n",
       "  <thead>\n",
       "    <tr style=\"text-align: right;\">\n",
       "      <th></th>\n",
       "      <th>Rank</th>\n",
       "      <th>Country Name</th>\n",
       "      <th>Male Height in Cm</th>\n",
       "      <th>Female Height in Cm</th>\n",
       "      <th>Male Height in Ft</th>\n",
       "      <th>Female Height in Ft</th>\n",
       "    </tr>\n",
       "  </thead>\n",
       "  <tbody>\n",
       "    <tr>\n",
       "      <th>194</th>\n",
       "      <td>195</td>\n",
       "      <td>Mozambique</td>\n",
       "      <td>164.30</td>\n",
       "      <td>155.42</td>\n",
       "      <td>5.39</td>\n",
       "      <td>5.10</td>\n",
       "    </tr>\n",
       "    <tr>\n",
       "      <th>195</th>\n",
       "      <td>196</td>\n",
       "      <td>Papua New Guinea</td>\n",
       "      <td>163.10</td>\n",
       "      <td>156.89</td>\n",
       "      <td>5.35</td>\n",
       "      <td>5.15</td>\n",
       "    </tr>\n",
       "    <tr>\n",
       "      <th>196</th>\n",
       "      <td>197</td>\n",
       "      <td>Solomon Islands</td>\n",
       "      <td>163.07</td>\n",
       "      <td>156.79</td>\n",
       "      <td>5.35</td>\n",
       "      <td>5.14</td>\n",
       "    </tr>\n",
       "    <tr>\n",
       "      <th>197</th>\n",
       "      <td>198</td>\n",
       "      <td>Laos</td>\n",
       "      <td>162.78</td>\n",
       "      <td>153.10</td>\n",
       "      <td>5.34</td>\n",
       "      <td>5.02</td>\n",
       "    </tr>\n",
       "    <tr>\n",
       "      <th>198</th>\n",
       "      <td>199</td>\n",
       "      <td>Timor-Leste</td>\n",
       "      <td>160.13</td>\n",
       "      <td>152.71</td>\n",
       "      <td>5.25</td>\n",
       "      <td>5.01</td>\n",
       "    </tr>\n",
       "  </tbody>\n",
       "</table>\n",
       "</div>"
      ],
      "text/plain": [
       "     Rank      Country Name  Male Height in Cm  Female Height in Cm  \\\n",
       "194   195        Mozambique             164.30               155.42   \n",
       "195   196  Papua New Guinea             163.10               156.89   \n",
       "196   197   Solomon Islands             163.07               156.79   \n",
       "197   198              Laos             162.78               153.10   \n",
       "198   199       Timor-Leste             160.13               152.71   \n",
       "\n",
       "     Male Height in Ft  Female Height in Ft  \n",
       "194               5.39                 5.10  \n",
       "195               5.35                 5.15  \n",
       "196               5.35                 5.14  \n",
       "197               5.34                 5.02  \n",
       "198               5.25                 5.01  "
      ]
     },
     "execution_count": 967,
     "metadata": {},
     "output_type": "execute_result"
    }
   ],
   "source": [
    "\n",
    "Height.head()\n",
    "Height.tail()"
   ]
  },
  {
   "cell_type": "code",
   "execution_count": 968,
   "id": "deb196bf",
   "metadata": {},
   "outputs": [
    {
     "data": {
      "text/plain": [
       "(199, 6)"
      ]
     },
     "execution_count": 968,
     "metadata": {},
     "output_type": "execute_result"
    }
   ],
   "source": [
    "Height.shape"
   ]
  },
  {
   "cell_type": "code",
   "execution_count": 969,
   "id": "d317d930",
   "metadata": {},
   "outputs": [
    {
     "data": {
      "text/plain": [
       "Rank                     int64\n",
       "Country Name            object\n",
       "Male Height in Cm      float64\n",
       "Female Height in Cm    float64\n",
       "Male Height in Ft      float64\n",
       "Female Height in Ft    float64\n",
       "dtype: object"
      ]
     },
     "execution_count": 969,
     "metadata": {},
     "output_type": "execute_result"
    }
   ],
   "source": [
    "Height.dtypes"
   ]
  },
  {
   "cell_type": "code",
   "execution_count": 970,
   "id": "be76d56b",
   "metadata": {},
   "outputs": [
    {
     "data": {
      "text/plain": [
       "Index(['Rank', 'Country Name', 'Male Height in Cm', 'Female Height in Cm',\n",
       "       'Male Height in Ft', 'Female Height in Ft'],\n",
       "      dtype='object')"
      ]
     },
     "execution_count": 970,
     "metadata": {},
     "output_type": "execute_result"
    }
   ],
   "source": [
    "Height.columns"
   ]
  },
  {
   "cell_type": "code",
   "execution_count": 971,
   "id": "a1ff841e",
   "metadata": {},
   "outputs": [
    {
     "data": {
      "text/plain": [
       "'Rank : 1'"
      ]
     },
     "execution_count": 971,
     "metadata": {},
     "output_type": "execute_result"
    }
   ],
   "source": [
    "Height=('Rank : 1')\n",
    "Height"
   ]
  },
  {
   "cell_type": "code",
   "execution_count": 972,
   "id": "fbf4ee5f",
   "metadata": {},
   "outputs": [
    {
     "data": {
      "text/plain": [
       "'Country Name : Netherlands'"
      ]
     },
     "execution_count": 972,
     "metadata": {},
     "output_type": "execute_result"
    }
   ],
   "source": [
    "Height=('Country Name : Netherlands')\n",
    "Height"
   ]
  },
  {
   "cell_type": "code",
   "execution_count": 973,
   "id": "3038b305",
   "metadata": {},
   "outputs": [
    {
     "data": {
      "text/plain": [
       "'Male Height in Cm : 183.78'"
      ]
     },
     "execution_count": 973,
     "metadata": {},
     "output_type": "execute_result"
    }
   ],
   "source": [
    "Height=('Male Height in Cm : 183.78')     \n",
    "Height"
   ]
  },
  {
   "cell_type": "code",
   "execution_count": 974,
   "id": "1be33874",
   "metadata": {},
   "outputs": [
    {
     "data": {
      "text/plain": [
       "'Female Height in Cm : 170.36'"
      ]
     },
     "execution_count": 974,
     "metadata": {},
     "output_type": "execute_result"
    }
   ],
   "source": [
    "Height=('Female Height in Cm : 170.36')\n",
    "Height"
   ]
  },
  {
   "cell_type": "code",
   "execution_count": 975,
   "id": "7903979d",
   "metadata": {},
   "outputs": [
    {
     "data": {
      "text/plain": [
       "'Male Height in Ft : 6.03'"
      ]
     },
     "execution_count": 975,
     "metadata": {},
     "output_type": "execute_result"
    }
   ],
   "source": [
    "Height=('Male Height in Ft : 6.03')\n",
    "Height"
   ]
  },
  {
   "cell_type": "code",
   "execution_count": 976,
   "id": "6b9f729a",
   "metadata": {},
   "outputs": [
    {
     "data": {
      "text/plain": [
       "'Female Height in Ft : 5.59'"
      ]
     },
     "execution_count": 976,
     "metadata": {},
     "output_type": "execute_result"
    }
   ],
   "source": [
    "Height=('Female Height in Ft : 5.59')\n",
    "Height"
   ]
  },
  {
   "cell_type": "code",
   "execution_count": 977,
   "id": "fe487d76",
   "metadata": {},
   "outputs": [
    {
     "data": {
      "text/plain": [
       "'dtype: object'"
      ]
     },
     "execution_count": 977,
     "metadata": {},
     "output_type": "execute_result"
    }
   ],
   "source": [
    "Height=('dtype: object')\n",
    "Height"
   ]
  },
  {
   "cell_type": "code",
   "execution_count": 978,
   "id": "cbfb883e",
   "metadata": {},
   "outputs": [
    {
     "data": {
      "text/plain": [
       "'dtype: object'"
      ]
     },
     "execution_count": 978,
     "metadata": {},
     "output_type": "execute_result"
    }
   ],
   "source": [
    "Height"
   ]
  },
  {
   "cell_type": "code",
   "execution_count": 979,
   "id": "e3419684",
   "metadata": {},
   "outputs": [
    {
     "data": {
      "text/plain": [
       "'Rank'"
      ]
     },
     "execution_count": 979,
     "metadata": {},
     "output_type": "execute_result"
    }
   ],
   "source": [
    "Height=('Rank')\n",
    "Height\n"
   ]
  },
  {
   "cell_type": "code",
   "execution_count": 980,
   "id": "533fbc2e",
   "metadata": {},
   "outputs": [
    {
     "data": {
      "text/plain": [
       "'Country Name'"
      ]
     },
     "execution_count": 980,
     "metadata": {},
     "output_type": "execute_result"
    }
   ],
   "source": [
    "Height=('Country Name')\n",
    "Height"
   ]
  },
  {
   "cell_type": "code",
   "execution_count": 981,
   "id": "9d9276a9",
   "metadata": {},
   "outputs": [
    {
     "data": {
      "text/plain": [
       "('Male Height in Cm', 'Female Height in Cm')"
      ]
     },
     "execution_count": 981,
     "metadata": {},
     "output_type": "execute_result"
    }
   ],
   "source": [
    "Height=('Male Height in Cm', 'Female Height in Cm')\n",
    "       \n",
    "      \n",
    "Height"
   ]
  },
  {
   "cell_type": "code",
   "execution_count": 982,
   "id": "9a70db09",
   "metadata": {},
   "outputs": [
    {
     "data": {
      "text/plain": [
       "('Male Height in Ft', 'Female Height in Ft')"
      ]
     },
     "execution_count": 982,
     "metadata": {},
     "output_type": "execute_result"
    }
   ],
   "source": [
    "Height=('Male Height in Ft', 'Female Height in Ft')\n",
    "Height"
   ]
  },
  {
   "cell_type": "code",
   "execution_count": 983,
   "id": "8db004d1",
   "metadata": {},
   "outputs": [
    {
     "data": {
      "text/plain": [
       "'dtype : object'"
      ]
     },
     "execution_count": 983,
     "metadata": {},
     "output_type": "execute_result"
    }
   ],
   "source": [
    "Height=('dtype : object')\n",
    "Height"
   ]
  }
 ],
 "metadata": {
  "kernelspec": {
   "display_name": "Python 3 (ipykernel)",
   "language": "python",
   "name": "python3"
  },
  "language_info": {
   "codemirror_mode": {
    "name": "ipython",
    "version": 3
   },
   "file_extension": ".py",
   "mimetype": "text/x-python",
   "name": "python",
   "nbconvert_exporter": "python",
   "pygments_lexer": "ipython3",
   "version": "3.10.9"
  }
 },
 "nbformat": 4,
 "nbformat_minor": 5
}
