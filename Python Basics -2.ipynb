{
 "cells": [
  {
   "cell_type": "markdown",
   "id": "97263c32",
   "metadata": {},
   "source": [
    "# 1st python Program"
   ]
  },
  {
   "cell_type": "code",
   "execution_count": 5,
   "id": "8234194e",
   "metadata": {},
   "outputs": [
    {
     "name": "stdout",
     "output_type": "stream",
     "text": [
      "Hello my Viewers\n"
     ]
    }
   ],
   "source": [
    "print('Hello my Viewers')"
   ]
  },
  {
   "cell_type": "markdown",
   "id": "96f4008b",
   "metadata": {},
   "source": [
    "# Python Variables"
   ]
  },
  {
   "cell_type": "raw",
   "id": "29abb89e",
   "metadata": {},
   "source": [
    "Variable declaration"
   ]
  },
  {
   "cell_type": "code",
   "execution_count": 6,
   "id": "c0dc0b65",
   "metadata": {},
   "outputs": [
    {
     "data": {
      "text/plain": [
       "5"
      ]
     },
     "execution_count": 6,
     "metadata": {},
     "output_type": "execute_result"
    }
   ],
   "source": [
    "#variable is declared as the value 5 is assigned it.\n",
    "x = 5\n",
    "x"
   ]
  },
  {
   "cell_type": "code",
   "execution_count": 7,
   "id": "46b0730a",
   "metadata": {},
   "outputs": [
    {
     "data": {
      "text/plain": [
       "100"
      ]
     },
     "execution_count": 7,
     "metadata": {},
     "output_type": "execute_result"
    }
   ],
   "source": [
    "xyZ = 100\n",
    "xyZ"
   ]
  },
  {
   "cell_type": "markdown",
   "id": "ff060b7a",
   "metadata": {},
   "source": [
    "# Data Types in python"
   ]
  },
  {
   "cell_type": "markdown",
   "id": "e89d4a87",
   "metadata": {},
   "source": [
    "# Numberical data types"
   ]
  },
  {
   "cell_type": "markdown",
   "id": "f8b8e31b",
   "metadata": {},
   "source": [
    "1.lntegerd\n",
    "\n",
    "2.Float\n",
    "\n",
    "3.Complex Numbers\n",
    "\n",
    "4.Boolean"
   ]
  },
  {
   "cell_type": "code",
   "execution_count": 12,
   "id": "0ae9f3e6",
   "metadata": {},
   "outputs": [
    {
     "data": {
      "text/plain": [
       "int"
      ]
     },
     "execution_count": 12,
     "metadata": {},
     "output_type": "execute_result"
    }
   ],
   "source": [
    "# 1. Integers = are used to represent whole number Values.\n",
    "x = 1000\n",
    "b = 10000\n",
    "\n",
    "type(x)\n",
    "type(b)"
   ]
  },
  {
   "cell_type": "code",
   "execution_count": 13,
   "id": "7c688588",
   "metadata": {},
   "outputs": [
    {
     "data": {
      "text/plain": [
       "float"
      ]
     },
     "execution_count": 13,
     "metadata": {},
     "output_type": "execute_result"
    }
   ],
   "source": [
    "# 2 . Float = data type is used to represent decimal point values.\n",
    "\n",
    "x =100.10\n",
    "y=13.13\n",
    "type(x)\n",
    "type(y)"
   ]
  },
  {
   "cell_type": "code",
   "execution_count": 14,
   "id": "bb937ce5",
   "metadata": {},
   "outputs": [
    {
     "data": {
      "text/plain": [
       "complex"
      ]
     },
     "execution_count": 14,
     "metadata": {},
     "output_type": "execute_result"
    }
   ],
   "source": [
    "# 3. complex = numbers are used to represent imaginary values.\n",
    "\n",
    "z=12+4j\n",
    "type(z)"
   ]
  },
  {
   "cell_type": "code",
   "execution_count": 15,
   "id": "af6ae0b4",
   "metadata": {},
   "outputs": [
    {
     "data": {
      "text/plain": [
       "complex"
      ]
     },
     "execution_count": 15,
     "metadata": {},
     "output_type": "execute_result"
    }
   ],
   "source": [
    "c=3+6j\n",
    "type(c)"
   ]
  },
  {
   "cell_type": "code",
   "execution_count": 11,
   "id": "5a736b13",
   "metadata": {},
   "outputs": [],
   "source": [
    "# 4. Booleam = is used for categorical output, since the output of boolean is either true or false.\n"
   ]
  },
  {
   "cell_type": "code",
   "execution_count": 16,
   "id": "230bedce",
   "metadata": {},
   "outputs": [],
   "source": [
    "Boo=9>7\n",
    "# Boo is the boolean variable"
   ]
  },
  {
   "cell_type": "code",
   "execution_count": 17,
   "id": "5b925ef5",
   "metadata": {},
   "outputs": [
    {
     "data": {
      "text/plain": [
       "bool"
      ]
     },
     "execution_count": 17,
     "metadata": {},
     "output_type": "execute_result"
    }
   ],
   "source": [
    "type(Boo)\n",
    "# the output will be bool"
   ]
  },
  {
   "cell_type": "code",
   "execution_count": 18,
   "id": "cde03282",
   "metadata": {},
   "outputs": [
    {
     "name": "stdout",
     "output_type": "stream",
     "text": [
      "True\n"
     ]
    }
   ],
   "source": [
    "print(Boo)\n",
    "#this will print true"
   ]
  },
  {
   "cell_type": "code",
   "execution_count": 21,
   "id": "00e24304",
   "metadata": {},
   "outputs": [
    {
     "name": "stdout",
     "output_type": "stream",
     "text": [
      "False\n"
     ]
    }
   ],
   "source": [
    "l=20<10\n",
    "print(l)"
   ]
  },
  {
   "cell_type": "code",
   "execution_count": null,
   "id": "c47fb8d3",
   "metadata": {},
   "outputs": [],
   "source": []
  }
 ],
 "metadata": {
  "kernelspec": {
   "display_name": "Python 3 (ipykernel)",
   "language": "python",
   "name": "python3"
  },
  "language_info": {
   "codemirror_mode": {
    "name": "ipython",
    "version": 3
   },
   "file_extension": ".py",
   "mimetype": "text/x-python",
   "name": "python",
   "nbconvert_exporter": "python",
   "pygments_lexer": "ipython3",
   "version": "3.10.9"
  }
 },
 "nbformat": 4,
 "nbformat_minor": 5
}
