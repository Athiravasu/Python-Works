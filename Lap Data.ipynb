{
 "cells": [
  {
   "cell_type": "code",
   "execution_count": 92,
   "id": "ab42032e",
   "metadata": {},
   "outputs": [
    {
     "name": "stdout",
     "output_type": "stream",
     "text": [
      "6 lessthan 10\n"
     ]
    }
   ],
   "source": [
    "#Q1. print 6 lessthan  10 if 6 <10\n",
    "\n",
    "\n",
    "x=6\n",
    "y=10\n",
    "\n",
    "if x<y:\n",
    "\n",
    "  print('6 lessthan 10')"
   ]
  },
  {
   "cell_type": "code",
   "execution_count": 93,
   "id": "3aae8a8b",
   "metadata": {},
   "outputs": [
    {
     "name": "stdout",
     "output_type": "stream",
     "text": [
      "<class 'float'>\n"
     ]
    }
   ],
   "source": [
    "#Q2. print the data type of 6.9\n",
    "\n",
    "\n",
    "\n",
    "f=6.9\n",
    "print(type(f))"
   ]
  },
  {
   "cell_type": "code",
   "execution_count": 94,
   "id": "98e6b0b7",
   "metadata": {},
   "outputs": [
    {
     "name": "stdout",
     "output_type": "stream",
     "text": [
      "Niya and Filo are good friends\n"
     ]
    }
   ],
   "source": [
    "##Q3. t= Niya,  y =Filo,  z= and , x= are good friends   print Niya and Filo are Good Friends\n",
    "\n",
    "\n",
    "\n",
    "t=\"Niya\"\n",
    "y=\"Filo\"\n",
    "z=\"and\"\n",
    "x=\"are good friends\"\n",
    "print(t,z,y,x)"
   ]
  },
  {
   "cell_type": "code",
   "execution_count": 95,
   "id": "9e168596",
   "metadata": {},
   "outputs": [
    {
     "name": "stdout",
     "output_type": "stream",
     "text": [
      "first number:20\n",
      "\n",
      "Second number:40\n",
      "the multiplied value of 20 and 40 is 800\n"
     ]
    }
   ],
   "source": [
    "#Q4. Multiply X=20 and y = 40, you can use input fuction for this\n",
    "\n",
    "x=input('first number:')\n",
    "y=input('\\nSecond number:')\n",
    "Mul=(20*40)\n",
    "Mul\n",
    "print('the multiplied value of {0} and {1} is {2}'.format(x,y,Mul))\n"
   ]
  },
  {
   "cell_type": "code",
   "execution_count": 96,
   "id": "b48eec45",
   "metadata": {},
   "outputs": [
    {
     "data": {
      "text/plain": [
       "{'data': [100, 234, 120, 111, 121, 201]}"
      ]
     },
     "execution_count": 96,
     "metadata": {},
     "output_type": "execute_result"
    }
   ],
   "source": [
    "#Q5. create a list of data a=[100, 234, 120, 111, 121, 201], then create dataframe using this data, Also find the mean and median of this numbers\n",
    "dict={'data':[100, 234, 120, 111, 121, 201]}\n",
    "dict"
   ]
  },
  {
   "cell_type": "code",
   "execution_count": 97,
   "id": "bc283bc1",
   "metadata": {},
   "outputs": [
    {
     "data": {
      "text/html": [
       "<div>\n",
       "<style scoped>\n",
       "    .dataframe tbody tr th:only-of-type {\n",
       "        vertical-align: middle;\n",
       "    }\n",
       "\n",
       "    .dataframe tbody tr th {\n",
       "        vertical-align: top;\n",
       "    }\n",
       "\n",
       "    .dataframe thead th {\n",
       "        text-align: right;\n",
       "    }\n",
       "</style>\n",
       "<table border=\"1\" class=\"dataframe\">\n",
       "  <thead>\n",
       "    <tr style=\"text-align: right;\">\n",
       "      <th></th>\n",
       "      <th>data</th>\n",
       "    </tr>\n",
       "  </thead>\n",
       "  <tbody>\n",
       "    <tr>\n",
       "      <th>0</th>\n",
       "      <td>100</td>\n",
       "    </tr>\n",
       "    <tr>\n",
       "      <th>1</th>\n",
       "      <td>234</td>\n",
       "    </tr>\n",
       "    <tr>\n",
       "      <th>2</th>\n",
       "      <td>120</td>\n",
       "    </tr>\n",
       "    <tr>\n",
       "      <th>3</th>\n",
       "      <td>111</td>\n",
       "    </tr>\n",
       "    <tr>\n",
       "      <th>4</th>\n",
       "      <td>121</td>\n",
       "    </tr>\n",
       "    <tr>\n",
       "      <th>5</th>\n",
       "      <td>201</td>\n",
       "    </tr>\n",
       "  </tbody>\n",
       "</table>\n",
       "</div>"
      ],
      "text/plain": [
       "   data\n",
       "0   100\n",
       "1   234\n",
       "2   120\n",
       "3   111\n",
       "4   121\n",
       "5   201"
      ]
     },
     "execution_count": 97,
     "metadata": {},
     "output_type": "execute_result"
    }
   ],
   "source": [
    "dict1=pd.DataFrame(dict)\n",
    "dict1"
   ]
  },
  {
   "cell_type": "code",
   "execution_count": 98,
   "id": "c06a394b",
   "metadata": {},
   "outputs": [
    {
     "data": {
      "text/plain": [
       "data    147.833333\n",
       "dtype: float64"
      ]
     },
     "execution_count": 98,
     "metadata": {},
     "output_type": "execute_result"
    }
   ],
   "source": [
    "dict1.mean()"
   ]
  },
  {
   "cell_type": "code",
   "execution_count": 99,
   "id": "6ba2859e",
   "metadata": {},
   "outputs": [
    {
     "data": {
      "text/plain": [
       "data    120.5\n",
       "dtype: float64"
      ]
     },
     "execution_count": 99,
     "metadata": {},
     "output_type": "execute_result"
    }
   ],
   "source": [
    "dict1.median()"
   ]
  },
  {
   "cell_type": "markdown",
   "id": "064f9294",
   "metadata": {},
   "source": [
    "# Lap Data"
   ]
  },
  {
   "cell_type": "code",
   "execution_count": 100,
   "id": "ca6b56f7",
   "metadata": {},
   "outputs": [
    {
     "data": {
      "text/html": [
       "<div>\n",
       "<style scoped>\n",
       "    .dataframe tbody tr th:only-of-type {\n",
       "        vertical-align: middle;\n",
       "    }\n",
       "\n",
       "    .dataframe tbody tr th {\n",
       "        vertical-align: top;\n",
       "    }\n",
       "\n",
       "    .dataframe thead th {\n",
       "        text-align: right;\n",
       "    }\n",
       "</style>\n",
       "<table border=\"1\" class=\"dataframe\">\n",
       "  <thead>\n",
       "    <tr style=\"text-align: right;\">\n",
       "      <th></th>\n",
       "      <th>Name of products</th>\n",
       "      <th>Model</th>\n",
       "      <th>colour</th>\n",
       "      <th>date</th>\n",
       "      <th>price</th>\n",
       "    </tr>\n",
       "  </thead>\n",
       "  <tbody>\n",
       "    <tr>\n",
       "      <th>0</th>\n",
       "      <td>LG</td>\n",
       "      <td>i5</td>\n",
       "      <td>black</td>\n",
       "      <td>2020-06-01 00:00:00</td>\n",
       "      <td>66100</td>\n",
       "    </tr>\n",
       "    <tr>\n",
       "      <th>1</th>\n",
       "      <td>DELL</td>\n",
       "      <td>i3</td>\n",
       "      <td>black</td>\n",
       "      <td>01/23/2020</td>\n",
       "      <td>37500</td>\n",
       "    </tr>\n",
       "    <tr>\n",
       "      <th>2</th>\n",
       "      <td>DELL</td>\n",
       "      <td>i5</td>\n",
       "      <td>black</td>\n",
       "      <td>2020-09-02 00:00:00</td>\n",
       "      <td>86800</td>\n",
       "    </tr>\n",
       "    <tr>\n",
       "      <th>3</th>\n",
       "      <td>LG</td>\n",
       "      <td>i7</td>\n",
       "      <td>black</td>\n",
       "      <td>2020-09-03 00:00:00</td>\n",
       "      <td>90500</td>\n",
       "    </tr>\n",
       "    <tr>\n",
       "      <th>4</th>\n",
       "      <td>HP</td>\n",
       "      <td>i7</td>\n",
       "      <td>silver</td>\n",
       "      <td>2020-09-04 00:00:00</td>\n",
       "      <td>99200</td>\n",
       "    </tr>\n",
       "    <tr>\n",
       "      <th>5</th>\n",
       "      <td>DELL</td>\n",
       "      <td>i5</td>\n",
       "      <td>matt</td>\n",
       "      <td>2020-09-05 00:00:00</td>\n",
       "      <td>48900</td>\n",
       "    </tr>\n",
       "    <tr>\n",
       "      <th>6</th>\n",
       "      <td>ASUS</td>\n",
       "      <td>i3</td>\n",
       "      <td>silver</td>\n",
       "      <td>2020-09-06 00:00:00</td>\n",
       "      <td>36000</td>\n",
       "    </tr>\n",
       "    <tr>\n",
       "      <th>7</th>\n",
       "      <td>ACER</td>\n",
       "      <td>i5</td>\n",
       "      <td>black</td>\n",
       "      <td>2020-09-07 00:00:00</td>\n",
       "      <td>55200</td>\n",
       "    </tr>\n",
       "    <tr>\n",
       "      <th>8</th>\n",
       "      <td>DELL</td>\n",
       "      <td>i5</td>\n",
       "      <td>red</td>\n",
       "      <td>2020-09-08 00:00:00</td>\n",
       "      <td>77000</td>\n",
       "    </tr>\n",
       "    <tr>\n",
       "      <th>9</th>\n",
       "      <td>HP</td>\n",
       "      <td>i5</td>\n",
       "      <td>silver</td>\n",
       "      <td>2020-09-09 00:00:00</td>\n",
       "      <td>68000</td>\n",
       "    </tr>\n",
       "    <tr>\n",
       "      <th>10</th>\n",
       "      <td>LG</td>\n",
       "      <td>i7</td>\n",
       "      <td>silver</td>\n",
       "      <td>2020-09-10 00:00:00</td>\n",
       "      <td>77600</td>\n",
       "    </tr>\n",
       "    <tr>\n",
       "      <th>11</th>\n",
       "      <td>DELL</td>\n",
       "      <td>i3</td>\n",
       "      <td>black</td>\n",
       "      <td>2020-09-11 00:00:00</td>\n",
       "      <td>39900</td>\n",
       "    </tr>\n",
       "    <tr>\n",
       "      <th>12</th>\n",
       "      <td>HP</td>\n",
       "      <td>i5</td>\n",
       "      <td>matt</td>\n",
       "      <td>2020-09-12 00:00:00</td>\n",
       "      <td>63500</td>\n",
       "    </tr>\n",
       "    <tr>\n",
       "      <th>13</th>\n",
       "      <td>HP</td>\n",
       "      <td>i5</td>\n",
       "      <td>silver</td>\n",
       "      <td>2020-09-13 00:00:00</td>\n",
       "      <td>68500</td>\n",
       "    </tr>\n",
       "    <tr>\n",
       "      <th>14</th>\n",
       "      <td>HP</td>\n",
       "      <td>i5</td>\n",
       "      <td>matt</td>\n",
       "      <td>2020-09-14 00:00:00</td>\n",
       "      <td>65400</td>\n",
       "    </tr>\n",
       "    <tr>\n",
       "      <th>15</th>\n",
       "      <td>ASUS</td>\n",
       "      <td>i5</td>\n",
       "      <td>silver</td>\n",
       "      <td>2020-09-15 00:00:00</td>\n",
       "      <td>42500</td>\n",
       "    </tr>\n",
       "    <tr>\n",
       "      <th>16</th>\n",
       "      <td>ASUS</td>\n",
       "      <td>i7</td>\n",
       "      <td>silver</td>\n",
       "      <td>2020-09-16 00:00:00</td>\n",
       "      <td>83640</td>\n",
       "    </tr>\n",
       "    <tr>\n",
       "      <th>17</th>\n",
       "      <td>HP</td>\n",
       "      <td>i7</td>\n",
       "      <td>silver</td>\n",
       "      <td>2020-09-17 00:00:00</td>\n",
       "      <td>83200</td>\n",
       "    </tr>\n",
       "    <tr>\n",
       "      <th>18</th>\n",
       "      <td>HP</td>\n",
       "      <td>i3</td>\n",
       "      <td>black</td>\n",
       "      <td>2020-09-18 00:00:00</td>\n",
       "      <td>32200</td>\n",
       "    </tr>\n",
       "    <tr>\n",
       "      <th>19</th>\n",
       "      <td>HP</td>\n",
       "      <td>i5</td>\n",
       "      <td>black</td>\n",
       "      <td>2020-09-19 00:00:00</td>\n",
       "      <td>62600</td>\n",
       "    </tr>\n",
       "    <tr>\n",
       "      <th>20</th>\n",
       "      <td>LG</td>\n",
       "      <td>i5</td>\n",
       "      <td>black</td>\n",
       "      <td>2020-09-20 00:00:00</td>\n",
       "      <td>52300</td>\n",
       "    </tr>\n",
       "    <tr>\n",
       "      <th>21</th>\n",
       "      <td>DELL</td>\n",
       "      <td>i7</td>\n",
       "      <td>black</td>\n",
       "      <td>2020-09-21 00:00:00</td>\n",
       "      <td>88200</td>\n",
       "    </tr>\n",
       "  </tbody>\n",
       "</table>\n",
       "</div>"
      ],
      "text/plain": [
       "   Name of products Model  colour                 date  price\n",
       "0                LG    i5   black  2020-06-01 00:00:00  66100\n",
       "1              DELL    i3   black           01/23/2020  37500\n",
       "2              DELL    i5   black  2020-09-02 00:00:00  86800\n",
       "3                LG    i7   black  2020-09-03 00:00:00  90500\n",
       "4                HP    i7  silver  2020-09-04 00:00:00  99200\n",
       "5              DELL    i5    matt  2020-09-05 00:00:00  48900\n",
       "6              ASUS    i3  silver  2020-09-06 00:00:00  36000\n",
       "7              ACER    i5   black  2020-09-07 00:00:00  55200\n",
       "8              DELL    i5     red  2020-09-08 00:00:00  77000\n",
       "9                HP    i5  silver  2020-09-09 00:00:00  68000\n",
       "10               LG    i7  silver  2020-09-10 00:00:00  77600\n",
       "11             DELL    i3   black  2020-09-11 00:00:00  39900\n",
       "12               HP    i5    matt  2020-09-12 00:00:00  63500\n",
       "13               HP    i5  silver  2020-09-13 00:00:00  68500\n",
       "14               HP    i5    matt  2020-09-14 00:00:00  65400\n",
       "15             ASUS    i5  silver  2020-09-15 00:00:00  42500\n",
       "16             ASUS    i7  silver  2020-09-16 00:00:00  83640\n",
       "17               HP    i7  silver  2020-09-17 00:00:00  83200\n",
       "18               HP    i3   black  2020-09-18 00:00:00  32200\n",
       "19               HP    i5   black  2020-09-19 00:00:00  62600\n",
       "20               LG    i5   black  2020-09-20 00:00:00  52300\n",
       "21             DELL    i7   black  2020-09-21 00:00:00  88200"
      ]
     },
     "execution_count": 100,
     "metadata": {},
     "output_type": "execute_result"
    }
   ],
   "source": [
    "import pandas as pd\n",
    "data=pd.read_excel('Lap Data.xlsx')\n",
    "data"
   ]
  },
  {
   "cell_type": "code",
   "execution_count": 117,
   "id": "e6f1111b",
   "metadata": {},
   "outputs": [
    {
     "name": "stdout",
     "output_type": "stream",
     "text": [
      "<class 'pandas.core.frame.DataFrame'>\n",
      "RangeIndex: 22 entries, 0 to 21\n",
      "Data columns (total 5 columns):\n",
      " #   Column            Non-Null Count  Dtype \n",
      "---  ------            --------------  ----- \n",
      " 0   Name of products  22 non-null     object\n",
      " 1   Model             22 non-null     object\n",
      " 2   colour            22 non-null     object\n",
      " 3   date              22 non-null     object\n",
      " 4   price             22 non-null     int64 \n",
      "dtypes: int64(1), object(4)\n",
      "memory usage: 1008.0+ bytes\n"
     ]
    }
   ],
   "source": [
    "data.info()"
   ]
  },
  {
   "cell_type": "code",
   "execution_count": 126,
   "id": "3bb7aa73",
   "metadata": {},
   "outputs": [
    {
     "data": {
      "text/html": [
       "<div>\n",
       "<style scoped>\n",
       "    .dataframe tbody tr th:only-of-type {\n",
       "        vertical-align: middle;\n",
       "    }\n",
       "\n",
       "    .dataframe tbody tr th {\n",
       "        vertical-align: top;\n",
       "    }\n",
       "\n",
       "    .dataframe thead th {\n",
       "        text-align: right;\n",
       "    }\n",
       "</style>\n",
       "<table border=\"1\" class=\"dataframe\">\n",
       "  <thead>\n",
       "    <tr style=\"text-align: right;\">\n",
       "      <th></th>\n",
       "      <th>Name of products</th>\n",
       "      <th>Model</th>\n",
       "      <th>colour</th>\n",
       "      <th>date</th>\n",
       "      <th>price</th>\n",
       "    </tr>\n",
       "  </thead>\n",
       "  <tbody>\n",
       "    <tr>\n",
       "      <th>0</th>\n",
       "      <td>LG</td>\n",
       "      <td>i5</td>\n",
       "      <td>black</td>\n",
       "      <td>2020-06-01 00:00:00</td>\n",
       "      <td>66100</td>\n",
       "    </tr>\n",
       "    <tr>\n",
       "      <th>1</th>\n",
       "      <td>DELL</td>\n",
       "      <td>i3</td>\n",
       "      <td>black</td>\n",
       "      <td>01/23/2020</td>\n",
       "      <td>37500</td>\n",
       "    </tr>\n",
       "    <tr>\n",
       "      <th>2</th>\n",
       "      <td>DELL</td>\n",
       "      <td>i5</td>\n",
       "      <td>black</td>\n",
       "      <td>2020-09-02 00:00:00</td>\n",
       "      <td>86800</td>\n",
       "    </tr>\n",
       "    <tr>\n",
       "      <th>3</th>\n",
       "      <td>LG</td>\n",
       "      <td>i7</td>\n",
       "      <td>black</td>\n",
       "      <td>2020-09-03 00:00:00</td>\n",
       "      <td>90500</td>\n",
       "    </tr>\n",
       "  </tbody>\n",
       "</table>\n",
       "</div>"
      ],
      "text/plain": [
       "  Name of products Model colour                 date  price\n",
       "0               LG    i5  black  2020-06-01 00:00:00  66100\n",
       "1             DELL    i3  black           01/23/2020  37500\n",
       "2             DELL    i5  black  2020-09-02 00:00:00  86800\n",
       "3               LG    i7  black  2020-09-03 00:00:00  90500"
      ]
     },
     "execution_count": 126,
     "metadata": {},
     "output_type": "execute_result"
    }
   ],
   "source": [
    "data.head(4)"
   ]
  },
  {
   "cell_type": "code",
   "execution_count": 119,
   "id": "80697f17",
   "metadata": {},
   "outputs": [
    {
     "data": {
      "text/html": [
       "<div>\n",
       "<style scoped>\n",
       "    .dataframe tbody tr th:only-of-type {\n",
       "        vertical-align: middle;\n",
       "    }\n",
       "\n",
       "    .dataframe tbody tr th {\n",
       "        vertical-align: top;\n",
       "    }\n",
       "\n",
       "    .dataframe thead th {\n",
       "        text-align: right;\n",
       "    }\n",
       "</style>\n",
       "<table border=\"1\" class=\"dataframe\">\n",
       "  <thead>\n",
       "    <tr style=\"text-align: right;\">\n",
       "      <th></th>\n",
       "      <th>Name of products</th>\n",
       "      <th>Model</th>\n",
       "      <th>colour</th>\n",
       "      <th>date</th>\n",
       "      <th>price</th>\n",
       "    </tr>\n",
       "  </thead>\n",
       "  <tbody>\n",
       "    <tr>\n",
       "      <th>17</th>\n",
       "      <td>HP</td>\n",
       "      <td>i7</td>\n",
       "      <td>silver</td>\n",
       "      <td>2020-09-17 00:00:00</td>\n",
       "      <td>83200</td>\n",
       "    </tr>\n",
       "    <tr>\n",
       "      <th>18</th>\n",
       "      <td>HP</td>\n",
       "      <td>i3</td>\n",
       "      <td>black</td>\n",
       "      <td>2020-09-18 00:00:00</td>\n",
       "      <td>32200</td>\n",
       "    </tr>\n",
       "    <tr>\n",
       "      <th>19</th>\n",
       "      <td>HP</td>\n",
       "      <td>i5</td>\n",
       "      <td>black</td>\n",
       "      <td>2020-09-19 00:00:00</td>\n",
       "      <td>62600</td>\n",
       "    </tr>\n",
       "    <tr>\n",
       "      <th>20</th>\n",
       "      <td>LG</td>\n",
       "      <td>i5</td>\n",
       "      <td>black</td>\n",
       "      <td>2020-09-20 00:00:00</td>\n",
       "      <td>52300</td>\n",
       "    </tr>\n",
       "    <tr>\n",
       "      <th>21</th>\n",
       "      <td>DELL</td>\n",
       "      <td>i7</td>\n",
       "      <td>black</td>\n",
       "      <td>2020-09-21 00:00:00</td>\n",
       "      <td>88200</td>\n",
       "    </tr>\n",
       "  </tbody>\n",
       "</table>\n",
       "</div>"
      ],
      "text/plain": [
       "   Name of products Model  colour                 date  price\n",
       "17               HP    i7  silver  2020-09-17 00:00:00  83200\n",
       "18               HP    i3   black  2020-09-18 00:00:00  32200\n",
       "19               HP    i5   black  2020-09-19 00:00:00  62600\n",
       "20               LG    i5   black  2020-09-20 00:00:00  52300\n",
       "21             DELL    i7   black  2020-09-21 00:00:00  88200"
      ]
     },
     "execution_count": 119,
     "metadata": {},
     "output_type": "execute_result"
    }
   ],
   "source": [
    "data.tail()"
   ]
  },
  {
   "cell_type": "code",
   "execution_count": 101,
   "id": "b9a92f6e",
   "metadata": {},
   "outputs": [
    {
     "data": {
      "text/plain": [
       "22"
      ]
     },
     "execution_count": 101,
     "metadata": {},
     "output_type": "execute_result"
    }
   ],
   "source": [
    "#find total number of price\n",
    "\n",
    "a=data['price'].count()\n",
    "a\n"
   ]
  },
  {
   "cell_type": "code",
   "execution_count": 102,
   "id": "ab5e9771",
   "metadata": {},
   "outputs": [],
   "source": [
    "#find the maximum price in each colour"
   ]
  },
  {
   "cell_type": "code",
   "execution_count": 103,
   "id": "8e9401fb",
   "metadata": {},
   "outputs": [
    {
     "data": {
      "text/plain": [
       "32200"
      ]
     },
     "execution_count": 103,
     "metadata": {},
     "output_type": "execute_result"
    }
   ],
   "source": [
    "#find the minmum price\n",
    "\n",
    "a=data['price'].min()\n",
    "a\n"
   ]
  },
  {
   "cell_type": "code",
   "execution_count": 104,
   "id": "cef4b84e",
   "metadata": {},
   "outputs": [
    {
     "data": {
      "text/plain": [
       "22"
      ]
     },
     "execution_count": 104,
     "metadata": {},
     "output_type": "execute_result"
    }
   ],
   "source": [
    "a=data['Model'].count()\n",
    "a\n"
   ]
  },
  {
   "cell_type": "code",
   "execution_count": 125,
   "id": "b3e479bd",
   "metadata": {},
   "outputs": [
    {
     "name": "stderr",
     "output_type": "stream",
     "text": [
      "C:\\Users\\athir\\AppData\\Local\\Temp\\ipykernel_7464\\2444615425.py:2: FutureWarning: The default value of numeric_only in DataFrameGroupBy.sum is deprecated. In a future version, numeric_only will default to False. Either specify numeric_only or select only columns which should be valid for the function.\n",
      "  a=data.groupby('colour').sum()['price']\n"
     ]
    },
    {
     "data": {
      "text/plain": [
       "colour\n",
       "black     611300\n",
       "matt      177800\n",
       "red        77000\n",
       "silver    558640\n",
       "Name: price, dtype: int64"
      ]
     },
     "execution_count": 125,
     "metadata": {},
     "output_type": "execute_result"
    }
   ],
   "source": [
    "#find the total price by colour\n",
    "a=data.groupby('colour').sum()['price']\n",
    "a"
   ]
  },
  {
   "cell_type": "code",
   "execution_count": 106,
   "id": "d933c263",
   "metadata": {},
   "outputs": [
    {
     "name": "stderr",
     "output_type": "stream",
     "text": [
      "C:\\Users\\athir\\AppData\\Local\\Temp\\ipykernel_7464\\2276385588.py:3: FutureWarning: The default value of numeric_only in DataFrameGroupBy.sum is deprecated. In a future version, numeric_only will default to False. Either specify numeric_only or select only columns which should be valid for the function.\n",
      "  a=data.groupby('colour').sum()['price']\n"
     ]
    },
    {
     "data": {
      "text/plain": [
       "colour\n",
       "black     611300\n",
       "matt      177800\n",
       "red        77000\n",
       "silver    558640\n",
       "Name: price, dtype: int64"
      ]
     },
     "execution_count": 106,
     "metadata": {},
     "output_type": "execute_result"
    }
   ],
   "source": [
    "#find the maximumprice by colour\n",
    "\n",
    "a=data.groupby('colour').sum()['price']\n",
    "a"
   ]
  },
  {
   "cell_type": "code",
   "execution_count": 107,
   "id": "bdb86324",
   "metadata": {},
   "outputs": [
    {
     "name": "stderr",
     "output_type": "stream",
     "text": [
      "C:\\Users\\athir\\AppData\\Local\\Temp\\ipykernel_7464\\1200809400.py:3: FutureWarning: The default value of numeric_only in DataFrameGroupBy.mean is deprecated. In a future version, numeric_only will default to False. Either specify numeric_only or select only columns which should be valid for the function.\n",
      "  a=data.groupby('colour').mean()['price']\n"
     ]
    },
    {
     "data": {
      "text/plain": [
       "colour\n",
       "black     61130.000000\n",
       "matt      59266.666667\n",
       "red       77000.000000\n",
       "silver    69830.000000\n",
       "Name: price, dtype: float64"
      ]
     },
     "execution_count": 107,
     "metadata": {},
     "output_type": "execute_result"
    }
   ],
   "source": [
    "#find the Average price each colour\n",
    "\n",
    "a=data.groupby('colour').mean()['price']\n",
    "a"
   ]
  },
  {
   "cell_type": "code",
   "execution_count": 108,
   "id": "fec83e38",
   "metadata": {},
   "outputs": [
    {
     "name": "stderr",
     "output_type": "stream",
     "text": [
      "C:\\Users\\athir\\AppData\\Local\\Temp\\ipykernel_7464\\1907527650.py:1: FutureWarning: The default value of numeric_only in DataFrameGroupBy.mean is deprecated. In a future version, numeric_only will default to False. Either specify numeric_only or select only columns which should be valid for the function.\n",
      "  a=data.groupby('Name of products').mean()['price']\n"
     ]
    },
    {
     "data": {
      "text/plain": [
       "Name of products\n",
       "ACER    55200.000000\n",
       "ASUS    54046.666667\n",
       "DELL    63050.000000\n",
       "HP      67825.000000\n",
       "LG      71625.000000\n",
       "Name: price, dtype: float64"
      ]
     },
     "execution_count": 108,
     "metadata": {},
     "output_type": "execute_result"
    }
   ],
   "source": [
    "a=data.groupby('Name of products').mean()['price']\n",
    "a"
   ]
  },
  {
   "cell_type": "code",
   "execution_count": null,
   "id": "ceeb93bf",
   "metadata": {},
   "outputs": [],
   "source": []
  },
  {
   "cell_type": "code",
   "execution_count": 109,
   "id": "197c6afa",
   "metadata": {},
   "outputs": [
    {
     "name": "stderr",
     "output_type": "stream",
     "text": [
      "C:\\Users\\athir\\AppData\\Local\\Temp\\ipykernel_7464\\1201432157.py:1: FutureWarning: The default value of numeric_only in DataFrameGroupBy.sum is deprecated. In a future version, numeric_only will default to False. Either specify numeric_only or select only columns which should be valid for the function.\n",
      "  a=data.groupby('colour').sum()['price'].plot(kind= 'bar')\n"
     ]
    },
    {
     "data": {
      "text/plain": [
       "<Axes: xlabel='colour'>"
      ]
     },
     "execution_count": 109,
     "metadata": {},
     "output_type": "execute_result"
    },
    {
     "data": {
      "image/png": "[encoded data removed]",
      "text/plain": [
       "<Figure size 640x480 with 1 Axes>"
      ]
     },
     "metadata": {},
     "output_type": "display_data"
    }
   ],
   "source": [
    "a=data.groupby('colour').sum()['price'].plot(kind= 'bar')\n",
    "a"
   ]
  },
  {
   "cell_type": "code",
   "execution_count": 110,
   "id": "f7f302b5",
   "metadata": {},
   "outputs": [
    {
     "name": "stderr",
     "output_type": "stream",
     "text": [
      "C:\\Users\\athir\\AppData\\Local\\Temp\\ipykernel_7464\\77725497.py:1: FutureWarning: The default value of numeric_only in DataFrameGroupBy.sum is deprecated. In a future version, numeric_only will default to False. Either specify numeric_only or select only columns which should be valid for the function.\n",
      "  a=data.groupby('colour').sum()['price'].plot(kind= 'barh')\n"
     ]
    },
    {
     "data": {
      "text/plain": [
       "<Axes: ylabel='colour'>"
      ]
     },
     "execution_count": 110,
     "metadata": {},
     "output_type": "execute_result"
    },
    {
     "data": {
      "image/png": "[encoded data removed]",
      "text/plain": [
       "<Figure size 640x480 with 1 Axes>"
      ]
     },
     "metadata": {},
     "output_type": "display_data"
    }
   ],
   "source": [
    "a=data.groupby('colour').sum()['price'].plot(kind= 'barh')\n",
    "a"
   ]
  },
  {
   "cell_type": "code",
   "execution_count": 111,
   "id": "7dc5fb5d",
   "metadata": {},
   "outputs": [
    {
     "name": "stderr",
     "output_type": "stream",
     "text": [
      "C:\\Users\\athir\\AppData\\Local\\Temp\\ipykernel_7464\\1332873136.py:1: FutureWarning: The default value of numeric_only in DataFrameGroupBy.sum is deprecated. In a future version, numeric_only will default to False. Either specify numeric_only or select only columns which should be valid for the function.\n",
      "  a=data.groupby('colour').sum()['price'].plot(kind= 'pie')\n"
     ]
    },
    {
     "data": {
      "text/plain": [
       "<Axes: ylabel='price'>"
      ]
     },
     "execution_count": 111,
     "metadata": {},
     "output_type": "execute_result"
    },
    {
     "data": {
      "image/png": "[encoded data removed]",
      "text/plain": [
       "<Figure size 640x480 with 1 Axes>"
      ]
     },
     "metadata": {},
     "output_type": "display_data"
    }
   ],
   "source": [
    "a=data.groupby('colour').sum()['price'].plot(kind= 'pie')\n",
    "a"
   ]
  },
  {
   "cell_type": "code",
   "execution_count": 122,
   "id": "b0a213c6",
   "metadata": {},
   "outputs": [],
   "source": [
    "#a=data.groupby('colour').sum()['price'].plot(kind= 'pie')\n"
   ]
  },
  {
   "cell_type": "code",
   "execution_count": 123,
   "id": "93d35a71",
   "metadata": {},
   "outputs": [],
   "source": [
    "#a=data['colour'].value_counts(normalize=True)\n"
   ]
  },
  {
   "cell_type": "code",
   "execution_count": 115,
   "id": "3d379fb8",
   "metadata": {},
   "outputs": [
    {
     "data": {
      "text/plain": [
       "<Axes: ylabel='colour'>"
      ]
     },
     "execution_count": 115,
     "metadata": {},
     "output_type": "execute_result"
    },
    {
     "data": {
      "image/png": "[encoded data removed]",
      "text/plain": [
       "<Figure size 640x480 with 1 Axes>"
      ]
     },
     "metadata": {},
     "output_type": "display_data"
    }
   ],
   "source": [
    "a.plot(kind='pie',autopct='%1.2f%%')"
   ]
  },
  {
   "cell_type": "code",
   "execution_count": null,
   "id": "1176de78",
   "metadata": {},
   "outputs": [],
   "source": []
  }
 ],
 "metadata": {
  "kernelspec": {
   "display_name": "Python 3 (ipykernel)",
   "language": "python",
   "name": "python3"
  },
  "language_info": {
   "codemirror_mode": {
    "name": "ipython",
    "version": 3
   },
   "file_extension": ".py",
   "mimetype": "text/x-python",
   "name": "python",
   "nbconvert_exporter": "python",
   "pygments_lexer": "ipython3",
   "version": "3.10.9"
  }
 },
 "nbformat": 4,
 "nbformat_minor": 5
}
