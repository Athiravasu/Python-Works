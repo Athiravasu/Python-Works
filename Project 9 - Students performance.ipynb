{
 "cells": [
  {
   "cell_type": "code",
   "execution_count": 518,
   "id": "e3d99b27",
   "metadata": {},
   "outputs": [
    {
     "data": {
      "text/html": [
       "<div>\n",
       "<style scoped>\n",
       "    .dataframe tbody tr th:only-of-type {\n",
       "        vertical-align: middle;\n",
       "    }\n",
       "\n",
       "    .dataframe tbody tr th {\n",
       "        vertical-align: top;\n",
       "    }\n",
       "\n",
       "    .dataframe thead th {\n",
       "        text-align: right;\n",
       "    }\n",
       "</style>\n",
       "<table border=\"1\" class=\"dataframe\">\n",
       "  <thead>\n",
       "    <tr style=\"text-align: right;\">\n",
       "      <th></th>\n",
       "      <th>Student ID</th>\n",
       "      <th>gender</th>\n",
       "      <th>race/ethnicity</th>\n",
       "      <th>parental level of education</th>\n",
       "      <th>lunch</th>\n",
       "      <th>Column</th>\n",
       "      <th>Column.1</th>\n",
       "      <th>test preparation course</th>\n",
       "      <th>math score</th>\n",
       "      <th>reading score</th>\n",
       "      <th>writing score</th>\n",
       "    </tr>\n",
       "  </thead>\n",
       "  <tbody>\n",
       "    <tr>\n",
       "      <th>0</th>\n",
       "      <td>1.0</td>\n",
       "      <td>female</td>\n",
       "      <td>group B</td>\n",
       "      <td>bachelor's degree</td>\n",
       "      <td>standard</td>\n",
       "      <td>NaN</td>\n",
       "      <td>NaN</td>\n",
       "      <td>none</td>\n",
       "      <td>72.0</td>\n",
       "      <td>72.0</td>\n",
       "      <td>74.0</td>\n",
       "    </tr>\n",
       "    <tr>\n",
       "      <th>1</th>\n",
       "      <td>2.0</td>\n",
       "      <td>female</td>\n",
       "      <td>group C</td>\n",
       "      <td>Diploma</td>\n",
       "      <td>standard</td>\n",
       "      <td>NaN</td>\n",
       "      <td>NaN</td>\n",
       "      <td>completed</td>\n",
       "      <td>69.0</td>\n",
       "      <td>90.0</td>\n",
       "      <td>88.0</td>\n",
       "    </tr>\n",
       "    <tr>\n",
       "      <th>2</th>\n",
       "      <td>3.0</td>\n",
       "      <td>female</td>\n",
       "      <td>group B</td>\n",
       "      <td>master's degree</td>\n",
       "      <td>standard</td>\n",
       "      <td>NaN</td>\n",
       "      <td>NaN</td>\n",
       "      <td>none</td>\n",
       "      <td>90.0</td>\n",
       "      <td>95.0</td>\n",
       "      <td>93.0</td>\n",
       "    </tr>\n",
       "    <tr>\n",
       "      <th>3</th>\n",
       "      <td>4.0</td>\n",
       "      <td>male</td>\n",
       "      <td>group A</td>\n",
       "      <td>associate's degree</td>\n",
       "      <td>free/reduced</td>\n",
       "      <td>NaN</td>\n",
       "      <td>NaN</td>\n",
       "      <td>none</td>\n",
       "      <td>47.0</td>\n",
       "      <td>57.0</td>\n",
       "      <td>44.0</td>\n",
       "    </tr>\n",
       "    <tr>\n",
       "      <th>4</th>\n",
       "      <td>5.0</td>\n",
       "      <td>male</td>\n",
       "      <td>group C</td>\n",
       "      <td>Diploma</td>\n",
       "      <td>standard</td>\n",
       "      <td>NaN</td>\n",
       "      <td>NaN</td>\n",
       "      <td>none</td>\n",
       "      <td>76.0</td>\n",
       "      <td>78.0</td>\n",
       "      <td>75.0</td>\n",
       "    </tr>\n",
       "    <tr>\n",
       "      <th>...</th>\n",
       "      <td>...</td>\n",
       "      <td>...</td>\n",
       "      <td>...</td>\n",
       "      <td>...</td>\n",
       "      <td>...</td>\n",
       "      <td>...</td>\n",
       "      <td>...</td>\n",
       "      <td>...</td>\n",
       "      <td>...</td>\n",
       "      <td>...</td>\n",
       "      <td>...</td>\n",
       "    </tr>\n",
       "    <tr>\n",
       "      <th>1013</th>\n",
       "      <td>1001.0</td>\n",
       "      <td>female</td>\n",
       "      <td>group E</td>\n",
       "      <td>master's degree</td>\n",
       "      <td>standard</td>\n",
       "      <td>NaN</td>\n",
       "      <td>NaN</td>\n",
       "      <td>completed</td>\n",
       "      <td>88.0</td>\n",
       "      <td>99.0</td>\n",
       "      <td>95.0</td>\n",
       "    </tr>\n",
       "    <tr>\n",
       "      <th>1014</th>\n",
       "      <td>1002.0</td>\n",
       "      <td>male</td>\n",
       "      <td>group C</td>\n",
       "      <td>high school</td>\n",
       "      <td>free/reduced</td>\n",
       "      <td>NaN</td>\n",
       "      <td>NaN</td>\n",
       "      <td>none</td>\n",
       "      <td>62.0</td>\n",
       "      <td>55.0</td>\n",
       "      <td>55.0</td>\n",
       "    </tr>\n",
       "    <tr>\n",
       "      <th>1015</th>\n",
       "      <td>1003.0</td>\n",
       "      <td>female</td>\n",
       "      <td>group C</td>\n",
       "      <td>high school</td>\n",
       "      <td>free/reduced</td>\n",
       "      <td>NaN</td>\n",
       "      <td>NaN</td>\n",
       "      <td>completed</td>\n",
       "      <td>59.0</td>\n",
       "      <td>71.0</td>\n",
       "      <td>65.0</td>\n",
       "    </tr>\n",
       "    <tr>\n",
       "      <th>1016</th>\n",
       "      <td>1004.0</td>\n",
       "      <td>female</td>\n",
       "      <td>group D</td>\n",
       "      <td>Diploma</td>\n",
       "      <td>standard</td>\n",
       "      <td>NaN</td>\n",
       "      <td>NaN</td>\n",
       "      <td>completed</td>\n",
       "      <td>68.0</td>\n",
       "      <td>78.0</td>\n",
       "      <td>77.0</td>\n",
       "    </tr>\n",
       "    <tr>\n",
       "      <th>1017</th>\n",
       "      <td>1005.0</td>\n",
       "      <td>female</td>\n",
       "      <td>group D</td>\n",
       "      <td>Diploma</td>\n",
       "      <td>free/reduced</td>\n",
       "      <td>NaN</td>\n",
       "      <td>NaN</td>\n",
       "      <td>none</td>\n",
       "      <td>77.0</td>\n",
       "      <td>86.0</td>\n",
       "      <td>86.0</td>\n",
       "    </tr>\n",
       "  </tbody>\n",
       "</table>\n",
       "<p>1018 rows × 11 columns</p>\n",
       "</div>"
      ],
      "text/plain": [
       "      Student ID  gender race/ethnicity parental level of education  \\\n",
       "0            1.0  female        group B           bachelor's degree   \n",
       "1            2.0  female        group C                     Diploma   \n",
       "2            3.0  female        group B             master's degree   \n",
       "3            4.0    male        group A          associate's degree   \n",
       "4            5.0    male        group C                     Diploma   \n",
       "...          ...     ...            ...                         ...   \n",
       "1013      1001.0  female        group E             master's degree   \n",
       "1014      1002.0    male        group C                 high school   \n",
       "1015      1003.0  female        group C                 high school   \n",
       "1016      1004.0  female        group D                     Diploma   \n",
       "1017      1005.0  female        group D                     Diploma   \n",
       "\n",
       "             lunch  Column  Column.1 test preparation course  math score  \\\n",
       "0         standard     NaN       NaN                    none        72.0   \n",
       "1         standard     NaN       NaN               completed        69.0   \n",
       "2         standard     NaN       NaN                    none        90.0   \n",
       "3     free/reduced     NaN       NaN                    none        47.0   \n",
       "4         standard     NaN       NaN                    none        76.0   \n",
       "...            ...     ...       ...                     ...         ...   \n",
       "1013      standard     NaN       NaN               completed        88.0   \n",
       "1014  free/reduced     NaN       NaN                    none        62.0   \n",
       "1015  free/reduced     NaN       NaN               completed        59.0   \n",
       "1016      standard     NaN       NaN               completed        68.0   \n",
       "1017  free/reduced     NaN       NaN                    none        77.0   \n",
       "\n",
       "      reading score  writing score  \n",
       "0              72.0           74.0  \n",
       "1              90.0           88.0  \n",
       "2              95.0           93.0  \n",
       "3              57.0           44.0  \n",
       "4              78.0           75.0  \n",
       "...             ...            ...  \n",
       "1013           99.0           95.0  \n",
       "1014           55.0           55.0  \n",
       "1015           71.0           65.0  \n",
       "1016           78.0           77.0  \n",
       "1017           86.0           86.0  \n",
       "\n",
       "[1018 rows x 11 columns]"
      ]
     },
     "execution_count": 518,
     "metadata": {},
     "output_type": "execute_result"
    }
   ],
   "source": [
    "import pandas as pd\n",
    "import numpy as np\n",
    "import seaborn as sns\n",
    "import matplotlib.pyplot as plt\n",
    "\n",
    "\n",
    "st=pd.read_excel('StudentsPerformance (1).xlsx')\n",
    "st"
   ]
  },
  {
   "cell_type": "code",
   "execution_count": 519,
   "id": "4c36698c",
   "metadata": {},
   "outputs": [
    {
     "data": {
      "text/html": [
       "<div>\n",
       "<style scoped>\n",
       "    .dataframe tbody tr th:only-of-type {\n",
       "        vertical-align: middle;\n",
       "    }\n",
       "\n",
       "    .dataframe tbody tr th {\n",
       "        vertical-align: top;\n",
       "    }\n",
       "\n",
       "    .dataframe thead th {\n",
       "        text-align: right;\n",
       "    }\n",
       "</style>\n",
       "<table border=\"1\" class=\"dataframe\">\n",
       "  <thead>\n",
       "    <tr style=\"text-align: right;\">\n",
       "      <th></th>\n",
       "      <th>Student ID</th>\n",
       "      <th>gender</th>\n",
       "      <th>race/ethnicity</th>\n",
       "      <th>parental level of education</th>\n",
       "      <th>lunch</th>\n",
       "      <th>Column</th>\n",
       "      <th>Column.1</th>\n",
       "      <th>test preparation course</th>\n",
       "      <th>math score</th>\n",
       "      <th>reading score</th>\n",
       "      <th>writing score</th>\n",
       "      <th>Score</th>\n",
       "    </tr>\n",
       "  </thead>\n",
       "  <tbody>\n",
       "    <tr>\n",
       "      <th>0</th>\n",
       "      <td>1.0</td>\n",
       "      <td>female</td>\n",
       "      <td>group B</td>\n",
       "      <td>bachelor's degree</td>\n",
       "      <td>standard</td>\n",
       "      <td>NaN</td>\n",
       "      <td>NaN</td>\n",
       "      <td>none</td>\n",
       "      <td>72.0</td>\n",
       "      <td>72.0</td>\n",
       "      <td>74.0</td>\n",
       "      <td>326.0</td>\n",
       "    </tr>\n",
       "    <tr>\n",
       "      <th>1</th>\n",
       "      <td>2.0</td>\n",
       "      <td>female</td>\n",
       "      <td>group C</td>\n",
       "      <td>Diploma</td>\n",
       "      <td>standard</td>\n",
       "      <td>NaN</td>\n",
       "      <td>NaN</td>\n",
       "      <td>completed</td>\n",
       "      <td>69.0</td>\n",
       "      <td>90.0</td>\n",
       "      <td>88.0</td>\n",
       "      <td>305.0</td>\n",
       "    </tr>\n",
       "    <tr>\n",
       "      <th>2</th>\n",
       "      <td>3.0</td>\n",
       "      <td>female</td>\n",
       "      <td>group B</td>\n",
       "      <td>master's degree</td>\n",
       "      <td>standard</td>\n",
       "      <td>NaN</td>\n",
       "      <td>NaN</td>\n",
       "      <td>none</td>\n",
       "      <td>90.0</td>\n",
       "      <td>95.0</td>\n",
       "      <td>93.0</td>\n",
       "      <td>90.0</td>\n",
       "    </tr>\n",
       "    <tr>\n",
       "      <th>3</th>\n",
       "      <td>4.0</td>\n",
       "      <td>male</td>\n",
       "      <td>group A</td>\n",
       "      <td>associate's degree</td>\n",
       "      <td>free/reduced</td>\n",
       "      <td>NaN</td>\n",
       "      <td>NaN</td>\n",
       "      <td>none</td>\n",
       "      <td>47.0</td>\n",
       "      <td>57.0</td>\n",
       "      <td>44.0</td>\n",
       "      <td>47.0</td>\n",
       "    </tr>\n",
       "    <tr>\n",
       "      <th>4</th>\n",
       "      <td>5.0</td>\n",
       "      <td>male</td>\n",
       "      <td>group C</td>\n",
       "      <td>Diploma</td>\n",
       "      <td>standard</td>\n",
       "      <td>NaN</td>\n",
       "      <td>NaN</td>\n",
       "      <td>none</td>\n",
       "      <td>76.0</td>\n",
       "      <td>78.0</td>\n",
       "      <td>75.0</td>\n",
       "      <td>164.0</td>\n",
       "    </tr>\n",
       "    <tr>\n",
       "      <th>...</th>\n",
       "      <td>...</td>\n",
       "      <td>...</td>\n",
       "      <td>...</td>\n",
       "      <td>...</td>\n",
       "      <td>...</td>\n",
       "      <td>...</td>\n",
       "      <td>...</td>\n",
       "      <td>...</td>\n",
       "      <td>...</td>\n",
       "      <td>...</td>\n",
       "      <td>...</td>\n",
       "      <td>...</td>\n",
       "    </tr>\n",
       "    <tr>\n",
       "      <th>1013</th>\n",
       "      <td>1001.0</td>\n",
       "      <td>female</td>\n",
       "      <td>group E</td>\n",
       "      <td>master's degree</td>\n",
       "      <td>standard</td>\n",
       "      <td>NaN</td>\n",
       "      <td>NaN</td>\n",
       "      <td>completed</td>\n",
       "      <td>88.0</td>\n",
       "      <td>99.0</td>\n",
       "      <td>95.0</td>\n",
       "      <td>88.0</td>\n",
       "    </tr>\n",
       "    <tr>\n",
       "      <th>1014</th>\n",
       "      <td>1002.0</td>\n",
       "      <td>male</td>\n",
       "      <td>group C</td>\n",
       "      <td>high school</td>\n",
       "      <td>free/reduced</td>\n",
       "      <td>NaN</td>\n",
       "      <td>NaN</td>\n",
       "      <td>none</td>\n",
       "      <td>62.0</td>\n",
       "      <td>55.0</td>\n",
       "      <td>55.0</td>\n",
       "      <td>62.0</td>\n",
       "    </tr>\n",
       "    <tr>\n",
       "      <th>1015</th>\n",
       "      <td>1003.0</td>\n",
       "      <td>female</td>\n",
       "      <td>group C</td>\n",
       "      <td>high school</td>\n",
       "      <td>free/reduced</td>\n",
       "      <td>NaN</td>\n",
       "      <td>NaN</td>\n",
       "      <td>completed</td>\n",
       "      <td>59.0</td>\n",
       "      <td>71.0</td>\n",
       "      <td>65.0</td>\n",
       "      <td>128.0</td>\n",
       "    </tr>\n",
       "    <tr>\n",
       "      <th>1016</th>\n",
       "      <td>1004.0</td>\n",
       "      <td>female</td>\n",
       "      <td>group D</td>\n",
       "      <td>Diploma</td>\n",
       "      <td>standard</td>\n",
       "      <td>NaN</td>\n",
       "      <td>NaN</td>\n",
       "      <td>completed</td>\n",
       "      <td>68.0</td>\n",
       "      <td>78.0</td>\n",
       "      <td>77.0</td>\n",
       "      <td>147.0</td>\n",
       "    </tr>\n",
       "    <tr>\n",
       "      <th>1017</th>\n",
       "      <td>1005.0</td>\n",
       "      <td>female</td>\n",
       "      <td>group D</td>\n",
       "      <td>Diploma</td>\n",
       "      <td>free/reduced</td>\n",
       "      <td>NaN</td>\n",
       "      <td>NaN</td>\n",
       "      <td>none</td>\n",
       "      <td>77.0</td>\n",
       "      <td>86.0</td>\n",
       "      <td>86.0</td>\n",
       "      <td>77.0</td>\n",
       "    </tr>\n",
       "  </tbody>\n",
       "</table>\n",
       "<p>1018 rows × 12 columns</p>\n",
       "</div>"
      ],
      "text/plain": [
       "      Student ID  gender race/ethnicity parental level of education  \\\n",
       "0            1.0  female        group B           bachelor's degree   \n",
       "1            2.0  female        group C                     Diploma   \n",
       "2            3.0  female        group B             master's degree   \n",
       "3            4.0    male        group A          associate's degree   \n",
       "4            5.0    male        group C                     Diploma   \n",
       "...          ...     ...            ...                         ...   \n",
       "1013      1001.0  female        group E             master's degree   \n",
       "1014      1002.0    male        group C                 high school   \n",
       "1015      1003.0  female        group C                 high school   \n",
       "1016      1004.0  female        group D                     Diploma   \n",
       "1017      1005.0  female        group D                     Diploma   \n",
       "\n",
       "             lunch  Column  Column.1 test preparation course  math score  \\\n",
       "0         standard     NaN       NaN                    none        72.0   \n",
       "1         standard     NaN       NaN               completed        69.0   \n",
       "2         standard     NaN       NaN                    none        90.0   \n",
       "3     free/reduced     NaN       NaN                    none        47.0   \n",
       "4         standard     NaN       NaN                    none        76.0   \n",
       "...            ...     ...       ...                     ...         ...   \n",
       "1013      standard     NaN       NaN               completed        88.0   \n",
       "1014  free/reduced     NaN       NaN                    none        62.0   \n",
       "1015  free/reduced     NaN       NaN               completed        59.0   \n",
       "1016      standard     NaN       NaN               completed        68.0   \n",
       "1017  free/reduced     NaN       NaN                    none        77.0   \n",
       "\n",
       "      reading score  writing score  Score  \n",
       "0              72.0           74.0  326.0  \n",
       "1              90.0           88.0  305.0  \n",
       "2              95.0           93.0   90.0  \n",
       "3              57.0           44.0   47.0  \n",
       "4              78.0           75.0  164.0  \n",
       "...             ...            ...    ...  \n",
       "1013           99.0           95.0   88.0  \n",
       "1014           55.0           55.0   62.0  \n",
       "1015           71.0           65.0  128.0  \n",
       "1016           78.0           77.0  147.0  \n",
       "1017           86.0           86.0   77.0  \n",
       "\n",
       "[1018 rows x 12 columns]"
      ]
     },
     "execution_count": 519,
     "metadata": {},
     "output_type": "execute_result"
    }
   ],
   "source": [
    "st['Score'] = st.groupby(['reading score', 'writing score'])['math score'].transform(lambda x: x .sum())\n",
    "st"
   ]
  },
  {
   "cell_type": "code",
   "execution_count": null,
   "id": "bafd8377",
   "metadata": {},
   "outputs": [],
   "source": []
  },
  {
   "cell_type": "code",
   "execution_count": 520,
   "id": "b5dc6389",
   "metadata": {},
   "outputs": [
    {
     "data": {
      "text/html": [
       "<div>\n",
       "<style scoped>\n",
       "    .dataframe tbody tr th:only-of-type {\n",
       "        vertical-align: middle;\n",
       "    }\n",
       "\n",
       "    .dataframe tbody tr th {\n",
       "        vertical-align: top;\n",
       "    }\n",
       "\n",
       "    .dataframe thead th {\n",
       "        text-align: right;\n",
       "    }\n",
       "</style>\n",
       "<table border=\"1\" class=\"dataframe\">\n",
       "  <thead>\n",
       "    <tr style=\"text-align: right;\">\n",
       "      <th></th>\n",
       "      <th>Student ID</th>\n",
       "      <th>gender</th>\n",
       "      <th>race/ethnicity</th>\n",
       "      <th>parental level of education</th>\n",
       "      <th>lunch</th>\n",
       "      <th>test preparation course</th>\n",
       "      <th>math score</th>\n",
       "      <th>reading score</th>\n",
       "      <th>writing score</th>\n",
       "      <th>Score</th>\n",
       "    </tr>\n",
       "  </thead>\n",
       "  <tbody>\n",
       "    <tr>\n",
       "      <th>0</th>\n",
       "      <td>1.0</td>\n",
       "      <td>female</td>\n",
       "      <td>group B</td>\n",
       "      <td>bachelor's degree</td>\n",
       "      <td>standard</td>\n",
       "      <td>none</td>\n",
       "      <td>72.0</td>\n",
       "      <td>72.0</td>\n",
       "      <td>74.0</td>\n",
       "      <td>326.0</td>\n",
       "    </tr>\n",
       "    <tr>\n",
       "      <th>1</th>\n",
       "      <td>2.0</td>\n",
       "      <td>female</td>\n",
       "      <td>group C</td>\n",
       "      <td>Diploma</td>\n",
       "      <td>standard</td>\n",
       "      <td>completed</td>\n",
       "      <td>69.0</td>\n",
       "      <td>90.0</td>\n",
       "      <td>88.0</td>\n",
       "      <td>305.0</td>\n",
       "    </tr>\n",
       "    <tr>\n",
       "      <th>2</th>\n",
       "      <td>3.0</td>\n",
       "      <td>female</td>\n",
       "      <td>group B</td>\n",
       "      <td>master's degree</td>\n",
       "      <td>standard</td>\n",
       "      <td>none</td>\n",
       "      <td>90.0</td>\n",
       "      <td>95.0</td>\n",
       "      <td>93.0</td>\n",
       "      <td>90.0</td>\n",
       "    </tr>\n",
       "    <tr>\n",
       "      <th>3</th>\n",
       "      <td>4.0</td>\n",
       "      <td>male</td>\n",
       "      <td>group A</td>\n",
       "      <td>associate's degree</td>\n",
       "      <td>free/reduced</td>\n",
       "      <td>none</td>\n",
       "      <td>47.0</td>\n",
       "      <td>57.0</td>\n",
       "      <td>44.0</td>\n",
       "      <td>47.0</td>\n",
       "    </tr>\n",
       "    <tr>\n",
       "      <th>4</th>\n",
       "      <td>5.0</td>\n",
       "      <td>male</td>\n",
       "      <td>group C</td>\n",
       "      <td>Diploma</td>\n",
       "      <td>standard</td>\n",
       "      <td>none</td>\n",
       "      <td>76.0</td>\n",
       "      <td>78.0</td>\n",
       "      <td>75.0</td>\n",
       "      <td>164.0</td>\n",
       "    </tr>\n",
       "    <tr>\n",
       "      <th>...</th>\n",
       "      <td>...</td>\n",
       "      <td>...</td>\n",
       "      <td>...</td>\n",
       "      <td>...</td>\n",
       "      <td>...</td>\n",
       "      <td>...</td>\n",
       "      <td>...</td>\n",
       "      <td>...</td>\n",
       "      <td>...</td>\n",
       "      <td>...</td>\n",
       "    </tr>\n",
       "    <tr>\n",
       "      <th>1013</th>\n",
       "      <td>1001.0</td>\n",
       "      <td>female</td>\n",
       "      <td>group E</td>\n",
       "      <td>master's degree</td>\n",
       "      <td>standard</td>\n",
       "      <td>completed</td>\n",
       "      <td>88.0</td>\n",
       "      <td>99.0</td>\n",
       "      <td>95.0</td>\n",
       "      <td>88.0</td>\n",
       "    </tr>\n",
       "    <tr>\n",
       "      <th>1014</th>\n",
       "      <td>1002.0</td>\n",
       "      <td>male</td>\n",
       "      <td>group C</td>\n",
       "      <td>high school</td>\n",
       "      <td>free/reduced</td>\n",
       "      <td>none</td>\n",
       "      <td>62.0</td>\n",
       "      <td>55.0</td>\n",
       "      <td>55.0</td>\n",
       "      <td>62.0</td>\n",
       "    </tr>\n",
       "    <tr>\n",
       "      <th>1015</th>\n",
       "      <td>1003.0</td>\n",
       "      <td>female</td>\n",
       "      <td>group C</td>\n",
       "      <td>high school</td>\n",
       "      <td>free/reduced</td>\n",
       "      <td>completed</td>\n",
       "      <td>59.0</td>\n",
       "      <td>71.0</td>\n",
       "      <td>65.0</td>\n",
       "      <td>128.0</td>\n",
       "    </tr>\n",
       "    <tr>\n",
       "      <th>1016</th>\n",
       "      <td>1004.0</td>\n",
       "      <td>female</td>\n",
       "      <td>group D</td>\n",
       "      <td>Diploma</td>\n",
       "      <td>standard</td>\n",
       "      <td>completed</td>\n",
       "      <td>68.0</td>\n",
       "      <td>78.0</td>\n",
       "      <td>77.0</td>\n",
       "      <td>147.0</td>\n",
       "    </tr>\n",
       "    <tr>\n",
       "      <th>1017</th>\n",
       "      <td>1005.0</td>\n",
       "      <td>female</td>\n",
       "      <td>group D</td>\n",
       "      <td>Diploma</td>\n",
       "      <td>free/reduced</td>\n",
       "      <td>none</td>\n",
       "      <td>77.0</td>\n",
       "      <td>86.0</td>\n",
       "      <td>86.0</td>\n",
       "      <td>77.0</td>\n",
       "    </tr>\n",
       "  </tbody>\n",
       "</table>\n",
       "<p>1018 rows × 10 columns</p>\n",
       "</div>"
      ],
      "text/plain": [
       "      Student ID  gender race/ethnicity parental level of education  \\\n",
       "0            1.0  female        group B           bachelor's degree   \n",
       "1            2.0  female        group C                     Diploma   \n",
       "2            3.0  female        group B             master's degree   \n",
       "3            4.0    male        group A          associate's degree   \n",
       "4            5.0    male        group C                     Diploma   \n",
       "...          ...     ...            ...                         ...   \n",
       "1013      1001.0  female        group E             master's degree   \n",
       "1014      1002.0    male        group C                 high school   \n",
       "1015      1003.0  female        group C                 high school   \n",
       "1016      1004.0  female        group D                     Diploma   \n",
       "1017      1005.0  female        group D                     Diploma   \n",
       "\n",
       "             lunch test preparation course  math score  reading score  \\\n",
       "0         standard                    none        72.0           72.0   \n",
       "1         standard               completed        69.0           90.0   \n",
       "2         standard                    none        90.0           95.0   \n",
       "3     free/reduced                    none        47.0           57.0   \n",
       "4         standard                    none        76.0           78.0   \n",
       "...            ...                     ...         ...            ...   \n",
       "1013      standard               completed        88.0           99.0   \n",
       "1014  free/reduced                    none        62.0           55.0   \n",
       "1015  free/reduced               completed        59.0           71.0   \n",
       "1016      standard               completed        68.0           78.0   \n",
       "1017  free/reduced                    none        77.0           86.0   \n",
       "\n",
       "      writing score  Score  \n",
       "0              74.0  326.0  \n",
       "1              88.0  305.0  \n",
       "2              93.0   90.0  \n",
       "3              44.0   47.0  \n",
       "4              75.0  164.0  \n",
       "...             ...    ...  \n",
       "1013           95.0   88.0  \n",
       "1014           55.0   62.0  \n",
       "1015           65.0  128.0  \n",
       "1016           77.0  147.0  \n",
       "1017           86.0   77.0  \n",
       "\n",
       "[1018 rows x 10 columns]"
      ]
     },
     "execution_count": 520,
     "metadata": {},
     "output_type": "execute_result"
    }
   ],
   "source": [
    "st.drop(\n",
    "labels=['Column','Column.1'],\n",
    "    axis=1,\n",
    "    inplace=False\n",
    ")"
   ]
  },
  {
   "cell_type": "code",
   "execution_count": 521,
   "id": "5536f035",
   "metadata": {},
   "outputs": [
    {
     "name": "stdout",
     "output_type": "stream",
     "text": [
      "<class 'pandas.core.frame.DataFrame'>\n",
      "RangeIndex: 1018 entries, 0 to 1017\n",
      "Data columns (total 12 columns):\n",
      " #   Column                       Non-Null Count  Dtype  \n",
      "---  ------                       --------------  -----  \n",
      " 0   Student ID                   1005 non-null   float64\n",
      " 1   gender                       1005 non-null   object \n",
      " 2   race/ethnicity               1005 non-null   object \n",
      " 3   parental level of education  1005 non-null   object \n",
      " 4   lunch                        1005 non-null   object \n",
      " 5   Column                       0 non-null      float64\n",
      " 6   Column.1                     0 non-null      float64\n",
      " 7   test preparation course      1005 non-null   object \n",
      " 8   math score                   1000 non-null   float64\n",
      " 9   reading score                1000 non-null   float64\n",
      " 10  writing score                1000 non-null   float64\n",
      " 11  Score                        1000 non-null   float64\n",
      "dtypes: float64(7), object(5)\n",
      "memory usage: 95.6+ KB\n"
     ]
    }
   ],
   "source": [
    "#1.check whether null values are present in the given data.\n",
    "\n",
    "st.info()"
   ]
  },
  {
   "cell_type": "code",
   "execution_count": 522,
   "id": "7cb696b9",
   "metadata": {},
   "outputs": [
    {
     "data": {
      "text/plain": [
       "1005"
      ]
     },
     "execution_count": 522,
     "metadata": {},
     "output_type": "execute_result"
    }
   ],
   "source": [
    "#2.find the total number of students.\n",
    "\n",
    "st['Student ID'].count()"
   ]
  },
  {
   "cell_type": "code",
   "execution_count": 523,
   "id": "5a93e4c4",
   "metadata": {},
   "outputs": [
    {
     "data": {
      "text/plain": [
       "153.503"
      ]
     },
     "execution_count": 523,
     "metadata": {},
     "output_type": "execute_result"
    }
   ],
   "source": [
    "#3. find the average for reading score.\n",
    "\n",
    "st['Score'].mean()"
   ]
  },
  {
   "cell_type": "code",
   "execution_count": 524,
   "id": "a70f69a2",
   "metadata": {},
   "outputs": [
    {
     "data": {
      "text/plain": [
       "count    1000.000000\n",
       "mean       68.054000\n",
       "std        15.195657\n",
       "min        10.000000\n",
       "25%        57.750000\n",
       "50%        69.000000\n",
       "75%        79.000000\n",
       "max       100.000000\n",
       "Name: writing score, dtype: float64"
      ]
     },
     "execution_count": 524,
     "metadata": {},
     "output_type": "execute_result"
    }
   ],
   "source": [
    "#4.check the descriptive statistics for writing score.\n",
    "\n",
    "st.describe()['writing score']\n",
    "\n"
   ]
  },
  {
   "cell_type": "code",
   "execution_count": 525,
   "id": "b00e399c",
   "metadata": {},
   "outputs": [
    {
     "name": "stderr",
     "output_type": "stream",
     "text": [
      "C:\\Users\\athir\\AppData\\Local\\Temp\\ipykernel_14936\\1556208279.py:3: FutureWarning: The default value of numeric_only in DataFrameGroupBy.sum is deprecated. In a future version, numeric_only will default to False. Either specify numeric_only or select only columns which should be valid for the function.\n",
      "  r=st.groupby('test preparation course').sum()['Student ID']\n"
     ]
    },
    {
     "data": {
      "text/plain": [
       "test preparation course\n",
       "completed    185931.0\n",
       "none         319584.0\n",
       "Name: Student ID, dtype: float64"
      ]
     },
     "execution_count": 525,
     "metadata": {},
     "output_type": "execute_result"
    }
   ],
   "source": [
    "#5.find how many students had completed the test preparation.\n",
    "\n",
    "r=st.groupby('test preparation course').sum()['Student ID']\n",
    "r"
   ]
  },
  {
   "cell_type": "code",
   "execution_count": 526,
   "id": "4bc5fe3e",
   "metadata": {},
   "outputs": [
    {
     "data": {
      "text/plain": [
       "math score\n",
       "0.0        0.0\n",
       "8.0        8.0\n",
       "18.0      18.0\n",
       "19.0      19.0\n",
       "22.0      54.0\n",
       "         ...  \n",
       "96.0      96.0\n",
       "97.0      97.0\n",
       "98.0      98.0\n",
       "99.0      99.0\n",
       "100.0    100.0\n",
       "Name: Score, Length: 81, dtype: float64"
      ]
     },
     "execution_count": 526,
     "metadata": {},
     "output_type": "execute_result"
    }
   ],
   "source": [
    "#6.find the min score in math.\n",
    "\n",
    "r=st.groupby('math score').min()['Score']\n",
    "r"
   ]
  },
  {
   "cell_type": "code",
   "execution_count": 527,
   "id": "b4dc64c4",
   "metadata": {},
   "outputs": [
    {
     "data": {
      "text/plain": [
       "math score\n",
       "0.0         0.0\n",
       "8.0         8.0\n",
       "18.0       18.0\n",
       "19.0       19.0\n",
       "22.0       54.0\n",
       "          ...  \n",
       "96.0     1045.0\n",
       "97.0     1045.0\n",
       "98.0      190.0\n",
       "99.0     1045.0\n",
       "100.0    1045.0\n",
       "Name: Score, Length: 81, dtype: float64"
      ]
     },
     "execution_count": 527,
     "metadata": {},
     "output_type": "execute_result"
    }
   ],
   "source": [
    "#7.find the max score in writing.\n",
    "\n",
    "r=st.groupby('math score').max()['Score']\n",
    "r"
   ]
  },
  {
   "cell_type": "code",
   "execution_count": 528,
   "id": "a614df21",
   "metadata": {},
   "outputs": [
    {
     "data": {
      "text/plain": [
       "lunch\n",
       "free/reduced    4.0\n",
       "standard        1.0\n",
       "Name: Student ID, dtype: float64"
      ]
     },
     "execution_count": 528,
     "metadata": {},
     "output_type": "execute_result"
    }
   ],
   "source": [
    "#8.find the number of students by lunch.\n",
    "\n",
    "r=st.groupby('lunch').min()['Student ID']\n",
    "r"
   ]
  },
  {
   "cell_type": "code",
   "execution_count": 529,
   "id": "ee380df2",
   "metadata": {},
   "outputs": [
    {
     "name": "stderr",
     "output_type": "stream",
     "text": [
      "C:\\Users\\athir\\AppData\\Local\\Temp\\ipykernel_14936\\2332717418.py:4: FutureWarning: The default value of numeric_only in DataFrameGroupBy.mean is deprecated. In a future version, numeric_only will default to False. Either specify numeric_only or select only columns which should be valid for the function.\n",
      "  r=st.groupby('race/ethnicity').mean()['Score']\n"
     ]
    },
    {
     "data": {
      "text/plain": [
       "race/ethnicity\n",
       "group A    130.202247\n",
       "group B    144.342105\n",
       "group C    147.344828\n",
       "group D    159.847328\n",
       "group E    182.907143\n",
       "Name: Score, dtype: float64"
      ]
     },
     "execution_count": 529,
     "metadata": {},
     "output_type": "execute_result"
    }
   ],
   "source": [
    "#9.find the average score for each by race/ethnicity.\n",
    "\n",
    "\n",
    "r=st.groupby('race/ethnicity').mean()['Score']\n",
    "r"
   ]
  },
  {
   "cell_type": "code",
   "execution_count": 530,
   "id": "886171c2",
   "metadata": {},
   "outputs": [],
   "source": [
    "import seaborn as sns\n",
    "import matplotlib.pyplot as plt"
   ]
  },
  {
   "cell_type": "code",
   "execution_count": 531,
   "id": "779bebf5",
   "metadata": {},
   "outputs": [
    {
     "data": {
      "text/plain": [
       "high school           376\n",
       "Diploma               227\n",
       "associate's degree    223\n",
       "bachelor's degree     119\n",
       "master's degree        60\n",
       "Name: parental level of education, dtype: int64"
      ]
     },
     "execution_count": 531,
     "metadata": {},
     "output_type": "execute_result"
    }
   ],
   "source": [
    "\n",
    "st['parental level of education'].value_counts()"
   ]
  },
  {
   "cell_type": "code",
   "execution_count": 532,
   "id": "43324191",
   "metadata": {},
   "outputs": [
    {
     "data": {
      "text/plain": [
       "<Axes: xlabel='parental level of education', ylabel='count'>"
      ]
     },
     "execution_count": 532,
     "metadata": {},
     "output_type": "execute_result"
    },
    {
     "data": {
      "image/png": "[encoded data removed]",
      "text/plain": [
       "<Figure size 640x480 with 1 Axes>"
      ]
     },
     "metadata": {},
     "output_type": "display_data"
    }
   ],
   "source": [
    "#10.create a count plot for parental level of education.\n",
    "\n",
    "sns.countplot(x=st[\"parental level of education\"])\n"
   ]
  },
  {
   "cell_type": "code",
   "execution_count": 533,
   "id": "42f92614",
   "metadata": {},
   "outputs": [
    {
     "name": "stderr",
     "output_type": "stream",
     "text": [
      "C:\\Users\\athir\\AppData\\Local\\Temp\\ipykernel_14936\\2179325454.py:3: FutureWarning: The default value of numeric_only in DataFrameGroupBy.sum is deprecated. In a future version, numeric_only will default to False. Either specify numeric_only or select only columns which should be valid for the function.\n",
      "  r=st.groupby('Student ID').sum()['Score']\n"
     ]
    },
    {
     "data": {
      "text/plain": [
       "Student ID\n",
       "1.0       326.0\n",
       "2.0       305.0\n",
       "3.0        90.0\n",
       "4.0        47.0\n",
       "5.0       164.0\n",
       "          ...  \n",
       "1001.0     88.0\n",
       "1002.0     62.0\n",
       "1003.0    128.0\n",
       "1004.0    147.0\n",
       "1005.0     77.0\n",
       "Name: Score, Length: 1005, dtype: float64"
      ]
     },
     "execution_count": 533,
     "metadata": {},
     "output_type": "execute_result"
    }
   ],
   "source": [
    "#11. Find the total score of each student\n",
    "\n",
    "r=st.groupby('Student ID').sum()['Score']\n",
    "r"
   ]
  },
  {
   "cell_type": "code",
   "execution_count": 534,
   "id": "f636f8de",
   "metadata": {},
   "outputs": [
    {
     "name": "stderr",
     "output_type": "stream",
     "text": [
      "C:\\Users\\athir\\AppData\\Local\\Temp\\ipykernel_14936\\1392291277.py:3: FutureWarning: The default value of numeric_only in DataFrameGroupBy.mean is deprecated. In a future version, numeric_only will default to False. Either specify numeric_only or select only columns which should be valid for the function.\n",
      "  r=st.groupby('gender').mean()['Score']\n"
     ]
    },
    {
     "data": {
      "text/plain": [
       "gender\n",
       "female    163.227799\n",
       "male      143.051867\n",
       "Name: Score, dtype: float64"
      ]
     },
     "execution_count": 534,
     "metadata": {},
     "output_type": "execute_result"
    }
   ],
   "source": [
    "#12.What is the average of total score for male and female students?\n",
    "\n",
    "r=st.groupby('gender').mean()['Score']\n",
    "r"
   ]
  },
  {
   "cell_type": "code",
   "execution_count": 535,
   "id": "f9d45937",
   "metadata": {},
   "outputs": [
    {
     "name": "stderr",
     "output_type": "stream",
     "text": [
      "C:\\Users\\athir\\AppData\\Local\\Temp\\ipykernel_14936\\1861682749.py:3: FutureWarning: The default value of numeric_only in DataFrameGroupBy.mean is deprecated. In a future version, numeric_only will default to False. Either specify numeric_only or select only columns which should be valid for the function.\n",
      "  r=st.groupby(['gender','parental level of education']).mean()['Score']\n"
     ]
    },
    {
     "data": {
      "text/plain": [
       "gender  parental level of education\n",
       "female  Diploma                        156.313559\n",
       "        associate's degree             160.931034\n",
       "        bachelor's degree              236.952381\n",
       "        high school                    140.594595\n",
       "        master's degree                180.583333\n",
       "male    Diploma                        144.962963\n",
       "        associate's degree             149.188679\n",
       "        bachelor's degree              175.254545\n",
       "        high school                    127.500000\n",
       "        master's degree                157.260870\n",
       "Name: Score, dtype: float64"
      ]
     },
     "execution_count": 535,
     "metadata": {},
     "output_type": "execute_result"
    }
   ],
   "source": [
    "#13. What is the average of total score by gender and parental education level?\n",
    "\n",
    "r=st.groupby(['gender','parental level of education']).mean()['Score']\n",
    "r"
   ]
  },
  {
   "cell_type": "code",
   "execution_count": 536,
   "id": "c9d43f54",
   "metadata": {},
   "outputs": [
    {
     "name": "stderr",
     "output_type": "stream",
     "text": [
      "C:\\Users\\athir\\AppData\\Local\\Temp\\ipykernel_14936\\3117169350.py:3: FutureWarning: The default value of numeric_only in DataFrameGroupBy.mean is deprecated. In a future version, numeric_only will default to False. Either specify numeric_only or select only columns which should be valid for the function.\n",
      "  r=st.groupby('race/ethnicity').mean()['math score']\n"
     ]
    },
    {
     "data": {
      "text/plain": [
       "race/ethnicity\n",
       "group A    61.629213\n",
       "group B    63.452632\n",
       "group C    64.463950\n",
       "group D    67.362595\n",
       "group E    73.821429\n",
       "Name: math score, dtype: float64"
      ]
     },
     "execution_count": 536,
     "metadata": {},
     "output_type": "execute_result"
    }
   ],
   "source": [
    "#14. What is the average math score by race/ethnicity?\n",
    "\n",
    "r=st.groupby('race/ethnicity').mean()['math score']\n",
    "r"
   ]
  },
  {
   "cell_type": "code",
   "execution_count": 537,
   "id": "b66b1deb",
   "metadata": {},
   "outputs": [
    {
     "data": {
      "text/plain": [
       "test preparation course\n",
       "completed    361\n",
       "none         644\n",
       "Name: Student ID, dtype: int64"
      ]
     },
     "execution_count": 537,
     "metadata": {},
     "output_type": "execute_result"
    }
   ],
   "source": [
    "#15.Find the number of Students by test preparation course\n",
    "\n",
    "r=st.groupby('test preparation course').count()['Student ID']\n",
    "r"
   ]
  },
  {
   "cell_type": "code",
   "execution_count": 538,
   "id": "31f239b8",
   "metadata": {},
   "outputs": [
    {
     "name": "stderr",
     "output_type": "stream",
     "text": [
      "C:\\Users\\athir\\AppData\\Local\\Temp\\ipykernel_14936\\4261459662.py:3: FutureWarning: The default value of numeric_only in DataFrameGroupBy.mean is deprecated. In a future version, numeric_only will default to False. Either specify numeric_only or select only columns which should be valid for the function.\n",
      "  r=st.groupby('test preparation course').mean()['Score']\n"
     ]
    },
    {
     "data": {
      "text/plain": [
       "test preparation course\n",
       "completed    167.399441\n",
       "none         145.753894\n",
       "Name: Score, dtype: float64"
      ]
     },
     "execution_count": 538,
     "metadata": {},
     "output_type": "execute_result"
    }
   ],
   "source": [
    "#16. Find the average total score by test preparation course\n",
    "\n",
    "r=st.groupby('test preparation course').mean()['Score']\n",
    "r"
   ]
  },
  {
   "cell_type": "code",
   "execution_count": 539,
   "id": "34656ef1",
   "metadata": {},
   "outputs": [
    {
     "name": "stdout",
     "output_type": "stream",
     "text": [
      "3\n",
      "Score\n"
     ]
    }
   ],
   "source": [
    "#17. create a new variable as, 'Score', and the values in the column should be the sum of all the three papers.\n",
    "\n",
    "x = 3\n",
    "y = 'Score'\n",
    "\n",
    "print(x)\n",
    "print(y)"
   ]
  },
  {
   "cell_type": "markdown",
   "id": "cc19201b",
   "metadata": {},
   "source": [
    "#18. create a new variable as, \" Percentage\", and find the percentage for the score \n",
    "\n"
   ]
  },
  {
   "cell_type": "code",
   "execution_count": 540,
   "id": "505406ff",
   "metadata": {},
   "outputs": [],
   "source": [
    "#19. create a new variable called, 'status'. Inside this column, find the status as Pass \\ Fail, those who score above 40 % will pass the exam"
   ]
  },
  {
   "cell_type": "markdown",
   "id": "82b53e8a",
   "metadata": {},
   "source": [
    "20. create a pie chart using the status column\n",
    "\n",
    " "
   ]
  },
  {
   "cell_type": "code",
   "execution_count": null,
   "id": "c8deee44",
   "metadata": {},
   "outputs": [
    {
     "data": {
      "text/plain": [
       "math score\n",
       "0.0      Axes(0.22375,0.11;0.5775x0.77)\n",
       "8.0      Axes(0.22375,0.11;0.5775x0.77)\n",
       "18.0     Axes(0.22375,0.11;0.5775x0.77)\n",
       "19.0     Axes(0.22375,0.11;0.5775x0.77)\n",
       "22.0     Axes(0.22375,0.11;0.5775x0.77)\n",
       "                      ...              \n",
       "96.0     Axes(0.22375,0.11;0.5775x0.77)\n",
       "97.0     Axes(0.22375,0.11;0.5775x0.77)\n",
       "98.0     Axes(0.22375,0.11;0.5775x0.77)\n",
       "99.0     Axes(0.22375,0.11;0.5775x0.77)\n",
       "100.0    Axes(0.22375,0.11;0.5775x0.77)\n",
       "Name: reading score, Length: 81, dtype: object"
      ]
     },
     "execution_count": 542,
     "metadata": {},
     "output_type": "execute_result"
    }
   ],
   "source": [
    "a.plot(kind='pie')\n"
   ]
  },
  {
   "cell_type": "code",
   "execution_count": null,
   "id": "a56c50f5",
   "metadata": {},
   "outputs": [],
   "source": []
  }
 ],
 "metadata": {
  "kernelspec": {
   "display_name": "Python 3 (ipykernel)",
   "language": "python",
   "name": "python3"
  },
  "language_info": {
   "codemirror_mode": {
    "name": "ipython",
    "version": 3
   },
   "file_extension": ".py",
   "mimetype": "text/x-python",
   "name": "python",
   "nbconvert_exporter": "python",
   "pygments_lexer": "ipython3",
   "version": "3.10.9"
  }
 },
 "nbformat": 4,
 "nbformat_minor": 5
}
