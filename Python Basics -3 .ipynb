{
 "cells": [
  {
   "cell_type": "markdown",
   "id": "5569a944",
   "metadata": {},
   "source": [
    "# String "
   ]
  },
  {
   "cell_type": "code",
   "execution_count": 1,
   "id": "4cbc7148",
   "metadata": {},
   "outputs": [
    {
     "data": {
      "text/plain": [
       "'EzyMentor'"
      ]
     },
     "execution_count": 1,
     "metadata": {},
     "output_type": "execute_result"
    }
   ],
   "source": [
    "#Strings in python are used to represent unicode character values. a single character is also considered as a string.\n",
    "#We denote or declare the string values inside single quotes or double quotes.\n",
    "#To access the values in a string,we use the indexes and square brackets.\n",
    "string = 'EzyMentor'\n",
    "string"
   ]
  },
  {
   "cell_type": "code",
   "execution_count": 2,
   "id": "387fc0b9",
   "metadata": {},
   "outputs": [
    {
     "data": {
      "text/plain": [
       "'e'"
      ]
     },
     "execution_count": 2,
     "metadata": {},
     "output_type": "execute_result"
    }
   ],
   "source": [
    "#to Input for strings\n",
    "string[4]"
   ]
  },
  {
   "cell_type": "code",
   "execution_count": 3,
   "id": "4ed24d72",
   "metadata": {},
   "outputs": [
    {
     "data": {
      "text/plain": [
       "'E'"
      ]
     },
     "execution_count": 3,
     "metadata": {},
     "output_type": "execute_result"
    }
   ],
   "source": [
    "string[0]"
   ]
  },
  {
   "cell_type": "code",
   "execution_count": 4,
   "id": "4c75b450",
   "metadata": {},
   "outputs": [
    {
     "data": {
      "text/plain": [
       "'r'"
      ]
     },
     "execution_count": 4,
     "metadata": {},
     "output_type": "execute_result"
    }
   ],
   "source": [
    "string [8]"
   ]
  },
  {
   "cell_type": "code",
   "execution_count": null,
   "id": "a8ba9269",
   "metadata": {},
   "outputs": [],
   "source": [
    "#to Input for strings\n",
    "x=input()"
   ]
  },
  {
   "cell_type": "code",
   "execution_count": 7,
   "id": "c4fdaabe",
   "metadata": {},
   "outputs": [
    {
     "name": "stdout",
     "output_type": "stream",
     "text": [
      "Hi all my viewers\n"
     ]
    }
   ],
   "source": [
    "z=input()\n"
   ]
  },
  {
   "cell_type": "code",
   "execution_count": null,
   "id": "b100e126",
   "metadata": {},
   "outputs": [],
   "source": [
    "Basic Operations Using string"
   ]
  },
  {
   "cell_type": "code",
   "execution_count": 1,
   "id": "2fbd42fa",
   "metadata": {},
   "outputs": [
    {
     "data": {
      "text/plain": [
       "'HAI FROM EZYMENTOR'"
      ]
     },
     "execution_count": 1,
     "metadata": {},
     "output_type": "execute_result"
    }
   ],
   "source": [
    "string = 'Hai From EzyMentor'\n",
    "#will make the letters to uppercase\n",
    "string.upper()"
   ]
  },
  {
   "cell_type": "code",
   "execution_count": 4,
   "id": "390c0d7a",
   "metadata": {},
   "outputs": [
    {
     "data": {
      "text/plain": [
       "'hai from ezymentor'"
      ]
     },
     "execution_count": 4,
     "metadata": {},
     "output_type": "execute_result"
    }
   ],
   "source": [
    "#will make the letters to lowercase\n",
    "string.lower()"
   ]
  },
  {
   "cell_type": "code",
   "execution_count": 6,
   "id": "fac5dd3b",
   "metadata": {},
   "outputs": [
    {
     "data": {
      "text/plain": [
       "'From EzyMentor'"
      ]
     },
     "execution_count": 6,
     "metadata": {},
     "output_type": "execute_result"
    }
   ],
   "source": [
    "string[4:18]"
   ]
  },
  {
   "cell_type": "markdown",
   "id": "82d5b266",
   "metadata": {},
   "source": [
    "# Complex data types."
   ]
  },
  {
   "cell_type": "markdown",
   "id": "95bddd37",
   "metadata": {},
   "source": [
    "# Lists"
   ]
  }
 ],
 "metadata": {
  "kernelspec": {
   "display_name": "Python 3 (ipykernel)",
   "language": "python",
   "name": "python3"
  },
  "language_info": {
   "codemirror_mode": {
    "name": "ipython",
    "version": 3
   },
   "file_extension": ".py",
   "mimetype": "text/x-python",
   "name": "python",
   "nbconvert_exporter": "python",
   "pygments_lexer": "ipython3",
   "version": "3.10.9"
  }
 },
 "nbformat": 4,
 "nbformat_minor": 5
}
