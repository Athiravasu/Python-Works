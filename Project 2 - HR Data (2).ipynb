{
 "cells": [
  {
   "cell_type": "code",
   "execution_count": 111,
   "id": "1c21ab5b",
   "metadata": {},
   "outputs": [
    {
     "data": {
      "text/html": [
       "<div>\n",
       "<style scoped>\n",
       "    .dataframe tbody tr th:only-of-type {\n",
       "        vertical-align: middle;\n",
       "    }\n",
       "\n",
       "    .dataframe tbody tr th {\n",
       "        vertical-align: top;\n",
       "    }\n",
       "\n",
       "    .dataframe thead th {\n",
       "        text-align: right;\n",
       "    }\n",
       "</style>\n",
       "<table border=\"1\" class=\"dataframe\">\n",
       "  <thead>\n",
       "    <tr style=\"text-align: right;\">\n",
       "      <th></th>\n",
       "      <th>Employee Name</th>\n",
       "      <th>Department</th>\n",
       "      <th>Salary</th>\n",
       "      <th>Age</th>\n",
       "      <th>Gender</th>\n",
       "      <th>Date of Join</th>\n",
       "    </tr>\n",
       "  </thead>\n",
       "  <tbody>\n",
       "    <tr>\n",
       "      <th>0</th>\n",
       "      <td>Wilson  K Adinolfi</td>\n",
       "      <td>Production</td>\n",
       "      <td>62506</td>\n",
       "      <td>49</td>\n",
       "      <td>Male</td>\n",
       "      <td>07-05-2011</td>\n",
       "    </tr>\n",
       "    <tr>\n",
       "      <th>1</th>\n",
       "      <td>Karthikeyan Ait Sidi</td>\n",
       "      <td>IT/IS</td>\n",
       "      <td>104437</td>\n",
       "      <td>55</td>\n",
       "      <td>Male</td>\n",
       "      <td>30-03-2015</td>\n",
       "    </tr>\n",
       "    <tr>\n",
       "      <th>2</th>\n",
       "      <td>Sarah Akinkuolie</td>\n",
       "      <td>Production</td>\n",
       "      <td>64955</td>\n",
       "      <td>49</td>\n",
       "      <td>Female</td>\n",
       "      <td>07-05-2011</td>\n",
       "    </tr>\n",
       "    <tr>\n",
       "      <th>3</th>\n",
       "      <td>Trina Alagbe</td>\n",
       "      <td>Production</td>\n",
       "      <td>64991</td>\n",
       "      <td>49</td>\n",
       "      <td>Female</td>\n",
       "      <td>01-07-2008</td>\n",
       "    </tr>\n",
       "    <tr>\n",
       "      <th>4</th>\n",
       "      <td>Carol Anderson</td>\n",
       "      <td>Production</td>\n",
       "      <td>50825</td>\n",
       "      <td>31</td>\n",
       "      <td>Female</td>\n",
       "      <td>07-11-2011</td>\n",
       "    </tr>\n",
       "    <tr>\n",
       "      <th>...</th>\n",
       "      <td>...</td>\n",
       "      <td>...</td>\n",
       "      <td>...</td>\n",
       "      <td>...</td>\n",
       "      <td>...</td>\n",
       "      <td>...</td>\n",
       "    </tr>\n",
       "    <tr>\n",
       "      <th>306</th>\n",
       "      <td>Jason Woodson</td>\n",
       "      <td>Production</td>\n",
       "      <td>65893</td>\n",
       "      <td>39</td>\n",
       "      <td>Male</td>\n",
       "      <td>07-07-2014</td>\n",
       "    </tr>\n",
       "    <tr>\n",
       "      <th>307</th>\n",
       "      <td>Catherine Ybarra</td>\n",
       "      <td>Production</td>\n",
       "      <td>48513</td>\n",
       "      <td>35</td>\n",
       "      <td>Female</td>\n",
       "      <td>09-02-2008</td>\n",
       "    </tr>\n",
       "    <tr>\n",
       "      <th>308</th>\n",
       "      <td>Jennifer Zamora</td>\n",
       "      <td>IT/IS</td>\n",
       "      <td>220450</td>\n",
       "      <td>42</td>\n",
       "      <td>Female</td>\n",
       "      <td>04-10-2010</td>\n",
       "    </tr>\n",
       "    <tr>\n",
       "      <th>309</th>\n",
       "      <td>Julia Zhou</td>\n",
       "      <td>IT/IS</td>\n",
       "      <td>89292</td>\n",
       "      <td>42</td>\n",
       "      <td>Female</td>\n",
       "      <td>30-03-2015</td>\n",
       "    </tr>\n",
       "    <tr>\n",
       "      <th>310</th>\n",
       "      <td>Colleen Zima</td>\n",
       "      <td>Production</td>\n",
       "      <td>45046</td>\n",
       "      <td>58</td>\n",
       "      <td>Female</td>\n",
       "      <td>29-09-2014</td>\n",
       "    </tr>\n",
       "  </tbody>\n",
       "</table>\n",
       "<p>311 rows × 6 columns</p>\n",
       "</div>"
      ],
      "text/plain": [
       "            Employee Name         Department  Salary  Age  Gender Date of Join\n",
       "0      Wilson  K Adinolfi  Production          62506   49   Male    07-05-2011\n",
       "1    Karthikeyan Ait Sidi              IT/IS  104437   55   Male    30-03-2015\n",
       "2        Sarah Akinkuolie  Production          64955   49  Female   07-05-2011\n",
       "3            Trina Alagbe  Production          64991   49  Female   01-07-2008\n",
       "4          Carol Anderson  Production          50825   31  Female   07-11-2011\n",
       "..                    ...                ...     ...  ...     ...          ...\n",
       "306         Jason Woodson  Production          65893   39   Male    07-07-2014\n",
       "307      Catherine Ybarra  Production          48513   35  Female   09-02-2008\n",
       "308       Jennifer Zamora              IT/IS  220450   42  Female   04-10-2010\n",
       "309            Julia Zhou              IT/IS   89292   42  Female   30-03-2015\n",
       "310          Colleen Zima  Production          45046   58  Female   29-09-2014\n",
       "\n",
       "[311 rows x 6 columns]"
      ]
     },
     "execution_count": 111,
     "metadata": {},
     "output_type": "execute_result"
    }
   ],
   "source": [
    "import pandas as pd\n",
    "data=pd.read_excel('Human resource (1).xlsx')\n",
    "data\n"
   ]
  },
  {
   "cell_type": "code",
   "execution_count": 112,
   "id": "6c9785fa",
   "metadata": {},
   "outputs": [
    {
     "data": {
      "text/html": [
       "<div>\n",
       "<style scoped>\n",
       "    .dataframe tbody tr th:only-of-type {\n",
       "        vertical-align: middle;\n",
       "    }\n",
       "\n",
       "    .dataframe tbody tr th {\n",
       "        vertical-align: top;\n",
       "    }\n",
       "\n",
       "    .dataframe thead th {\n",
       "        text-align: right;\n",
       "    }\n",
       "</style>\n",
       "<table border=\"1\" class=\"dataframe\">\n",
       "  <thead>\n",
       "    <tr style=\"text-align: right;\">\n",
       "      <th></th>\n",
       "      <th>Employee Name</th>\n",
       "      <th>Department</th>\n",
       "      <th>Salary</th>\n",
       "      <th>Age</th>\n",
       "      <th>Gender</th>\n",
       "      <th>Date of Join</th>\n",
       "    </tr>\n",
       "  </thead>\n",
       "  <tbody>\n",
       "    <tr>\n",
       "      <th>0</th>\n",
       "      <td>Wilson  K Adinolfi</td>\n",
       "      <td>Production</td>\n",
       "      <td>62506</td>\n",
       "      <td>49</td>\n",
       "      <td>Male</td>\n",
       "      <td>07-05-2011</td>\n",
       "    </tr>\n",
       "    <tr>\n",
       "      <th>1</th>\n",
       "      <td>Karthikeyan Ait Sidi</td>\n",
       "      <td>IT/IS</td>\n",
       "      <td>104437</td>\n",
       "      <td>55</td>\n",
       "      <td>Male</td>\n",
       "      <td>30-03-2015</td>\n",
       "    </tr>\n",
       "    <tr>\n",
       "      <th>2</th>\n",
       "      <td>Sarah Akinkuolie</td>\n",
       "      <td>Production</td>\n",
       "      <td>64955</td>\n",
       "      <td>49</td>\n",
       "      <td>Female</td>\n",
       "      <td>07-05-2011</td>\n",
       "    </tr>\n",
       "    <tr>\n",
       "      <th>3</th>\n",
       "      <td>Trina Alagbe</td>\n",
       "      <td>Production</td>\n",
       "      <td>64991</td>\n",
       "      <td>49</td>\n",
       "      <td>Female</td>\n",
       "      <td>01-07-2008</td>\n",
       "    </tr>\n",
       "    <tr>\n",
       "      <th>4</th>\n",
       "      <td>Carol Anderson</td>\n",
       "      <td>Production</td>\n",
       "      <td>50825</td>\n",
       "      <td>31</td>\n",
       "      <td>Female</td>\n",
       "      <td>07-11-2011</td>\n",
       "    </tr>\n",
       "  </tbody>\n",
       "</table>\n",
       "</div>"
      ],
      "text/plain": [
       "          Employee Name         Department  Salary  Age  Gender Date of Join\n",
       "0    Wilson  K Adinolfi  Production          62506   49   Male    07-05-2011\n",
       "1  Karthikeyan Ait Sidi              IT/IS  104437   55   Male    30-03-2015\n",
       "2      Sarah Akinkuolie  Production          64955   49  Female   07-05-2011\n",
       "3          Trina Alagbe  Production          64991   49  Female   01-07-2008\n",
       "4        Carol Anderson  Production          50825   31  Female   07-11-2011"
      ]
     },
     "execution_count": 112,
     "metadata": {},
     "output_type": "execute_result"
    }
   ],
   "source": [
    "data.head()"
   ]
  },
  {
   "cell_type": "code",
   "execution_count": 113,
   "id": "94cfed8c",
   "metadata": {},
   "outputs": [
    {
     "name": "stdout",
     "output_type": "stream",
     "text": [
      "<class 'pandas.core.frame.DataFrame'>\n",
      "RangeIndex: 311 entries, 0 to 310\n",
      "Data columns (total 6 columns):\n",
      " #   Column         Non-Null Count  Dtype \n",
      "---  ------         --------------  ----- \n",
      " 0   Employee Name  311 non-null    object\n",
      " 1   Department     311 non-null    object\n",
      " 2   Salary         311 non-null    int64 \n",
      " 3   Age            311 non-null    int64 \n",
      " 4   Gender         311 non-null    object\n",
      " 5   Date of Join   311 non-null    object\n",
      "dtypes: int64(2), object(4)\n",
      "memory usage: 14.7+ KB\n"
     ]
    }
   ],
   "source": [
    "data.info()"
   ]
  },
  {
   "cell_type": "markdown",
   "id": "0eb3280c",
   "metadata": {},
   "source": [
    "# Find the Total Salary"
   ]
  },
  {
   "cell_type": "code",
   "execution_count": 114,
   "id": "3ad12758",
   "metadata": {},
   "outputs": [
    {
     "data": {
      "text/plain": [
       "21465433"
      ]
     },
     "execution_count": 114,
     "metadata": {},
     "output_type": "execute_result"
    }
   ],
   "source": [
    "b=data['Salary'].sum()\n",
    "b"
   ]
  },
  {
   "cell_type": "markdown",
   "id": "d1451860",
   "metadata": {},
   "source": [
    "# Find the average salary given in the company"
   ]
  },
  {
   "cell_type": "code",
   "execution_count": 115,
   "id": "35c6c2b9",
   "metadata": {},
   "outputs": [
    {
     "data": {
      "text/plain": [
       "69020.6848874598"
      ]
     },
     "execution_count": 115,
     "metadata": {},
     "output_type": "execute_result"
    }
   ],
   "source": [
    "a=data['Salary'].mean()\n",
    "a"
   ]
  },
  {
   "cell_type": "markdown",
   "id": "7475866b",
   "metadata": {},
   "source": [
    "# Find the Maximum salary"
   ]
  },
  {
   "cell_type": "code",
   "execution_count": 116,
   "id": "e512b0e7",
   "metadata": {},
   "outputs": [
    {
     "data": {
      "text/plain": [
       "250000"
      ]
     },
     "execution_count": 116,
     "metadata": {},
     "output_type": "execute_result"
    }
   ],
   "source": [
    "a=data['Salary'].max()\n",
    "a"
   ]
  },
  {
   "cell_type": "markdown",
   "id": "ae51b55e",
   "metadata": {},
   "source": [
    "# Find the minimum Salary\n"
   ]
  },
  {
   "cell_type": "code",
   "execution_count": 117,
   "id": "fd9bcf7a",
   "metadata": {},
   "outputs": [
    {
     "data": {
      "text/plain": [
       "45046"
      ]
     },
     "execution_count": 117,
     "metadata": {},
     "output_type": "execute_result"
    }
   ],
   "source": [
    "a=data['Salary'].min()\n",
    "a"
   ]
  },
  {
   "cell_type": "markdown",
   "id": "ade6e03c",
   "metadata": {},
   "source": [
    "# Find the range of salary"
   ]
  },
  {
   "cell_type": "code",
   "execution_count": 118,
   "id": "dd95f1b6",
   "metadata": {},
   "outputs": [
    {
     "data": {
      "text/plain": [
       "204954"
      ]
     },
     "execution_count": 118,
     "metadata": {},
     "output_type": "execute_result"
    }
   ],
   "source": [
    "a=250000-45046\n",
    "a"
   ]
  },
  {
   "cell_type": "markdown",
   "id": "d2c43401",
   "metadata": {},
   "source": [
    "# Find the descriptive Statistics for the variable Salary and identify the Varience"
   ]
  },
  {
   "cell_type": "code",
   "execution_count": 119,
   "id": "d200bf1a",
   "metadata": {},
   "outputs": [
    {
     "data": {
      "text/plain": [
       "632856381.6100614"
      ]
     },
     "execution_count": 119,
     "metadata": {},
     "output_type": "execute_result"
    }
   ],
   "source": [
    "a=data['Salary'].var()\n",
    "a"
   ]
  },
  {
   "cell_type": "markdown",
   "id": "9124b384",
   "metadata": {},
   "source": [
    "# Find the average age of employees\n"
   ]
  },
  {
   "cell_type": "code",
   "execution_count": 120,
   "id": "8ea9a681",
   "metadata": {},
   "outputs": [
    {
     "data": {
      "text/plain": [
       "42.02893890675241"
      ]
     },
     "execution_count": 120,
     "metadata": {},
     "output_type": "execute_result"
    }
   ],
   "source": [
    "a=data['Age'].mean()\n",
    "a"
   ]
  },
  {
   "cell_type": "markdown",
   "id": "f89b2581",
   "metadata": {},
   "source": [
    "# Find the minimum age of employees "
   ]
  },
  {
   "cell_type": "code",
   "execution_count": 121,
   "id": "cba38854",
   "metadata": {},
   "outputs": [
    {
     "data": {
      "text/plain": [
       "24"
      ]
     },
     "execution_count": 121,
     "metadata": {},
     "output_type": "execute_result"
    }
   ],
   "source": [
    "a=data['Age'].min()\n",
    "a"
   ]
  },
  {
   "cell_type": "markdown",
   "id": "8d1345d3",
   "metadata": {},
   "source": [
    "# Find the maximum age of employees"
   ]
  },
  {
   "cell_type": "code",
   "execution_count": 122,
   "id": "45bcfa1c",
   "metadata": {},
   "outputs": [
    {
     "data": {
      "text/plain": [
       "60"
      ]
     },
     "execution_count": 122,
     "metadata": {},
     "output_type": "execute_result"
    }
   ],
   "source": [
    "a=data['Age'].max()\n",
    "a"
   ]
  },
  {
   "cell_type": "markdown",
   "id": "9b624f1e",
   "metadata": {},
   "source": [
    "# Find the descriptive Statistics for the variable Age and identify the Quartiles "
   ]
  },
  {
   "cell_type": "code",
   "execution_count": 123,
   "id": "e07b2549",
   "metadata": {},
   "outputs": [
    {
     "data": {
      "text/plain": [
       "116.31851467690073"
      ]
     },
     "execution_count": 123,
     "metadata": {},
     "output_type": "execute_result"
    }
   ],
   "source": [
    "a=data['Age'].var()\n",
    "a"
   ]
  },
  {
   "cell_type": "code",
   "execution_count": 141,
   "id": "d78001be",
   "metadata": {},
   "outputs": [
    {
     "name": "stderr",
     "output_type": "stream",
     "text": [
      "C:\\Users\\athir\\AppData\\Local\\Temp\\ipykernel_8596\\646532481.py:1: FutureWarning: The default value of numeric_only in DataFrame.quantile is deprecated. In a future version, it will default to False. Select only valid columns or specify the value of numeric_only to silence this warning.\n",
      "  data.quantile(0.25)['Age']\n"
     ]
    },
    {
     "data": {
      "text/plain": [
       "33.0"
      ]
     },
     "execution_count": 141,
     "metadata": {},
     "output_type": "execute_result"
    }
   ],
   "source": [
    "data.quantile(0.25)['Age']"
   ]
  },
  {
   "cell_type": "code",
   "execution_count": 142,
   "id": "807c3085",
   "metadata": {},
   "outputs": [
    {
     "name": "stderr",
     "output_type": "stream",
     "text": [
      "C:\\Users\\athir\\AppData\\Local\\Temp\\ipykernel_8596\\599781366.py:1: FutureWarning: The default value of numeric_only in DataFrame.quantile is deprecated. In a future version, it will default to False. Select only valid columns or specify the value of numeric_only to silence this warning.\n",
      "  data.quantile(0.50)['Age']\n"
     ]
    },
    {
     "data": {
      "text/plain": [
       "42.0"
      ]
     },
     "execution_count": 142,
     "metadata": {},
     "output_type": "execute_result"
    }
   ],
   "source": [
    "data.quantile(0.50)['Age']"
   ]
  },
  {
   "cell_type": "code",
   "execution_count": 143,
   "id": "b9994580",
   "metadata": {},
   "outputs": [
    {
     "name": "stderr",
     "output_type": "stream",
     "text": [
      "C:\\Users\\athir\\AppData\\Local\\Temp\\ipykernel_8596\\3132991644.py:1: FutureWarning: The default value of numeric_only in DataFrame.quantile is deprecated. In a future version, it will default to False. Select only valid columns or specify the value of numeric_only to silence this warning.\n",
      "  data.quantile(0.75)['Age']\n"
     ]
    },
    {
     "data": {
      "text/plain": [
       "51.5"
      ]
     },
     "execution_count": 143,
     "metadata": {},
     "output_type": "execute_result"
    }
   ],
   "source": [
    "data.quantile(0.75)['Age']"
   ]
  },
  {
   "cell_type": "markdown",
   "id": "e96bad85",
   "metadata": {},
   "source": [
    "# Find the count of Gender"
   ]
  },
  {
   "cell_type": "code",
   "execution_count": 124,
   "id": "08985f82",
   "metadata": {},
   "outputs": [
    {
     "data": {
      "text/plain": [
       "Female    176\n",
       "Male      135\n",
       "Name: Gender, dtype: int64"
      ]
     },
     "execution_count": 124,
     "metadata": {},
     "output_type": "execute_result"
    }
   ],
   "source": [
    "a=data['Gender'].value_counts()\n",
    "a"
   ]
  },
  {
   "cell_type": "markdown",
   "id": "c3f19591",
   "metadata": {},
   "source": [
    "# Find the Frequency of gender in a Bar Chart. modify the chart"
   ]
  },
  {
   "cell_type": "code",
   "execution_count": 131,
   "id": "d746b196",
   "metadata": {},
   "outputs": [
    {
     "data": {
      "text/plain": [
       "<Axes: >"
      ]
     },
     "execution_count": 131,
     "metadata": {},
     "output_type": "execute_result"
    },
    {
     "data": {
      "image/png": "[encoded data removed]",
      "text/plain": [
       "<Figure size 640x480 with 1 Axes>"
      ]
     },
     "metadata": {},
     "output_type": "display_data"
    }
   ],
   "source": [
    "data['Gender'].value_counts().plot(kind='bar')\n"
   ]
  },
  {
   "cell_type": "markdown",
   "id": "8228cadd",
   "metadata": {},
   "source": [
    "# obtain the percentage value of number of male and female employees "
   ]
  },
  {
   "cell_type": "code",
   "execution_count": 151,
   "id": "cf9897f2",
   "metadata": {},
   "outputs": [
    {
     "data": {
      "text/plain": [
       "Female    0.565916\n",
       "Male      0.434084\n",
       "Name: Gender, dtype: float64"
      ]
     },
     "execution_count": 151,
     "metadata": {},
     "output_type": "execute_result"
    }
   ],
   "source": [
    "a=data['Gender'].value_counts(normalize=True)\n",
    "a"
   ]
  },
  {
   "cell_type": "code",
   "execution_count": 154,
   "id": "cdbc45ad",
   "metadata": {},
   "outputs": [
    {
     "data": {
      "text/plain": [
       "<Axes: ylabel='Gender'>"
      ]
     },
     "execution_count": 154,
     "metadata": {},
     "output_type": "execute_result"
    },
    {
     "data": {
      "image/png": "[encoded data removed]",
      "text/plain": [
       "<Figure size 640x480 with 1 Axes>"
      ]
     },
     "metadata": {},
     "output_type": "display_data"
    }
   ],
   "source": [
    "a.plot(kind='pie',autopct='%1.2f%%')\n"
   ]
  },
  {
   "cell_type": "markdown",
   "id": "2ab5e06e",
   "metadata": {},
   "source": [
    "# obtain the percentage value of number of male and female employees in a pie chart. modify the chart\n"
   ]
  },
  {
   "cell_type": "code",
   "execution_count": 155,
   "id": "d19f1c24",
   "metadata": {},
   "outputs": [
    {
     "data": {
      "text/plain": [
       "<Axes: ylabel='Gender'>"
      ]
     },
     "execution_count": 155,
     "metadata": {},
     "output_type": "execute_result"
    },
    {
     "data": {
      "image/png": "[encoded data removed]",
      "text/plain": [
       "<Figure size 640x480 with 1 Axes>"
      ]
     },
     "metadata": {},
     "output_type": "display_data"
    }
   ],
   "source": [
    "a.plot(kind='pie',autopct='%1.2f%%')\n"
   ]
  },
  {
   "cell_type": "code",
   "execution_count": 133,
   "id": "05397e2b",
   "metadata": {},
   "outputs": [
    {
     "data": {
      "text/plain": [
       "<Axes: ylabel='Gender'>"
      ]
     },
     "execution_count": 133,
     "metadata": {},
     "output_type": "execute_result"
    },
    {
     "data": {
      "image/png": "[encoded data removed]",
      "text/plain": [
       "<Figure size 640x480 with 1 Axes>"
      ]
     },
     "metadata": {},
     "output_type": "display_data"
    }
   ],
   "source": [
    "data['Gender'].value_counts(normalize=True).plot(kind='pie')"
   ]
  },
  {
   "cell_type": "markdown",
   "id": "4efcd08d",
   "metadata": {},
   "source": [
    "# 2nd set of questions\n",
    "\n",
    "1. Find the average age of employees in each department\n",
    "2. Find the minimum age of employees in each department\n",
    "3. Find the maximum age of employees in each department\n",
    "4. Find the Total Salary of each department\n",
    "5. Find the minimum salary of each department\n",
    "6. Find the maximum salary of each department\n"
   ]
  },
  {
   "cell_type": "markdown",
   "id": "74ee4549",
   "metadata": {},
   "source": [
    "# Find the average age of employees in each department"
   ]
  },
  {
   "cell_type": "code",
   "execution_count": 125,
   "id": "85d124c8",
   "metadata": {},
   "outputs": [
    {
     "name": "stderr",
     "output_type": "stream",
     "text": [
      "C:\\Users\\athir\\AppData\\Local\\Temp\\ipykernel_8596\\3289552817.py:1: FutureWarning: The default value of numeric_only in DataFrameGroupBy.mean is deprecated. In a future version, numeric_only will default to False. Either specify numeric_only or select only columns which should be valid for the function.\n",
      "  a=data.groupby('Department').mean()['Age']\n"
     ]
    },
    {
     "data": {
      "text/plain": [
       "Department\n",
       "Admin Offices           45.555556\n",
       "Executive Office        36.000000\n",
       "IT/IS                   42.360000\n",
       "Production              42.004785\n",
       "Sales                   41.516129\n",
       "Software Engineering    40.090909\n",
       "Name: Age, dtype: float64"
      ]
     },
     "execution_count": 125,
     "metadata": {},
     "output_type": "execute_result"
    }
   ],
   "source": [
    "a=data.groupby('Department').mean()['Age']\n",
    "a"
   ]
  },
  {
   "cell_type": "markdown",
   "id": "2ea9b91d",
   "metadata": {},
   "source": [
    "# Find the minimum age of employees in each department"
   ]
  },
  {
   "cell_type": "code",
   "execution_count": 126,
   "id": "83d41287",
   "metadata": {},
   "outputs": [
    {
     "data": {
      "text/plain": [
       "Department\n",
       "Admin Offices           25\n",
       "Executive Office        36\n",
       "IT/IS                   24\n",
       "Production              24\n",
       "Sales                   25\n",
       "Software Engineering    25\n",
       "Name: Age, dtype: int64"
      ]
     },
     "execution_count": 126,
     "metadata": {},
     "output_type": "execute_result"
    }
   ],
   "source": [
    "a=data.groupby('Department').min()['Age']\n",
    "a"
   ]
  },
  {
   "cell_type": "markdown",
   "id": "5efdf88e",
   "metadata": {},
   "source": [
    "# Find the maximum age of employees in each department"
   ]
  },
  {
   "cell_type": "code",
   "execution_count": 127,
   "id": "10d46ff9",
   "metadata": {},
   "outputs": [
    {
     "data": {
      "text/plain": [
       "Department\n",
       "Admin Offices           58\n",
       "Executive Office        36\n",
       "IT/IS                   60\n",
       "Production              60\n",
       "Sales                   59\n",
       "Software Engineering    56\n",
       "Name: Age, dtype: int64"
      ]
     },
     "execution_count": 127,
     "metadata": {},
     "output_type": "execute_result"
    }
   ],
   "source": [
    "a=data.groupby('Department').max()['Age']\n",
    "a"
   ]
  },
  {
   "cell_type": "markdown",
   "id": "eba650b4",
   "metadata": {},
   "source": [
    "# Find the Total Salary of each department"
   ]
  },
  {
   "cell_type": "code",
   "execution_count": 128,
   "id": "ce9c2fcc",
   "metadata": {},
   "outputs": [
    {
     "name": "stderr",
     "output_type": "stream",
     "text": [
      "C:\\Users\\athir\\AppData\\Local\\Temp\\ipykernel_8596\\3970164687.py:1: FutureWarning: The default value of numeric_only in DataFrameGroupBy.sum is deprecated. In a future version, numeric_only will default to False. Either specify numeric_only or select only columns which should be valid for the function.\n",
      "  a=data.groupby('Department').sum()['Salary']\n"
     ]
    },
    {
     "data": {
      "text/plain": [
       "Department\n",
       "Admin Offices             646127\n",
       "Executive Office          250000\n",
       "IT/IS                    4853232\n",
       "Production              12530291\n",
       "Sales                    2140899\n",
       "Software Engineering     1044884\n",
       "Name: Salary, dtype: int64"
      ]
     },
     "execution_count": 128,
     "metadata": {},
     "output_type": "execute_result"
    }
   ],
   "source": [
    "a=data.groupby('Department').sum()['Salary']\n",
    "a"
   ]
  },
  {
   "cell_type": "markdown",
   "id": "6d402d2f",
   "metadata": {},
   "source": [
    "# Find the minimum salary of each department"
   ]
  },
  {
   "cell_type": "code",
   "execution_count": 129,
   "id": "f47bddb6",
   "metadata": {},
   "outputs": [
    {
     "data": {
      "text/plain": [
       "Department\n",
       "Admin Offices            49920\n",
       "Executive Office        250000\n",
       "IT/IS                    50178\n",
       "Production               45046\n",
       "Sales                    55875\n",
       "Software Engineering     77692\n",
       "Name: Salary, dtype: int64"
      ]
     },
     "execution_count": 129,
     "metadata": {},
     "output_type": "execute_result"
    }
   ],
   "source": [
    "a=data.groupby('Department').min()['Salary']\n",
    "a"
   ]
  },
  {
   "cell_type": "markdown",
   "id": "18d19c91",
   "metadata": {},
   "source": [
    "# Find the maximum salary of each department"
   ]
  },
  {
   "cell_type": "code",
   "execution_count": 130,
   "id": "d2311f3d",
   "metadata": {},
   "outputs": [
    {
     "data": {
      "text/plain": [
       "Department\n",
       "Admin Offices           106367\n",
       "Executive Office        250000\n",
       "IT/IS                   220450\n",
       "Production              170500\n",
       "Sales                   180000\n",
       "Software Engineering    108987\n",
       "Name: Salary, dtype: int64"
      ]
     },
     "execution_count": 130,
     "metadata": {},
     "output_type": "execute_result"
    }
   ],
   "source": [
    "a=data.groupby('Department').max()['Salary']\n",
    "a"
   ]
  },
  {
   "cell_type": "markdown",
   "id": "d8226bf3",
   "metadata": {},
   "source": [
    "# Find the average salary of each department using clustered column chart"
   ]
  },
  {
   "cell_type": "code",
   "execution_count": 136,
   "id": "7023a1ba",
   "metadata": {},
   "outputs": [
    {
     "name": "stderr",
     "output_type": "stream",
     "text": [
      "C:\\Users\\athir\\AppData\\Local\\Temp\\ipykernel_8596\\683925384.py:1: FutureWarning: The default value of numeric_only in DataFrameGroupBy.mean is deprecated. In a future version, numeric_only will default to False. Either specify numeric_only or select only columns which should be valid for the function.\n",
      "  a=data.groupby('Department').mean()['Salary'].plot(kind='bar')\n"
     ]
    },
    {
     "data": {
      "text/plain": [
       "<Axes: xlabel='Department'>"
      ]
     },
     "execution_count": 136,
     "metadata": {},
     "output_type": "execute_result"
    },
    {
     "data": {
      "image/png": "[encoded data removed]",
      "text/plain": [
       "<Figure size 640x480 with 1 Axes>"
      ]
     },
     "metadata": {},
     "output_type": "display_data"
    }
   ],
   "source": [
    "a=data.groupby('Department').mean()['Salary'].plot(kind='bar')\n",
    "a"
   ]
  },
  {
   "cell_type": "markdown",
   "id": "5bb7ad93",
   "metadata": {},
   "source": [
    "# Find the employee count by department and gender using stacked bar chart"
   ]
  },
  {
   "cell_type": "code",
   "execution_count": 140,
   "id": "d01b6066",
   "metadata": {},
   "outputs": [
    {
     "data": {
      "text/plain": [
       "<Axes: xlabel='Department,Gender'>"
      ]
     },
     "execution_count": 140,
     "metadata": {},
     "output_type": "execute_result"
    },
    {
     "data": {
      "image/png": "[encoded data removed]",
      "text/plain": [
       "<Figure size 640x480 with 1 Axes>"
      ]
     },
     "metadata": {},
     "output_type": "display_data"
    }
   ],
   "source": [
    "a=data.groupby(['Department','Gender']).count()['Employee Name'].plot(kind='bar')\n",
    "a"
   ]
  },
  {
   "cell_type": "markdown",
   "id": "c80078d8",
   "metadata": {},
   "source": [
    "# Conclusion"
   ]
  },
  {
   "cell_type": "code",
   "execution_count": null,
   "id": "eaac7925",
   "metadata": {},
   "outputs": [],
   "source": [
    "his is Human resource.The data contains 311 rows and 6 columns\n",
    " The total sales  is 21465433\n",
    "there is no null value in the data.\n",
    "there are maximun is 250000\n",
    "there are minimun is 45046\n",
    "the range of salary is 204954"
   ]
  }
 ],
 "metadata": {
  "kernelspec": {
   "display_name": "Python 3 (ipykernel)",
   "language": "python",
   "name": "python3"
  },
  "language_info": {
   "codemirror_mode": {
    "name": "ipython",
    "version": 3
   },
   "file_extension": ".py",
   "mimetype": "text/x-python",
   "name": "python",
   "nbconvert_exporter": "python",
   "pygments_lexer": "ipython3",
   "version": "3.10.9"
  }
 },
 "nbformat": 4,
 "nbformat_minor": 5
}
