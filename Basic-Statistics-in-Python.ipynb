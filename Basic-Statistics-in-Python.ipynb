{
 "cells": [
  {
   "cell_type": "markdown",
   "id": "1d0a8f98",
   "metadata": {},
   "source": [
    "# "
   ]
  },
  {
   "cell_type": "markdown",
   "id": "fb8006b0",
   "metadata": {},
   "source": [
    "# Statistics : 2 types, descriptive and inferential statistics"
   ]
  },
  {
   "cell_type": "code",
   "execution_count": 78,
   "id": "8edabfdf",
   "metadata": {},
   "outputs": [],
   "source": [
    "#Descriptive statistics\n",
    "#In measure of central tendency\n",
    "#mean, median, mode\n"
   ]
  },
  {
   "cell_type": "markdown",
   "id": "aff832f9",
   "metadata": {},
   "source": [
    "# Measure of central tendency"
   ]
  },
  {
   "cell_type": "code",
   "execution_count": 79,
   "id": "c80aecc6",
   "metadata": {},
   "outputs": [
    {
     "data": {
      "text/plain": [
       "4.2"
      ]
     },
     "execution_count": 79,
     "metadata": {},
     "output_type": "execute_result"
    }
   ],
   "source": [
    "#mean\n",
    "\n",
    "import numpy as np\n",
    "x=[1,2,3,1,2,3,4,5,2,6,7,5,4,8,10]\n",
    "\n",
    "#using numpy\n",
    "np.mean(x)"
   ]
  },
  {
   "cell_type": "code",
   "execution_count": 80,
   "id": "b3fa7d5f",
   "metadata": {},
   "outputs": [
    {
     "name": "stdout",
     "output_type": "stream",
     "text": [
      "mean :  4.2\n"
     ]
    }
   ],
   "source": [
    "print (\"mean : \", np.mean(x))"
   ]
  },
  {
   "cell_type": "code",
   "execution_count": 81,
   "id": "93f538c4",
   "metadata": {},
   "outputs": [
    {
     "data": {
      "text/html": [
       "<div>\n",
       "<style scoped>\n",
       "    .dataframe tbody tr th:only-of-type {\n",
       "        vertical-align: middle;\n",
       "    }\n",
       "\n",
       "    .dataframe tbody tr th {\n",
       "        vertical-align: top;\n",
       "    }\n",
       "\n",
       "    .dataframe thead th {\n",
       "        text-align: right;\n",
       "    }\n",
       "</style>\n",
       "<table border=\"1\" class=\"dataframe\">\n",
       "  <thead>\n",
       "    <tr style=\"text-align: right;\">\n",
       "      <th></th>\n",
       "      <th>values</th>\n",
       "    </tr>\n",
       "  </thead>\n",
       "  <tbody>\n",
       "    <tr>\n",
       "      <th>0</th>\n",
       "      <td>1</td>\n",
       "    </tr>\n",
       "    <tr>\n",
       "      <th>1</th>\n",
       "      <td>2</td>\n",
       "    </tr>\n",
       "    <tr>\n",
       "      <th>2</th>\n",
       "      <td>3</td>\n",
       "    </tr>\n",
       "    <tr>\n",
       "      <th>3</th>\n",
       "      <td>1</td>\n",
       "    </tr>\n",
       "    <tr>\n",
       "      <th>4</th>\n",
       "      <td>2</td>\n",
       "    </tr>\n",
       "    <tr>\n",
       "      <th>5</th>\n",
       "      <td>3</td>\n",
       "    </tr>\n",
       "    <tr>\n",
       "      <th>6</th>\n",
       "      <td>4</td>\n",
       "    </tr>\n",
       "    <tr>\n",
       "      <th>7</th>\n",
       "      <td>5</td>\n",
       "    </tr>\n",
       "    <tr>\n",
       "      <th>8</th>\n",
       "      <td>2</td>\n",
       "    </tr>\n",
       "    <tr>\n",
       "      <th>9</th>\n",
       "      <td>6</td>\n",
       "    </tr>\n",
       "    <tr>\n",
       "      <th>10</th>\n",
       "      <td>7</td>\n",
       "    </tr>\n",
       "    <tr>\n",
       "      <th>11</th>\n",
       "      <td>5</td>\n",
       "    </tr>\n",
       "    <tr>\n",
       "      <th>12</th>\n",
       "      <td>4</td>\n",
       "    </tr>\n",
       "    <tr>\n",
       "      <th>13</th>\n",
       "      <td>8</td>\n",
       "    </tr>\n",
       "    <tr>\n",
       "      <th>14</th>\n",
       "      <td>10</td>\n",
       "    </tr>\n",
       "  </tbody>\n",
       "</table>\n",
       "</div>"
      ],
      "text/plain": [
       "    values\n",
       "0        1\n",
       "1        2\n",
       "2        3\n",
       "3        1\n",
       "4        2\n",
       "5        3\n",
       "6        4\n",
       "7        5\n",
       "8        2\n",
       "9        6\n",
       "10       7\n",
       "11       5\n",
       "12       4\n",
       "13       8\n",
       "14      10"
      ]
     },
     "execution_count": 81,
     "metadata": {},
     "output_type": "execute_result"
    }
   ],
   "source": [
    "#created the list into a table format\n",
    "import pandas as pd\n",
    "z=pd.DataFrame(data={'values': [1,2,3,1,2,3,4,5,2,6,7,5,4,8,10]})\n",
    "z\n",
    "     "
   ]
  },
  {
   "cell_type": "code",
   "execution_count": 82,
   "id": "19f6add5",
   "metadata": {},
   "outputs": [
    {
     "data": {
      "text/plain": [
       "values    4.2\n",
       "dtype: float64"
      ]
     },
     "execution_count": 82,
     "metadata": {},
     "output_type": "execute_result"
    }
   ],
   "source": [
    "#mean using pandas\n",
    "z.mean()"
   ]
  },
  {
   "cell_type": "code",
   "execution_count": 83,
   "id": "ff7d72af",
   "metadata": {},
   "outputs": [
    {
     "data": {
      "text/html": [
       "<div>\n",
       "<style scoped>\n",
       "    .dataframe tbody tr th:only-of-type {\n",
       "        vertical-align: middle;\n",
       "    }\n",
       "\n",
       "    .dataframe tbody tr th {\n",
       "        vertical-align: top;\n",
       "    }\n",
       "\n",
       "    .dataframe thead th {\n",
       "        text-align: right;\n",
       "    }\n",
       "</style>\n",
       "<table border=\"1\" class=\"dataframe\">\n",
       "  <thead>\n",
       "    <tr style=\"text-align: right;\">\n",
       "      <th></th>\n",
       "      <th>values</th>\n",
       "    </tr>\n",
       "  </thead>\n",
       "  <tbody>\n",
       "    <tr>\n",
       "      <th>count</th>\n",
       "      <td>15.000000</td>\n",
       "    </tr>\n",
       "    <tr>\n",
       "      <th>mean</th>\n",
       "      <td>4.200000</td>\n",
       "    </tr>\n",
       "    <tr>\n",
       "      <th>std</th>\n",
       "      <td>2.651145</td>\n",
       "    </tr>\n",
       "    <tr>\n",
       "      <th>min</th>\n",
       "      <td>1.000000</td>\n",
       "    </tr>\n",
       "    <tr>\n",
       "      <th>25%</th>\n",
       "      <td>2.000000</td>\n",
       "    </tr>\n",
       "    <tr>\n",
       "      <th>50%</th>\n",
       "      <td>4.000000</td>\n",
       "    </tr>\n",
       "    <tr>\n",
       "      <th>75%</th>\n",
       "      <td>5.500000</td>\n",
       "    </tr>\n",
       "    <tr>\n",
       "      <th>max</th>\n",
       "      <td>10.000000</td>\n",
       "    </tr>\n",
       "  </tbody>\n",
       "</table>\n",
       "</div>"
      ],
      "text/plain": [
       "          values\n",
       "count  15.000000\n",
       "mean    4.200000\n",
       "std     2.651145\n",
       "min     1.000000\n",
       "25%     2.000000\n",
       "50%     4.000000\n",
       "75%     5.500000\n",
       "max    10.000000"
      ]
     },
     "execution_count": 83,
     "metadata": {},
     "output_type": "execute_result"
    }
   ],
   "source": [
    "z.describe()"
   ]
  },
  {
   "cell_type": "code",
   "execution_count": 84,
   "id": "2962016a",
   "metadata": {},
   "outputs": [
    {
     "data": {
      "text/plain": [
       "4.0"
      ]
     },
     "execution_count": 84,
     "metadata": {},
     "output_type": "execute_result"
    }
   ],
   "source": [
    "#median\n",
    "X=[1,2,3,1,2,3,4,5,2,6,7,5,4,8,10]\n",
    "\n",
    "#using numpy\n",
    "np.median(X)"
   ]
  },
  {
   "cell_type": "code",
   "execution_count": 85,
   "id": "55f85fa4",
   "metadata": {},
   "outputs": [
    {
     "name": "stdout",
     "output_type": "stream",
     "text": [
      "median :  4.0\n"
     ]
    }
   ],
   "source": [
    "print(\"median : \", np.median(X))"
   ]
  },
  {
   "cell_type": "code",
   "execution_count": 86,
   "id": "73812e54",
   "metadata": {},
   "outputs": [
    {
     "data": {
      "text/plain": [
       "values    4.0\n",
       "dtype: float64"
      ]
     },
     "execution_count": 86,
     "metadata": {},
     "output_type": "execute_result"
    }
   ],
   "source": [
    "#using pandas\n",
    "z.median()"
   ]
  },
  {
   "cell_type": "code",
   "execution_count": 87,
   "id": "3b3438c2",
   "metadata": {},
   "outputs": [
    {
     "data": {
      "text/html": [
       "<div>\n",
       "<style scoped>\n",
       "    .dataframe tbody tr th:only-of-type {\n",
       "        vertical-align: middle;\n",
       "    }\n",
       "\n",
       "    .dataframe tbody tr th {\n",
       "        vertical-align: top;\n",
       "    }\n",
       "\n",
       "    .dataframe thead th {\n",
       "        text-align: right;\n",
       "    }\n",
       "</style>\n",
       "<table border=\"1\" class=\"dataframe\">\n",
       "  <thead>\n",
       "    <tr style=\"text-align: right;\">\n",
       "      <th></th>\n",
       "      <th>values</th>\n",
       "    </tr>\n",
       "  </thead>\n",
       "  <tbody>\n",
       "    <tr>\n",
       "      <th>count</th>\n",
       "      <td>15.000000</td>\n",
       "    </tr>\n",
       "    <tr>\n",
       "      <th>mean</th>\n",
       "      <td>4.200000</td>\n",
       "    </tr>\n",
       "    <tr>\n",
       "      <th>std</th>\n",
       "      <td>2.651145</td>\n",
       "    </tr>\n",
       "    <tr>\n",
       "      <th>min</th>\n",
       "      <td>1.000000</td>\n",
       "    </tr>\n",
       "    <tr>\n",
       "      <th>25%</th>\n",
       "      <td>2.000000</td>\n",
       "    </tr>\n",
       "    <tr>\n",
       "      <th>50%</th>\n",
       "      <td>4.000000</td>\n",
       "    </tr>\n",
       "    <tr>\n",
       "      <th>75%</th>\n",
       "      <td>5.500000</td>\n",
       "    </tr>\n",
       "    <tr>\n",
       "      <th>max</th>\n",
       "      <td>10.000000</td>\n",
       "    </tr>\n",
       "  </tbody>\n",
       "</table>\n",
       "</div>"
      ],
      "text/plain": [
       "          values\n",
       "count  15.000000\n",
       "mean    4.200000\n",
       "std     2.651145\n",
       "min     1.000000\n",
       "25%     2.000000\n",
       "50%     4.000000\n",
       "75%     5.500000\n",
       "max    10.000000"
      ]
     },
     "execution_count": 87,
     "metadata": {},
     "output_type": "execute_result"
    }
   ],
   "source": [
    "z.describe()"
   ]
  },
  {
   "cell_type": "code",
   "execution_count": 88,
   "id": "39b706da",
   "metadata": {},
   "outputs": [],
   "source": [
    "#mode\n",
    "#numpy does not has an attribute mode"
   ]
  },
  {
   "cell_type": "code",
   "execution_count": 89,
   "id": "a8d155b9",
   "metadata": {},
   "outputs": [
    {
     "data": {
      "text/html": [
       "<div>\n",
       "<style scoped>\n",
       "    .dataframe tbody tr th:only-of-type {\n",
       "        vertical-align: middle;\n",
       "    }\n",
       "\n",
       "    .dataframe tbody tr th {\n",
       "        vertical-align: top;\n",
       "    }\n",
       "\n",
       "    .dataframe thead th {\n",
       "        text-align: right;\n",
       "    }\n",
       "</style>\n",
       "<table border=\"1\" class=\"dataframe\">\n",
       "  <thead>\n",
       "    <tr style=\"text-align: right;\">\n",
       "      <th></th>\n",
       "      <th>values</th>\n",
       "    </tr>\n",
       "  </thead>\n",
       "  <tbody>\n",
       "    <tr>\n",
       "      <th>0</th>\n",
       "      <td>2</td>\n",
       "    </tr>\n",
       "  </tbody>\n",
       "</table>\n",
       "</div>"
      ],
      "text/plain": [
       "   values\n",
       "0       2"
      ]
     },
     "execution_count": 89,
     "metadata": {},
     "output_type": "execute_result"
    }
   ],
   "source": [
    "#using pandas\n",
    "z.mode()   "
   ]
  },
  {
   "cell_type": "code",
   "execution_count": 90,
   "id": "f25c616e",
   "metadata": {},
   "outputs": [],
   "source": [
    "#descriptive statistics\n",
    "#measure of dispersion\n",
    "#variance and std deviation"
   ]
  },
  {
   "cell_type": "markdown",
   "id": "babb1c96",
   "metadata": {},
   "source": [
    "# Measure of Dispersion"
   ]
  },
  {
   "cell_type": "code",
   "execution_count": 92,
   "id": "d46941f3",
   "metadata": {},
   "outputs": [
    {
     "data": {
      "text/plain": [
       "6.5600000000000005"
      ]
     },
     "execution_count": 92,
     "metadata": {},
     "output_type": "execute_result"
    }
   ],
   "source": [
    "#variance\n",
    "X=[1,2,3,1,2,3,4,5,2,6,7,5,4,8,10]\n",
    "\n",
    "#using numpy\n",
    "np.var(X)"
   ]
  },
  {
   "cell_type": "code",
   "execution_count": 93,
   "id": "49e16ac8",
   "metadata": {},
   "outputs": [
    {
     "data": {
      "text/plain": [
       "values    7.028571\n",
       "dtype: float64"
      ]
     },
     "execution_count": 93,
     "metadata": {},
     "output_type": "execute_result"
    }
   ],
   "source": [
    "#using pandas\n",
    "z.var()    "
   ]
  },
  {
   "cell_type": "code",
   "execution_count": 94,
   "id": "5e598138",
   "metadata": {},
   "outputs": [
    {
     "data": {
      "text/plain": [
       "2.5612496949731396"
      ]
     },
     "execution_count": 94,
     "metadata": {},
     "output_type": "execute_result"
    }
   ],
   "source": [
    "#standard deviation\n",
    "X=[1,2,3,1,2,3,4,5,2,6,7,5,4,8,10]\n",
    "\n",
    "#using numpy\n",
    "np.std(X)"
   ]
  },
  {
   "cell_type": "code",
   "execution_count": 95,
   "id": "9039add9",
   "metadata": {},
   "outputs": [
    {
     "name": "stdout",
     "output_type": "stream",
     "text": [
      "Variance :  2.5612496949731396\n"
     ]
    }
   ],
   "source": [
    "print(\"Variance : \", np.std(X))"
   ]
  },
  {
   "cell_type": "code",
   "execution_count": 96,
   "id": "a7c90408",
   "metadata": {},
   "outputs": [
    {
     "data": {
      "text/plain": [
       "values    2.651145\n",
       "dtype: float64"
      ]
     },
     "execution_count": 96,
     "metadata": {},
     "output_type": "execute_result"
    }
   ],
   "source": [
    "#using pandas\n",
    "z.std()       "
   ]
  },
  {
   "cell_type": "markdown",
   "id": "34c11e42",
   "metadata": {},
   "source": [
    "# 5 number Summary"
   ]
  },
  {
   "cell_type": "markdown",
   "id": "c6b5b217",
   "metadata": {},
   "source": [
    "1. Minimum\n",
    "2. 1st quartile -Q1\n",
    "3. 2nd quartie -Q2(Median)\n",
    "4. 3rd quartie -Q3\n",
    "5. Maximum"
   ]
  },
  {
   "cell_type": "code",
   "execution_count": 97,
   "id": "c3f1fd8e",
   "metadata": {},
   "outputs": [
    {
     "data": {
      "text/plain": [
       "1"
      ]
     },
     "execution_count": 97,
     "metadata": {},
     "output_type": "execute_result"
    }
   ],
   "source": [
    "#Minimum\n",
    "X=[1,2,3,1,2,3,4,5,2,6,7,5,4,8,10]\n",
    "\n",
    "#using numpy\n",
    "np.min(X)\n",
    "     "
   ]
  },
  {
   "cell_type": "code",
   "execution_count": 98,
   "id": "a4085d63",
   "metadata": {},
   "outputs": [
    {
     "name": "stdout",
     "output_type": "stream",
     "text": [
      "Minimum :  1\n"
     ]
    }
   ],
   "source": [
    "print(\"Minimum : \", np.min(X))"
   ]
  },
  {
   "cell_type": "code",
   "execution_count": 99,
   "id": "d40112fd",
   "metadata": {},
   "outputs": [
    {
     "data": {
      "text/plain": [
       "values    1\n",
       "dtype: int64"
      ]
     },
     "execution_count": 99,
     "metadata": {},
     "output_type": "execute_result"
    }
   ],
   "source": [
    "#using pandas\n",
    "z.min()      "
   ]
  },
  {
   "cell_type": "code",
   "execution_count": 100,
   "id": "3647d007",
   "metadata": {},
   "outputs": [
    {
     "data": {
      "text/plain": [
       "array([2. , 4. , 5.5])"
      ]
     },
     "execution_count": 100,
     "metadata": {},
     "output_type": "execute_result"
    }
   ],
   "source": [
    "#quartiles\n",
    "X=[1,2,3,1,2,3,4,5,2,6,7,5,4,8,10]\n",
    "\n",
    "#using numpy\n",
    "np.quantile(X,[0.25,0.50,0.75])\n",
    "     "
   ]
  },
  {
   "cell_type": "code",
   "execution_count": 101,
   "id": "03868e65",
   "metadata": {},
   "outputs": [
    {
     "name": "stdout",
     "output_type": "stream",
     "text": [
      "Q1 :  2.0 Q2 :  4.0 Q3 :  5.5\n"
     ]
    }
   ],
   "source": [
    "print(\"Q1 : \", np.quantile(X,0.25),\n",
    "      \"Q2 : \", np.quantile(X,0.50),\n",
    "      \"Q3 : \", np.quantile(X,0.75))"
   ]
  },
  {
   "cell_type": "code",
   "execution_count": 102,
   "id": "380ffc4c",
   "metadata": {},
   "outputs": [
    {
     "data": {
      "text/html": [
       "<div>\n",
       "<style scoped>\n",
       "    .dataframe tbody tr th:only-of-type {\n",
       "        vertical-align: middle;\n",
       "    }\n",
       "\n",
       "    .dataframe tbody tr th {\n",
       "        vertical-align: top;\n",
       "    }\n",
       "\n",
       "    .dataframe thead th {\n",
       "        text-align: right;\n",
       "    }\n",
       "</style>\n",
       "<table border=\"1\" class=\"dataframe\">\n",
       "  <thead>\n",
       "    <tr style=\"text-align: right;\">\n",
       "      <th></th>\n",
       "      <th>values</th>\n",
       "    </tr>\n",
       "  </thead>\n",
       "  <tbody>\n",
       "    <tr>\n",
       "      <th>0.25</th>\n",
       "      <td>2.0</td>\n",
       "    </tr>\n",
       "    <tr>\n",
       "      <th>0.50</th>\n",
       "      <td>4.0</td>\n",
       "    </tr>\n",
       "    <tr>\n",
       "      <th>0.75</th>\n",
       "      <td>5.5</td>\n",
       "    </tr>\n",
       "  </tbody>\n",
       "</table>\n",
       "</div>"
      ],
      "text/plain": [
       "      values\n",
       "0.25     2.0\n",
       "0.50     4.0\n",
       "0.75     5.5"
      ]
     },
     "execution_count": 102,
     "metadata": {},
     "output_type": "execute_result"
    }
   ],
   "source": [
    "#using pandas\n",
    "z.quantile([0.25,0.50,0.75])          \n",
    "     "
   ]
  },
  {
   "cell_type": "code",
   "execution_count": 103,
   "id": "f74d77d5",
   "metadata": {},
   "outputs": [
    {
     "data": {
      "text/html": [
       "<div>\n",
       "<style scoped>\n",
       "    .dataframe tbody tr th:only-of-type {\n",
       "        vertical-align: middle;\n",
       "    }\n",
       "\n",
       "    .dataframe tbody tr th {\n",
       "        vertical-align: top;\n",
       "    }\n",
       "\n",
       "    .dataframe thead th {\n",
       "        text-align: right;\n",
       "    }\n",
       "</style>\n",
       "<table border=\"1\" class=\"dataframe\">\n",
       "  <thead>\n",
       "    <tr style=\"text-align: right;\">\n",
       "      <th></th>\n",
       "      <th>values</th>\n",
       "    </tr>\n",
       "  </thead>\n",
       "  <tbody>\n",
       "    <tr>\n",
       "      <th>count</th>\n",
       "      <td>15.000000</td>\n",
       "    </tr>\n",
       "    <tr>\n",
       "      <th>mean</th>\n",
       "      <td>4.200000</td>\n",
       "    </tr>\n",
       "    <tr>\n",
       "      <th>std</th>\n",
       "      <td>2.651145</td>\n",
       "    </tr>\n",
       "    <tr>\n",
       "      <th>min</th>\n",
       "      <td>1.000000</td>\n",
       "    </tr>\n",
       "    <tr>\n",
       "      <th>25%</th>\n",
       "      <td>2.000000</td>\n",
       "    </tr>\n",
       "    <tr>\n",
       "      <th>50%</th>\n",
       "      <td>4.000000</td>\n",
       "    </tr>\n",
       "    <tr>\n",
       "      <th>75%</th>\n",
       "      <td>5.500000</td>\n",
       "    </tr>\n",
       "    <tr>\n",
       "      <th>max</th>\n",
       "      <td>10.000000</td>\n",
       "    </tr>\n",
       "  </tbody>\n",
       "</table>\n",
       "</div>"
      ],
      "text/plain": [
       "          values\n",
       "count  15.000000\n",
       "mean    4.200000\n",
       "std     2.651145\n",
       "min     1.000000\n",
       "25%     2.000000\n",
       "50%     4.000000\n",
       "75%     5.500000\n",
       "max    10.000000"
      ]
     },
     "execution_count": 103,
     "metadata": {},
     "output_type": "execute_result"
    }
   ],
   "source": [
    "z.describe()\n",
    "     "
   ]
  },
  {
   "cell_type": "code",
   "execution_count": 104,
   "id": "5edad543",
   "metadata": {},
   "outputs": [
    {
     "data": {
      "text/plain": [
       "10"
      ]
     },
     "execution_count": 104,
     "metadata": {},
     "output_type": "execute_result"
    }
   ],
   "source": [
    "#Maximum\n",
    "X=[1,2,3,1,2,3,4,5,2,6,7,5,4,8,10]\n",
    "\n",
    "#using numpy\n",
    "np.max(X)"
   ]
  },
  {
   "cell_type": "code",
   "execution_count": 105,
   "id": "a96f80bb",
   "metadata": {},
   "outputs": [
    {
     "name": "stdout",
     "output_type": "stream",
     "text": [
      "Maximum :  10\n"
     ]
    }
   ],
   "source": [
    "print(\"Maximum : \", np.max(X))"
   ]
  },
  {
   "cell_type": "code",
   "execution_count": 106,
   "id": "6cbfc943",
   "metadata": {},
   "outputs": [
    {
     "data": {
      "text/plain": [
       "values    10\n",
       "dtype: int64"
      ]
     },
     "execution_count": 106,
     "metadata": {},
     "output_type": "execute_result"
    }
   ],
   "source": [
    "#using pandas\n",
    "z.max()          \n",
    "     "
   ]
  },
  {
   "cell_type": "markdown",
   "id": "a9cef9bf",
   "metadata": {},
   "source": [
    "# Range"
   ]
  },
  {
   "cell_type": "code",
   "execution_count": 107,
   "id": "f5f6f6a6",
   "metadata": {},
   "outputs": [
    {
     "data": {
      "text/plain": [
       "9"
      ]
     },
     "execution_count": 107,
     "metadata": {},
     "output_type": "execute_result"
    }
   ],
   "source": [
    "#Range\n",
    "#using numpy\n",
    "\n",
    "Ran=np.max(X) - np.min(X)\n",
    "Ran"
   ]
  },
  {
   "cell_type": "code",
   "execution_count": 108,
   "id": "40b1f777",
   "metadata": {},
   "outputs": [
    {
     "data": {
      "text/plain": [
       "values    9\n",
       "dtype: int64"
      ]
     },
     "execution_count": 108,
     "metadata": {},
     "output_type": "execute_result"
    }
   ],
   "source": [
    "#using pandas\n",
    "Range = z.max()-z.min()\n",
    "Range"
   ]
  },
  {
   "cell_type": "markdown",
   "id": "a78b27ae",
   "metadata": {},
   "source": [
    "# IQR"
   ]
  },
  {
   "cell_type": "code",
   "execution_count": 109,
   "id": "6563834e",
   "metadata": {},
   "outputs": [
    {
     "data": {
      "text/plain": [
       "3.5"
      ]
     },
     "execution_count": 109,
     "metadata": {},
     "output_type": "execute_result"
    }
   ],
   "source": [
    "#IQR\n",
    "#using numpy\n",
    "IQR = np.quantile(X,0.75)-np.quantile(X,0.25)\n",
    "IQR"
   ]
  },
  {
   "cell_type": "code",
   "execution_count": 110,
   "id": "67c62a1a",
   "metadata": {},
   "outputs": [
    {
     "data": {
      "text/plain": [
       "values    3.5\n",
       "dtype: float64"
      ]
     },
     "execution_count": 110,
     "metadata": {},
     "output_type": "execute_result"
    }
   ],
   "source": [
    "#using pandas\n",
    "iqr=z.quantile(0.75)-z.quantile(0.25)\n",
    "iqr\n",
    "     "
   ]
  },
  {
   "cell_type": "markdown",
   "id": "bd06b12d",
   "metadata": {},
   "source": [
    "# QD"
   ]
  },
  {
   "cell_type": "code",
   "execution_count": 111,
   "id": "f20b73d9",
   "metadata": {},
   "outputs": [
    {
     "data": {
      "text/plain": [
       "1.75"
      ]
     },
     "execution_count": 111,
     "metadata": {},
     "output_type": "execute_result"
    }
   ],
   "source": [
    "#QD\n",
    "#using numpy\n",
    "QD = IQR/2\n",
    "QD\n"
   ]
  },
  {
   "cell_type": "code",
   "execution_count": 112,
   "id": "cdb4d7eb",
   "metadata": {},
   "outputs": [
    {
     "data": {
      "text/plain": [
       "values    1.75\n",
       "dtype: float64"
      ]
     },
     "execution_count": 112,
     "metadata": {},
     "output_type": "execute_result"
    }
   ],
   "source": [
    "#QD\n",
    "#using pandas\n",
    "qd =iqr/2\n",
    "qd\n",
    "     "
   ]
  },
  {
   "cell_type": "code",
   "execution_count": null,
   "id": "f74124c8",
   "metadata": {},
   "outputs": [],
   "source": []
  }
 ],
 "metadata": {
  "kernelspec": {
   "display_name": "Python 3 (ipykernel)",
   "language": "python",
   "name": "python3"
  },
  "language_info": {
   "codemirror_mode": {
    "name": "ipython",
    "version": 3
   },
   "file_extension": ".py",
   "mimetype": "text/x-python",
   "name": "python",
   "nbconvert_exporter": "python",
   "pygments_lexer": "ipython3",
   "version": "3.10.9"
  }
 },
 "nbformat": 4,
 "nbformat_minor": 5
}
