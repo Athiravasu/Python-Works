{
 "cells": [
  {
   "cell_type": "code",
   "execution_count": 12,
   "id": "88f8d885",
   "metadata": {},
   "outputs": [
    {
     "data": {
      "text/html": [
       "<div>\n",
       "<style scoped>\n",
       "    .dataframe tbody tr th:only-of-type {\n",
       "        vertical-align: middle;\n",
       "    }\n",
       "\n",
       "    .dataframe tbody tr th {\n",
       "        vertical-align: top;\n",
       "    }\n",
       "\n",
       "    .dataframe thead th {\n",
       "        text-align: right;\n",
       "    }\n",
       "</style>\n",
       "<table border=\"1\" class=\"dataframe\">\n",
       "  <thead>\n",
       "    <tr style=\"text-align: right;\">\n",
       "      <th></th>\n",
       "      <th>Question</th>\n",
       "      <th>Segment Type</th>\n",
       "      <th>Segment Description</th>\n",
       "      <th>App</th>\n",
       "      <th>Count</th>\n",
       "      <th>Percentage</th>\n",
       "    </tr>\n",
       "  </thead>\n",
       "  <tbody>\n",
       "    <tr>\n",
       "      <th>0</th>\n",
       "      <td>You open ur phone and have a notif badge on in...</td>\n",
       "      <td>Mobile</td>\n",
       "      <td>Mobile respondents</td>\n",
       "      <td>Instagram</td>\n",
       "      <td>2559</td>\n",
       "      <td>0.273</td>\n",
       "    </tr>\n",
       "    <tr>\n",
       "      <th>1</th>\n",
       "      <td>You open ur phone and have a notif badge on in...</td>\n",
       "      <td>Mobile</td>\n",
       "      <td>Mobile respondents</td>\n",
       "      <td>Facebook</td>\n",
       "      <td>1182</td>\n",
       "      <td>0.126</td>\n",
       "    </tr>\n",
       "    <tr>\n",
       "      <th>2</th>\n",
       "      <td>You open ur phone and have a notif badge on in...</td>\n",
       "      <td>Mobile</td>\n",
       "      <td>Mobile respondents</td>\n",
       "      <td>Snapchat</td>\n",
       "      <td>5423</td>\n",
       "      <td>0.579</td>\n",
       "    </tr>\n",
       "    <tr>\n",
       "      <th>3</th>\n",
       "      <td>You open ur phone and have a notif badge on in...</td>\n",
       "      <td>Mobile</td>\n",
       "      <td>Mobile respondents</td>\n",
       "      <td>Linkedin</td>\n",
       "      <td>210</td>\n",
       "      <td>0.022</td>\n",
       "    </tr>\n",
       "    <tr>\n",
       "      <th>4</th>\n",
       "      <td>You open ur phone and have a notif badge on in...</td>\n",
       "      <td>Web</td>\n",
       "      <td>Web-based respondents</td>\n",
       "      <td>Instagram</td>\n",
       "      <td>30</td>\n",
       "      <td>0.256</td>\n",
       "    </tr>\n",
       "    <tr>\n",
       "      <th>...</th>\n",
       "      <td>...</td>\n",
       "      <td>...</td>\n",
       "      <td>...</td>\n",
       "      <td>...</td>\n",
       "      <td>...</td>\n",
       "      <td>...</td>\n",
       "    </tr>\n",
       "    <tr>\n",
       "      <th>511</th>\n",
       "      <td>You open ur phone and have a notif badge on in...</td>\n",
       "      <td>Custom</td>\n",
       "      <td>your parents make?  $50K-$90K</td>\n",
       "      <td>Linkedin</td>\n",
       "      <td>4</td>\n",
       "      <td>0.015</td>\n",
       "    </tr>\n",
       "    <tr>\n",
       "      <th>512</th>\n",
       "      <td>You open ur phone and have a notif badge on in...</td>\n",
       "      <td>Custom</td>\n",
       "      <td>Mac or PC? Other ðŸ§</td>\n",
       "      <td>Instagram</td>\n",
       "      <td>5</td>\n",
       "      <td>0.217</td>\n",
       "    </tr>\n",
       "    <tr>\n",
       "      <th>513</th>\n",
       "      <td>You open ur phone and have a notif badge on in...</td>\n",
       "      <td>Custom</td>\n",
       "      <td>Mac or PC? Other ðŸ§</td>\n",
       "      <td>Facebook</td>\n",
       "      <td>6</td>\n",
       "      <td>0.261</td>\n",
       "    </tr>\n",
       "    <tr>\n",
       "      <th>514</th>\n",
       "      <td>You open ur phone and have a notif badge on in...</td>\n",
       "      <td>Custom</td>\n",
       "      <td>Mac or PC? Other ðŸ§</td>\n",
       "      <td>Snapchat</td>\n",
       "      <td>11</td>\n",
       "      <td>0.478</td>\n",
       "    </tr>\n",
       "    <tr>\n",
       "      <th>515</th>\n",
       "      <td>You open ur phone and have a notif badge on in...</td>\n",
       "      <td>Custom</td>\n",
       "      <td>Mac or PC? Other ðŸ§</td>\n",
       "      <td>Linkedin</td>\n",
       "      <td>1</td>\n",
       "      <td>0.043</td>\n",
       "    </tr>\n",
       "  </tbody>\n",
       "</table>\n",
       "<p>516 rows × 6 columns</p>\n",
       "</div>"
      ],
      "text/plain": [
       "                                              Question Segment Type  \\\n",
       "0    You open ur phone and have a notif badge on in...       Mobile   \n",
       "1    You open ur phone and have a notif badge on in...       Mobile   \n",
       "2    You open ur phone and have a notif badge on in...       Mobile   \n",
       "3    You open ur phone and have a notif badge on in...       Mobile   \n",
       "4    You open ur phone and have a notif badge on in...          Web   \n",
       "..                                                 ...          ...   \n",
       "511  You open ur phone and have a notif badge on in...       Custom   \n",
       "512  You open ur phone and have a notif badge on in...       Custom   \n",
       "513  You open ur phone and have a notif badge on in...       Custom   \n",
       "514  You open ur phone and have a notif badge on in...       Custom   \n",
       "515  You open ur phone and have a notif badge on in...       Custom   \n",
       "\n",
       "               Segment Description        App  Count  Percentage  \n",
       "0               Mobile respondents  Instagram   2559       0.273  \n",
       "1               Mobile respondents   Facebook   1182       0.126  \n",
       "2               Mobile respondents   Snapchat   5423       0.579  \n",
       "3               Mobile respondents   Linkedin    210       0.022  \n",
       "4            Web-based respondents  Instagram     30       0.256  \n",
       "..                             ...        ...    ...         ...  \n",
       "511  your parents make?  $50K-$90K   Linkedin      4       0.015  \n",
       "512          Mac or PC? Other ðŸ§  Instagram      5       0.217  \n",
       "513          Mac or PC? Other ðŸ§   Facebook      6       0.261  \n",
       "514          Mac or PC? Other ðŸ§   Snapchat     11       0.478  \n",
       "515          Mac or PC? Other ðŸ§   Linkedin      1       0.043  \n",
       "\n",
       "[516 rows x 6 columns]"
      ]
     },
     "execution_count": 12,
     "metadata": {},
     "output_type": "execute_result"
    }
   ],
   "source": [
    "import pandas as pd\n",
    "import matplotlib.pyplot as plt\n",
    "import numpy as np\n",
    "\n",
    "data=pd.read_excel('Mobile Usage Survey.xlsx',skiprows =1)\n",
    "\n",
    "data"
   ]
  },
  {
   "cell_type": "code",
   "execution_count": 25,
   "id": "aed2394c",
   "metadata": {},
   "outputs": [
    {
     "data": {
      "text/plain": [
       "(516, 6)"
      ]
     },
     "execution_count": 25,
     "metadata": {},
     "output_type": "execute_result"
    }
   ],
   "source": [
    "data.shape"
   ]
  },
  {
   "cell_type": "code",
   "execution_count": 13,
   "id": "f17a6820",
   "metadata": {},
   "outputs": [
    {
     "data": {
      "text/html": [
       "<div>\n",
       "<style scoped>\n",
       "    .dataframe tbody tr th:only-of-type {\n",
       "        vertical-align: middle;\n",
       "    }\n",
       "\n",
       "    .dataframe tbody tr th {\n",
       "        vertical-align: top;\n",
       "    }\n",
       "\n",
       "    .dataframe thead th {\n",
       "        text-align: right;\n",
       "    }\n",
       "</style>\n",
       "<table border=\"1\" class=\"dataframe\">\n",
       "  <thead>\n",
       "    <tr style=\"text-align: right;\">\n",
       "      <th></th>\n",
       "      <th>Question</th>\n",
       "      <th>Segment Type</th>\n",
       "      <th>Segment Description</th>\n",
       "      <th>App</th>\n",
       "      <th>Count</th>\n",
       "      <th>Percentage</th>\n",
       "    </tr>\n",
       "  </thead>\n",
       "  <tbody>\n",
       "    <tr>\n",
       "      <th>0</th>\n",
       "      <td>You open ur phone and have a notif badge on in...</td>\n",
       "      <td>Mobile</td>\n",
       "      <td>Mobile respondents</td>\n",
       "      <td>Instagram</td>\n",
       "      <td>2559</td>\n",
       "      <td>0.273</td>\n",
       "    </tr>\n",
       "    <tr>\n",
       "      <th>1</th>\n",
       "      <td>You open ur phone and have a notif badge on in...</td>\n",
       "      <td>Mobile</td>\n",
       "      <td>Mobile respondents</td>\n",
       "      <td>Facebook</td>\n",
       "      <td>1182</td>\n",
       "      <td>0.126</td>\n",
       "    </tr>\n",
       "    <tr>\n",
       "      <th>2</th>\n",
       "      <td>You open ur phone and have a notif badge on in...</td>\n",
       "      <td>Mobile</td>\n",
       "      <td>Mobile respondents</td>\n",
       "      <td>Snapchat</td>\n",
       "      <td>5423</td>\n",
       "      <td>0.579</td>\n",
       "    </tr>\n",
       "    <tr>\n",
       "      <th>3</th>\n",
       "      <td>You open ur phone and have a notif badge on in...</td>\n",
       "      <td>Mobile</td>\n",
       "      <td>Mobile respondents</td>\n",
       "      <td>Linkedin</td>\n",
       "      <td>210</td>\n",
       "      <td>0.022</td>\n",
       "    </tr>\n",
       "    <tr>\n",
       "      <th>4</th>\n",
       "      <td>You open ur phone and have a notif badge on in...</td>\n",
       "      <td>Web</td>\n",
       "      <td>Web-based respondents</td>\n",
       "      <td>Instagram</td>\n",
       "      <td>30</td>\n",
       "      <td>0.256</td>\n",
       "    </tr>\n",
       "  </tbody>\n",
       "</table>\n",
       "</div>"
      ],
      "text/plain": [
       "                                            Question Segment Type  \\\n",
       "0  You open ur phone and have a notif badge on in...       Mobile   \n",
       "1  You open ur phone and have a notif badge on in...       Mobile   \n",
       "2  You open ur phone and have a notif badge on in...       Mobile   \n",
       "3  You open ur phone and have a notif badge on in...       Mobile   \n",
       "4  You open ur phone and have a notif badge on in...          Web   \n",
       "\n",
       "     Segment Description        App  Count  Percentage  \n",
       "0     Mobile respondents  Instagram   2559       0.273  \n",
       "1     Mobile respondents   Facebook   1182       0.126  \n",
       "2     Mobile respondents   Snapchat   5423       0.579  \n",
       "3     Mobile respondents   Linkedin    210       0.022  \n",
       "4  Web-based respondents  Instagram     30       0.256  "
      ]
     },
     "execution_count": 13,
     "metadata": {},
     "output_type": "execute_result"
    }
   ],
   "source": [
    "data.head(5)"
   ]
  },
  {
   "cell_type": "code",
   "execution_count": 26,
   "id": "e7ee2523",
   "metadata": {},
   "outputs": [
    {
     "data": {
      "text/plain": [
       "Index(['Question', 'Segment Type', 'Segment Description', 'App', 'Count',\n",
       "       'Percentage'],\n",
       "      dtype='object')"
      ]
     },
     "execution_count": 26,
     "metadata": {},
     "output_type": "execute_result"
    }
   ],
   "source": [
    "data.columns"
   ]
  },
  {
   "cell_type": "markdown",
   "id": "2b2afca8",
   "metadata": {},
   "source": [
    "# 1 Total Number of Responses"
   ]
  },
  {
   "cell_type": "code",
   "execution_count": 14,
   "id": "b41276a8",
   "metadata": {},
   "outputs": [
    {
     "data": {
      "text/plain": [
       "38008"
      ]
     },
     "execution_count": 14,
     "metadata": {},
     "output_type": "execute_result"
    }
   ],
   "source": [
    "\n",
    "a=data['Count'].sum()\n",
    "a"
   ]
  },
  {
   "cell_type": "markdown",
   "id": "9808027d",
   "metadata": {},
   "source": [
    "# 2 How many segments are there?"
   ]
  },
  {
   "cell_type": "code",
   "execution_count": 15,
   "id": "ee18b70c",
   "metadata": {},
   "outputs": [
    {
     "data": {
      "text/plain": [
       "516"
      ]
     },
     "execution_count": 15,
     "metadata": {},
     "output_type": "execute_result"
    }
   ],
   "source": [
    "\n",
    "a=data['Segment Type'].count()\n",
    "a\n",
    "#Sssszss"
   ]
  },
  {
   "cell_type": "markdown",
   "id": "4295c94f",
   "metadata": {},
   "source": [
    "# 3 Total Number of Responses by App"
   ]
  },
  {
   "cell_type": "code",
   "execution_count": 16,
   "id": "003fa158",
   "metadata": {},
   "outputs": [
    {
     "name": "stderr",
     "output_type": "stream",
     "text": [
      "C:\\Users\\athir\\AppData\\Local\\Temp\\ipykernel_32384\\367424881.py:2: FutureWarning: The default value of numeric_only in DataFrameGroupBy.sum is deprecated. In a future version, numeric_only will default to False. Either specify numeric_only or select only columns which should be valid for the function.\n",
      "  a=data.groupby('App').sum()['Count']\n"
     ]
    },
    {
     "data": {
      "text/plain": [
       "App\n",
       "Facebook      5497\n",
       "Instagram    10229\n",
       "Linkedin      1078\n",
       "Snapchat     21204\n",
       "Name: Count, dtype: int64"
      ]
     },
     "execution_count": 16,
     "metadata": {},
     "output_type": "execute_result"
    }
   ],
   "source": [
    "\n",
    "a=data.groupby('App').sum()['Count']\n",
    "a"
   ]
  },
  {
   "cell_type": "markdown",
   "id": "09e26da7",
   "metadata": {},
   "source": [
    "# 4 Draw question- 4 in a horizontal bar chart"
   ]
  },
  {
   "cell_type": "code",
   "execution_count": 24,
   "id": "54f04e4a",
   "metadata": {},
   "outputs": [
    {
     "name": "stderr",
     "output_type": "stream",
     "text": [
      "C:\\Users\\athir\\AppData\\Local\\Temp\\ipykernel_32384\\2936877152.py:1: FutureWarning: The default value of numeric_only in DataFrameGroupBy.sum is deprecated. In a future version, numeric_only will default to False. Either specify numeric_only or select only columns which should be valid for the function.\n",
      "  a=data.groupby('App').sum()['Count'].plot(kind='barh')\n"
     ]
    },
    {
     "data": {
      "text/plain": [
       "<Axes: ylabel='App'>"
      ]
     },
     "execution_count": 24,
     "metadata": {},
     "output_type": "execute_result"
    },
    {
     "data": {
      "image/png": "[encoded data removed]",
      "text/plain": [
       "<Figure size 640x480 with 1 Axes>"
      ]
     },
     "metadata": {},
     "output_type": "display_data"
    }
   ],
   "source": [
    "a=data.groupby('App').sum()['Count'].plot(kind='barh')\n",
    "a"
   ]
  },
  {
   "cell_type": "markdown",
   "id": "4afe68ba",
   "metadata": {},
   "source": [
    "# 5 How many segment descriptions are there?"
   ]
  },
  {
   "cell_type": "code",
   "execution_count": null,
   "id": "dc94dff4",
   "metadata": {},
   "outputs": [],
   "source": [
    "\n",
    "a=data.groupby('Segment Description').sum()\n",
    "a"
   ]
  },
  {
   "cell_type": "markdown",
   "id": "02cbfb32",
   "metadata": {},
   "source": [
    "# 6 Draw a pie chart using the question 3"
   ]
  },
  {
   "cell_type": "code",
   "execution_count": 19,
   "id": "bfc2ea4f",
   "metadata": {},
   "outputs": [
    {
     "name": "stderr",
     "output_type": "stream",
     "text": [
      "C:\\Users\\athir\\AppData\\Local\\Temp\\ipykernel_32384\\540374344.py:1: FutureWarning: The default value of numeric_only in DataFrameGroupBy.sum is deprecated. In a future version, numeric_only will default to False. Either specify numeric_only or select only columns which should be valid for the function.\n",
      "  a=data.groupby('App').sum()['Count'].plot(kind='pie')\n"
     ]
    },
    {
     "data": {
      "text/plain": [
       "<Axes: ylabel='Count'>"
      ]
     },
     "execution_count": 19,
     "metadata": {},
     "output_type": "execute_result"
    },
    {
     "data": {
      "image/png": "[encoded data removed]",
      "text/plain": [
       "<Figure size 640x480 with 1 Axes>"
      ]
     },
     "metadata": {},
     "output_type": "display_data"
    }
   ],
   "source": [
    "a=data.groupby('App').sum()['Count'].plot(kind='pie')\n",
    "a"
   ]
  },
  {
   "cell_type": "markdown",
   "id": "3c21d0a2",
   "metadata": {},
   "source": [
    "# 7 Display percentage values inside pie chart"
   ]
  },
  {
   "cell_type": "code",
   "execution_count": 21,
   "id": "d4450e2a",
   "metadata": {},
   "outputs": [
    {
     "name": "stderr",
     "output_type": "stream",
     "text": [
      "C:\\Users\\athir\\AppData\\Local\\Temp\\ipykernel_32384\\442893103.py:1: FutureWarning: The default value of numeric_only in DataFrameGroupBy.sum is deprecated. In a future version, numeric_only will default to False. Either specify numeric_only or select only columns which should be valid for the function.\n",
      "  a=data.groupby('App').sum()['Count'].plot(kind='pie',autopct ='%1.2f%%')\n"
     ]
    },
    {
     "data": {
      "text/plain": [
       "<Axes: ylabel='Count'>"
      ]
     },
     "execution_count": 21,
     "metadata": {},
     "output_type": "execute_result"
    },
    {
     "data": {
      "image/png": "[encoded data removed]",
      "text/plain": [
       "<Figure size 640x480 with 1 Axes>"
      ]
     },
     "metadata": {},
     "output_type": "display_data"
    }
   ],
   "source": [
    "a=data.groupby('App').sum()['Count'].plot(kind='pie',autopct ='%1.2f%%')\n",
    "a"
   ]
  }
 ],
 "metadata": {
  "kernelspec": {
   "display_name": "Python 3 (ipykernel)",
   "language": "python",
   "name": "python3"
  },
  "language_info": {
   "codemirror_mode": {
    "name": "ipython",
    "version": 3
   },
   "file_extension": ".py",
   "mimetype": "text/x-python",
   "name": "python",
   "nbconvert_exporter": "python",
   "pygments_lexer": "ipython3",
   "version": "3.10.9"
  }
 },
 "nbformat": 4,
 "nbformat_minor": 5
}
