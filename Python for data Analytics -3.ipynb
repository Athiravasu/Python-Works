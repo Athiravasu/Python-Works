{
 "cells": [
  {
   "cell_type": "code",
   "execution_count": 1,
   "id": "3acf04a7",
   "metadata": {},
   "outputs": [
    {
     "data": {
      "text/html": [
       "<div>\n",
       "<style scoped>\n",
       "    .dataframe tbody tr th:only-of-type {\n",
       "        vertical-align: middle;\n",
       "    }\n",
       "\n",
       "    .dataframe tbody tr th {\n",
       "        vertical-align: top;\n",
       "    }\n",
       "\n",
       "    .dataframe thead th {\n",
       "        text-align: right;\n",
       "    }\n",
       "</style>\n",
       "<table border=\"1\" class=\"dataframe\">\n",
       "  <thead>\n",
       "    <tr style=\"text-align: right;\">\n",
       "      <th></th>\n",
       "      <th>Sl no</th>\n",
       "      <th>Name</th>\n",
       "      <th>Gender</th>\n",
       "      <th>Group</th>\n",
       "      <th>test Score</th>\n",
       "      <th>Extra carricular Activity</th>\n",
       "      <th>Active</th>\n",
       "      <th>Intrest in Stati</th>\n",
       "      <th>Final Exam</th>\n",
       "      <th>Note completed</th>\n",
       "      <th>Exam result</th>\n",
       "    </tr>\n",
       "  </thead>\n",
       "  <tbody>\n",
       "    <tr>\n",
       "      <th>0</th>\n",
       "      <td>1</td>\n",
       "      <td>Adhi</td>\n",
       "      <td>Male</td>\n",
       "      <td>Group1</td>\n",
       "      <td>20</td>\n",
       "      <td>Yes</td>\n",
       "      <td>Neutral</td>\n",
       "      <td>Yes</td>\n",
       "      <td>80</td>\n",
       "      <td>Yes</td>\n",
       "      <td>Passed</td>\n",
       "    </tr>\n",
       "    <tr>\n",
       "      <th>1</th>\n",
       "      <td>2</td>\n",
       "      <td>Ashw</td>\n",
       "      <td>Male</td>\n",
       "      <td>Group1</td>\n",
       "      <td>10</td>\n",
       "      <td>No</td>\n",
       "      <td>Inactive</td>\n",
       "      <td>No</td>\n",
       "      <td>30</td>\n",
       "      <td>No</td>\n",
       "      <td>Passed</td>\n",
       "    </tr>\n",
       "    <tr>\n",
       "      <th>2</th>\n",
       "      <td>3</td>\n",
       "      <td>Ajay</td>\n",
       "      <td>Male</td>\n",
       "      <td>Group1</td>\n",
       "      <td>14</td>\n",
       "      <td>Yes</td>\n",
       "      <td>Hyper</td>\n",
       "      <td>No</td>\n",
       "      <td>35</td>\n",
       "      <td>No</td>\n",
       "      <td>Passed</td>\n",
       "    </tr>\n",
       "  </tbody>\n",
       "</table>\n",
       "</div>"
      ],
      "text/plain": [
       "   Sl no  Name Gender   Group  test Score Extra carricular Activity    Active  \\\n",
       "0      1  Adhi   Male  Group1          20                       Yes   Neutral   \n",
       "1      2  Ashw   Male  Group1          10                        No  Inactive   \n",
       "2      3  Ajay   Male  Group1          14                       Yes     Hyper   \n",
       "\n",
       "  Intrest in Stati  Final Exam Note completed Exam result  \n",
       "0              Yes          80            Yes      Passed  \n",
       "1               No          30             No      Passed  \n",
       "2               No          35             No      Passed  "
      ]
     },
     "execution_count": 1,
     "metadata": {},
     "output_type": "execute_result"
    }
   ],
   "source": [
    "import pandas as pd\n",
    "stud= pd.read_excel('Students data.xlsx')\n",
    "stud.head(3)"
   ]
  },
  {
   "cell_type": "code",
   "execution_count": 3,
   "id": "dcbac6b9",
   "metadata": {},
   "outputs": [
    {
     "name": "stdout",
     "output_type": "stream",
     "text": [
      "<class 'pandas.core.frame.DataFrame'>\n",
      "RangeIndex: 56 entries, 0 to 55\n",
      "Data columns (total 11 columns):\n",
      " #   Column                     Non-Null Count  Dtype \n",
      "---  ------                     --------------  ----- \n",
      " 0   Sl no                      56 non-null     int64 \n",
      " 1   Name                       56 non-null     object\n",
      " 2   Gender                     56 non-null     object\n",
      " 3   Group                      56 non-null     object\n",
      " 4   test Score                 56 non-null     int64 \n",
      " 5   Extra carricular Activity  56 non-null     object\n",
      " 6   Active                     56 non-null     object\n",
      " 7   Intrest in Stati           56 non-null     object\n",
      " 8   Final Exam                 56 non-null     int64 \n",
      " 9   Note completed             56 non-null     object\n",
      " 10  Exam result                56 non-null     object\n",
      "dtypes: int64(3), object(8)\n",
      "memory usage: 4.9+ KB\n"
     ]
    }
   ],
   "source": [
    "stud.info()"
   ]
  },
  {
   "cell_type": "code",
   "execution_count": 14,
   "id": "6731c1c9",
   "metadata": {},
   "outputs": [
    {
     "data": {
      "text/plain": [
       "Male      46\n",
       "Female    10\n",
       "Name: Gender, dtype: int64"
      ]
     },
     "execution_count": 14,
     "metadata": {},
     "output_type": "execute_result"
    }
   ],
   "source": [
    "aa=stud['Gender'].value_counts()\n",
    "aa"
   ]
  },
  {
   "cell_type": "code",
   "execution_count": 6,
   "id": "8b434549",
   "metadata": {},
   "outputs": [
    {
     "data": {
      "text/plain": [
       "Male      0.821429\n",
       "Female    0.178571\n",
       "Name: Gender, dtype: float64"
      ]
     },
     "execution_count": 6,
     "metadata": {},
     "output_type": "execute_result"
    }
   ],
   "source": [
    "stud['Gender'].value_counts(normalize= True)"
   ]
  },
  {
   "cell_type": "code",
   "execution_count": 8,
   "id": "e2580256",
   "metadata": {},
   "outputs": [
    {
     "data": {
      "text/plain": [
       "Passed    38\n",
       "failed    18\n",
       "Name: Exam result, dtype: int64"
      ]
     },
     "execution_count": 8,
     "metadata": {},
     "output_type": "execute_result"
    }
   ],
   "source": [
    "a = stud['Exam result'].value_counts()\n",
    "a "
   ]
  },
  {
   "cell_type": "code",
   "execution_count": 9,
   "id": "e10fd5cb",
   "metadata": {},
   "outputs": [
    {
     "data": {
      "text/plain": [
       "Passed    0.678571\n",
       "failed    0.321429\n",
       "Name: Exam result, dtype: float64"
      ]
     },
     "execution_count": 9,
     "metadata": {},
     "output_type": "execute_result"
    }
   ],
   "source": [
    "stud['Exam result'].value_counts(normalize= True)"
   ]
  },
  {
   "cell_type": "code",
   "execution_count": 10,
   "id": "110c4c54",
   "metadata": {},
   "outputs": [
    {
     "data": {
      "text/plain": [
       "<Axes: ylabel='Exam result'>"
      ]
     },
     "execution_count": 10,
     "metadata": {},
     "output_type": "execute_result"
    },
    {
     "data": {
      "image/png": "[encoded data removed]",
      "text/plain": [
       "<Figure size 640x480 with 1 Axes>"
      ]
     },
     "metadata": {},
     "output_type": "display_data"
    }
   ],
   "source": [
    "stud['Exam result'].value_counts(normalize= True).plot(kind='pie')"
   ]
  },
  {
   "cell_type": "code",
   "execution_count": 11,
   "id": "f43e8f10",
   "metadata": {},
   "outputs": [
    {
     "data": {
      "text/plain": [
       "<Axes: >"
      ]
     },
     "execution_count": 11,
     "metadata": {},
     "output_type": "execute_result"
    },
    {
     "data": {
      "image/png": "[encoded data removed]",
      "text/plain": [
       "<Figure size 640x480 with 1 Axes>"
      ]
     },
     "metadata": {},
     "output_type": "display_data"
    }
   ],
   "source": [
    "a.plot(kind='bar')"
   ]
  },
  {
   "cell_type": "code",
   "execution_count": 15,
   "id": "e1638cd4",
   "metadata": {},
   "outputs": [
    {
     "data": {
      "text/plain": [
       "<Axes: >"
      ]
     },
     "execution_count": 15,
     "metadata": {},
     "output_type": "execute_result"
    },
    {
     "data": {
      "image/png": "[encoded data removed]",
      "text/plain": [
       "<Figure size 640x480 with 1 Axes>"
      ]
     },
     "metadata": {},
     "output_type": "display_data"
    }
   ],
   "source": [
    "aa.plot(kind='bar')"
   ]
  },
  {
   "cell_type": "code",
   "execution_count": null,
   "id": "9cd688a5",
   "metadata": {},
   "outputs": [],
   "source": []
  }
 ],
 "metadata": {
  "kernelspec": {
   "display_name": "Python 3 (ipykernel)",
   "language": "python",
   "name": "python3"
  },
  "language_info": {
   "codemirror_mode": {
    "name": "ipython",
    "version": 3
   },
   "file_extension": ".py",
   "mimetype": "text/x-python",
   "name": "python",
   "nbconvert_exporter": "python",
   "pygments_lexer": "ipython3",
   "version": "3.10.9"
  }
 },
 "nbformat": 4,
 "nbformat_minor": 5
}
