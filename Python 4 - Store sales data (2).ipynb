{
 "cells": [
  {
   "cell_type": "code",
   "execution_count": 22,
   "id": "1d9c4e97",
   "metadata": {},
   "outputs": [
    {
     "data": {
      "text/html": [
       "<div>\n",
       "<style scoped>\n",
       "    .dataframe tbody tr th:only-of-type {\n",
       "        vertical-align: middle;\n",
       "    }\n",
       "\n",
       "    .dataframe tbody tr th {\n",
       "        vertical-align: top;\n",
       "    }\n",
       "\n",
       "    .dataframe thead th {\n",
       "        text-align: right;\n",
       "    }\n",
       "</style>\n",
       "<table border=\"1\" class=\"dataframe\">\n",
       "  <thead>\n",
       "    <tr style=\"text-align: right;\">\n",
       "      <th></th>\n",
       "      <th>Row ID</th>\n",
       "      <th>Order Priority</th>\n",
       "      <th>Discount</th>\n",
       "      <th>Unit Price</th>\n",
       "      <th>Shipping Cost</th>\n",
       "      <th>Customer ID</th>\n",
       "      <th>Customer Name</th>\n",
       "      <th>Ship Mode</th>\n",
       "      <th>Customer Segment</th>\n",
       "      <th>Product Category</th>\n",
       "      <th>...</th>\n",
       "      <th>State or Province</th>\n",
       "      <th>City</th>\n",
       "      <th>Postal Code</th>\n",
       "      <th>Order Date</th>\n",
       "      <th>Ship Date</th>\n",
       "      <th>Profit</th>\n",
       "      <th>Quantity ordered new</th>\n",
       "      <th>Sales</th>\n",
       "      <th>Order ID</th>\n",
       "      <th>Cost</th>\n",
       "    </tr>\n",
       "  </thead>\n",
       "  <tbody>\n",
       "    <tr>\n",
       "      <th>0</th>\n",
       "      <td>18606</td>\n",
       "      <td>Not Specified</td>\n",
       "      <td>0.01</td>\n",
       "      <td>2.88</td>\n",
       "      <td>0.50</td>\n",
       "      <td>2</td>\n",
       "      <td>Janice Fletcher</td>\n",
       "      <td>Regular Air</td>\n",
       "      <td>Corporate</td>\n",
       "      <td>Office Supplies</td>\n",
       "      <td>...</td>\n",
       "      <td>Illinois</td>\n",
       "      <td>Addison</td>\n",
       "      <td>60101</td>\n",
       "      <td>41057</td>\n",
       "      <td>41059</td>\n",
       "      <td>1.3200</td>\n",
       "      <td>2</td>\n",
       "      <td>5.90</td>\n",
       "      <td>88525</td>\n",
       "      <td>5.76</td>\n",
       "    </tr>\n",
       "    <tr>\n",
       "      <th>1</th>\n",
       "      <td>20847</td>\n",
       "      <td>High</td>\n",
       "      <td>0.01</td>\n",
       "      <td>2.84</td>\n",
       "      <td>0.93</td>\n",
       "      <td>3</td>\n",
       "      <td>Bonnie Potter</td>\n",
       "      <td>Express Air</td>\n",
       "      <td>Corporate</td>\n",
       "      <td>Office Supplies</td>\n",
       "      <td>...</td>\n",
       "      <td>Washington</td>\n",
       "      <td>Anacortes</td>\n",
       "      <td>98221</td>\n",
       "      <td>40366</td>\n",
       "      <td>40367</td>\n",
       "      <td>4.5600</td>\n",
       "      <td>4</td>\n",
       "      <td>13.01</td>\n",
       "      <td>88522</td>\n",
       "      <td>11.36</td>\n",
       "    </tr>\n",
       "    <tr>\n",
       "      <th>2</th>\n",
       "      <td>23086</td>\n",
       "      <td>Not Specified</td>\n",
       "      <td>0.03</td>\n",
       "      <td>6.68</td>\n",
       "      <td>6.15</td>\n",
       "      <td>3</td>\n",
       "      <td>Bonnie Potter</td>\n",
       "      <td>Express Air</td>\n",
       "      <td>Corporate</td>\n",
       "      <td>Office Supplies</td>\n",
       "      <td>...</td>\n",
       "      <td>Washington</td>\n",
       "      <td>Anacortes</td>\n",
       "      <td>98221</td>\n",
       "      <td>40751</td>\n",
       "      <td>40752</td>\n",
       "      <td>-47.6400</td>\n",
       "      <td>7</td>\n",
       "      <td>49.92</td>\n",
       "      <td>88523</td>\n",
       "      <td>46.76</td>\n",
       "    </tr>\n",
       "    <tr>\n",
       "      <th>3</th>\n",
       "      <td>23087</td>\n",
       "      <td>Not Specified</td>\n",
       "      <td>0.01</td>\n",
       "      <td>5.68</td>\n",
       "      <td>3.60</td>\n",
       "      <td>3</td>\n",
       "      <td>Bonnie Potter</td>\n",
       "      <td>Regular Air</td>\n",
       "      <td>Corporate</td>\n",
       "      <td>Office Supplies</td>\n",
       "      <td>...</td>\n",
       "      <td>Washington</td>\n",
       "      <td>Anacortes</td>\n",
       "      <td>98221</td>\n",
       "      <td>40751</td>\n",
       "      <td>40752</td>\n",
       "      <td>-30.5100</td>\n",
       "      <td>7</td>\n",
       "      <td>41.64</td>\n",
       "      <td>88523</td>\n",
       "      <td>39.76</td>\n",
       "    </tr>\n",
       "    <tr>\n",
       "      <th>4</th>\n",
       "      <td>23088</td>\n",
       "      <td>Not Specified</td>\n",
       "      <td>0.00</td>\n",
       "      <td>205.99</td>\n",
       "      <td>2.50</td>\n",
       "      <td>3</td>\n",
       "      <td>Bonnie Potter</td>\n",
       "      <td>Express Air</td>\n",
       "      <td>Corporate</td>\n",
       "      <td>Technology</td>\n",
       "      <td>...</td>\n",
       "      <td>Washington</td>\n",
       "      <td>Anacortes</td>\n",
       "      <td>98221</td>\n",
       "      <td>40751</td>\n",
       "      <td>40751</td>\n",
       "      <td>998.2023</td>\n",
       "      <td>8</td>\n",
       "      <td>2893.34</td>\n",
       "      <td>88523</td>\n",
       "      <td>1647.92</td>\n",
       "    </tr>\n",
       "    <tr>\n",
       "      <th>...</th>\n",
       "      <td>...</td>\n",
       "      <td>...</td>\n",
       "      <td>...</td>\n",
       "      <td>...</td>\n",
       "      <td>...</td>\n",
       "      <td>...</td>\n",
       "      <td>...</td>\n",
       "      <td>...</td>\n",
       "      <td>...</td>\n",
       "      <td>...</td>\n",
       "      <td>...</td>\n",
       "      <td>...</td>\n",
       "      <td>...</td>\n",
       "      <td>...</td>\n",
       "      <td>...</td>\n",
       "      <td>...</td>\n",
       "      <td>...</td>\n",
       "      <td>...</td>\n",
       "      <td>...</td>\n",
       "      <td>...</td>\n",
       "      <td>...</td>\n",
       "    </tr>\n",
       "    <tr>\n",
       "      <th>195</th>\n",
       "      <td>18900</td>\n",
       "      <td>Low</td>\n",
       "      <td>0.06</td>\n",
       "      <td>6.88</td>\n",
       "      <td>2.00</td>\n",
       "      <td>72</td>\n",
       "      <td>Amanda Hardy Singleton</td>\n",
       "      <td>Express Air</td>\n",
       "      <td>Small Business</td>\n",
       "      <td>Office Supplies</td>\n",
       "      <td>...</td>\n",
       "      <td>Maine</td>\n",
       "      <td>West Scarborough</td>\n",
       "      <td>4070</td>\n",
       "      <td>41133</td>\n",
       "      <td>41140</td>\n",
       "      <td>82.8483</td>\n",
       "      <td>18</td>\n",
       "      <td>240.14</td>\n",
       "      <td>89248</td>\n",
       "      <td>123.84</td>\n",
       "    </tr>\n",
       "    <tr>\n",
       "      <th>196</th>\n",
       "      <td>21280</td>\n",
       "      <td>High</td>\n",
       "      <td>0.02</td>\n",
       "      <td>22.84</td>\n",
       "      <td>8.18</td>\n",
       "      <td>73</td>\n",
       "      <td>April Winters</td>\n",
       "      <td>Regular Air</td>\n",
       "      <td>Small Business</td>\n",
       "      <td>Office Supplies</td>\n",
       "      <td>...</td>\n",
       "      <td>Massachusetts</td>\n",
       "      <td>Duxbury</td>\n",
       "      <td>2331</td>\n",
       "      <td>41575</td>\n",
       "      <td>41577</td>\n",
       "      <td>234.6800</td>\n",
       "      <td>22</td>\n",
       "      <td>526.36</td>\n",
       "      <td>89250</td>\n",
       "      <td>502.48</td>\n",
       "    </tr>\n",
       "    <tr>\n",
       "      <th>197</th>\n",
       "      <td>18955</td>\n",
       "      <td>Not Specified</td>\n",
       "      <td>0.09</td>\n",
       "      <td>21.78</td>\n",
       "      <td>5.94</td>\n",
       "      <td>74</td>\n",
       "      <td>Mark Manning</td>\n",
       "      <td>Regular Air</td>\n",
       "      <td>Small Business</td>\n",
       "      <td>Office Supplies</td>\n",
       "      <td>...</td>\n",
       "      <td>New Jersey</td>\n",
       "      <td>Iselin</td>\n",
       "      <td>8830</td>\n",
       "      <td>41253</td>\n",
       "      <td>41255</td>\n",
       "      <td>23.0100</td>\n",
       "      <td>7</td>\n",
       "      <td>294.52</td>\n",
       "      <td>89249</td>\n",
       "      <td>152.46</td>\n",
       "    </tr>\n",
       "    <tr>\n",
       "      <th>198</th>\n",
       "      <td>21287</td>\n",
       "      <td>Critical</td>\n",
       "      <td>0.06</td>\n",
       "      <td>65.99</td>\n",
       "      <td>8.99</td>\n",
       "      <td>75</td>\n",
       "      <td>Tamara Yates</td>\n",
       "      <td>Express Air</td>\n",
       "      <td>Small Business</td>\n",
       "      <td>Technology</td>\n",
       "      <td>...</td>\n",
       "      <td>New Jersey</td>\n",
       "      <td>Lakewood</td>\n",
       "      <td>8701</td>\n",
       "      <td>41010</td>\n",
       "      <td>41012</td>\n",
       "      <td>17.2530</td>\n",
       "      <td>6</td>\n",
       "      <td>646.68</td>\n",
       "      <td>89247</td>\n",
       "      <td>395.94</td>\n",
       "    </tr>\n",
       "    <tr>\n",
       "      <th>199</th>\n",
       "      <td>21288</td>\n",
       "      <td>Critical</td>\n",
       "      <td>0.10</td>\n",
       "      <td>159.99</td>\n",
       "      <td>5.50</td>\n",
       "      <td>76</td>\n",
       "      <td>Glen Weeks</td>\n",
       "      <td>Regular Air</td>\n",
       "      <td>Small Business</td>\n",
       "      <td>Technology</td>\n",
       "      <td>...</td>\n",
       "      <td>New Jersey</td>\n",
       "      <td>Wayne</td>\n",
       "      <td>7470</td>\n",
       "      <td>41010</td>\n",
       "      <td>41011</td>\n",
       "      <td>526.5735</td>\n",
       "      <td>5</td>\n",
       "      <td>1526.30</td>\n",
       "      <td>89247</td>\n",
       "      <td>799.95</td>\n",
       "    </tr>\n",
       "  </tbody>\n",
       "</table>\n",
       "<p>200 rows × 24 columns</p>\n",
       "</div>"
      ],
      "text/plain": [
       "     Row ID Order Priority  Discount  Unit Price  Shipping Cost  Customer ID  \\\n",
       "0     18606  Not Specified      0.01        2.88           0.50            2   \n",
       "1     20847           High      0.01        2.84           0.93            3   \n",
       "2     23086  Not Specified      0.03        6.68           6.15            3   \n",
       "3     23087  Not Specified      0.01        5.68           3.60            3   \n",
       "4     23088  Not Specified      0.00      205.99           2.50            3   \n",
       "..      ...            ...       ...         ...            ...          ...   \n",
       "195   18900            Low      0.06        6.88           2.00           72   \n",
       "196   21280           High      0.02       22.84           8.18           73   \n",
       "197   18955  Not Specified      0.09       21.78           5.94           74   \n",
       "198   21287       Critical      0.06       65.99           8.99           75   \n",
       "199   21288       Critical      0.10      159.99           5.50           76   \n",
       "\n",
       "              Customer Name    Ship Mode Customer Segment Product Category  \\\n",
       "0           Janice Fletcher  Regular Air        Corporate  Office Supplies   \n",
       "1             Bonnie Potter  Express Air        Corporate  Office Supplies   \n",
       "2             Bonnie Potter  Express Air        Corporate  Office Supplies   \n",
       "3             Bonnie Potter  Regular Air        Corporate  Office Supplies   \n",
       "4             Bonnie Potter  Express Air        Corporate       Technology   \n",
       "..                      ...          ...              ...              ...   \n",
       "195  Amanda Hardy Singleton  Express Air   Small Business  Office Supplies   \n",
       "196           April Winters  Regular Air   Small Business  Office Supplies   \n",
       "197            Mark Manning  Regular Air   Small Business  Office Supplies   \n",
       "198            Tamara Yates  Express Air   Small Business       Technology   \n",
       "199              Glen Weeks  Regular Air   Small Business       Technology   \n",
       "\n",
       "     ... State or Province              City  Postal Code Order Date  \\\n",
       "0    ...          Illinois           Addison        60101      41057   \n",
       "1    ...        Washington         Anacortes        98221      40366   \n",
       "2    ...        Washington         Anacortes        98221      40751   \n",
       "3    ...        Washington         Anacortes        98221      40751   \n",
       "4    ...        Washington         Anacortes        98221      40751   \n",
       "..   ...               ...               ...          ...        ...   \n",
       "195  ...             Maine  West Scarborough         4070      41133   \n",
       "196  ...     Massachusetts           Duxbury         2331      41575   \n",
       "197  ...        New Jersey            Iselin         8830      41253   \n",
       "198  ...        New Jersey          Lakewood         8701      41010   \n",
       "199  ...        New Jersey             Wayne         7470      41010   \n",
       "\n",
       "    Ship Date    Profit  Quantity ordered new    Sales  Order ID     Cost  \n",
       "0       41059    1.3200                     2     5.90     88525     5.76  \n",
       "1       40367    4.5600                     4    13.01     88522    11.36  \n",
       "2       40752  -47.6400                     7    49.92     88523    46.76  \n",
       "3       40752  -30.5100                     7    41.64     88523    39.76  \n",
       "4       40751  998.2023                     8  2893.34     88523  1647.92  \n",
       "..        ...       ...                   ...      ...       ...      ...  \n",
       "195     41140   82.8483                    18   240.14     89248   123.84  \n",
       "196     41577  234.6800                    22   526.36     89250   502.48  \n",
       "197     41255   23.0100                     7   294.52     89249   152.46  \n",
       "198     41012   17.2530                     6   646.68     89247   395.94  \n",
       "199     41011  526.5735                     5  1526.30     89247   799.95  \n",
       "\n",
       "[200 rows x 24 columns]"
      ]
     },
     "execution_count": 22,
     "metadata": {},
     "output_type": "execute_result"
    }
   ],
   "source": [
    "import pandas as pd\n",
    "data=pd.read_excel('Store Sales.xlsx')\n",
    "data\n"
   ]
  },
  {
   "cell_type": "markdown",
   "id": "fb551b05",
   "metadata": {},
   "source": [
    "# Find the Total Sales by region"
   ]
  },
  {
   "cell_type": "code",
   "execution_count": 23,
   "id": "a45b8036",
   "metadata": {},
   "outputs": [
    {
     "name": "stderr",
     "output_type": "stream",
     "text": [
      "C:\\Users\\athir\\AppData\\Local\\Temp\\ipykernel_1628\\2110278975.py:1: FutureWarning: The default value of numeric_only in DataFrameGroupBy.sum is deprecated. In a future version, numeric_only will default to False. Either specify numeric_only or select only columns which should be valid for the function.\n",
      "  b=data.groupby('Region').sum()['Sales']\n"
     ]
    },
    {
     "data": {
      "text/plain": [
       "Region\n",
       "Central     25883.87\n",
       "East       172056.49\n",
       "South        4233.98\n",
       "West       119210.91\n",
       "Name: Sales, dtype: float64"
      ]
     },
     "execution_count": 23,
     "metadata": {},
     "output_type": "execute_result"
    }
   ],
   "source": [
    "b=data.groupby('Region').sum()['Sales']\n",
    "b"
   ]
  },
  {
   "cell_type": "markdown",
   "id": "26caa3a3",
   "metadata": {},
   "source": [
    "# Find the Total sales by city"
   ]
  },
  {
   "cell_type": "code",
   "execution_count": 25,
   "id": "24b69fe2",
   "metadata": {},
   "outputs": [
    {
     "name": "stderr",
     "output_type": "stream",
     "text": [
      "C:\\Users\\athir\\AppData\\Local\\Temp\\ipykernel_1628\\290345216.py:1: FutureWarning: The default value of numeric_only in DataFrameGroupBy.sum is deprecated. In a future version, numeric_only will default to False. Either specify numeric_only or select only columns which should be valid for the function.\n",
      "  b=data.groupby('City').sum()['Sales']\n"
     ]
    },
    {
     "data": {
      "text/plain": [
       "City\n",
       "Addison                  5.90\n",
       "Alton                  312.31\n",
       "Anacortes             9985.91\n",
       "Bedford                705.47\n",
       "Bellevue              1678.51\n",
       "Burlington            2801.06\n",
       "Camden                3588.54\n",
       "Colonial Heights       463.01\n",
       "Coppell               1177.22\n",
       "Cranston                90.39\n",
       "Duxbury                526.36\n",
       "Eugene                  99.56\n",
       "Fall River             465.90\n",
       "Grants Pass          14713.55\n",
       "Great Falls             46.93\n",
       "Gresham              22978.90\n",
       "Helena                4041.16\n",
       "Hillsboro              346.79\n",
       "Iselin                 294.52\n",
       "Keizer                 125.18\n",
       "Laguna Hills          5113.07\n",
       "Laguna Niguel         4779.64\n",
       "Lake Elsinore         4040.79\n",
       "Lake Forest           1716.07\n",
       "Lakewood              5172.20\n",
       "Lancaster              229.44\n",
       "Lawndale               332.05\n",
       "Missoula               463.58\n",
       "Mountain View         4790.26\n",
       "Murrieta              4346.75\n",
       "Napa                 11320.74\n",
       "New York City       130910.17\n",
       "Pennsauken             413.90\n",
       "Port Arthur           2062.21\n",
       "Prior Lake            2445.42\n",
       "Puyallup              3268.86\n",
       "Redmond              10319.42\n",
       "Richardson             439.51\n",
       "Roselle                211.15\n",
       "Rosenberg             5984.39\n",
       "Round Rock             986.71\n",
       "Rowlett               3558.98\n",
       "Salem                 3770.97\n",
       "San Gabriel           6589.35\n",
       "San Jose              5037.39\n",
       "Smithfield            3670.18\n",
       "Smithtown              538.72\n",
       "Springfield           1562.24\n",
       "Streamwood            3373.24\n",
       "Syracuse              4994.80\n",
       "Tinley Park           2297.23\n",
       "Tonawanda            20311.57\n",
       "Troy                   120.64\n",
       "Wayne                 1526.30\n",
       "West Scarborough       240.14\n",
       "Name: Sales, dtype: float64"
      ]
     },
     "execution_count": 25,
     "metadata": {},
     "output_type": "execute_result"
    }
   ],
   "source": [
    "b=data.groupby('City').sum()['Sales']\n",
    "b"
   ]
  },
  {
   "cell_type": "markdown",
   "id": "ff77cb71",
   "metadata": {},
   "source": [
    "# Find the Total sales by state or province"
   ]
  },
  {
   "cell_type": "code",
   "execution_count": 28,
   "id": "e241e329",
   "metadata": {},
   "outputs": [
    {
     "name": "stderr",
     "output_type": "stream",
     "text": [
      "C:\\Users\\athir\\AppData\\Local\\Temp\\ipykernel_1628\\957963901.py:1: FutureWarning: The default value of numeric_only in DataFrameGroupBy.sum is deprecated. In a future version, numeric_only will default to False. Either specify numeric_only or select only columns which should be valid for the function.\n",
      "  b=sale.groupby('State or Province').sum()['Sales']\n"
     ]
    },
    {
     "data": {
      "text/plain": [
       "State or Province\n",
       "California        52821.07\n",
       "Illinois           7550.92\n",
       "Maine               240.14\n",
       "Massachusetts       992.26\n",
       "Minnesota          2445.42\n",
       "Montana            4551.67\n",
       "Nebraska           1678.51\n",
       "New Hampshire       705.47\n",
       "New Jersey         6681.09\n",
       "New York         156875.90\n",
       "Oregon            38263.98\n",
       "Rhode Island       3760.57\n",
       "Texas             14209.02\n",
       "Vermont            2801.06\n",
       "Virginia           4233.98\n",
       "Washington        23574.19\n",
       "Name: Sales, dtype: float64"
      ]
     },
     "execution_count": 28,
     "metadata": {},
     "output_type": "execute_result"
    }
   ],
   "source": [
    "b=sale.groupby('State or Province').sum()['Sales']\n",
    "b"
   ]
  },
  {
   "cell_type": "markdown",
   "id": "1fb24b68",
   "metadata": {},
   "source": [
    "# Find the total profit by region"
   ]
  },
  {
   "cell_type": "code",
   "execution_count": 30,
   "id": "3c30ce82",
   "metadata": {},
   "outputs": [
    {
     "name": "stderr",
     "output_type": "stream",
     "text": [
      "C:\\Users\\athir\\AppData\\Local\\Temp\\ipykernel_1628\\2683559540.py:1: FutureWarning: The default value of numeric_only in DataFrameGroupBy.sum is deprecated. In a future version, numeric_only will default to False. Either specify numeric_only or select only columns which should be valid for the function.\n",
      "  b=data.groupby('Region').sum()['Profit']\n"
     ]
    },
    {
     "data": {
      "text/plain": [
       "Region\n",
       "Central     3792.145476\n",
       "East        9239.878280\n",
       "South       -222.141400\n",
       "West       19246.948452\n",
       "Name: Profit, dtype: float64"
      ]
     },
     "execution_count": 30,
     "metadata": {},
     "output_type": "execute_result"
    }
   ],
   "source": [
    "b=data.groupby('Region').sum()['Profit']\n",
    "b"
   ]
  },
  {
   "cell_type": "markdown",
   "id": "7339a5d3",
   "metadata": {},
   "source": [
    "# Find the total profit by city"
   ]
  },
  {
   "cell_type": "code",
   "execution_count": 31,
   "id": "cc4c68eb",
   "metadata": {},
   "outputs": [
    {
     "name": "stderr",
     "output_type": "stream",
     "text": [
      "C:\\Users\\athir\\AppData\\Local\\Temp\\ipykernel_1628\\3180070442.py:1: FutureWarning: The default value of numeric_only in DataFrameGroupBy.sum is deprecated. In a future version, numeric_only will default to False. Either specify numeric_only or select only columns which should be valid for the function.\n",
      "  a=data.groupby('City').sum()['Profit']\n"
     ]
    },
    {
     "data": {
      "text/plain": [
       "City\n",
       "Addison                1.320000\n",
       "Alton                -22.184000\n",
       "Anacortes           3242.669900\n",
       "Bedford             -158.740000\n",
       "Bellevue           -1025.284000\n",
       "Burlington         -2426.550000\n",
       "Camden              -346.615198\n",
       "Colonial Heights     -56.468000\n",
       "Coppell              287.374400\n",
       "Cranston              23.120000\n",
       "Duxbury              234.680000\n",
       "Eugene               -43.331600\n",
       "Fall River            72.992800\n",
       "Grants Pass         3317.767800\n",
       "Great Falls         -103.150000\n",
       "Gresham             2249.990340\n",
       "Helena               905.061600\n",
       "Hillsboro             77.084000\n",
       "Iselin                23.010000\n",
       "Keizer                 7.670000\n",
       "Laguna Hills        1580.802060\n",
       "Laguna Niguel       1344.720100\n",
       "Lake Elsinore       1317.296860\n",
       "Lake Forest          392.157348\n",
       "Lakewood            1035.933012\n",
       "Lancaster             26.602800\n",
       "Lawndale            -122.209440\n",
       "Missoula            -114.639900\n",
       "Mountain View       1312.038000\n",
       "Murrieta            1547.318100\n",
       "Napa                1396.506200\n",
       "New York City       4962.808600\n",
       "Pennsauken           142.795500\n",
       "Port Arthur        -1604.240000\n",
       "Prior Lake           697.160500\n",
       "Puyallup             675.098392\n",
       "Redmond            -7295.983620\n",
       "Richardson          -180.836960\n",
       "Roselle              -53.809600\n",
       "Rosenberg            962.484900\n",
       "Round Rock           239.210620\n",
       "Rowlett             1741.837600\n",
       "Salem               -165.673400\n",
       "San Gabriel         4249.106500\n",
       "San Jose            2265.693000\n",
       "Smithfield           947.313000\n",
       "Smithtown             25.852900\n",
       "Springfield          271.813236\n",
       "Streamwood           838.400480\n",
       "Syracuse           -1190.460746\n",
       "Tinley Park         1585.088700\n",
       "Tonawanda           6500.671024\n",
       "Troy                -143.864800\n",
       "Wayne                526.573500\n",
       "West Scarborough      82.848300\n",
       "Name: Profit, dtype: float64"
      ]
     },
     "execution_count": 31,
     "metadata": {},
     "output_type": "execute_result"
    }
   ],
   "source": [
    "a=data.groupby('City').sum()['Profit']\n",
    "a"
   ]
  },
  {
   "cell_type": "markdown",
   "id": "cbf202cf",
   "metadata": {},
   "source": [
    "# Find the total profit by state or province"
   ]
  },
  {
   "cell_type": "code",
   "execution_count": 32,
   "id": "b8e99632",
   "metadata": {},
   "outputs": [
    {
     "name": "stderr",
     "output_type": "stream",
     "text": [
      "C:\\Users\\athir\\AppData\\Local\\Temp\\ipykernel_1628\\3749072406.py:1: FutureWarning: The default value of numeric_only in DataFrameGroupBy.sum is deprecated. In a future version, numeric_only will default to False. Either specify numeric_only or select only columns which should be valid for the function.\n",
      "  b=sale.groupby('State or Province').sum()['Profit']\n"
     ]
    },
    {
     "data": {
      "text/plain": [
       "State or Province\n",
       "California       16328.711540\n",
       "Illinois          2674.438416\n",
       "Maine               82.848300\n",
       "Massachusetts      307.672800\n",
       "Minnesota          697.160500\n",
       "Montana            687.271700\n",
       "Nebraska         -1025.284000\n",
       "New Hampshire     -158.740000\n",
       "New Jersey         309.207202\n",
       "New York         10155.006978\n",
       "Oregon            5609.180540\n",
       "Rhode Island       970.433000\n",
       "Texas             1445.830560\n",
       "Vermont          -2426.550000\n",
       "Virginia          -222.141400\n",
       "Washington       -3378.215328\n",
       "Name: Profit, dtype: float64"
      ]
     },
     "execution_count": 32,
     "metadata": {},
     "output_type": "execute_result"
    }
   ],
   "source": [
    "b=sale.groupby('State or Province').sum()['Profit']\n",
    "b"
   ]
  },
  {
   "cell_type": "markdown",
   "id": "5857a40d",
   "metadata": {},
   "source": [
    "# Find out the total sales by customer"
   ]
  },
  {
   "cell_type": "code",
   "execution_count": 33,
   "id": "5ce8bb7a",
   "metadata": {},
   "outputs": [
    {
     "name": "stderr",
     "output_type": "stream",
     "text": [
      "C:\\Users\\athir\\AppData\\Local\\Temp\\ipykernel_1628\\108296675.py:1: FutureWarning: The default value of numeric_only in DataFrameGroupBy.sum is deprecated. In a future version, numeric_only will default to False. Either specify numeric_only or select only columns which should be valid for the function.\n",
      "  b=sale.groupby('Customer Name').sum()['Sales']\n"
     ]
    },
    {
     "data": {
      "text/plain": [
       "Customer Name\n",
       "Alexandra Fuller           1207.58\n",
       "Alice Capps                  99.56\n",
       "Amanda Hardy Singleton      240.14\n",
       "Anne Nguyen                 463.01\n",
       "Annette Boone              2801.06\n",
       "                            ...   \n",
       "Terri Lyons                3373.24\n",
       "Theodore Moran             3607.01\n",
       "Timothy Reese               538.72\n",
       "Tony Wilkins Winters      24618.11\n",
       "Virginia Hardison          4040.79\n",
       "Name: Sales, Length: 62, dtype: float64"
      ]
     },
     "execution_count": 33,
     "metadata": {},
     "output_type": "execute_result"
    }
   ],
   "source": [
    "b=sale.groupby('Customer Name').sum()['Sales']\n",
    "b"
   ]
  },
  {
   "cell_type": "markdown",
   "id": "de450ed1",
   "metadata": {},
   "source": [
    "# Find out Which customer segment is more profitable"
   ]
  },
  {
   "cell_type": "code",
   "execution_count": 35,
   "id": "3cbc2793",
   "metadata": {},
   "outputs": [
    {
     "name": "stderr",
     "output_type": "stream",
     "text": [
      "C:\\Users\\athir\\AppData\\Local\\Temp\\ipykernel_1628\\2698118173.py:1: FutureWarning: The default value of numeric_only in DataFrameGroupBy.sum is deprecated. In a future version, numeric_only will default to False. Either specify numeric_only or select only columns which should be valid for the function.\n",
      "  b=sale.groupby('Customer Segment').sum()['Profit']\n"
     ]
    },
    {
     "data": {
      "text/plain": [
       "Customer Segment\n",
       "Consumer           5823.679946\n",
       "Corporate         16692.249676\n",
       "Home Office        4912.184506\n",
       "Small Business     4628.716680\n",
       "Name: Profit, dtype: float64"
      ]
     },
     "execution_count": 35,
     "metadata": {},
     "output_type": "execute_result"
    }
   ],
   "source": [
    "b=sale.groupby('Customer Segment').sum()['Profit']\n",
    "b"
   ]
  },
  {
   "cell_type": "markdown",
   "id": "f7d8aa77",
   "metadata": {},
   "source": [
    "# Find out the total number of orders by order priority"
   ]
  },
  {
   "cell_type": "code",
   "execution_count": 36,
   "id": "f6394189",
   "metadata": {},
   "outputs": [
    {
     "data": {
      "text/plain": [
       "Order Priority\n",
       "Critical         38\n",
       "High             43\n",
       "Low              38\n",
       "Medium           35\n",
       "Not Specified    46\n",
       "Name: Order ID, dtype: int64"
      ]
     },
     "execution_count": 36,
     "metadata": {},
     "output_type": "execute_result"
    }
   ],
   "source": [
    "b=sale.groupby('Order Priority').count()['Order ID']\n",
    "b"
   ]
  },
  {
   "cell_type": "markdown",
   "id": "5cd1291b",
   "metadata": {},
   "source": [
    "# Find out the total sales by product category"
   ]
  },
  {
   "cell_type": "code",
   "execution_count": 37,
   "id": "92f97b4b",
   "metadata": {},
   "outputs": [
    {
     "name": "stderr",
     "output_type": "stream",
     "text": [
      "C:\\Users\\athir\\AppData\\Local\\Temp\\ipykernel_1628\\592396849.py:1: FutureWarning: The default value of numeric_only in DataFrameGroupBy.sum is deprecated. In a future version, numeric_only will default to False. Either specify numeric_only or select only columns which should be valid for the function.\n",
      "  b=sale.groupby('Product Category').sum()['Sales']\n"
     ]
    },
    {
     "data": {
      "text/plain": [
       "Product Category\n",
       "Furniture           75395.16\n",
       "Office Supplies    118421.10\n",
       "Technology         127568.99\n",
       "Name: Sales, dtype: float64"
      ]
     },
     "execution_count": 37,
     "metadata": {},
     "output_type": "execute_result"
    }
   ],
   "source": [
    "b=sale.groupby('Product Category').sum()['Sales']\n",
    "b"
   ]
  },
  {
   "cell_type": "markdown",
   "id": "12aa1845",
   "metadata": {},
   "source": [
    "# Find out the total sales by product Sub-Category"
   ]
  },
  {
   "cell_type": "code",
   "execution_count": 38,
   "id": "364b688a",
   "metadata": {},
   "outputs": [
    {
     "name": "stderr",
     "output_type": "stream",
     "text": [
      "C:\\Users\\athir\\AppData\\Local\\Temp\\ipykernel_1628\\1511249079.py:1: FutureWarning: The default value of numeric_only in DataFrameGroupBy.sum is deprecated. In a future version, numeric_only will default to False. Either specify numeric_only or select only columns which should be valid for the function.\n",
      "  b=sale.groupby('Product Sub-Category').sum()['Sales']\n"
     ]
    },
    {
     "data": {
      "text/plain": [
       "Product Sub-Category\n",
       "Appliances                         9800.85\n",
       "Binders and Binder Accessories    46282.84\n",
       "Bookcases                          6104.75\n",
       "Chairs & Chairmats                52905.09\n",
       "Computer Peripherals               4260.61\n",
       "Copiers and Fax                    4314.50\n",
       "Envelopes                         22185.52\n",
       "Labels                             1800.71\n",
       "Office Furnishings                 7276.81\n",
       "Office Machines                   36055.44\n",
       "Paper                             10482.01\n",
       "Pens & Art Supplies                2175.31\n",
       "Rubber Bands                        727.69\n",
       "Scissors, Rulers and Trimmers       298.05\n",
       "Storage & Organization            24668.12\n",
       "Tables                             9108.51\n",
       "Telephones and Communication      82938.44\n",
       "Name: Sales, dtype: float64"
      ]
     },
     "execution_count": 38,
     "metadata": {},
     "output_type": "execute_result"
    }
   ],
   "source": [
    "b=sale.groupby('Product Sub-Category').sum()['Sales']\n",
    "b"
   ]
  },
  {
   "cell_type": "markdown",
   "id": "ca1022f8",
   "metadata": {},
   "source": [
    "# Find out the total profit by product category"
   ]
  },
  {
   "cell_type": "code",
   "execution_count": 39,
   "id": "2762bd13",
   "metadata": {},
   "outputs": [
    {
     "name": "stderr",
     "output_type": "stream",
     "text": [
      "C:\\Users\\athir\\AppData\\Local\\Temp\\ipykernel_1628\\2456342390.py:1: FutureWarning: The default value of numeric_only in DataFrameGroupBy.sum is deprecated. In a future version, numeric_only will default to False. Either specify numeric_only or select only columns which should be valid for the function.\n",
      "  b=sale.groupby('Product Category').sum()['Profit']\n"
     ]
    },
    {
     "data": {
      "text/plain": [
       "Product Category\n",
       "Furniture          -3388.408623\n",
       "Office Supplies    21496.538840\n",
       "Technology         13948.700592\n",
       "Name: Profit, dtype: float64"
      ]
     },
     "execution_count": 39,
     "metadata": {},
     "output_type": "execute_result"
    }
   ],
   "source": [
    "b=sale.groupby('Product Category').sum()['Profit']\n",
    "b"
   ]
  },
  {
   "cell_type": "markdown",
   "id": "4ed0d2b1",
   "metadata": {},
   "source": [
    "# Find out the Total profit by product subcategory\n"
   ]
  },
  {
   "cell_type": "code",
   "execution_count": 40,
   "id": "4cb61eaa",
   "metadata": {},
   "outputs": [
    {
     "name": "stderr",
     "output_type": "stream",
     "text": [
      "C:\\Users\\athir\\AppData\\Local\\Temp\\ipykernel_1628\\2001113857.py:1: FutureWarning: The default value of numeric_only in DataFrameGroupBy.sum is deprecated. In a future version, numeric_only will default to False. Either specify numeric_only or select only columns which should be valid for the function.\n",
      "  b=sale.groupby('Product Sub-Category').sum()['Profit']\n"
     ]
    },
    {
     "data": {
      "text/plain": [
       "Product Sub-Category\n",
       "Appliances                         3189.057460\n",
       "Binders and Binder Accessories    11321.746600\n",
       "Bookcases                          -387.654000\n",
       "Chairs & Chairmats                -3065.547520\n",
       "Computer Peripherals               1690.071400\n",
       "Copiers and Fax                     345.000000\n",
       "Envelopes                          3881.970600\n",
       "Labels                              399.567600\n",
       "Office Furnishings                 1623.870780\n",
       "Office Machines                   -2765.862324\n",
       "Paper                              3204.024860\n",
       "Pens & Art Supplies                  27.419100\n",
       "Rubber Bands                         -6.938000\n",
       "Scissors, Rulers and Trimmers       -24.970000\n",
       "Storage & Organization             -495.339380\n",
       "Tables                            -1559.077884\n",
       "Telephones and Communication      14679.491516\n",
       "Name: Profit, dtype: float64"
      ]
     },
     "execution_count": 40,
     "metadata": {},
     "output_type": "execute_result"
    }
   ],
   "source": [
    "b=sale.groupby('Product Sub-Category').sum()['Profit']\n",
    "b"
   ]
  },
  {
   "cell_type": "markdown",
   "id": "39792802",
   "metadata": {},
   "source": [
    "# Find the total sales by order date"
   ]
  },
  {
   "cell_type": "code",
   "execution_count": 41,
   "id": "ecb1ab08",
   "metadata": {},
   "outputs": [
    {
     "name": "stderr",
     "output_type": "stream",
     "text": [
      "C:\\Users\\athir\\AppData\\Local\\Temp\\ipykernel_1628\\896183731.py:1: FutureWarning: The default value of numeric_only in DataFrameGroupBy.sum is deprecated. In a future version, numeric_only will default to False. Either specify numeric_only or select only columns which should be valid for the function.\n",
      "  b=sale.groupby('Order Date').sum()['Sales']\n"
     ]
    },
    {
     "data": {
      "text/plain": [
       "Order Date\n",
       "40180    21661.40\n",
       "40206       69.74\n",
       "40211    14238.76\n",
       "40221     1910.78\n",
       "40231      849.36\n",
       "           ...   \n",
       "41596     3183.42\n",
       "41604      608.10\n",
       "41619      449.66\n",
       "41620      439.92\n",
       "41635    19221.06\n",
       "Name: Sales, Length: 119, dtype: float64"
      ]
     },
     "execution_count": 41,
     "metadata": {},
     "output_type": "execute_result"
    }
   ],
   "source": [
    "b=sale.groupby('Order Date').sum()['Sales']\n",
    "b"
   ]
  },
  {
   "cell_type": "markdown",
   "id": "a1c8f2f6",
   "metadata": {},
   "source": [
    "# Find the total profit by order date"
   ]
  },
  {
   "cell_type": "code",
   "execution_count": 42,
   "id": "bf3d0d5f",
   "metadata": {},
   "outputs": [
    {
     "name": "stderr",
     "output_type": "stream",
     "text": [
      "C:\\Users\\athir\\AppData\\Local\\Temp\\ipykernel_1628\\2967450816.py:1: FutureWarning: The default value of numeric_only in DataFrameGroupBy.sum is deprecated. In a future version, numeric_only will default to False. Either specify numeric_only or select only columns which should be valid for the function.\n",
      "  b=sale.groupby('Order Date').sum()['Profit']\n"
     ]
    },
    {
     "data": {
      "text/plain": [
       "Order Date\n",
       "40180    -567.628000\n",
       "40206     -33.604000\n",
       "40211   -4853.100000\n",
       "40221     655.363100\n",
       "40231     144.690000\n",
       "            ...     \n",
       "41596     353.772160\n",
       "41604     106.756192\n",
       "41619     -48.236352\n",
       "41620    -103.968480\n",
       "41635    6468.189324\n",
       "Name: Profit, Length: 119, dtype: float64"
      ]
     },
     "execution_count": 42,
     "metadata": {},
     "output_type": "execute_result"
    }
   ],
   "source": [
    "b=sale.groupby('Order Date').sum()['Profit']\n",
    "b"
   ]
  },
  {
   "cell_type": "code",
   "execution_count": null,
   "id": "e9a0485a",
   "metadata": {},
   "outputs": [],
   "source": []
  }
 ],
 "metadata": {
  "kernelspec": {
   "display_name": "Python 3 (ipykernel)",
   "language": "python",
   "name": "python3"
  },
  "language_info": {
   "codemirror_mode": {
    "name": "ipython",
    "version": 3
   },
   "file_extension": ".py",
   "mimetype": "text/x-python",
   "name": "python",
   "nbconvert_exporter": "python",
   "pygments_lexer": "ipython3",
   "version": "3.10.9"
  }
 },
 "nbformat": 4,
 "nbformat_minor": 5
}
