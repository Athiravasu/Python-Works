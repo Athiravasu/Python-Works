{
 "cells": [
  {
   "cell_type": "markdown",
   "id": "9fdf288a",
   "metadata": {},
   "source": [
    "# To Multiply 2 numbers"
   ]
  },
  {
   "cell_type": "raw",
   "id": "e086b1b0",
   "metadata": {},
   "source": [
    "1st assign data into string\n",
    "input a number"
   ]
  },
  {
   "cell_type": "code",
   "execution_count": 2,
   "id": "f92e6575",
   "metadata": {},
   "outputs": [
    {
     "data": {
      "text/plain": [
       "20"
      ]
     },
     "execution_count": 2,
     "metadata": {},
     "output_type": "execute_result"
    }
   ],
   "source": [
    "a=2\n",
    "b=10\n",
    "c=a*b\n",
    "c"
   ]
  },
  {
   "cell_type": "markdown",
   "id": "446ea35a",
   "metadata": {},
   "source": [
    "# or"
   ]
  },
  {
   "cell_type": "code",
   "execution_count": 3,
   "id": "d4645d64",
   "metadata": {},
   "outputs": [
    {
     "name": "stdout",
     "output_type": "stream",
     "text": [
      "first number:2\n"
     ]
    }
   ],
   "source": [
    "num1=input('first number:')\n"
   ]
  },
  {
   "cell_type": "code",
   "execution_count": 4,
   "id": "f583a857",
   "metadata": {},
   "outputs": [
    {
     "name": "stdout",
     "output_type": "stream",
     "text": [
      "\n",
      "Second number:10\n"
     ]
    }
   ],
   "source": [
    "#back slash is given to come to next line\n",
    "num2=input('\\nSecond number:')\n",
    "     "
   ]
  },
  {
   "cell_type": "code",
   "execution_count": 5,
   "id": "5a8bc8df",
   "metadata": {},
   "outputs": [
    {
     "data": {
      "text/plain": [
       "20.0"
      ]
     },
     "execution_count": 5,
     "metadata": {},
     "output_type": "execute_result"
    }
   ],
   "source": [
    "#string converting to float\n",
    "mul=float(num1)*float(num2)\n",
    "mul"
   ]
  },
  {
   "cell_type": "code",
   "execution_count": 8,
   "id": "293729c7",
   "metadata": {},
   "outputs": [
    {
     "name": "stdout",
     "output_type": "stream",
     "text": [
      "the muliplied value of 2 and 10 is 20.0\n"
     ]
    }
   ],
   "source": [
    "#to convert float into string format we give .format\n",
    "#here inside the curly brackets we give the index numbers of each code\n",
    "\n",
    "print('the muliplied value of {0} and {1} is {2}' .format (num1,num2,mul))"
   ]
  },
  {
   "cell_type": "code",
   "execution_count": null,
   "id": "421a80cf",
   "metadata": {},
   "outputs": [],
   "source": []
  }
 ],
 "metadata": {
  "kernelspec": {
   "display_name": "Python 3 (ipykernel)",
   "language": "python",
   "name": "python3"
  },
  "language_info": {
   "codemirror_mode": {
    "name": "ipython",
    "version": 3
   },
   "file_extension": ".py",
   "mimetype": "text/x-python",
   "name": "python",
   "nbconvert_exporter": "python",
   "pygments_lexer": "ipython3",
   "version": "3.10.9"
  }
 },
 "nbformat": 4,
 "nbformat_minor": 5
}
