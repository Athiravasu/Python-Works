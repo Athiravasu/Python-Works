{
 "cells": [
  {
   "cell_type": "code",
   "execution_count": 735,
   "id": "59155355",
   "metadata": {},
   "outputs": [
    {
     "data": {
      "text/html": [
       "<div>\n",
       "<style scoped>\n",
       "    .dataframe tbody tr th:only-of-type {\n",
       "        vertical-align: middle;\n",
       "    }\n",
       "\n",
       "    .dataframe tbody tr th {\n",
       "        vertical-align: top;\n",
       "    }\n",
       "\n",
       "    .dataframe thead th {\n",
       "        text-align: right;\n",
       "    }\n",
       "</style>\n",
       "<table border=\"1\" class=\"dataframe\">\n",
       "  <thead>\n",
       "    <tr style=\"text-align: right;\">\n",
       "      <th></th>\n",
       "      <th>Order ID</th>\n",
       "      <th>Order Date</th>\n",
       "      <th>Product Name</th>\n",
       "      <th>Category</th>\n",
       "      <th>Quantity</th>\n",
       "      <th>Sales</th>\n",
       "      <th>Region</th>\n",
       "      <th>Customer</th>\n",
       "    </tr>\n",
       "  </thead>\n",
       "  <tbody>\n",
       "    <tr>\n",
       "      <th>0</th>\n",
       "      <td>BN-2011-7407039</td>\n",
       "      <td>2011-01-01</td>\n",
       "      <td>Enermax Note Cards, Premium</td>\n",
       "      <td>Office Supplies</td>\n",
       "      <td>3</td>\n",
       "      <td>45</td>\n",
       "      <td>North</td>\n",
       "      <td>Ruby Patel</td>\n",
       "    </tr>\n",
       "    <tr>\n",
       "      <th>1</th>\n",
       "      <td>AZ-2011-9050313</td>\n",
       "      <td>2011-01-03</td>\n",
       "      <td>Dania Corner Shelving, Traditional</td>\n",
       "      <td>Furniture</td>\n",
       "      <td>7</td>\n",
       "      <td>854</td>\n",
       "      <td>North</td>\n",
       "      <td>Summer Hayward</td>\n",
       "    </tr>\n",
       "    <tr>\n",
       "      <th>2</th>\n",
       "      <td>AZ-2011-6674300</td>\n",
       "      <td>2011-01-04</td>\n",
       "      <td>Binney &amp; Smith Sketch Pad, Easy-Erase</td>\n",
       "      <td>Office Supplies</td>\n",
       "      <td>3</td>\n",
       "      <td>140</td>\n",
       "      <td>Central</td>\n",
       "      <td>Devin Huddleston</td>\n",
       "    </tr>\n",
       "    <tr>\n",
       "      <th>3</th>\n",
       "      <td>BN-2011-2819714</td>\n",
       "      <td>2011-01-04</td>\n",
       "      <td>Boston Markers, Easy-Erase</td>\n",
       "      <td>Office Supplies</td>\n",
       "      <td>2</td>\n",
       "      <td>27</td>\n",
       "      <td>North</td>\n",
       "      <td>Mary Parker</td>\n",
       "    </tr>\n",
       "    <tr>\n",
       "      <th>4</th>\n",
       "      <td>AZ-2011-617423</td>\n",
       "      <td>2011-01-05</td>\n",
       "      <td>Binney &amp; Smith Pencil Sharpener, Water Color</td>\n",
       "      <td>Office Supplies</td>\n",
       "      <td>3</td>\n",
       "      <td>90</td>\n",
       "      <td>Central</td>\n",
       "      <td>Daniel Burke</td>\n",
       "    </tr>\n",
       "    <tr>\n",
       "      <th>...</th>\n",
       "      <td>...</td>\n",
       "      <td>...</td>\n",
       "      <td>...</td>\n",
       "      <td>...</td>\n",
       "      <td>...</td>\n",
       "      <td>...</td>\n",
       "      <td>...</td>\n",
       "      <td>...</td>\n",
       "    </tr>\n",
       "    <tr>\n",
       "      <th>4112</th>\n",
       "      <td>AZ-2014-8174835</td>\n",
       "      <td>2014-12-31</td>\n",
       "      <td>Kleencut Shears, Serrated</td>\n",
       "      <td>Office Supplies</td>\n",
       "      <td>6</td>\n",
       "      <td>261</td>\n",
       "      <td>Central</td>\n",
       "      <td>Eloise Sykes</td>\n",
       "    </tr>\n",
       "    <tr>\n",
       "      <th>4113</th>\n",
       "      <td>AZ-2014-766953</td>\n",
       "      <td>2014-12-31</td>\n",
       "      <td>Ikea Stackable Bookrack, Traditional</td>\n",
       "      <td>Furniture</td>\n",
       "      <td>2</td>\n",
       "      <td>245</td>\n",
       "      <td>North</td>\n",
       "      <td>Jose Gambino</td>\n",
       "    </tr>\n",
       "    <tr>\n",
       "      <th>4114</th>\n",
       "      <td>AZ-2014-1412225</td>\n",
       "      <td>2014-12-31</td>\n",
       "      <td>Fellowes Shelving, Single Width</td>\n",
       "      <td>Office Supplies</td>\n",
       "      <td>5</td>\n",
       "      <td>289</td>\n",
       "      <td>North</td>\n",
       "      <td>Leon Barnes</td>\n",
       "    </tr>\n",
       "    <tr>\n",
       "      <th>4115</th>\n",
       "      <td>AZ-2014-7604524</td>\n",
       "      <td>2014-12-31</td>\n",
       "      <td>Wilson Jones Index Tab, Economy</td>\n",
       "      <td>Office Supplies</td>\n",
       "      <td>5</td>\n",
       "      <td>32</td>\n",
       "      <td>Central</td>\n",
       "      <td>Rebecca Chamberlain</td>\n",
       "    </tr>\n",
       "    <tr>\n",
       "      <th>4116</th>\n",
       "      <td>BN-2014-4140795</td>\n",
       "      <td>2014-12-31</td>\n",
       "      <td>BIC Pencil Sharpener, Fluorescent</td>\n",
       "      <td>Office Supplies</td>\n",
       "      <td>2</td>\n",
       "      <td>30</td>\n",
       "      <td>Central</td>\n",
       "      <td>Daniel Hamilton</td>\n",
       "    </tr>\n",
       "  </tbody>\n",
       "</table>\n",
       "<p>4117 rows × 8 columns</p>\n",
       "</div>"
      ],
      "text/plain": [
       "             Order ID Order Date  \\\n",
       "0     BN-2011-7407039 2011-01-01   \n",
       "1     AZ-2011-9050313 2011-01-03   \n",
       "2     AZ-2011-6674300 2011-01-04   \n",
       "3     BN-2011-2819714 2011-01-04   \n",
       "4      AZ-2011-617423 2011-01-05   \n",
       "...               ...        ...   \n",
       "4112  AZ-2014-8174835 2014-12-31   \n",
       "4113   AZ-2014-766953 2014-12-31   \n",
       "4114  AZ-2014-1412225 2014-12-31   \n",
       "4115  AZ-2014-7604524 2014-12-31   \n",
       "4116  BN-2014-4140795 2014-12-31   \n",
       "\n",
       "                                      Product Name         Category  Quantity  \\\n",
       "0                      Enermax Note Cards, Premium  Office Supplies         3   \n",
       "1               Dania Corner Shelving, Traditional        Furniture         7   \n",
       "2            Binney & Smith Sketch Pad, Easy-Erase  Office Supplies         3   \n",
       "3                       Boston Markers, Easy-Erase  Office Supplies         2   \n",
       "4     Binney & Smith Pencil Sharpener, Water Color  Office Supplies         3   \n",
       "...                                            ...              ...       ...   \n",
       "4112                     Kleencut Shears, Serrated  Office Supplies         6   \n",
       "4113          Ikea Stackable Bookrack, Traditional        Furniture         2   \n",
       "4114               Fellowes Shelving, Single Width  Office Supplies         5   \n",
       "4115               Wilson Jones Index Tab, Economy  Office Supplies         5   \n",
       "4116             BIC Pencil Sharpener, Fluorescent  Office Supplies         2   \n",
       "\n",
       "      Sales   Region             Customer  \n",
       "0        45    North           Ruby Patel  \n",
       "1       854    North       Summer Hayward  \n",
       "2       140  Central     Devin Huddleston  \n",
       "3        27    North          Mary Parker  \n",
       "4        90  Central         Daniel Burke  \n",
       "...     ...      ...                  ...  \n",
       "4112    261  Central         Eloise Sykes  \n",
       "4113    245    North         Jose Gambino  \n",
       "4114    289    North          Leon Barnes  \n",
       "4115     32  Central  Rebecca Chamberlain  \n",
       "4116     30  Central      Daniel Hamilton  \n",
       "\n",
       "[4117 rows x 8 columns]"
      ]
     },
     "execution_count": 735,
     "metadata": {},
     "output_type": "execute_result"
    }
   ],
   "source": [
    "import pandas as pd\n",
    "data=pd.read_excel('Sales by Region.xlsx')\n",
    "data\n"
   ]
  },
  {
   "cell_type": "code",
   "execution_count": 736,
   "id": "0bf690e7",
   "metadata": {},
   "outputs": [
    {
     "data": {
      "text/plain": [
       "1267690"
      ]
     },
     "execution_count": 736,
     "metadata": {},
     "output_type": "execute_result"
    }
   ],
   "source": [
    "#Find total Sales\n",
    "s=data['Sales'].sum()\n",
    "s"
   ]
  },
  {
   "cell_type": "code",
   "execution_count": 737,
   "id": "cf5f9c4a",
   "metadata": {},
   "outputs": [
    {
     "data": {
      "text/plain": [
       "4117"
      ]
     },
     "execution_count": 737,
     "metadata": {},
     "output_type": "execute_result"
    }
   ],
   "source": [
    "#Find total number of units sold\n",
    "s=data['Quantity'].count()\n",
    "s"
   ]
  },
  {
   "cell_type": "code",
   "execution_count": 738,
   "id": "8a03cd09",
   "metadata": {},
   "outputs": [
    {
     "name": "stderr",
     "output_type": "stream",
     "text": [
      "C:\\Users\\athir\\AppData\\Local\\Temp\\ipykernel_16888\\3979778568.py:2: FutureWarning: The default value of numeric_only in DataFrameGroupBy.sum is deprecated. In a future version, numeric_only will default to False. Either specify numeric_only or select only columns which should be valid for the function.\n",
      "  s=data.groupby('Category').sum()['Sales']\n"
     ]
    },
    {
     "data": {
      "text/plain": [
       "Category\n",
       "Furniture          568595\n",
       "Office Supplies    421719\n",
       "Technology         277376\n",
       "Name: Sales, dtype: int64"
      ]
     },
     "execution_count": 738,
     "metadata": {},
     "output_type": "execute_result"
    }
   ],
   "source": [
    "# Find category wise sales\n",
    "s=data.groupby('Category').sum()['Sales']\n",
    "s"
   ]
  },
  {
   "cell_type": "code",
   "execution_count": 739,
   "id": "e8c4b442",
   "metadata": {},
   "outputs": [
    {
     "name": "stderr",
     "output_type": "stream",
     "text": [
      "C:\\Users\\athir\\AppData\\Local\\Temp\\ipykernel_16888\\3936499525.py:2: FutureWarning: The default value of numeric_only in DataFrameGroupBy.sum is deprecated. In a future version, numeric_only will default to False. Either specify numeric_only or select only columns which should be valid for the function.\n",
      "  s=data.groupby('Category').sum()['Quantity']\n"
     ]
    },
    {
     "data": {
      "text/plain": [
       "Category\n",
       "Furniture          4017\n",
       "Office Supplies    9711\n",
       "Technology         1700\n",
       "Name: Quantity, dtype: int64"
      ]
     },
     "execution_count": 739,
     "metadata": {},
     "output_type": "execute_result"
    }
   ],
   "source": [
    "# Find category wise units sold\n",
    "s=data.groupby('Category').sum()['Quantity']\n",
    "s"
   ]
  },
  {
   "cell_type": "code",
   "execution_count": 740,
   "id": "2c2235b9",
   "metadata": {},
   "outputs": [
    {
     "name": "stderr",
     "output_type": "stream",
     "text": [
      "C:\\Users\\athir\\AppData\\Local\\Temp\\ipykernel_16888\\2955818718.py:2: FutureWarning: The default value of numeric_only in DataFrameGroupBy.sum is deprecated. In a future version, numeric_only will default to False. Either specify numeric_only or select only columns which should be valid for the function.\n",
      "  s=data.groupby('Region').sum()['Sales']\n"
     ]
    },
    {
     "data": {
      "text/plain": [
       "Region\n",
       "Central    698288\n",
       "North      289102\n",
       "South      280300\n",
       "Name: Sales, dtype: int64"
      ]
     },
     "execution_count": 740,
     "metadata": {},
     "output_type": "execute_result"
    }
   ],
   "source": [
    "# Find region wise sales\n",
    "s=data.groupby('Region').sum()['Sales']\n",
    "s"
   ]
  },
  {
   "cell_type": "code",
   "execution_count": 741,
   "id": "f4cdac3e",
   "metadata": {},
   "outputs": [
    {
     "name": "stderr",
     "output_type": "stream",
     "text": [
      "C:\\Users\\athir\\AppData\\Local\\Temp\\ipykernel_16888\\3844484557.py:2: FutureWarning: The default value of numeric_only in DataFrameGroupBy.sum is deprecated. In a future version, numeric_only will default to False. Either specify numeric_only or select only columns which should be valid for the function.\n",
      "  s=data.groupby('Region').sum()['Quantity']\n"
     ]
    },
    {
     "data": {
      "text/plain": [
       "Region\n",
       "Central    8503\n",
       "North      3506\n",
       "South      3419\n",
       "Name: Quantity, dtype: int64"
      ]
     },
     "execution_count": 741,
     "metadata": {},
     "output_type": "execute_result"
    }
   ],
   "source": [
    "#Find region wise units sold\n",
    "s=data.groupby('Region').sum()['Quantity']\n",
    "s"
   ]
  },
  {
   "cell_type": "code",
   "execution_count": 742,
   "id": "e99d82d4",
   "metadata": {},
   "outputs": [
    {
     "name": "stderr",
     "output_type": "stream",
     "text": [
      "C:\\Users\\athir\\AppData\\Local\\Temp\\ipykernel_16888\\3283891668.py:2: FutureWarning: The default value of numeric_only in DataFrameGroupBy.sum is deprecated. In a future version, numeric_only will default to False. Either specify numeric_only or select only columns which should be valid for the function.\n",
      "  s=data.groupby('Customer').sum()['Sales']\n"
     ]
    },
    {
     "data": {
      "text/plain": [
       "Customer\n",
       "Aaron Bootman       1635\n",
       "Aaron Cunningham     820\n",
       "Aaron Davey         1862\n",
       "Aaron Macrossan       81\n",
       "Abbie Perry          619\n",
       "                    ... \n",
       "Zara Loton          1570\n",
       "Zara Money           785\n",
       "Zoe Lanigan         2358\n",
       "Zoe Lowin            565\n",
       "Zona Meyer          2490\n",
       "Name: Sales, Length: 792, dtype: int64"
      ]
     },
     "execution_count": 742,
     "metadata": {},
     "output_type": "execute_result"
    }
   ],
   "source": [
    "#Find customer wise sales\n",
    "s=data.groupby('Customer').sum()['Sales']\n",
    "s"
   ]
  },
  {
   "cell_type": "code",
   "execution_count": 743,
   "id": "a252b9c5",
   "metadata": {},
   "outputs": [
    {
     "name": "stderr",
     "output_type": "stream",
     "text": [
      "C:\\Users\\athir\\AppData\\Local\\Temp\\ipykernel_16888\\212921398.py:2: FutureWarning: The default value of numeric_only in DataFrameGroupBy.sum is deprecated. In a future version, numeric_only will default to False. Either specify numeric_only or select only columns which should be valid for the function.\n",
      "  s=data.groupby('Customer').sum()['Quantity']\n"
     ]
    },
    {
     "data": {
      "text/plain": [
       "Customer\n",
       "Aaron Bootman       37\n",
       "Aaron Cunningham    25\n",
       "Aaron Davey         22\n",
       "Aaron Macrossan      3\n",
       "Abbie Perry         11\n",
       "                    ..\n",
       "Zara Loton           8\n",
       "Zara Money          26\n",
       "Zoe Lanigan         16\n",
       "Zoe Lowin           14\n",
       "Zona Meyer          41\n",
       "Name: Quantity, Length: 792, dtype: int64"
      ]
     },
     "execution_count": 743,
     "metadata": {},
     "output_type": "execute_result"
    }
   ],
   "source": [
    "# find customer wise units sold\n",
    "s=data.groupby('Customer').sum()['Quantity']\n",
    "s"
   ]
  },
  {
   "cell_type": "code",
   "execution_count": 744,
   "id": "2b96ff9f",
   "metadata": {},
   "outputs": [
    {
     "name": "stderr",
     "output_type": "stream",
     "text": [
      "C:\\Users\\athir\\AppData\\Local\\Temp\\ipykernel_16888\\972434514.py:2: FutureWarning: The default value of numeric_only in DataFrameGroupBy.sum is deprecated. In a future version, numeric_only will default to False. Either specify numeric_only or select only columns which should be valid for the function.\n",
      "  s=data.groupby('Order Date').sum()['Sales']\n"
     ]
    },
    {
     "data": {
      "text/plain": [
       "Order Date\n",
       "2011-01-01      45\n",
       "2011-01-03     854\n",
       "2011-01-04     167\n",
       "2011-01-05      90\n",
       "2011-01-07     155\n",
       "              ... \n",
       "2014-12-27    1718\n",
       "2014-12-28     135\n",
       "2014-12-29    2384\n",
       "2014-12-30     457\n",
       "2014-12-31    1414\n",
       "Name: Sales, Length: 1214, dtype: int64"
      ]
     },
     "execution_count": 744,
     "metadata": {},
     "output_type": "execute_result"
    }
   ],
   "source": [
    "#Find date wise sales\n",
    "s=data.groupby('Order Date').sum()['Sales']\n",
    "s"
   ]
  },
  {
   "cell_type": "code",
   "execution_count": 745,
   "id": "d3e979c1",
   "metadata": {},
   "outputs": [
    {
     "name": "stderr",
     "output_type": "stream",
     "text": [
      "C:\\Users\\athir\\AppData\\Local\\Temp\\ipykernel_16888\\18479156.py:2: FutureWarning: The default value of numeric_only in DataFrameGroupBy.sum is deprecated. In a future version, numeric_only will default to False. Either specify numeric_only or select only columns which should be valid for the function.\n",
      "  s=data.groupby('Order Date').sum()['Quantity']\n"
     ]
    },
    {
     "data": {
      "text/plain": [
       "Order Date\n",
       "2011-01-01     3\n",
       "2011-01-03     7\n",
       "2011-01-04     5\n",
       "2011-01-05     3\n",
       "2011-01-07     1\n",
       "              ..\n",
       "2014-12-27    14\n",
       "2014-12-28     5\n",
       "2014-12-29    32\n",
       "2014-12-30    13\n",
       "2014-12-31    23\n",
       "Name: Quantity, Length: 1214, dtype: int64"
      ]
     },
     "execution_count": 745,
     "metadata": {},
     "output_type": "execute_result"
    }
   ],
   "source": [
    "#Find date wise units sold\n",
    "s=data.groupby('Order Date').sum()['Quantity']\n",
    "s"
   ]
  },
  {
   "cell_type": "code",
   "execution_count": 746,
   "id": "bcb9e178",
   "metadata": {},
   "outputs": [
    {
     "data": {
      "text/plain": [
       "4117"
      ]
     },
     "execution_count": 746,
     "metadata": {},
     "output_type": "execute_result"
    }
   ],
   "source": [
    "#Find total number of orders\n",
    "s=data['Order ID'].count()\n",
    "s"
   ]
  },
  {
   "cell_type": "markdown",
   "id": "7c3a7233",
   "metadata": {},
   "source": [
    "# Box plot"
   ]
  },
  {
   "cell_type": "code",
   "execution_count": 747,
   "id": "d6b122a3",
   "metadata": {},
   "outputs": [
    {
     "data": {
      "image/png": "[encoded data removed]",
      "text/plain": [
       "<Figure size 640x480 with 1 Axes>"
      ]
     },
     "metadata": {},
     "output_type": "display_data"
    }
   ],
   "source": [
    "#Find the Q1, Q2 and Q3 of Sales in a Box Plot  Give the Values of Q1, Q2, Q3\n",
    "\n",
    "data.plot(y=['Sales'],kind='box');\n"
   ]
  },
  {
   "cell_type": "markdown",
   "id": "85f5e35a",
   "metadata": {},
   "source": [
    "data.groupby('Region','Sales').mean()(normalize=True).plot(kind='pie')"
   ]
  },
  {
   "cell_type": "markdown",
   "id": "feeb9bee",
   "metadata": {},
   "source": [
    "data.groupby(' category ','Sales').mean()(normalize=True).plot(kind='bar')"
   ]
  },
  {
   "cell_type": "code",
   "execution_count": 748,
   "id": "32d0be6b",
   "metadata": {},
   "outputs": [
    {
     "data": {
      "text/plain": [
       "Region\n",
       "Central    5729\n",
       "North      5725\n",
       "South      6517\n",
       "Name: Sales, dtype: int64"
      ]
     },
     "execution_count": 748,
     "metadata": {},
     "output_type": "execute_result"
    }
   ],
   "source": [
    "# Find the maximum sales in each region\n",
    "s=data.groupby('Region').max()['Sales']\n",
    "s"
   ]
  },
  {
   "cell_type": "code",
   "execution_count": 749,
   "id": "2f3036fa",
   "metadata": {},
   "outputs": [
    {
     "data": {
      "text/plain": [
       "Region\n",
       "Central    5\n",
       "North      3\n",
       "South      8\n",
       "Name: Sales, dtype: int64"
      ]
     },
     "execution_count": 749,
     "metadata": {},
     "output_type": "execute_result"
    }
   ],
   "source": [
    "# Find the maximum sales in each region\n",
    "s=data.groupby('Region').min()['Sales']\n",
    "s"
   ]
  },
  {
   "cell_type": "code",
   "execution_count": 750,
   "id": "314338a7",
   "metadata": {},
   "outputs": [
    {
     "name": "stderr",
     "output_type": "stream",
     "text": [
      "C:\\Users\\athir\\AppData\\Local\\Temp\\ipykernel_16888\\140353834.py:2: FutureWarning: The default value of numeric_only in DataFrameGroupBy.mean is deprecated. In a future version, numeric_only will default to False. Either specify numeric_only or select only columns which should be valid for the function.\n",
      "  s=data.groupby('Region').mean()['Sales']\n"
     ]
    },
    {
     "data": {
      "text/plain": [
       "Region\n",
       "Central    312.572963\n",
       "North      304.317895\n",
       "South      300.428725\n",
       "Name: Sales, dtype: float64"
      ]
     },
     "execution_count": 750,
     "metadata": {},
     "output_type": "execute_result"
    }
   ],
   "source": [
    "#Find average sales in each region\n",
    "s=data.groupby('Region').mean()['Sales']\n",
    "s"
   ]
  },
  {
   "cell_type": "code",
   "execution_count": 751,
   "id": "f68ce88a",
   "metadata": {},
   "outputs": [
    {
     "data": {
      "text/plain": [
       "Category\n",
       "Furniture          5729\n",
       "Office Supplies    6517\n",
       "Technology         5725\n",
       "Name: Sales, dtype: int64"
      ]
     },
     "execution_count": 751,
     "metadata": {},
     "output_type": "execute_result"
    }
   ],
   "source": [
    "#Find maximum sales by each category\n",
    "s=data.groupby('Category').max()['Sales']\n",
    "s"
   ]
  },
  {
   "cell_type": "code",
   "execution_count": 752,
   "id": "e9db7e0f",
   "metadata": {},
   "outputs": [
    {
     "data": {
      "text/plain": [
       "Category\n",
       "Furniture          11\n",
       "Office Supplies     3\n",
       "Technology         20\n",
       "Name: Sales, dtype: int64"
      ]
     },
     "execution_count": 752,
     "metadata": {},
     "output_type": "execute_result"
    }
   ],
   "source": [
    "# Find minimum sales by each category\n",
    "s=data.groupby('Category').min()['Sales']\n",
    "s"
   ]
  },
  {
   "cell_type": "code",
   "execution_count": 753,
   "id": "1db2323b",
   "metadata": {},
   "outputs": [
    {
     "data": {
      "image/png": "[encoded data removed]",
      "text/plain": [
       "<Figure size 640x480 with 1 Axes>"
      ]
     },
     "metadata": {},
     "output_type": "display_data"
    }
   ],
   "source": [
    "#Draw a Histogram using the Sales data\n",
    "data['Sales'].plot(kind='hist');\n",
    "\n"
   ]
  },
  {
   "cell_type": "code",
   "execution_count": null,
   "id": "9597adc3",
   "metadata": {},
   "outputs": [],
   "source": []
  }
 ],
 "metadata": {
  "kernelspec": {
   "display_name": "Python 3 (ipykernel)",
   "language": "python",
   "name": "python3"
  },
  "language_info": {
   "codemirror_mode": {
    "name": "ipython",
    "version": 3
   },
   "file_extension": ".py",
   "mimetype": "text/x-python",
   "name": "python",
   "nbconvert_exporter": "python",
   "pygments_lexer": "ipython3",
   "version": "3.10.9"
  }
 },
 "nbformat": 4,
 "nbformat_minor": 5
}
