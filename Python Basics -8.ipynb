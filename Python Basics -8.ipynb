{
 "cells": [
  {
   "cell_type": "markdown",
   "id": "435ca1bd",
   "metadata": {},
   "source": [
    "# Python Indentation"
   ]
  },
  {
   "cell_type": "code",
   "execution_count": 90,
   "id": "4ae674b9",
   "metadata": {},
   "outputs": [
    {
     "name": "stdout",
     "output_type": "stream",
     "text": [
      "Seven is greater than three!\n"
     ]
    }
   ],
   "source": [
    "#Python Indentation\n",
    "#if we give if statement, before printing the we should give space before next code\n",
    "\n",
    "if 7 > 3:\n",
    "  print(\"Seven is greater than three!\")"
   ]
  },
  {
   "cell_type": "code",
   "execution_count": 91,
   "id": "f31bf5e9",
   "metadata": {},
   "outputs": [
    {
     "name": "stdout",
     "output_type": "stream",
     "text": [
      "Three is greater than one!\n",
      "Seven is greater than Five!\n"
     ]
    }
   ],
   "source": [
    "if 3 > 1:\n",
    " print(\"Three is greater than one!\") \n",
    "if 7 > 5:\n",
    "        print(\"Seven is greater than Five!\") \n"
   ]
  },
  {
   "cell_type": "markdown",
   "id": "7595edef",
   "metadata": {},
   "source": [
    "# Python Variable assigning"
   ]
  },
  {
   "cell_type": "code",
   "execution_count": 92,
   "id": "e2c2a918",
   "metadata": {},
   "outputs": [
    {
     "name": "stdout",
     "output_type": "stream",
     "text": [
      "7\n",
      "Hello\n"
     ]
    }
   ],
   "source": [
    "#Variables in Python\n",
    "x = 7\n",
    "y = \"Hello\"\n",
    "print(x)\n",
    "print(y)"
   ]
  },
  {
   "cell_type": "markdown",
   "id": "3039f258",
   "metadata": {},
   "source": [
    "# Python Comments"
   ]
  },
  {
   "cell_type": "code",
   "execution_count": 93,
   "id": "297a91b9",
   "metadata": {},
   "outputs": [
    {
     "data": {
      "text/plain": [
       "'\\nThis is a comment\\nwritten in\\nmore than just one line\\n'"
      ]
     },
     "execution_count": 93,
     "metadata": {},
     "output_type": "execute_result"
    }
   ],
   "source": [
    "#comments in python\n",
    "#It is a comment. \n",
    "\"\"\"\n",
    "This is a comment\n",
    "written in\n",
    "more than just one line\n",
    "\"\"\""
   ]
  },
  {
   "cell_type": "markdown",
   "id": "9a3e83dc",
   "metadata": {},
   "source": [
    "# Creating python variables"
   ]
  },
  {
   "cell_type": "code",
   "execution_count": 94,
   "id": "7b664450",
   "metadata": {},
   "outputs": [
    {
     "name": "stdout",
     "output_type": "stream",
     "text": [
      "3\n",
      "Johny\n"
     ]
    }
   ],
   "source": [
    "#Creating variables\n",
    "x=3\n",
    "y=\"Johny\"\n",
    "\n",
    "print(x)\n",
    "print(y)\n"
   ]
  },
  {
   "cell_type": "code",
   "execution_count": 95,
   "id": "d0bbe9dd",
   "metadata": {},
   "outputs": [
    {
     "name": "stdout",
     "output_type": "stream",
     "text": [
      "Jitt\n"
     ]
    }
   ],
   "source": [
    "x = 321       # x is of type int\n",
    "x = \"Jitt\" # x is now of type str\n",
    "print(x)\n",
    "\n",
    "     "
   ]
  },
  {
   "cell_type": "markdown",
   "id": "81020d1d",
   "metadata": {},
   "source": [
    "# Python Casting"
   ]
  },
  {
   "cell_type": "code",
   "execution_count": 96,
   "id": "e2a17333",
   "metadata": {},
   "outputs": [
    {
     "name": "stdout",
     "output_type": "stream",
     "text": [
      "12\n",
      "12\n",
      "12.0\n"
     ]
    }
   ],
   "source": [
    "#Casting\n",
    "\n",
    "x = str(12)    # x will be '12'\n",
    "y = int(12)    # y will be 12\n",
    "z = float(12)  # z will be 12.0\n",
    "\n",
    "print(x)\n",
    "print(y)\n",
    "print(z)\n"
   ]
  },
  {
   "cell_type": "markdown",
   "id": "ef156d9c",
   "metadata": {},
   "source": [
    "# Getting data type"
   ]
  },
  {
   "cell_type": "code",
   "execution_count": 97,
   "id": "35b4fe43",
   "metadata": {},
   "outputs": [
    {
     "name": "stdout",
     "output_type": "stream",
     "text": [
      "<class 'int'>\n",
      "<class 'str'>\n"
     ]
    }
   ],
   "source": [
    "#get the type\n",
    "x = 3\n",
    "y = \"Yash\"\n",
    "print(type(x))\n",
    "print(type(y))"
   ]
  },
  {
   "cell_type": "markdown",
   "id": "aefea618",
   "metadata": {},
   "source": [
    "# We can use single or double quotes"
   ]
  },
  {
   "cell_type": "code",
   "execution_count": 98,
   "id": "33ba5d6a",
   "metadata": {},
   "outputs": [
    {
     "name": "stdout",
     "output_type": "stream",
     "text": [
      "Johny\n",
      "Johny\n"
     ]
    }
   ],
   "source": [
    "#Single or Double Quotes?\n",
    "\n",
    "x = \"Johny\"\n",
    "print(x)\n",
    "# is the same as\n",
    "x = 'Johny'\n",
    "\n",
    "print(x)\n"
   ]
  },
  {
   "cell_type": "markdown",
   "id": "e36818a3",
   "metadata": {},
   "source": [
    "# Case sensitive"
   ]
  },
  {
   "cell_type": "code",
   "execution_count": 99,
   "id": "815faa19",
   "metadata": {},
   "outputs": [
    {
     "name": "stdout",
     "output_type": "stream",
     "text": [
      "3\n",
      "Yash\n"
     ]
    }
   ],
   "source": [
    "#Case-Sensitive\n",
    "\n",
    "a = 3\n",
    "A = \"Yash\"\n",
    "#A will not overwrite a\n",
    "\n",
    "print(a)\n",
    "print(A)\n"
   ]
  },
  {
   "cell_type": "markdown",
   "id": "18afd603",
   "metadata": {},
   "source": [
    "# Variable names should be"
   ]
  },
  {
   "cell_type": "code",
   "execution_count": 100,
   "id": "048954fb",
   "metadata": {},
   "outputs": [
    {
     "name": "stdout",
     "output_type": "stream",
     "text": [
      "John\n",
      "John\n",
      "John\n"
     ]
    }
   ],
   "source": [
    "## **Python - Variable Names**\n",
    "\n",
    "#Legal variable names:\n",
    "\n",
    "myvar = \"John\"\n",
    "my_var = \"John\"\n",
    "_my_var = \"John\"\n",
    "myVar = \"John\"\n",
    "MYVAR = \"John\"\n",
    "myvar2 = \"John\"\n",
    "\n",
    "print(myvar)\n",
    "print(my_var)\n",
    "print(_my_var)"
   ]
  },
  {
   "cell_type": "code",
   "execution_count": 101,
   "id": "c45a4daa",
   "metadata": {},
   "outputs": [
    {
     "data": {
      "text/plain": [
       "'\\nmyvar = \"John\"\\nmy-var = \"John\"\\nmy var = \"John\"\\n'"
      ]
     },
     "execution_count": 101,
     "metadata": {},
     "output_type": "execute_result"
    }
   ],
   "source": [
    "#Illegal variable names:\n",
    "\"\"\"\n",
    "myvar = \"John\"\n",
    "my-var = \"John\"\n",
    "my var = \"John\"\n",
    "\"\"\""
   ]
  },
  {
   "cell_type": "markdown",
   "id": "2136fab8",
   "metadata": {},
   "source": [
    "# Many values to multiple variable"
   ]
  },
  {
   "cell_type": "code",
   "execution_count": 102,
   "id": "f15dfd1d",
   "metadata": {},
   "outputs": [
    {
     "name": "stdout",
     "output_type": "stream",
     "text": [
      "accounting\n",
      "bank\n",
      "chemistry\n"
     ]
    }
   ],
   "source": [
    "#Many Values to Multiple Variables\n",
    "\n",
    "a, b, c = \"accounting\", \"bank\", \"chemistry\"\n",
    "print(a)\n",
    "print(b)\n",
    "print(c)"
   ]
  },
  {
   "cell_type": "markdown",
   "id": "237d83bb",
   "metadata": {},
   "source": [
    "# One Value to Multiple Variables"
   ]
  },
  {
   "cell_type": "code",
   "execution_count": 103,
   "id": "c5333b89",
   "metadata": {},
   "outputs": [
    {
     "name": "stdout",
     "output_type": "stream",
     "text": [
      "Data Analysis\n",
      "Data Analysis\n",
      "Data Analysis\n"
     ]
    }
   ],
   "source": [
    "#One Value to Multiple Variables\n",
    "a = b = c = \"Data Analysis\"\n",
    "print(a)\n",
    "print(b)\n",
    "print(c)\n",
    "     "
   ]
  },
  {
   "cell_type": "markdown",
   "id": "125df2ae",
   "metadata": {},
   "source": [
    "# Unpack a Collection"
   ]
  },
  {
   "cell_type": "code",
   "execution_count": 104,
   "id": "53857b12",
   "metadata": {},
   "outputs": [
    {
     "name": "stdout",
     "output_type": "stream",
     "text": [
      "Accounting\n",
      "Chemistry\n",
      "Data analysis\n"
     ]
    }
   ],
   "source": [
    "#Unpack a Collection\n",
    "courses = [\"Accounting\", \"Chemistry\", \"Data analysis\"]\n",
    "a, b, c = courses\n",
    "print(a)\n",
    "print(b)\n",
    "print(c)\n",
    "     "
   ]
  },
  {
   "cell_type": "markdown",
   "id": "a1438f6b",
   "metadata": {},
   "source": [
    "# Variables output"
   ]
  },
  {
   "cell_type": "code",
   "execution_count": 105,
   "id": "2a264ba9",
   "metadata": {},
   "outputs": [
    {
     "name": "stdout",
     "output_type": "stream",
     "text": [
      "The course of python is so excellent\n"
     ]
    }
   ],
   "source": [
    "#Output Variables\n",
    "p = \"The course of python is so excellent\"\n",
    "print(p)"
   ]
  },
  {
   "cell_type": "code",
   "execution_count": 106,
   "id": "a9ff35e2",
   "metadata": {},
   "outputs": [
    {
     "name": "stdout",
     "output_type": "stream",
     "text": [
      "This course is awesome\n"
     ]
    }
   ],
   "source": [
    "x = \"This course\"\n",
    "y = \"is\"\n",
    "z = \"awesome\"\n",
    "print(x, y, z)"
   ]
  },
  {
   "cell_type": "code",
   "execution_count": 107,
   "id": "cb9853f1",
   "metadata": {},
   "outputs": [
    {
     "name": "stdout",
     "output_type": "stream",
     "text": [
      "This course is awesome\n"
     ]
    }
   ],
   "source": [
    "x = \"This course \"\n",
    "y = \"is \"\n",
    "z = \"awesome\"\n",
    "print(x + y + z)"
   ]
  },
  {
   "cell_type": "code",
   "execution_count": 108,
   "id": "30dd26d2",
   "metadata": {},
   "outputs": [
    {
     "name": "stdout",
     "output_type": "stream",
     "text": [
      "22\n"
     ]
    }
   ],
   "source": [
    "\n",
    "x = 7\n",
    "y = 15\n",
    "print(x + y)\n",
    "     "
   ]
  },
  {
   "cell_type": "code",
   "execution_count": null,
   "id": "6cbefe07",
   "metadata": {},
   "outputs": [],
   "source": [
    "x = 5\n",
    "y = \"John\"\n",
    "print(x + y)\n",
    "\n",
    "#this result show as error"
   ]
  },
  {
   "cell_type": "code",
   "execution_count": 110,
   "id": "c6ade78e",
   "metadata": {},
   "outputs": [
    {
     "name": "stdout",
     "output_type": "stream",
     "text": [
      "5 Paul\n"
     ]
    }
   ],
   "source": [
    "x = 5\n",
    "y = \"Paul\"\n",
    "print(x, y)"
   ]
  },
  {
   "cell_type": "markdown",
   "id": "605bfc19",
   "metadata": {},
   "source": [
    "# Global Variables"
   ]
  },
  {
   "cell_type": "code",
   "execution_count": 111,
   "id": "1144e92d",
   "metadata": {},
   "outputs": [
    {
     "name": "stdout",
     "output_type": "stream",
     "text": [
      "Python is Exciting\n"
     ]
    }
   ],
   "source": [
    "#Global Variables\n",
    "x = \"Exciting\"\n",
    "\n",
    "def myfunc():\n",
    "  print(\"Python is \" + x)\n",
    "\n",
    "myfunc()"
   ]
  },
  {
   "cell_type": "code",
   "execution_count": 112,
   "id": "998e4c49",
   "metadata": {},
   "outputs": [
    {
     "name": "stdout",
     "output_type": "stream",
     "text": [
      "Python is fantastic\n",
      "Python is excellent\n"
     ]
    }
   ],
   "source": [
    "x = \"excellent\"\n",
    "\n",
    "def myfunc():\n",
    "  x = \"fantastic\"\n",
    "  print(\"Python is \" + x)\n",
    "\n",
    "myfunc()\n",
    "\n",
    "print(\"Python is \" + x)"
   ]
  },
  {
   "cell_type": "code",
   "execution_count": 113,
   "id": "9ccefddf",
   "metadata": {},
   "outputs": [
    {
     "name": "stdout",
     "output_type": "stream",
     "text": [
      "Python is fantastic\n"
     ]
    }
   ],
   "source": [
    "#The global Keyword\n",
    "def myfunc():\n",
    "  global x\n",
    "  x = \"fantastic\"\n",
    "\n",
    "myfunc()\n",
    "\n",
    "print(\"Python is \" + x)"
   ]
  },
  {
   "cell_type": "code",
   "execution_count": 114,
   "id": "2b7c5b43",
   "metadata": {},
   "outputs": [
    {
     "name": "stdout",
     "output_type": "stream",
     "text": [
      "Python is fantastic\n"
     ]
    }
   ],
   "source": [
    "x = \"awesome\"\n",
    "\n",
    "def myfunc():\n",
    "  global x\n",
    "  x = \"fantastic\"\n",
    "\n",
    "myfunc()\n",
    "\n",
    "print(\"Python is \" + x)"
   ]
  }
 ],
 "metadata": {
  "kernelspec": {
   "display_name": "Python 3 (ipykernel)",
   "language": "python",
   "name": "python3"
  },
  "language_info": {
   "codemirror_mode": {
    "name": "ipython",
    "version": 3
   },
   "file_extension": ".py",
   "mimetype": "text/x-python",
   "name": "python",
   "nbconvert_exporter": "python",
   "pygments_lexer": "ipython3",
   "version": "3.10.9"
  }
 },
 "nbformat": 4,
 "nbformat_minor": 5
}
