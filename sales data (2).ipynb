{
 "cells": [
  {
   "cell_type": "code",
   "execution_count": 295,
   "id": "3db81f7b",
   "metadata": {},
   "outputs": [
    {
     "data": {
      "text/html": [
       "<div>\n",
       "<style scoped>\n",
       "    .dataframe tbody tr th:only-of-type {\n",
       "        vertical-align: middle;\n",
       "    }\n",
       "\n",
       "    .dataframe tbody tr th {\n",
       "        vertical-align: top;\n",
       "    }\n",
       "\n",
       "    .dataframe thead th {\n",
       "        text-align: right;\n",
       "    }\n",
       "</style>\n",
       "<table border=\"1\" class=\"dataframe\">\n",
       "  <thead>\n",
       "    <tr style=\"text-align: right;\">\n",
       "      <th></th>\n",
       "      <th>Invoice Number</th>\n",
       "      <th>Date</th>\n",
       "      <th>Time</th>\n",
       "      <th>Zone</th>\n",
       "      <th>Manager</th>\n",
       "      <th>Customer</th>\n",
       "      <th>Product</th>\n",
       "      <th>price</th>\n",
       "      <th>Units Sold</th>\n",
       "      <th>sales</th>\n",
       "    </tr>\n",
       "  </thead>\n",
       "  <tbody>\n",
       "    <tr>\n",
       "      <th>0</th>\n",
       "      <td>102234</td>\n",
       "      <td>2010-01-07</td>\n",
       "      <td>10:25:37.200000</td>\n",
       "      <td>East</td>\n",
       "      <td>Bruce</td>\n",
       "      <td>Polo</td>\n",
       "      <td>A001</td>\n",
       "      <td>485</td>\n",
       "      <td>42</td>\n",
       "      <td>20370</td>\n",
       "    </tr>\n",
       "    <tr>\n",
       "      <th>1</th>\n",
       "      <td>102235</td>\n",
       "      <td>2010-01-07</td>\n",
       "      <td>12:00:00</td>\n",
       "      <td>East</td>\n",
       "      <td>Jacob</td>\n",
       "      <td>EEE</td>\n",
       "      <td>B227</td>\n",
       "      <td>292</td>\n",
       "      <td>71</td>\n",
       "      <td>20732</td>\n",
       "    </tr>\n",
       "    <tr>\n",
       "      <th>2</th>\n",
       "      <td>102235</td>\n",
       "      <td>2010-01-07</td>\n",
       "      <td>14:19:12</td>\n",
       "      <td>East</td>\n",
       "      <td>Melvin</td>\n",
       "      <td>Marco</td>\n",
       "      <td>A009</td>\n",
       "      <td>544</td>\n",
       "      <td>87</td>\n",
       "      <td>47328</td>\n",
       "    </tr>\n",
       "    <tr>\n",
       "      <th>3</th>\n",
       "      <td>102236</td>\n",
       "      <td>2010-01-07</td>\n",
       "      <td>12:57:00</td>\n",
       "      <td>South</td>\n",
       "      <td>Alicia</td>\n",
       "      <td>EEE</td>\n",
       "      <td>D440</td>\n",
       "      <td>385</td>\n",
       "      <td>51</td>\n",
       "      <td>19635</td>\n",
       "    </tr>\n",
       "    <tr>\n",
       "      <th>4</th>\n",
       "      <td>102236</td>\n",
       "      <td>2010-01-07</td>\n",
       "      <td>14:51:36</td>\n",
       "      <td>East</td>\n",
       "      <td>Paul</td>\n",
       "      <td>Zee</td>\n",
       "      <td>WP6</td>\n",
       "      <td>173</td>\n",
       "      <td>69</td>\n",
       "      <td>11937</td>\n",
       "    </tr>\n",
       "    <tr>\n",
       "      <th>...</th>\n",
       "      <td>...</td>\n",
       "      <td>...</td>\n",
       "      <td>...</td>\n",
       "      <td>...</td>\n",
       "      <td>...</td>\n",
       "      <td>...</td>\n",
       "      <td>...</td>\n",
       "      <td>...</td>\n",
       "      <td>...</td>\n",
       "      <td>...</td>\n",
       "    </tr>\n",
       "    <tr>\n",
       "      <th>26078</th>\n",
       "      <td>115273</td>\n",
       "      <td>2018-12-10</td>\n",
       "      <td>11:16:48</td>\n",
       "      <td>West</td>\n",
       "      <td>Melvin</td>\n",
       "      <td>ABC</td>\n",
       "      <td>B229</td>\n",
       "      <td>388</td>\n",
       "      <td>202</td>\n",
       "      <td>78376</td>\n",
       "    </tr>\n",
       "    <tr>\n",
       "      <th>26079</th>\n",
       "      <td>115274</td>\n",
       "      <td>2018-12-10</td>\n",
       "      <td>11:16:48</td>\n",
       "      <td>West</td>\n",
       "      <td>Melvin</td>\n",
       "      <td>ABC</td>\n",
       "      <td>B229</td>\n",
       "      <td>388</td>\n",
       "      <td>201</td>\n",
       "      <td>77988</td>\n",
       "    </tr>\n",
       "    <tr>\n",
       "      <th>26080</th>\n",
       "      <td>115273</td>\n",
       "      <td>2019-12-10</td>\n",
       "      <td>11:16:48</td>\n",
       "      <td>West</td>\n",
       "      <td>Melvin</td>\n",
       "      <td>ABC</td>\n",
       "      <td>B229</td>\n",
       "      <td>388</td>\n",
       "      <td>500</td>\n",
       "      <td>194000</td>\n",
       "    </tr>\n",
       "    <tr>\n",
       "      <th>26081</th>\n",
       "      <td>115273</td>\n",
       "      <td>2019-12-10</td>\n",
       "      <td>11:16:48</td>\n",
       "      <td>West</td>\n",
       "      <td>Melvin</td>\n",
       "      <td>ABC</td>\n",
       "      <td>B229</td>\n",
       "      <td>388</td>\n",
       "      <td>1000</td>\n",
       "      <td>388000</td>\n",
       "    </tr>\n",
       "    <tr>\n",
       "      <th>26082</th>\n",
       "      <td>115274</td>\n",
       "      <td>2019-12-10</td>\n",
       "      <td>11:16:48</td>\n",
       "      <td>West</td>\n",
       "      <td>Melvin</td>\n",
       "      <td>ABC</td>\n",
       "      <td>B229</td>\n",
       "      <td>388</td>\n",
       "      <td>1500</td>\n",
       "      <td>582000</td>\n",
       "    </tr>\n",
       "  </tbody>\n",
       "</table>\n",
       "<p>26083 rows × 10 columns</p>\n",
       "</div>"
      ],
      "text/plain": [
       "       Invoice Number       Date             Time   Zone Manager Customer  \\\n",
       "0              102234 2010-01-07  10:25:37.200000   East   Bruce     Polo   \n",
       "1              102235 2010-01-07         12:00:00   East   Jacob      EEE   \n",
       "2              102235 2010-01-07         14:19:12   East  Melvin    Marco   \n",
       "3              102236 2010-01-07         12:57:00  South  Alicia      EEE   \n",
       "4              102236 2010-01-07         14:51:36   East    Paul      Zee   \n",
       "...               ...        ...              ...    ...     ...      ...   \n",
       "26078          115273 2018-12-10         11:16:48   West  Melvin      ABC   \n",
       "26079          115274 2018-12-10         11:16:48   West  Melvin      ABC   \n",
       "26080          115273 2019-12-10         11:16:48   West  Melvin      ABC   \n",
       "26081          115273 2019-12-10         11:16:48   West  Melvin      ABC   \n",
       "26082          115274 2019-12-10         11:16:48   West  Melvin      ABC   \n",
       "\n",
       "      Product   price  Units Sold   sales  \n",
       "0         A001    485          42   20370  \n",
       "1         B227    292          71   20732  \n",
       "2         A009    544          87   47328  \n",
       "3         D440    385          51   19635  \n",
       "4          WP6    173          69   11937  \n",
       "...        ...    ...         ...     ...  \n",
       "26078     B229    388         202   78376  \n",
       "26079     B229    388         201   77988  \n",
       "26080     B229    388         500  194000  \n",
       "26081     B229    388        1000  388000  \n",
       "26082     B229    388        1500  582000  \n",
       "\n",
       "[26083 rows x 10 columns]"
      ]
     },
     "execution_count": 295,
     "metadata": {},
     "output_type": "execute_result"
    }
   ],
   "source": [
    "import pandas as pd\n",
    "sales=pd.read_excel('1 Sales Data.xlsx')\n",
    "sales"
   ]
  },
  {
   "cell_type": "code",
   "execution_count": 296,
   "id": "5bd28eca",
   "metadata": {},
   "outputs": [
    {
     "name": "stdout",
     "output_type": "stream",
     "text": [
      "<class 'pandas.core.frame.DataFrame'>\n",
      "RangeIndex: 26083 entries, 0 to 26082\n",
      "Data columns (total 10 columns):\n",
      " #   Column          Non-Null Count  Dtype         \n",
      "---  ------          --------------  -----         \n",
      " 0   Invoice Number  26083 non-null  int64         \n",
      " 1   Date            26083 non-null  datetime64[ns]\n",
      " 2   Time            26083 non-null  object        \n",
      " 3   Zone            26083 non-null  object        \n",
      " 4   Manager         26083 non-null  object        \n",
      " 5   Customer        26083 non-null  object        \n",
      " 6   Product         26083 non-null  object        \n",
      " 7   price           26083 non-null  int64         \n",
      " 8   Units Sold      26083 non-null  int64         \n",
      " 9   sales           26083 non-null  int64         \n",
      "dtypes: datetime64[ns](1), int64(4), object(5)\n",
      "memory usage: 2.0+ MB\n"
     ]
    }
   ],
   "source": [
    "sales.info()"
   ]
  },
  {
   "cell_type": "code",
   "execution_count": 297,
   "id": "26a5e5ec",
   "metadata": {},
   "outputs": [
    {
     "data": {
      "text/html": [
       "<div>\n",
       "<style scoped>\n",
       "    .dataframe tbody tr th:only-of-type {\n",
       "        vertical-align: middle;\n",
       "    }\n",
       "\n",
       "    .dataframe tbody tr th {\n",
       "        vertical-align: top;\n",
       "    }\n",
       "\n",
       "    .dataframe thead th {\n",
       "        text-align: right;\n",
       "    }\n",
       "</style>\n",
       "<table border=\"1\" class=\"dataframe\">\n",
       "  <thead>\n",
       "    <tr style=\"text-align: right;\">\n",
       "      <th></th>\n",
       "      <th>Invoice Number</th>\n",
       "      <th>Date</th>\n",
       "      <th>Time</th>\n",
       "      <th>Zone</th>\n",
       "      <th>Manager</th>\n",
       "      <th>Customer</th>\n",
       "      <th>Product</th>\n",
       "      <th>price</th>\n",
       "      <th>Units Sold</th>\n",
       "      <th>sales</th>\n",
       "    </tr>\n",
       "  </thead>\n",
       "  <tbody>\n",
       "    <tr>\n",
       "      <th>0</th>\n",
       "      <td>102234</td>\n",
       "      <td>2010-01-07</td>\n",
       "      <td>10:25:37.200000</td>\n",
       "      <td>East</td>\n",
       "      <td>Bruce</td>\n",
       "      <td>Polo</td>\n",
       "      <td>A001</td>\n",
       "      <td>485</td>\n",
       "      <td>42</td>\n",
       "      <td>20370</td>\n",
       "    </tr>\n",
       "    <tr>\n",
       "      <th>1</th>\n",
       "      <td>102235</td>\n",
       "      <td>2010-01-07</td>\n",
       "      <td>12:00:00</td>\n",
       "      <td>East</td>\n",
       "      <td>Jacob</td>\n",
       "      <td>EEE</td>\n",
       "      <td>B227</td>\n",
       "      <td>292</td>\n",
       "      <td>71</td>\n",
       "      <td>20732</td>\n",
       "    </tr>\n",
       "    <tr>\n",
       "      <th>2</th>\n",
       "      <td>102235</td>\n",
       "      <td>2010-01-07</td>\n",
       "      <td>14:19:12</td>\n",
       "      <td>East</td>\n",
       "      <td>Melvin</td>\n",
       "      <td>Marco</td>\n",
       "      <td>A009</td>\n",
       "      <td>544</td>\n",
       "      <td>87</td>\n",
       "      <td>47328</td>\n",
       "    </tr>\n",
       "    <tr>\n",
       "      <th>3</th>\n",
       "      <td>102236</td>\n",
       "      <td>2010-01-07</td>\n",
       "      <td>12:57:00</td>\n",
       "      <td>South</td>\n",
       "      <td>Alicia</td>\n",
       "      <td>EEE</td>\n",
       "      <td>D440</td>\n",
       "      <td>385</td>\n",
       "      <td>51</td>\n",
       "      <td>19635</td>\n",
       "    </tr>\n",
       "    <tr>\n",
       "      <th>4</th>\n",
       "      <td>102236</td>\n",
       "      <td>2010-01-07</td>\n",
       "      <td>14:51:36</td>\n",
       "      <td>East</td>\n",
       "      <td>Paul</td>\n",
       "      <td>Zee</td>\n",
       "      <td>WP6</td>\n",
       "      <td>173</td>\n",
       "      <td>69</td>\n",
       "      <td>11937</td>\n",
       "    </tr>\n",
       "  </tbody>\n",
       "</table>\n",
       "</div>"
      ],
      "text/plain": [
       "   Invoice Number       Date             Time   Zone Manager Customer  \\\n",
       "0          102234 2010-01-07  10:25:37.200000   East   Bruce     Polo   \n",
       "1          102235 2010-01-07         12:00:00   East   Jacob      EEE   \n",
       "2          102235 2010-01-07         14:19:12   East  Melvin    Marco   \n",
       "3          102236 2010-01-07         12:57:00  South  Alicia      EEE   \n",
       "4          102236 2010-01-07         14:51:36   East    Paul      Zee   \n",
       "\n",
       "  Product   price  Units Sold  sales  \n",
       "0     A001    485          42  20370  \n",
       "1     B227    292          71  20732  \n",
       "2     A009    544          87  47328  \n",
       "3     D440    385          51  19635  \n",
       "4      WP6    173          69  11937  "
      ]
     },
     "execution_count": 297,
     "metadata": {},
     "output_type": "execute_result"
    }
   ],
   "source": [
    "sales.head()\n"
   ]
  },
  {
   "cell_type": "markdown",
   "id": "cce6a276",
   "metadata": {},
   "source": [
    "# Find total sales."
   ]
  },
  {
   "cell_type": "code",
   "execution_count": 298,
   "id": "33633374",
   "metadata": {},
   "outputs": [
    {
     "data": {
      "text/plain": [
       "1085806200"
      ]
     },
     "execution_count": 298,
     "metadata": {},
     "output_type": "execute_result"
    }
   ],
   "source": [
    "a=sales['sales'].sum()\n",
    "a"
   ]
  },
  {
   "cell_type": "markdown",
   "id": "f6eddeae",
   "metadata": {},
   "source": [
    "# Find total number of products sold."
   ]
  },
  {
   "cell_type": "code",
   "execution_count": 299,
   "id": "dad20081",
   "metadata": {},
   "outputs": [
    {
     "data": {
      "text/plain": [
       "26083"
      ]
     },
     "execution_count": 299,
     "metadata": {},
     "output_type": "execute_result"
    }
   ],
   "source": [
    "a=sales['Product '].value_counts().sum()\n",
    "a"
   ]
  },
  {
   "cell_type": "markdown",
   "id": "93c92438",
   "metadata": {},
   "source": [
    "# Find maximum Sales"
   ]
  },
  {
   "cell_type": "code",
   "execution_count": 300,
   "id": "9e6419de",
   "metadata": {},
   "outputs": [
    {
     "data": {
      "text/plain": [
       "582000"
      ]
     },
     "execution_count": 300,
     "metadata": {},
     "output_type": "execute_result"
    }
   ],
   "source": [
    "a=sales['sales'].max()\n",
    "a"
   ]
  },
  {
   "cell_type": "markdown",
   "id": "8f3c9f54",
   "metadata": {},
   "source": [
    "# Find Minimum Sales"
   ]
  },
  {
   "cell_type": "code",
   "execution_count": 301,
   "id": "1955ee70",
   "metadata": {},
   "outputs": [
    {
     "data": {
      "text/plain": [
       "865"
      ]
     },
     "execution_count": 301,
     "metadata": {},
     "output_type": "execute_result"
    }
   ],
   "source": [
    "a=sales['sales'].min()\n",
    "a"
   ]
  },
  {
   "cell_type": "markdown",
   "id": "0e891a81",
   "metadata": {},
   "source": [
    "# Find the Average Sales"
   ]
  },
  {
   "cell_type": "code",
   "execution_count": 302,
   "id": "198345f8",
   "metadata": {},
   "outputs": [
    {
     "data": {
      "text/plain": [
       "41628.88471418165"
      ]
     },
     "execution_count": 302,
     "metadata": {},
     "output_type": "execute_result"
    }
   ],
   "source": [
    "a=sales['sales'].mean()\n",
    "a"
   ]
  },
  {
   "cell_type": "markdown",
   "id": "f8f59fcf",
   "metadata": {},
   "source": [
    "# Find the Range of Sales"
   ]
  },
  {
   "cell_type": "code",
   "execution_count": 303,
   "id": "f1658b69",
   "metadata": {},
   "outputs": [
    {
     "data": {
      "text/plain": [
       "581135"
      ]
     },
     "execution_count": 303,
     "metadata": {},
     "output_type": "execute_result"
    }
   ],
   "source": [
    "a=582000-865\n",
    "a"
   ]
  },
  {
   "cell_type": "markdown",
   "id": "ef50c043",
   "metadata": {},
   "source": [
    "# Find the Standard Deviation of Sales"
   ]
  },
  {
   "cell_type": "code",
   "execution_count": 304,
   "id": "493cf66b",
   "metadata": {},
   "outputs": [
    {
     "data": {
      "text/plain": [
       "30413.734244059717"
      ]
     },
     "execution_count": 304,
     "metadata": {},
     "output_type": "execute_result"
    }
   ],
   "source": [
    "a=sales['sales'].std()\n",
    "a"
   ]
  },
  {
   "cell_type": "markdown",
   "id": "f0787b0d",
   "metadata": {},
   "source": [
    "# Find Average Sales by each zone"
   ]
  },
  {
   "cell_type": "code",
   "execution_count": 305,
   "id": "fb1dbc2d",
   "metadata": {},
   "outputs": [
    {
     "name": "stderr",
     "output_type": "stream",
     "text": [
      "C:\\Users\\athir\\AppData\\Local\\Temp\\ipykernel_13172\\2591907671.py:1: FutureWarning: The default value of numeric_only in DataFrameGroupBy.mean is deprecated. In a future version, numeric_only will default to False. Either specify numeric_only or select only columns which should be valid for the function.\n",
      "  a=sales.groupby('Zone').mean()['sales']\n"
     ]
    },
    {
     "data": {
      "text/plain": [
       "Zone\n",
       "East     40856.468783\n",
       "North    41933.083101\n",
       "South    40869.279839\n",
       "West     42309.618582\n",
       "Name: sales, dtype: float64"
      ]
     },
     "execution_count": 305,
     "metadata": {},
     "output_type": "execute_result"
    }
   ],
   "source": [
    "a=sales.groupby('Zone').mean()['sales']\n",
    "a"
   ]
  },
  {
   "cell_type": "markdown",
   "id": "37d72ad1",
   "metadata": {},
   "source": [
    "# Find maximum sales by each zone."
   ]
  },
  {
   "cell_type": "code",
   "execution_count": 306,
   "id": "48ee91e0",
   "metadata": {},
   "outputs": [
    {
     "data": {
      "text/plain": [
       "Zone\n",
       "East     162656\n",
       "North    165300\n",
       "South    157760\n",
       "West     582000\n",
       "Name: sales, dtype: int64"
      ]
     },
     "execution_count": 306,
     "metadata": {},
     "output_type": "execute_result"
    }
   ],
   "source": [
    "a=sales.groupby('Zone').max()['sales']\n",
    "a"
   ]
  },
  {
   "cell_type": "markdown",
   "id": "ebc1eca7",
   "metadata": {},
   "source": [
    "# Find minimum sales by each zone."
   ]
  },
  {
   "cell_type": "code",
   "execution_count": 307,
   "id": "413c6d8a",
   "metadata": {},
   "outputs": [
    {
     "data": {
      "text/plain": [
       "Zone\n",
       "East     1015\n",
       "North    1038\n",
       "South     865\n",
       "West      865\n",
       "Name: sales, dtype: int64"
      ]
     },
     "execution_count": 307,
     "metadata": {},
     "output_type": "execute_result"
    }
   ],
   "source": [
    "a=sales.groupby('Zone').min()['sales']\n",
    "a"
   ]
  },
  {
   "cell_type": "markdown",
   "id": "f76d42a3",
   "metadata": {},
   "source": [
    "# Give an Inference from the data."
   ]
  },
  {
   "cell_type": "raw",
   "id": "158c0415",
   "metadata": {},
   "source": [
    "this is sales data.The data contains 26083 rows and 10 columns\n",
    "\n",
    "1. there is No Null values in this data\n",
    "2. The total sales from 2010 to 2019 is 1085806200"
   ]
  },
  {
   "cell_type": "markdown",
   "id": "4cb68df1",
   "metadata": {},
   "source": [
    "# 2nd Set of questions"
   ]
  },
  {
   "cell_type": "markdown",
   "id": "71d8f4e8",
   "metadata": {},
   "source": [
    "# Find Manager Wise sales."
   ]
  },
  {
   "cell_type": "code",
   "execution_count": 308,
   "id": "16d943a2",
   "metadata": {},
   "outputs": [
    {
     "name": "stderr",
     "output_type": "stream",
     "text": [
      "C:\\Users\\athir\\AppData\\Local\\Temp\\ipykernel_13172\\787598081.py:1: FutureWarning: The default value of numeric_only in DataFrameGroupBy.sum is deprecated. In a future version, numeric_only will default to False. Either specify numeric_only or select only columns which should be valid for the function.\n",
      "  a=sales.groupby('Manager').sum()['sales']\n"
     ]
    },
    {
     "data": {
      "text/plain": [
       "Manager\n",
       "Aaron         26849758\n",
       "Abbott        27098975\n",
       "Abel          28249474\n",
       "Alexandra     25981767\n",
       "Alice         26573341\n",
       "Alicia        25575993\n",
       "Allan         90291223\n",
       "Bruce         25533890\n",
       "Grace         25789066\n",
       "Hannah        27736138\n",
       "Jack          27608183\n",
       "Jacob         27505184\n",
       "Jim          267417319\n",
       "Lucy          24248866\n",
       "Lydia         24951596\n",
       "Malcolm       24938730\n",
       "Melvin        29764672\n",
       "Paul          28634113\n",
       "Paxton        26878183\n",
       "Rojer        116239848\n",
       "Sarah         23662807\n",
       "Tom          109184168\n",
       "Tony          25092906\n",
       "Name: sales, dtype: int64"
      ]
     },
     "execution_count": 308,
     "metadata": {},
     "output_type": "execute_result"
    }
   ],
   "source": [
    "a=sales.groupby('Manager').sum()['sales']\n",
    "a"
   ]
  },
  {
   "cell_type": "markdown",
   "id": "4d98d1fd",
   "metadata": {},
   "source": [
    "# Find product wise sales"
   ]
  },
  {
   "cell_type": "code",
   "execution_count": 309,
   "id": "1db0da12",
   "metadata": {},
   "outputs": [
    {
     "name": "stderr",
     "output_type": "stream",
     "text": [
      "C:\\Users\\athir\\AppData\\Local\\Temp\\ipykernel_13172\\1855758660.py:1: FutureWarning: The default value of numeric_only in DataFrameGroupBy.sum is deprecated. In a future version, numeric_only will default to False. Either specify numeric_only or select only columns which should be valid for the function.\n",
      "  a=sales.groupby('Product ').sum()['sales']\n"
     ]
    },
    {
     "data": {
      "text/plain": [
       "Product \n",
       "A001    71165990\n",
       "A002    83824255\n",
       "A003    95344384\n",
       "A009    80055584\n",
       "A010    36526140\n",
       "AL10    81071385\n",
       "AL9     63099648\n",
       "B227    43665096\n",
       "B228    78313572\n",
       "B229    59977816\n",
       "D440    55816915\n",
       "D441    50352855\n",
       "G224    52050360\n",
       "G225    73537764\n",
       "KKK     60218836\n",
       "WP6     25954152\n",
       "WP7     74831448\n",
       "Name: sales, dtype: int64"
      ]
     },
     "execution_count": 309,
     "metadata": {},
     "output_type": "execute_result"
    }
   ],
   "source": [
    "a=sales.groupby('Product ').sum()['sales']\n",
    "a"
   ]
  },
  {
   "cell_type": "markdown",
   "id": "d9312c8a",
   "metadata": {},
   "source": [
    "# Find zone Wise Sales"
   ]
  },
  {
   "cell_type": "code",
   "execution_count": 310,
   "id": "35340a86",
   "metadata": {},
   "outputs": [
    {
     "name": "stderr",
     "output_type": "stream",
     "text": [
      "C:\\Users\\athir\\AppData\\Local\\Temp\\ipykernel_13172\\1123787802.py:1: FutureWarning: The default value of numeric_only in DataFrameGroupBy.sum is deprecated. In a future version, numeric_only will default to False. Either specify numeric_only or select only columns which should be valid for the function.\n",
      "  a=sales.groupby('Zone').sum()['sales']\n"
     ]
    },
    {
     "data": {
      "text/plain": [
       "Zone\n",
       "East     307567497\n",
       "North    361295444\n",
       "South    101355814\n",
       "West     315587445\n",
       "Name: sales, dtype: int64"
      ]
     },
     "execution_count": 310,
     "metadata": {},
     "output_type": "execute_result"
    }
   ],
   "source": [
    "a=sales.groupby('Zone').sum()['sales']\n",
    "a"
   ]
  },
  {
   "cell_type": "markdown",
   "id": "ecf28bd3",
   "metadata": {},
   "source": [
    "# Find zone wise product sales."
   ]
  },
  {
   "cell_type": "code",
   "execution_count": 311,
   "id": "2e60e7fe",
   "metadata": {},
   "outputs": [
    {
     "name": "stderr",
     "output_type": "stream",
     "text": [
      "C:\\Users\\athir\\AppData\\Local\\Temp\\ipykernel_13172\\3303893550.py:1: FutureWarning: The default value of numeric_only in DataFrameGroupBy.sum is deprecated. In a future version, numeric_only will default to False. Either specify numeric_only or select only columns which should be valid for the function.\n",
      "  a=sales.groupby(['Zone','Product ']).sum()['sales']\n"
     ]
    },
    {
     "data": {
      "text/plain": [
       "Zone  Product \n",
       "East  A001        17583190\n",
       "      A002        26627745\n",
       "      A003        23718990\n",
       "      A009        24735680\n",
       "      A010        11311020\n",
       "                    ...   \n",
       "West  G224        14399892\n",
       "      G225        22970988\n",
       "      KKK         16949557\n",
       "      WP6          6044793\n",
       "      WP7         24498808\n",
       "Name: sales, Length: 68, dtype: int64"
      ]
     },
     "execution_count": 311,
     "metadata": {},
     "output_type": "execute_result"
    }
   ],
   "source": [
    "a=sales.groupby(['Zone','Product ']).sum()['sales']\n",
    "a"
   ]
  },
  {
   "cell_type": "markdown",
   "id": "5a843aac",
   "metadata": {},
   "source": [
    "# Find Average units sold by each manager."
   ]
  },
  {
   "cell_type": "code",
   "execution_count": 312,
   "id": "8d7b0ffa",
   "metadata": {},
   "outputs": [
    {
     "name": "stderr",
     "output_type": "stream",
     "text": [
      "C:\\Users\\athir\\AppData\\Local\\Temp\\ipykernel_13172\\586723707.py:1: FutureWarning: The default value of numeric_only in DataFrameGroupBy.mean is deprecated. In a future version, numeric_only will default to False. Either specify numeric_only or select only columns which should be valid for the function.\n",
      "  a=sales.groupby('Manager').mean()['Units Sold']\n"
     ]
    },
    {
     "data": {
      "text/plain": [
       "Manager\n",
       "Aaron        115.607595\n",
       "Abbott       113.591772\n",
       "Abel         117.488924\n",
       "Alexandra    115.731013\n",
       "Alice        111.643987\n",
       "Alicia       114.828704\n",
       "Allan        112.941204\n",
       "Bruce        110.144817\n",
       "Grace        115.830696\n",
       "Hannah       116.110759\n",
       "Jack         113.547468\n",
       "Jacob        113.286585\n",
       "Jim          112.900398\n",
       "Lucy         110.412975\n",
       "Lydia        115.243671\n",
       "Malcolm      109.780063\n",
       "Melvin       118.268589\n",
       "Paul         119.487342\n",
       "Paxton       111.237342\n",
       "Rojer        112.920000\n",
       "Sarah        110.454114\n",
       "Tom          115.477492\n",
       "Tony         108.530063\n",
       "Name: Units Sold, dtype: float64"
      ]
     },
     "execution_count": 312,
     "metadata": {},
     "output_type": "execute_result"
    }
   ],
   "source": [
    "a=sales.groupby('Manager').mean()['Units Sold']\n",
    "a"
   ]
  },
  {
   "cell_type": "markdown",
   "id": "3f9967eb",
   "metadata": {},
   "source": [
    "# Find average units sold by zone"
   ]
  },
  {
   "cell_type": "code",
   "execution_count": 313,
   "id": "51406ea5",
   "metadata": {},
   "outputs": [
    {
     "name": "stderr",
     "output_type": "stream",
     "text": [
      "C:\\Users\\athir\\AppData\\Local\\Temp\\ipykernel_13172\\3295917845.py:1: FutureWarning: The default value of numeric_only in DataFrameGroupBy.mean is deprecated. In a future version, numeric_only will default to False. Either specify numeric_only or select only columns which should be valid for the function.\n",
      "  a=sales.groupby('Zone').mean()['Units Sold']\n"
     ]
    },
    {
     "data": {
      "text/plain": [
       "Zone\n",
       "East     112.711743\n",
       "North    113.574048\n",
       "South    112.649597\n",
       "West     114.656522\n",
       "Name: Units Sold, dtype: float64"
      ]
     },
     "execution_count": 313,
     "metadata": {},
     "output_type": "execute_result"
    }
   ],
   "source": [
    "a=sales.groupby('Zone').mean()['Units Sold']\n",
    "a"
   ]
  },
  {
   "cell_type": "markdown",
   "id": "a3905ab9",
   "metadata": {},
   "source": [
    "# Find total sales by customer"
   ]
  },
  {
   "cell_type": "code",
   "execution_count": 314,
   "id": "11966c5f",
   "metadata": {},
   "outputs": [
    {
     "name": "stderr",
     "output_type": "stream",
     "text": [
      "C:\\Users\\athir\\AppData\\Local\\Temp\\ipykernel_13172\\1224796153.py:1: FutureWarning: The default value of numeric_only in DataFrameGroupBy.sum is deprecated. In a future version, numeric_only will default to False. Either specify numeric_only or select only columns which should be valid for the function.\n",
      "  a=sales.groupby('Customer').sum()['sales']\n"
     ]
    },
    {
     "data": {
      "text/plain": [
       "Customer\n",
       "ABC      157258814\n",
       "AX       205881436\n",
       "EEE      204380240\n",
       "Marco    258936887\n",
       "Polo     153491179\n",
       "Zee      105857644\n",
       "Name: sales, dtype: int64"
      ]
     },
     "execution_count": 314,
     "metadata": {},
     "output_type": "execute_result"
    }
   ],
   "source": [
    "a=sales.groupby('Customer').sum()['sales']\n",
    "a"
   ]
  },
  {
   "cell_type": "markdown",
   "id": "672a8128",
   "metadata": {},
   "source": [
    "# Find total units sold by manager."
   ]
  },
  {
   "cell_type": "code",
   "execution_count": 315,
   "id": "37df30a9",
   "metadata": {},
   "outputs": [
    {
     "name": "stderr",
     "output_type": "stream",
     "text": [
      "C:\\Users\\athir\\AppData\\Local\\Temp\\ipykernel_13172\\1507270840.py:1: FutureWarning: The default value of numeric_only in DataFrameGroupBy.sum is deprecated. In a future version, numeric_only will default to False. Either specify numeric_only or select only columns which should be valid for the function.\n",
      "  a=sales.groupby('Manager').sum()['Units Sold']\n"
     ]
    },
    {
     "data": {
      "text/plain": [
       "Manager\n",
       "Aaron         73064\n",
       "Abbott        71790\n",
       "Abel          74253\n",
       "Alexandra     73142\n",
       "Alice         70559\n",
       "Alicia        74409\n",
       "Allan        243953\n",
       "Bruce         72255\n",
       "Grace         73205\n",
       "Hannah        73382\n",
       "Jack          71762\n",
       "Jacob         74316\n",
       "Jim          737917\n",
       "Lucy          69781\n",
       "Lydia         72834\n",
       "Malcolm       69381\n",
       "Melvin        77939\n",
       "Paul          75516\n",
       "Paxton        70302\n",
       "Rojer        316176\n",
       "Sarah         69807\n",
       "Tom          287308\n",
       "Tony          68591\n",
       "Name: Units Sold, dtype: int64"
      ]
     },
     "execution_count": 315,
     "metadata": {},
     "output_type": "execute_result"
    }
   ],
   "source": [
    "a=sales.groupby('Manager').sum()['Units Sold']\n",
    "a"
   ]
  },
  {
   "cell_type": "markdown",
   "id": "9ed6188f",
   "metadata": {},
   "source": [
    "# Find Total Number of Orders\n"
   ]
  },
  {
   "cell_type": "code",
   "execution_count": 318,
   "id": "af217edb",
   "metadata": {},
   "outputs": [
    {
     "data": {
      "text/plain": [
       "26083"
      ]
     },
     "execution_count": 318,
     "metadata": {},
     "output_type": "execute_result"
    }
   ],
   "source": [
    "a=sales['Invoice Number'].count()\n",
    "a"
   ]
  },
  {
   "cell_type": "markdown",
   "id": "da142ca4",
   "metadata": {},
   "source": [
    "# Give an Inference from the data."
   ]
  },
  {
   "cell_type": "raw",
   "id": "df23abe8",
   "metadata": {},
   "source": [
    "his is sales data.The data contains 26083 rows and 10 columns\n",
    "\n",
    "1. there is No Null values in this data\n",
    "2. The total sales from 2010 to 2019 is 1085806200"
   ]
  }
 ],
 "metadata": {
  "kernelspec": {
   "display_name": "Python 3 (ipykernel)",
   "language": "python",
   "name": "python3"
  },
  "language_info": {
   "codemirror_mode": {
    "name": "ipython",
    "version": 3
   },
   "file_extension": ".py",
   "mimetype": "text/x-python",
   "name": "python",
   "nbconvert_exporter": "python",
   "pygments_lexer": "ipython3",
   "version": "3.10.9"
  }
 },
 "nbformat": 4,
 "nbformat_minor": 5
}
